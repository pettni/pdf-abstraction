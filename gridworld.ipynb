{
 "cells": [
  {
   "cell_type": "code",
   "execution_count": 1,
   "metadata": {},
   "outputs": [],
   "source": [
    "import numpy as np\n",
    "import scipy.sparse as sp\n",
    "\n",
    "from label_abstraction.mdp import *"
   ]
  },
  {
   "cell_type": "markdown",
   "metadata": {},
   "source": [
    "### Define two label MDPs"
   ]
  },
  {
   "cell_type": "code",
   "execution_count": 2,
   "metadata": {},
   "outputs": [
    {
     "name": "stdout",
     "output_type": "stream",
     "text": [
      "MDP: 4 inputs \"(meas1, meas2)\" --> 9 states \"(label1, label2)\"\n"
     ]
    }
   ],
   "source": [
    "# state 1: init\n",
    "# state 2: contains sample\n",
    "# state 3: no sample\n",
    "T0 = np.eye(3)\n",
    "T1 = np.array([[0,0.5,0.5], [0,1,0], [0,0,1]])\n",
    "\n",
    "def output_fcn(n):\n",
    "    if n == 0:\n",
    "        return 'init'    # label unknown\n",
    "    if n == 1:\n",
    "        return 'safe'    # can traverse region\n",
    "    if n == 2:\n",
    "        return 'unsafe'  # can not traverse region\n",
    "    \n",
    "map1 = MDP([T0, T1], input_fcn=lambda meas1: meas1, input_name='meas1',\n",
    "                     output_fcn=output_fcn, output_name='label1')\n",
    "\n",
    "map2 = MDP([T0, T1], input_fcn=lambda meas2: meas2, input_name='meas2',\n",
    "                     output_fcn=output_fcn, output_name='label2')\n",
    "\n",
    "map_mdp = ParallelMDP([map1, map2])\n",
    "print map_mdp"
   ]
  },
  {
   "cell_type": "markdown",
   "metadata": {},
   "source": [
    "### Define gridworld system MDP"
   ]
  },
  {
   "cell_type": "code",
   "execution_count": 3,
   "metadata": {},
   "outputs": [
    {
     "name": "stdout",
     "output_type": "stream",
     "text": [
      "MDP: 4 inputs \"dir\" --> 8 states \"s\"\n"
     ]
    }
   ],
   "source": [
    "# gridworld mdp\n",
    "l_x = 4  # x length\n",
    "l_y = 2  # y length\n",
    "\n",
    "def n_to_ij(n, l_x):\n",
    "    return (n%l_x, n//l_x)\n",
    "\n",
    "def ij_to_n(i,j,l_x):\n",
    "    return i + j*l_x\n",
    "\n",
    "T_start = [ij_to_n(i, j, l_x) for i in range(l_x) for j in range(l_y)]\n",
    "\n",
    "# north\n",
    "Tn_end =   [ij_to_n(i, max(0, j-1), l_x) for i in range(l_x) for j in range(l_y)]\n",
    "# south\n",
    "Ts_end =   [ij_to_n(i, min(l_y-1, j+1), l_x) for i in range(l_x) for j in range(l_y)]\n",
    "# east\n",
    "Te_end =   [ij_to_n(min(l_x-1, i+1), j, l_x) for i in range(l_x) for j in range(l_y)]\n",
    "# west\n",
    "Tw_end =   [ij_to_n(max(0, i-1), j, l_x) for i in range(l_x) for j in range(l_y)]\n",
    "\n",
    "Tn = sp.coo_matrix((np.ones(l_x*l_y), (T_start, Tn_end)), shape=(l_x*l_y, l_x*l_y))\n",
    "Ts = sp.coo_matrix((np.ones(l_x*l_y), (T_start, Ts_end)), shape=(l_x*l_y, l_x*l_y))\n",
    "Te = sp.coo_matrix((np.ones(l_x*l_y), (T_start, Te_end)), shape=(l_x*l_y, l_x*l_y))\n",
    "Tw = sp.coo_matrix((np.ones(l_x*l_y), (T_start, Tw_end)), shape=(l_x*l_y, l_x*l_y))\n",
    "\n",
    "def syst_input_fcn(m):\n",
    "    if m == 'n':\n",
    "        return 0\n",
    "    elif m == 's':\n",
    "        return 1\n",
    "    elif m == 'e':\n",
    "        return 2\n",
    "    else:\n",
    "        return 3\n",
    " \n",
    "syst_mdp = MDP([Tn, Ts, Te, Tw], input_fcn=syst_input_fcn, input_name='dir', output_name='s')\n",
    "print syst_mdp"
   ]
  },
  {
   "cell_type": "markdown",
   "metadata": {},
   "source": [
    "### Connect system and labels"
   ]
  },
  {
   "cell_type": "code",
   "execution_count": 4,
   "metadata": {},
   "outputs": [
    {
     "name": "stdout",
     "output_type": "stream",
     "text": [
      "MDP: 4 inputs \"dir\" --> 72 states \"(s, (label1, label2))\"\n"
     ]
    }
   ],
   "source": [
    "# define mapping s -> (meas1, meas2)\n",
    "def map_connection(s):\n",
    "    ret = [0,0]\n",
    "    if s == 1:\n",
    "        ret[0] = 1  # label1 is resolved at state 1\n",
    "    if s == 5:\n",
    "        ret[1] = 1  # label2 is resolved at state 5\n",
    "    return set([tuple(ret)])\n",
    "\n",
    "prod_mdp = ProductMDP(syst_mdp, map_mdp, map_connection)\n",
    "print prod_mdp"
   ]
  },
  {
   "cell_type": "markdown",
   "metadata": {},
   "source": [
    "### Solve LTL problem on product system"
   ]
  },
  {
   "cell_type": "code",
   "execution_count": 6,
   "metadata": {},
   "outputs": [
    {
     "name": "stdout",
     "output_type": "stream",
     "text": [
      "MDP: 32 inputs \"ap\" --> 9 states \"mu\"\n",
      "MDP: 4 inputs \"dir\" --> 648 states \"((s, (label1, label2)), mu)\"\n"
     ]
    }
   ],
   "source": [
    "formula = '( ( ! reg1 ) U safe1 ) & ( ( ! reg2 ) U safe2 ) & ( F target )'\n",
    "dfs, init, final, _ = formula_to_mdp(formula)\n",
    "\n",
    "# define mapping (s, (label1, label2)) -> \n",
    "def connection3(s_label):\n",
    "    s = s_label[0]\n",
    "    l1 = s_label[1][0]\n",
    "    l2 = s_label[1][1]\n",
    "    ret = []\n",
    "    if s == 7:   # we want to reach state 7\n",
    "        ret.append('target')\n",
    "    if s == 2:   # state 2 is labeled by label1\n",
    "        ret.append('reg1')\n",
    "    if s == 6:   # state 6 is labeled by label2\n",
    "        ret.append('reg2')\n",
    "    if l1 == 'safe':\n",
    "        ret.append('safe1')\n",
    "    if l2 == 'safe':\n",
    "        ret.append('safe2')\n",
    "    return set( (tuple(ret),) )\n",
    "\n",
    "print dfs\n",
    "\n",
    "final_prod = ProductMDP(prod_mdp, dfs, connection3)\n",
    "print final_prod\n",
    "\n",
    "def accept(sss):\n",
    "    return sss[1] in final\n",
    "\n",
    "V, pol = final_prod.solve_reach(accept)"
   ]
  },
  {
   "cell_type": "code",
   "execution_count": null,
   "metadata": {},
   "outputs": [],
   "source": []
  }
 ],
 "metadata": {
  "kernelspec": {
   "display_name": "Python 2",
   "language": "python",
   "name": "python2"
  },
  "language_info": {
   "codemirror_mode": {
    "name": "ipython",
    "version": 2
   },
   "file_extension": ".py",
   "mimetype": "text/x-python",
   "name": "python",
   "nbconvert_exporter": "python",
   "pygments_lexer": "ipython2",
   "version": "2.7.12"
  }
 },
 "nbformat": 4,
 "nbformat_minor": 2
}
