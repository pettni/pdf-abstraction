{
 "cells": [
  {
   "cell_type": "code",
   "execution_count": 1,
   "metadata": {},
   "outputs": [],
   "source": [
    "import numpy as np\n",
    "import scipy.sparse as sp\n",
    "\n",
    "import sys\n",
    "sys.path.append('../')\n",
    "\n",
    "from best.mdp import MDP, ProductMDP, ParallelMDP"
   ]
  },
  {
   "cell_type": "markdown",
   "metadata": {},
   "source": [
    "### Define two label MDPs"
   ]
  },
  {
   "cell_type": "code",
   "execution_count": 2,
   "metadata": {},
   "outputs": [
    {
     "name": "stdout",
     "output_type": "stream",
     "text": [
      "MDP: 4 inputs \"(meas1, meas2)\" --> 9 states \"(label1, label2)\"\n"
     ]
    }
   ],
   "source": [
    "T0 = np.eye(3)\n",
    "T1 = np.array([[0,0.5,0.5], [0,1,0], [0,0,1]])\n",
    "\n",
    "def output_fcn(n):\n",
    "    if n == 0:\n",
    "        return 'init'    # label unknown\n",
    "    if n == 1:\n",
    "        return 'safe'    # can traverse region\n",
    "    if n == 2:\n",
    "        return 'unsafe'  # can not traverse region\n",
    "    \n",
    "map1 = MDP([T0, T1], input_name='meas1',\n",
    "                     output_fcn=output_fcn, output_name='label1')\n",
    "\n",
    "map2 = MDP([T0, T1], input_name='meas2',\n",
    "                     output_fcn=output_fcn, output_name='label2')\n",
    "\n",
    "map_mdp = ParallelMDP([map1, map2])\n",
    "print map_mdp"
   ]
  },
  {
   "cell_type": "markdown",
   "metadata": {},
   "source": [
    "### Define gridworld system MDP"
   ]
  },
  {
   "cell_type": "code",
   "execution_count": 3,
   "metadata": {},
   "outputs": [
    {
     "name": "stdout",
     "output_type": "stream",
     "text": [
      "MDP: 4 inputs \"dir\" --> 8 states \"s\"\n"
     ]
    }
   ],
   "source": [
    "# gridworld mdp\n",
    "l_x = 4  # x length\n",
    "l_y = 2  # y length\n",
    "\n",
    "def n_to_ij(n, l_x):\n",
    "    return (n%l_x, n//l_x)\n",
    "\n",
    "def ij_to_n(i,j,l_x):\n",
    "    return i + j*l_x\n",
    "\n",
    "T_start = [ij_to_n(i, j, l_x) for i in range(l_x) for j in range(l_y)]\n",
    "\n",
    "# north\n",
    "Tn_end =   [ij_to_n(i, max(0, j-1), l_x) for i in range(l_x) for j in range(l_y)]\n",
    "# south\n",
    "Ts_end =   [ij_to_n(i, min(l_y-1, j+1), l_x) for i in range(l_x) for j in range(l_y)]\n",
    "# east\n",
    "Te_end =   [ij_to_n(min(l_x-1, i+1), j, l_x) for i in range(l_x) for j in range(l_y)]\n",
    "# west\n",
    "Tw_end =   [ij_to_n(max(0, i-1), j, l_x) for i in range(l_x) for j in range(l_y)]\n",
    "\n",
    "Tn = sp.coo_matrix((np.ones(l_x*l_y), (T_start, Tn_end)), shape=(l_x*l_y, l_x*l_y))\n",
    "Ts = sp.coo_matrix((np.ones(l_x*l_y), (T_start, Ts_end)), shape=(l_x*l_y, l_x*l_y))\n",
    "Te = sp.coo_matrix((np.ones(l_x*l_y), (T_start, Te_end)), shape=(l_x*l_y, l_x*l_y))\n",
    "Tw = sp.coo_matrix((np.ones(l_x*l_y), (T_start, Tw_end)), shape=(l_x*l_y, l_x*l_y))\n",
    "\n",
    "def syst_input_fcn(m):\n",
    "    if m == 'n':\n",
    "        return 0\n",
    "    elif m == 's':\n",
    "        return 1\n",
    "    elif m == 'e':\n",
    "        return 2\n",
    "    else:\n",
    "        return 3\n",
    "\n",
    "syst_mdp = MDP([Tn, Ts, Te, Tw], input_fcn=syst_input_fcn, input_name='dir', output_name='s')\n",
    "print syst_mdp"
   ]
  },
  {
   "cell_type": "markdown",
   "metadata": {},
   "source": [
    "### Connect system and labels"
   ]
  },
  {
   "cell_type": "code",
   "execution_count": 4,
   "metadata": {},
   "outputs": [
    {
     "name": "stdout",
     "output_type": "stream",
     "text": [
      "MDP: 4 inputs \"dir\" --> 72 states \"(s, (label1, label2))\"\n"
     ]
    }
   ],
   "source": [
    "# define mapping s -> (meas1, meas2)\n",
    "def map_connection(s):\n",
    "    ret = [0,0]\n",
    "    if s == 1:\n",
    "        ret[0] = 1  # label1 is resolved at state 1\n",
    "    if s == 5:\n",
    "        ret[1] = 1  # label2 is resolved at state 5\n",
    "    return set([tuple(ret)])\n",
    "\n",
    "prod_mdp = ProductMDP(syst_mdp, map_mdp, map_connection)\n",
    "print prod_mdp"
   ]
  },
  {
   "cell_type": "markdown",
   "metadata": {},
   "source": [
    "### Solve LTL problem on product system"
   ]
  },
  {
   "cell_type": "code",
   "execution_count": 5,
   "metadata": {},
   "outputs": [
    {
     "name": "stdout",
     "output_type": "stream",
     "text": [
      "iteration 0, time 6.91413879395e-06\n",
      "iteration 1, time 0.0186839103699\n",
      "iteration 2, time 0.0193748474121\n",
      "iteration 3, time 0.0199139118195\n",
      "iteration 4, time 0.0204989910126\n",
      "iteration 5, time 0.0210349559784\n",
      "finished after 5 iterations and 0.0215978622437s\n",
      "[[ 0.75  1.    0.5   1.    1.    1.    0.5   1.    0.    0.75  1.    0.5\n",
      "   1.    1.    1.    0.5   1.    0.    1.    1.    1.    1.    1.    1.    1.\n",
      "   1.    1.    1.    1.    1.    1.    1.    1.    1.    1.    1.    0.75\n",
      "   1.    0.5   1.    1.    1.    0.5   1.    0.    0.75  1.    0.5   1.    1.\n",
      "   1.    0.5   1.    0.    1.    1.    1.    1.    1.    1.    1.    1.    1.\n",
      "   1.    1.    1.    1.    1.    1.    1.    1.    1.  ]\n",
      " [ 1.    1.    1.    1.    1.    1.    1.    1.    1.    1.    1.    1.    1.\n",
      "   1.    1.    1.    1.    1.    1.    1.    1.    1.    1.    1.    1.    1.\n",
      "   1.    1.    1.    1.    1.    1.    1.    1.    1.    1.    1.    1.    1.\n",
      "   1.    1.    1.    1.    1.    1.    1.    1.    1.    1.    1.    1.    1.\n",
      "   1.    1.    1.    1.    1.    1.    1.    1.    1.    1.    1.    1.    1.\n",
      "   1.    1.    1.    1.    1.    1.    1.  ]\n",
      " [ 0.    0.    0.    0.    0.    0.    0.    0.    0.    0.    0.    0.    0.\n",
      "   0.    0.    0.    0.    0.    0.    0.    0.    0.    0.    0.    0.    0.\n",
      "   0.    0.    0.    0.    0.    0.    0.    0.    0.    0.    0.    0.    0.\n",
      "   0.    0.    0.    0.    0.    0.    0.    0.    0.    0.    0.    0.    0.\n",
      "   0.    0.    0.    0.    0.    0.    0.    0.    0.    0.    0.    0.    0.\n",
      "   0.    0.    0.    0.    0.    0.    0.  ]]\n"
     ]
    }
   ],
   "source": [
    "from best.ltl import solve_ltl_cosafe\n",
    "\n",
    "formula = '( ( ( !reg1 ) | safe1 ) & ( ( !reg2 ) | safe2 ) ) U target'\n",
    "\n",
    "# define mapping (s, (label1, label2)) -> 2^2^AP\n",
    "def dfs_connection(s_label):\n",
    "    s = s_label[0]\n",
    "    l1 = s_label[1][0]\n",
    "    l2 = s_label[1][1]\n",
    "    ret = []\n",
    "    if s == 7:   # we want to reach state 7\n",
    "        ret.append('target')\n",
    "    if s == 2:   # state 2 is labeled by label1\n",
    "        ret.append('reg1')\n",
    "    if s == 6:   # state 6 is labeled by label2\n",
    "        ret.append('reg2')\n",
    "    if l1 == 'safe':\n",
    "        ret.append('safe1')\n",
    "    if l2 == 'safe':\n",
    "        ret.append('safe2')\n",
    "    return set( (tuple(ret),) )\n",
    "\n",
    "policy = solve_ltl_cosafe(prod_mdp, formula, dfs_connection, algorithm='petter')\n",
    "print policy.V"
   ]
  },
  {
   "cell_type": "markdown",
   "metadata": {},
   "source": [
    "### Simple simulation (p=0.75 of success)"
   ]
  },
  {
   "cell_type": "code",
   "execution_count": 14,
   "metadata": {},
   "outputs": [
    {
     "name": "stdout",
     "output_type": "stream",
     "text": [
      "current state  (4, ('init', 'init'))\n",
      "input  2 probability of sat  0.75\n",
      "moved to  (5, ('init', 'unsafe'))\n",
      "reporting  ()\n",
      "\n",
      "\n",
      "current state  (5, ('init', 'unsafe'))\n",
      "input  0 probability of sat  0.5\n",
      "moved to  (1, ('safe', 'unsafe'))\n",
      "reporting  ('safe1',)\n",
      "\n",
      "\n",
      "current state  (1, ('safe', 'unsafe'))\n",
      "input  2 probability of sat  1.0\n",
      "moved to  (2, ('safe', 'unsafe'))\n",
      "reporting  ('reg1', 'safe1')\n",
      "\n",
      "\n",
      "current state  (2, ('safe', 'unsafe'))\n",
      "input  2 probability of sat  1.0\n",
      "moved to  (3, ('safe', 'unsafe'))\n",
      "reporting  ('safe1',)\n",
      "\n",
      "\n",
      "current state  (3, ('safe', 'unsafe'))\n",
      "input  1 probability of sat  1.0\n",
      "moved to  (7, ('safe', 'unsafe'))\n",
      "reporting  ('target', 'safe1')\n",
      "\n",
      "\n"
     ]
    }
   ],
   "source": [
    "N = prod_mdp.N  # total number of states\n",
    "np.random.seed(4)  # fail\n",
    "np.random.seed(6)  # long path\n",
    "\n",
    "s_loc = (4, (0,0))\n",
    "s = prod_mdp.global_state(s_loc)\n",
    "p = 1\n",
    "\n",
    "policy.reset()\n",
    "\n",
    "while not policy.finished() and p > 0:\n",
    "    print \"current state \", prod_mdp.output(s)\n",
    "  \n",
    "    # get input\n",
    "    u, p = policy.get_input(s)\n",
    "    print \"input \", u, \"probability of sat \", p\n",
    "\n",
    "    # update state\n",
    "    s_vec = np.zeros((N,1))\n",
    "    s_vec[s] = 1  # mdp vector state\n",
    "    s_prob = prod_mdp.evolve(s_vec, u)\n",
    "    s = np.random.choice(range(N), 1, p=s_prob.flatten())[0]  # resolve stochasticity\n",
    "    \n",
    "    print \"moved to \", prod_mdp.output(s)\n",
    "    \n",
    "    # update DFS\n",
    "    print \"reporting \", list(dfs_connection(prod_mdp.output(s)))[0]\n",
    "    policy.report_aps(list(dfs_connection(prod_mdp.output(s)))[0])\n",
    "    \n",
    "    print \"\\n\""
   ]
  },
  {
   "cell_type": "code",
   "execution_count": null,
   "metadata": {},
   "outputs": [],
   "source": []
  }
 ],
 "metadata": {
  "kernelspec": {
   "display_name": "Python 2",
   "language": "python",
   "name": "python2"
  },
  "language_info": {
   "codemirror_mode": {
    "name": "ipython",
    "version": 2
   },
   "file_extension": ".py",
   "mimetype": "text/x-python",
   "name": "python",
   "nbconvert_exporter": "python",
   "pygments_lexer": "ipython2",
   "version": "2.7.12"
  }
 },
 "nbformat": 4,
 "nbformat_minor": 2
}
