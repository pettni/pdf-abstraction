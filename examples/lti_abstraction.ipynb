{
 "cells": [
  {
   "cell_type": "code",
   "execution_count": 1,
   "metadata": {},
   "outputs": [
    {
     "data": {
      "text/plain": [
       "<polytope.polytope.Polytope at 0x7f701cee37d0>"
      ]
     },
     "execution_count": 1,
     "metadata": {},
     "output_type": "execute_result"
    }
   ],
   "source": [
    "import numpy as np\n",
    "import polytope as pc\n",
    "from itertools import combinations\n",
    "\n",
    "import matplotlib.pyplot as plt\n",
    "from matplotlib import patches\n",
    "\n",
    "import sys\n",
    "sys.path.append('../')\n",
    "\n",
    "from best.abstraction import LTIAbstraction\n",
    "from best.ltl import solve_ltl_cosafe\n",
    "\n",
    "from Models.Linear import LTI\n",
    "\n",
    "# Define the linear time invariant system\n",
    "#A = np.array([[0,-0.8572],[0.1,0.5]])\n",
    "dim = 2\n",
    "A = np.eye(2) #np.array([[.9,-0.32],[0.1,0.9]])\n",
    "B = np.eye(dim)  #array([[1], [0.1]])\n",
    "W = np.array([[0,0],[0,0.4]]) #2*Tr.dot(np.eye(dim)).dot(Tr)  # noise on transitions\n",
    " \n",
    "# Accuracy\n",
    "C = np.array([[1, 0],[0,1]])  # defines metric for error (||y_finite-y||< epsilon with y= cx   )\n",
    "\n",
    "sys_lti = LTI(A, B, C, None, W=W)  # LTI system with   D = None\n",
    "sys_lti.setU(pc.box2poly(np.kron(np.ones((sys_lti.m, 1)), np.array([[-1, 1]])))) # continuous set of inputs\n",
    "sys_lti.setX(pc.box2poly(np.kron(np.ones((sys_lti.dim, 1)), np.array([[-10, 10]])))) # X space\n"
   ]
  },
  {
   "cell_type": "code",
   "execution_count": 2,
   "metadata": {},
   "outputs": [],
   "source": [
    "# Define regions of interest for the labeling\n",
    "regions = dict()\n",
    "regions['target'] = pc.box2poly(np.kron(np.ones((2, 1)), np.array([[5, 10]])))\n",
    "# add avoid\n",
    "regions['avoid'] = pc.box2poly(np.array([[-5, 3],[-10, 5]]))"
   ]
  },
  {
   "cell_type": "code",
   "execution_count": 3,
   "metadata": {},
   "outputs": [],
   "source": [
    "## step 1: tune gridding ratio (find optimal horizontal d_1, and vertical d_2)\n",
    "# currently only available for 2D\n",
    "# d_opt, d_vals, eps_values = tune_dratio(sys_n)\n",
    "\n",
    "d_opt = np.array([[ 0.69294],\n",
    "                  [ 0.721  ]])\n",
    "\n",
    "# d = np.array([[1.5], [1.5]])\n",
    "d = d_opt"
   ]
  },
  {
   "cell_type": "code",
   "execution_count": 4,
   "metadata": {},
   "outputs": [
    {
     "name": "stdout",
     "output_type": "stream",
     "text": [
      "Warning no inputspace given\n",
      "Warning no state space given\n",
      "status: optimal\n",
      "optimal epsilon 1.00000639831\n",
      "optimal M [[ 1.  0.]\n",
      " [ 0.  1.]]\n",
      "Optimal K [[ 0. -1.]\n",
      " [-1.  0.]]\n",
      "('check norm of rows', matrix([[ 0.,  1.],\n",
      "        [-1.,  0.],\n",
      "        [ 0., -1.],\n",
      "        [ 1.,  0.]]))\n",
      "('check norm of rows', matrix([[ 0.,  1.],\n",
      "        [-1.,  0.],\n",
      "        [ 0., -1.],\n",
      "        [ 1.,  0.]]))\n",
      "MDP: 16 inputs \"u_d\" --> 871 outputs \"(s, x_d)\"\n"
     ]
    },
    {
     "data": {
      "image/png": "[encoded data removed]",
      "text/plain": [
       "<matplotlib.figure.Figure at 0x7f701e4f8910>"
      ]
     },
     "metadata": {},
     "output_type": "display_data"
    }
   ],
   "source": [
    "# mdp_grid = sys_n.abstract_io(d, un=4, verbose=False)  # do the gridding\n",
    "# mdp_grid.map_dfa_inputs(dict_input2prop, regions)\n",
    "abstr = LTIAbstraction(sys_lti, d, un=4)\n",
    "abstr.set_regions(regions)\n",
    "\n",
    "in_regions, nin_regions = abstr.map_dfa_inputs()\n",
    "\n",
    "fig = plt.figure()\n",
    "ax0 = fig.add_subplot(111)\n",
    "abstr.plot(ax0)\n",
    "\n",
    "# plot regions\n",
    "for poly in regions.itervalues():\n",
    "    V = pc.extreme(poly)\n",
    "    ax0.add_patch(patches.Polygon(V))\n",
    "\n",
    "print abstr.mdp"
   ]
  },
  {
   "cell_type": "markdown",
   "metadata": {},
   "source": [
    "### Set up LTL problem"
   ]
  },
  {
   "cell_type": "code",
   "execution_count": 5,
   "metadata": {},
   "outputs": [],
   "source": [
    "from best import subsets\n",
    "\n",
    "formula = '( ( ! avoid U target ) & ( F avoid ) )'\n",
    "\n",
    "# mapping (s, xd) -> 2^2^{target, avoid}\n",
    "def connection(s_x):\n",
    "    s = s_x[0]\n",
    "    if s == abstr.mdp.N-1:\n",
    "        return set([ (), ])\n",
    "    know_in = []\n",
    "    know_out = []\n",
    "    for reg in regions.keys():\n",
    "        if in_regions[reg][s] == 0:\n",
    "            know_out.append(reg)\n",
    "        if nin_regions[reg][s] == 0:\n",
    "            know_in.append(reg)\n",
    "    uncertain = list(set(regions.keys()) - set(know_in) - set(know_out))\n",
    "            \n",
    "    return set([ tuple(know_in + unc) for unc in subsets(uncertain)])"
   ]
  },
  {
   "cell_type": "markdown",
   "metadata": {},
   "source": [
    "### Solve recursion"
   ]
  },
  {
   "cell_type": "code",
   "execution_count": 6,
   "metadata": {},
   "outputs": [
    {
     "name": "stdout",
     "output_type": "stream",
     "text": [
      "iteration 0, time 6.89029693604e-05\n",
      "iteration 1, time 0.0209867954254\n",
      "iteration 2, time 0.041836977005\n",
      "iteration 3, time 0.0605437755585\n",
      "iteration 4, time 0.0788869857788\n",
      "iteration 5, time 0.0977277755737\n",
      "iteration 6, time 0.115938901901\n",
      "iteration 7, time 0.13521695137\n",
      "iteration 8, time 0.154792785645\n",
      "iteration 9, time 0.174585819244\n",
      "iteration 10, time 0.192598819733\n",
      "iteration 11, time 0.212298870087\n",
      "iteration 12, time 0.233386993408\n",
      "iteration 13, time 0.251822948456\n",
      "iteration 14, time 0.269209861755\n",
      "iteration 15, time 0.28644990921\n",
      "iteration 16, time 0.313825845718\n",
      "iteration 17, time 0.33123087883\n",
      "iteration 18, time 0.349014997482\n",
      "iteration 19, time 0.365972995758\n",
      "iteration 20, time 0.384181976318\n",
      "iteration 21, time 0.402460813522\n",
      "iteration 22, time 0.422672986984\n",
      "iteration 23, time 0.443093776703\n",
      "iteration 24, time 0.462224960327\n",
      "iteration 25, time 0.481178998947\n",
      "iteration 26, time 0.499919891357\n",
      "iteration 27, time 0.518625974655\n",
      "iteration 28, time 0.538175821304\n",
      "iteration 29, time 0.557153940201\n",
      "iteration 30, time 0.57586479187\n",
      "iteration 31, time 0.595598936081\n",
      "iteration 32, time 0.614194869995\n",
      "iteration 33, time 0.634606838226\n",
      "iteration 34, time 0.653229951859\n",
      "iteration 35, time 0.671937942505\n",
      "iteration 36, time 0.68918299675\n",
      "iteration 37, time 0.706571817398\n",
      "iteration 38, time 0.723645925522\n",
      "iteration 39, time 0.741495847702\n",
      "iteration 40, time 0.759413957596\n",
      "iteration 41, time 0.776377916336\n",
      "iteration 42, time 0.793957948685\n",
      "iteration 43, time 0.811069965363\n",
      "iteration 44, time 0.828077793121\n",
      "iteration 45, time 0.847338914871\n",
      "iteration 46, time 0.86590385437\n",
      "iteration 47, time 0.884878873825\n",
      "iteration 48, time 0.902354955673\n",
      "iteration 49, time 0.920673847198\n",
      "iteration 50, time 0.939588785172\n",
      "iteration 51, time 0.957783937454\n",
      "iteration 52, time 0.977572917938\n",
      "iteration 53, time 0.996161937714\n",
      "iteration 54, time 1.01602697372\n",
      "iteration 55, time 1.03381586075\n"
     ]
    }
   ],
   "source": [
    "pol = solve_ltl_cosafe(abstr.mdp, formula, connection, algorithm='petter')"
   ]
  },
  {
   "cell_type": "markdown",
   "metadata": {},
   "source": [
    "### Define policy and plot"
   ]
  },
  {
   "cell_type": "code",
   "execution_count": 7,
   "metadata": {},
   "outputs": [
    {
     "data": {
      "text/plain": [
       "(-15, 15)"
      ]
     },
     "execution_count": 7,
     "metadata": {},
     "output_type": "execute_result"
    },
    {
     "data": {
      "image/png": "[encoded data removed]",
      "text/plain": [
       "<matplotlib.figure.Figure at 0x7f70412a1750>"
      ]
     },
     "metadata": {},
     "output_type": "display_data"
    }
   ],
   "source": [
    "# define refined policy around LTL policy\n",
    "def my_policy(x):\n",
    "    x = np.array(x).reshape((2,1))\n",
    "    \n",
    "    # update internal state\n",
    "    pol.report_aps(abstr.aps(x))\n",
    "    \n",
    "    # get abstract state\n",
    "    s_abstract = abstr.closest_abstract(x)\n",
    "    \n",
    "    # get abstract input and refine\n",
    "    u_ab, _ = pol.get_input(s_abstract)\n",
    "    if u_ab == -1:\n",
    "        # no input -> dont move \n",
    "        u_refined = np.array([[0], [0]])\n",
    "    else:\n",
    "        u_refined = abstr.refine_input(u_ab, s_abstract, x)\n",
    "    \n",
    "    return u_refined\n",
    "\n",
    "# extract value at a concrete state\n",
    "def my_value(x):\n",
    "    s_abstract = abstr.closest_abstract(x)\n",
    "    _, val = pol.get_input(s_abstract)\n",
    "    return val\n",
    "\n",
    "def my_policy_init(x):\n",
    "    u = my_policy(x)\n",
    "    pol.reset()\n",
    "    return u\n",
    "\n",
    "fig = plt.figure()\n",
    "x_edge = np.linspace(-15,15,50)\n",
    "x_del = np.diff(x_edge).max()\n",
    "y_edge = np.linspace(-15,15,50)\n",
    "y_del = np.diff(y_edge).max()\n",
    "\n",
    "xi, yi = np.meshgrid(x_edge[:-1]+x_del/2,y_edge[:-1]+y_del/2)\n",
    "xi = xi.flatten()\n",
    "yi = yi.flatten()\n",
    "\n",
    "values = np.array([my_value((x,y)) for (x,y) in zip(xi, yi)])\n",
    "\n",
    "plt.pcolor(x_edge, y_edge, values.reshape((49,49)))\n",
    "plt.colorbar()\n",
    "\n",
    "x_edge = np.linspace(-15,15,20)\n",
    "x_del = np.diff(x_edge).max()\n",
    "y_edge = np.linspace(-15,15,20)\n",
    "y_del = np.diff(y_edge).max()\n",
    "\n",
    "xi, yi = np.meshgrid(x_edge[:-1]+x_del/2,y_edge[:-1]+y_del/2)\n",
    "xi = xi.flatten()\n",
    "yi = yi.flatten()\n",
    "\n",
    "delx_fun = lambda x,y: sys_lti.a.dot(np.array([[x], [y]])) + sys_lti.b.dot(my_policy_init((x,y))) - np.array([[x], [y]])\n",
    "\n",
    "delx = np.hstack([delx_fun(x,y) for (x,y) in zip(xi, yi)])\n",
    "\n",
    "x_tr = (np.block([[xi.flatten()], [yi.flatten()]]))\n",
    "\n",
    "#plt.quiver(xi.flatten(), yi.flatten(),u[0],u[1])\n",
    "plt.quiver(xi, yi, delx[0], delx[1], color = 'r')\n",
    "\n",
    "plt.xlim(np.array([-15,15]))\n",
    "plt.ylim(np.array([-15,15]))\n"
   ]
  },
  {
   "cell_type": "code",
   "execution_count": 8,
   "metadata": {
    "scrolled": true
   },
   "outputs": [
    {
     "name": "stdout",
     "output_type": "stream",
     "text": [
      "Matrix is singular and may not have a square root.\n",
      "reached\n",
      "reached\n",
      "reached\n",
      "reached\n",
      "reached\n",
      "reached\n"
     ]
    },
    {
     "data": {
      "text/plain": [
       "Text(0,0.5,u'x_2')"
      ]
     },
     "execution_count": 8,
     "metadata": {},
     "output_type": "execute_result"
    },
    {
     "data": {
      "image/png": "[encoded data removed]",
      "text/plain": [
       "<matplotlib.figure.Figure at 0x7f70408c97d0>"
      ]
     },
     "metadata": {},
     "output_type": "display_data"
    }
   ],
   "source": [
    "import scipy.linalg as scla\n",
    "import matplotlib\n",
    "\n",
    "np.random.seed(4)\n",
    "\n",
    "time = 50\n",
    "fig = plt.figure()\n",
    "ax = fig.add_subplot(111)\n",
    "\n",
    "Wsqrt = scla.sqrtm(sys_lti.W)\n",
    "for x0 in (np.array([[-9],[-4]]),np.array([[9],[-9]])):\n",
    "    for repeating in range(3):\n",
    "        pol.reset()        \n",
    "        xx = x0\n",
    "        \n",
    "        for t in range(time): \n",
    "            # current state\n",
    "            xt = xx[:,-1].reshape(2,1)\n",
    "            # next state\n",
    "            ut = my_policy(xt)\n",
    "            wt = np.random.normal(0,1,size=(2,1))\n",
    "            # update state\n",
    "            xt1 = sys_lti.a.dot(xt)+sys_lti.b.dot(ut) + np.array(Wsqrt).dot(wt)\n",
    "\n",
    "            xx = np.hstack([xx, xt1])\n",
    "            if pol.finished() :\n",
    "                print('reached')\n",
    "                break\n",
    "                \n",
    "        if not pol.finished():\n",
    "            print('not reached')\n",
    "        \n",
    "        # plot trajectory\n",
    "        plt.plot(xx[0,:],xx[1,:])\n",
    "        plt.scatter(xx[0,:],xx[1,:], label='Finite states', color='k', s=10, marker=\"o\")\n",
    "\n",
    "# plot regions\n",
    "for poly in regions.itervalues():\n",
    "    V = pc.extreme(poly)\n",
    "    ax.add_patch(matplotlib.patches.Polygon(V))\n",
    "    \n",
    "plt.xlim(np.array([-15,15]))\n",
    "plt.ylim(np.array([-15,15]))\n",
    "\n",
    "plt.xlabel('x_1') \n",
    "plt.ylabel('x_2') "
   ]
  },
  {
   "cell_type": "code",
   "execution_count": null,
   "metadata": {},
   "outputs": [],
   "source": []
  }
 ],
 "metadata": {
  "kernelspec": {
   "display_name": "Python 2",
   "language": "python",
   "name": "python2"
  },
  "language_info": {
   "codemirror_mode": {
    "name": "ipython",
    "version": 2
   },
   "file_extension": ".py",
   "mimetype": "text/x-python",
   "name": "python",
   "nbconvert_exporter": "python",
   "pygments_lexer": "ipython2",
   "version": "2.7.12"
  }
 },
 "nbformat": 4,
 "nbformat_minor": 2
}
