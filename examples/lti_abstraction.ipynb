{
 "cells": [
  {
   "cell_type": "code",
   "execution_count": 1,
   "metadata": {},
   "outputs": [],
   "source": [
    "import numpy as np\n",
    "import polytope as pc\n",
    "from itertools import combinations\n",
    "\n",
    "import matplotlib.pyplot as plt\n",
    "\n",
    "import sys\n",
    "sys.path.append('../')\n",
    "\n",
    "from best.abstraction import LTIAbstraction\n",
    "from best.mdp import *\n",
    "\n",
    "from Models.Linear import LTI\n",
    "\n",
    "# Define the linear time invariant system\n",
    "#A = np.array([[0,-0.8572],[0.1,0.5]])\n",
    "dim = 2\n",
    "A = np.eye(2) #np.array([[.9,-0.32],[0.1,0.9]])\n",
    "B = np.eye(dim)  #array([[1], [0.1]])\n",
    "W = np.array([[0,0],[0,0.4]]) #2*Tr.dot(np.eye(dim)).dot(Tr)  # noise on transitions\n",
    " \n",
    "# Accuracy\n",
    "C = np.array([[1, 0],[0,1]])  # defines metric for error (||y_finite-y||< epsilon with y= cx   )\n",
    "\n",
    "sys_lti = LTI(A, B, C, None, W=W)  # LTI system with   D = None\n",
    "sys_lti.setU(pc.box2poly(np.kron(np.ones((sys_lti.m, 1)), np.array([[-1, 1]])))) # continuous set of inputs\n",
    "sys_lti.setX(pc.box2poly(np.kron(np.ones((sys_lti.dim, 1)), np.array([[-10, 10]])))) # X space\n",
    "\n",
    "sys_n = sys_lti.normalize()"
   ]
  },
  {
   "cell_type": "code",
   "execution_count": 2,
   "metadata": {},
   "outputs": [],
   "source": [
    "# Define regions of interest for the labeling\n",
    "regions = dict()\n",
    "regions['target'] = pc.box2poly(np.kron(np.ones((2, 1)), np.array([[5, 10]])))\n",
    "# add avoid\n",
    "regions['avoid'] = pc.box2poly(np.array([[-5, 3],[-10, 5]]))"
   ]
  },
  {
   "cell_type": "code",
   "execution_count": 3,
   "metadata": {},
   "outputs": [],
   "source": [
    "## step 1: tune gridding ratio (find optimal horizontal d_1, and vertical d_2)\n",
    "# currently only available for 2D\n",
    "# d_opt, d_vals, eps_values = tune_dratio(sys_n)\n",
    "\n",
    "d_opt = np.array([[ 0.69294],\n",
    "                  [ 0.721  ]])\n",
    "\n",
    "# d = np.array([[1.5], [1.5]])\n",
    "d = d_opt"
   ]
  },
  {
   "cell_type": "code",
   "execution_count": 4,
   "metadata": {},
   "outputs": [
    {
     "name": "stdout",
     "output_type": "stream",
     "text": [
      "Warning no inputspace given\n",
      "Warning no state space given\n",
      "status: optimal\n",
      "optimal epsilon 1.00000639831\n",
      "optimal M [[ 1.  0.]\n",
      " [ 0.  1.]]\n",
      "Optimal K [[ 0. -1.]\n",
      " [-1.  0.]]\n",
      "('check norm of rows', matrix([[ 0.,  1.],\n",
      "        [-1.,  0.],\n",
      "        [ 0., -1.],\n",
      "        [ 1.,  0.]]))\n",
      "('check norm of rows', matrix([[ 0.,  1.],\n",
      "        [-1.,  0.],\n",
      "        [ 0., -1.],\n",
      "        [ 1.,  0.]]))\n"
     ]
    },
    {
     "data": {
      "image/png": "[encoded data removed]",
      "text/plain": [
       "<matplotlib.figure.Figure at 0x7f54e86a51d0>"
      ]
     },
     "metadata": {},
     "output_type": "display_data"
    }
   ],
   "source": [
    "# mdp_grid = sys_n.abstract_io(d, un=4, verbose=False)  # do the gridding\n",
    "# mdp_grid.map_dfa_inputs(dict_input2prop, regions)\n",
    "\n",
    "abstr = LTIAbstraction(sys_n, d, un=4)\n",
    "\n",
    "in_regions, nin_regions = abstr.map_dfa_inputs(regions)\n",
    "\n",
    "fig = plt.figure()\n",
    "abstr.plot(fig)"
   ]
  },
  {
   "cell_type": "code",
   "execution_count": 5,
   "metadata": {},
   "outputs": [
    {
     "name": "stdout",
     "output_type": "stream",
     "text": [
      "[ 0.97092  1.       0.9803  ...,  1.       0.       0.     ]\n"
     ]
    }
   ],
   "source": [
    "formula = '( ( ! avoid U target ) & ( F avoid ) )'\n",
    "\n",
    "def subsets(collection):\n",
    "    for i in range(len(collection)+1):\n",
    "        it = combinations(collection, i)\n",
    "        try:\n",
    "            while True:\n",
    "                yield(list(next(it)))\n",
    "        except StopIteration:\n",
    "            pass\n",
    "    raise StopIteration\n",
    "\n",
    "def connection(s_x):\n",
    "    s = s_x[0]\n",
    "    if s == abstr.mdp.N-1:\n",
    "        return set([ (), ])\n",
    "    know_in = []\n",
    "    know_out = []\n",
    "    for reg in regions.keys():\n",
    "        if in_regions[reg][s]:\n",
    "            know_in.append(reg)\n",
    "        if nin_regions[reg][s]:\n",
    "            know_out.append(reg)\n",
    "    uncertain = list(set(regions.keys()) - set(know_in) - set(know_out))\n",
    "            \n",
    "    return set([ tuple(know_in + unc) for unc in subsets(uncertain)])\n",
    "\n",
    "pol = solve_ltl_cosafe(abstr.mdp, formula, connection)\n",
    "print pol.V"
   ]
  }
 ],
 "metadata": {
  "kernelspec": {
   "display_name": "Python 2",
   "language": "python",
   "name": "python2"
  },
  "language_info": {
   "codemirror_mode": {
    "name": "ipython",
    "version": 2
   },
   "file_extension": ".py",
   "mimetype": "text/x-python",
   "name": "python",
   "nbconvert_exporter": "python",
   "pygments_lexer": "ipython2",
   "version": "2.7.12"
  }
 },
 "nbformat": 4,
 "nbformat_minor": 2
}
