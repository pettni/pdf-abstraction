{
 "cells": [
  {
   "cell_type": "code",
   "execution_count": 1,
   "metadata": {},
   "outputs": [
    {
     "data": {
      "text/plain": [
       "<polytope.polytope.Polytope at 0x7f5c8ab25750>"
      ]
     },
     "execution_count": 1,
     "metadata": {},
     "output_type": "execute_result"
    }
   ],
   "source": [
    "import numpy as np\n",
    "import polytope as pc\n",
    "from itertools import combinations\n",
    "\n",
    "import matplotlib.pyplot as plt\n",
    "\n",
    "import sys\n",
    "sys.path.append('../')\n",
    "\n",
    "import best.abstraction as ba\n",
    "from best.policy import LTL_Policy, RefinedPolicy\n",
    "\n",
    "from Models.Linear import LTI\n",
    "\n",
    "# Define the linear time invariant system\n",
    "#A = np.array([[0,-0.8572],[0.1,0.5]])\n",
    "dim = 2\n",
    "A = np.eye(2) #np.array([[.9,-0.32],[0.1,0.9]])\n",
    "B = np.eye(dim)  #array([[1], [0.1]])\n",
    "W = np.array([[0,0],[0,0.4]]) #2*Tr.dot(np.eye(dim)).dot(Tr)  # noise on transitions\n",
    " \n",
    "# Accuracy\n",
    "C = np.array([[1, 0],[0,1]])  # defines metric for error (||y_finite-y||< epsilon with y= cx   )\n",
    "\n",
    "sys_lti = LTI(A, B, C, None, W=W)  # LTI system with   D = None\n",
    "sys_lti.setU(pc.box2poly(np.kron(np.ones((sys_lti.m, 1)), np.array([[-1, 1]])))) # continuous set of inputs\n",
    "sys_lti.setX(pc.box2poly(np.kron(np.ones((sys_lti.dim, 1)), np.array([[-10, 10]])))) # X space\n"
   ]
  },
  {
   "cell_type": "code",
   "execution_count": 2,
   "metadata": {},
   "outputs": [],
   "source": [
    "# Define regions of interest for the labeling\n",
    "regions = dict()\n",
    "regions['target'] = pc.box2poly(np.kron(np.ones((2, 1)), np.array([[5, 10]])))\n",
    "# add avoid\n",
    "regions['avoid'] = pc.box2poly(np.array([[-5, 3],[-10, 5]]))"
   ]
  },
  {
   "cell_type": "code",
   "execution_count": 3,
   "metadata": {},
   "outputs": [],
   "source": [
    "## step 1: tune gridding ratio (find optimal horizontal d_1, and vertical d_2)\n",
    "# currently only available for 2D\n",
    "# d_opt, d_vals, eps_values = tune_dratio(sys_n)\n",
    "\n",
    "d_opt = np.array([[ 0.69294],\n",
    "                  [ 0.721  ]])\n",
    "\n",
    "# d = np.array([[1.5], [1.5]])\n",
    "d = d_opt"
   ]
  },
  {
   "cell_type": "code",
   "execution_count": 4,
   "metadata": {},
   "outputs": [
    {
     "name": "stdout",
     "output_type": "stream",
     "text": [
      "Warning no inputspace given\n",
      "Warning no state space given\n",
      "status: optimal\n",
      "optimal epsilon 1.00000639831\n",
      "optimal M [[ 1.  0.]\n",
      " [ 0.  1.]]\n",
      "Optimal K [[ 0. -1.]\n",
      " [-1.  0.]]\n",
      "('check norm of rows', matrix([[ 0.,  1.],\n",
      "        [-1.,  0.],\n",
      "        [ 0., -1.],\n",
      "        [ 1.,  0.]]))\n",
      "('check norm of rows', matrix([[ 0.,  1.],\n",
      "        [-1.,  0.],\n",
      "        [ 0., -1.],\n",
      "        [ 1.,  0.]]))\n"
     ]
    },
    {
     "data": {
      "image/png": "[encoded data removed]",
      "text/plain": [
       "<matplotlib.figure.Figure at 0x7f5cc8693c90>"
      ]
     },
     "metadata": {},
     "output_type": "display_data"
    }
   ],
   "source": [
    "# mdp_grid = sys_n.abstract_io(d, un=4, verbose=False)  # do the gridding\n",
    "# mdp_grid.map_dfa_inputs(dict_input2prop, regions)\n",
    "\n",
    "reload(ba)\n",
    "\n",
    "abstr = ba.LTIAbstraction(sys_lti, d, un=4)\n",
    "abstr.set_regions(regions)\n",
    "\n",
    "in_regions, nin_regions = abstr.map_dfa_inputs()\n",
    "\n",
    "fig = plt.figure()\n",
    "abstr.plot(fig)"
   ]
  },
  {
   "cell_type": "markdown",
   "metadata": {},
   "source": [
    "### Set up LTL problem"
   ]
  },
  {
   "cell_type": "code",
   "execution_count": 5,
   "metadata": {},
   "outputs": [],
   "source": [
    "from best.ltl import solve_ltl_cosafe\n",
    "\n",
    "formula = '( ( ! avoid U target ) & ( F avoid ) )'\n",
    "\n",
    "def subsets(collection):\n",
    "    for i in range(len(collection)+1):\n",
    "        it = combinations(collection, i)\n",
    "        try:\n",
    "            while True:\n",
    "                yield(list(next(it)))\n",
    "        except StopIteration:\n",
    "            pass\n",
    "    raise StopIteration\n",
    "\n",
    "def connection(s_x):\n",
    "    s = s_x[0]\n",
    "    if s == abstr.mdp.N-1:\n",
    "        return set([ (), ])\n",
    "    know_in = []\n",
    "    know_out = []\n",
    "    for reg in regions.keys():\n",
    "        if in_regions[reg][s] == 0:\n",
    "            know_out.append(reg)\n",
    "        if nin_regions[reg][s] == 0:\n",
    "            know_in.append(reg)\n",
    "    uncertain = list(set(regions.keys()) - set(know_in) - set(know_out))\n",
    "            \n",
    "    return set([ tuple(know_in + unc) for unc in subsets(uncertain)])"
   ]
  },
  {
   "cell_type": "markdown",
   "metadata": {},
   "source": [
    "### Solve with Petter's recursion"
   ]
  },
  {
   "cell_type": "code",
   "execution_count": 6,
   "metadata": {},
   "outputs": [
    {
     "name": "stdout",
     "output_type": "stream",
     "text": [
      "warning: creating nondeterministic product\n",
      "iteration 0, time 1.69277191162e-05\n",
      "iteration 1, time 0.00964498519897\n",
      "iteration 2, time 0.0174820423126\n",
      "iteration 3, time 0.0253050327301\n",
      "iteration 4, time 0.0316479206085\n",
      "iteration 5, time 0.0376620292664\n",
      "iteration 6, time 0.0432670116425\n",
      "iteration 7, time 0.0488638877869\n",
      "iteration 8, time 0.0547850131989\n",
      "iteration 9, time 0.0600318908691\n",
      "iteration 10, time 0.0651400089264\n",
      "iteration 11, time 0.0707159042358\n",
      "iteration 12, time 0.0757079124451\n",
      "iteration 13, time 0.080493927002\n",
      "iteration 14, time 0.0856759548187\n",
      "iteration 15, time 0.0907120704651\n",
      "iteration 16, time 0.0954999923706\n",
      "iteration 17, time 0.100264072418\n",
      "iteration 18, time 0.104877948761\n",
      "iteration 19, time 0.109278917313\n",
      "iteration 20, time 0.113658905029\n",
      "iteration 21, time 0.11860203743\n",
      "iteration 22, time 0.123393058777\n",
      "iteration 23, time 0.128257989883\n",
      "iteration 24, time 0.13304901123\n",
      "iteration 25, time 0.137718915939\n",
      "iteration 26, time 0.142477035522\n",
      "iteration 27, time 0.146993875504\n",
      "iteration 28, time 0.151841878891\n",
      "iteration 29, time 0.156800985336\n",
      "iteration 30, time 0.162060022354\n",
      "iteration 31, time 0.167350053787\n",
      "iteration 32, time 0.172219991684\n",
      "iteration 33, time 0.176918983459\n",
      "iteration 34, time 0.181834936142\n",
      "iteration 35, time 0.187963962555\n",
      "iteration 36, time 0.193101882935\n",
      "iteration 37, time 0.19924902916\n",
      "iteration 38, time 0.205127954483\n",
      "iteration 39, time 0.210321903229\n",
      "iteration 40, time 0.21552491188\n",
      "iteration 41, time 0.221371889114\n",
      "iteration 42, time 0.226572990417\n",
      "iteration 43, time 0.23193192482\n",
      "iteration 44, time 0.237823963165\n",
      "iteration 45, time 0.243028879166\n",
      "iteration 46, time 0.248980998993\n",
      "iteration 47, time 0.257208108902\n",
      "iteration 48, time 0.263226032257\n",
      "iteration 49, time 0.26943397522\n",
      "iteration 50, time 0.275489091873\n",
      "iteration 51, time 0.281219959259\n",
      "iteration 52, time 0.28914308548\n",
      "iteration 53, time 0.294967889786\n",
      "iteration 54, time 0.300216913223\n",
      "iteration 55, time 0.305896043777\n",
      "finished after 55 iterations and 0.310842990875s\n"
     ]
    }
   ],
   "source": [
    "pol_pn = solve_ltl_cosafe(abstr.mdp, formula, connection)"
   ]
  },
  {
   "cell_type": "markdown",
   "metadata": {},
   "source": [
    "### Solve with Sofie's recursion"
   ]
  },
  {
   "cell_type": "code",
   "execution_count": 7,
   "metadata": {},
   "outputs": [],
   "source": [
    "from best.bellman import reach_dfa\n",
    "from best.ltl import formula_to_mdp\n",
    "\n",
    "dfsa, dfsa_init, dfsa_final, _ = formula_to_mdp(formula)\n",
    "\n",
    "act_inputs = np.array([[1 if q in map(dfsa.input, connection( (s,_) )) else 0 \n",
    "                        for s in range(abstr.mdp.N)] for q in range(dfsa.N)])\n",
    "act_inputs[:,-1] = 0\n",
    "\n",
    "V, pol_mat, W = reach_dfa(act_inputs, abstr.mdp, dfsa, dfsa_final, V=None, recursions=30)\n",
    "pol_sof = LTL_Policy(dfsa, list(dfsa_init)[0], dfsa_final, pol_mat, V)"
   ]
  },
  {
   "cell_type": "markdown",
   "metadata": {},
   "source": [
    "### Define policy and plot"
   ]
  },
  {
   "cell_type": "code",
   "execution_count": 8,
   "metadata": {},
   "outputs": [
    {
     "data": {
      "text/plain": [
       "<matplotlib.quiver.Quiver at 0x7f5cc0aa2e90>"
      ]
     },
     "execution_count": 8,
     "metadata": {},
     "output_type": "execute_result"
    },
    {
     "data": {
      "image/png": "[encoded data removed]",
      "text/plain": [
       "<matplotlib.figure.Figure at 0x7f5c88b32fd0>"
      ]
     },
     "metadata": {},
     "output_type": "display_data"
    }
   ],
   "source": [
    "import best.policy as bp\n",
    "reload(bp)\n",
    "\n",
    "rpol = bp.RefinedPolicy(abstr, W, pol_sof)\n",
    "\n",
    "fig = plt.figure()\n",
    "x_edge = np.linspace(-15,15,50)\n",
    "x_del = np.diff(x_edge).max()\n",
    "y_edge = np.linspace(-15,15,50)\n",
    "y_del = np.diff(y_edge).max()\n",
    "\n",
    "xi, yi = np.meshgrid(x_edge[:-1]+x_del/2,y_edge[:-1]+y_del/2)\n",
    "\n",
    "values = rpol.val_concrete(np.block([[xi.flatten()], [yi.flatten()]]))\n",
    "plt.pcolor(x_edge, y_edge, values.reshape(xi.shape))\n",
    "plt.colorbar()\n",
    "plt.xlim(np.array([-15,15]))\n",
    "plt.ylim(np.array([-15,15]))\n",
    "\n",
    "x_edge = np.linspace(-15,15,25)\n",
    "x_del = np.diff(x_edge).max()\n",
    "y_edge = np.linspace(-15,15,20)\n",
    "y_del = np.diff(y_edge).max()\n",
    "\n",
    "xi, yi = np.meshgrid(x_edge[:-1]+x_del/2,y_edge[:-1]+y_del/2)\n",
    "\n",
    "u = sys_lti.b.dot(rpol.cst(np.block([[xi.flatten()],[yi.flatten()]])))\n",
    "delx = (-np.block([[xi.flatten()],[yi.flatten()]])\n",
    "        +sys_lti.a.dot(np.block([[xi.flatten()],[yi.flatten()]])) \n",
    "        + sys_lti.b.dot(rpol.cst(np.block([[xi.flatten()],[yi.flatten()]]))))\n",
    "x_tr = (np.block([[xi.flatten()], [yi.flatten()]]))\n",
    "\n",
    "#plt.quiver(xi.flatten(), yi.flatten(),u[0],u[1])\n",
    "plt.quiver(x_tr[0],x_tr[1],delx[0],delx[1], color = 'r')"
   ]
  },
  {
   "cell_type": "code",
   "execution_count": 9,
   "metadata": {
    "scrolled": true
   },
   "outputs": [
    {
     "name": "stdout",
     "output_type": "stream",
     "text": [
      "('final state:', set([1]))\n",
      "[[ 0.   0. ]\n",
      " [ 0.   0.4]]\n",
      "Matrix is singular and may not have a square root.\n",
      "reached\n",
      "reached\n",
      "reached\n",
      "reached\n",
      "reached\n",
      "reached\n"
     ]
    },
    {
     "data": {
      "text/plain": [
       "<matplotlib.patches.Polygon at 0x7f5cc0a1e9d0>"
      ]
     },
     "execution_count": 9,
     "metadata": {},
     "output_type": "execute_result"
    },
    {
     "data": {
      "image/png": "[encoded data removed]",
      "text/plain": [
       "<matplotlib.figure.Figure at 0x7f5cc0c66510>"
      ]
     },
     "metadata": {},
     "output_type": "display_data"
    }
   ],
   "source": [
    "# how to get a nice simulation? \n",
    "from random import  gauss \n",
    "import random\n",
    "import scipy.linalg as scla\n",
    "import matplotlib\n",
    "\n",
    "random.seed(a = '4')\n",
    "print('final state:', dfsa_final)\n",
    "time = 50\n",
    "fig = plt.figure()\n",
    "ax = fig.add_subplot(111)\n",
    "print(sys_lti.W)\n",
    "Wsqrt = scla.sqrtm(sys_lti.W)\n",
    "for x0 in (np.array([[-10],[-10]]),np.array([[9.5],[-5]])):\n",
    "    for repeating in range(3):\n",
    "        rpol.reset()\n",
    "        \n",
    "        x = np.zeros((2,time+1))\n",
    "        x[:,[0]] = x0\n",
    "\n",
    "        for t in range(time): \n",
    "            x[:,[t+1]] = (sys_lti.a.dot(x[:,[t]])+sys_lti.b.dot(rpol(x[:,[t]] )) \n",
    "                        + np.array(Wsqrt).dot(np.array([[gauss(0,1)],[gauss(0,1)]])))\n",
    "            if rpol.finished() :\n",
    "                print('reached')\n",
    "                break\n",
    "        if not rpol.finished():\n",
    "            print('not reached')\n",
    "        plt.plot(x[0,0:t+1],x[1,0:t+1])\n",
    "        plt.scatter(x[0],x[1], label='Finite states', color='k', s=10, marker=\"o\")\n",
    "\n",
    "plt.xlabel('x_1') \n",
    "plt.ylabel('x_2') \n",
    "\n",
    "plt.xlim(np.array([-15,20]))\n",
    "plt.ylim(np.array([-15,15]))\n",
    "# Define regions of interest for the labeling\n",
    "regions = dict()\n",
    "regions['target'] = pc.box2poly(np.kron(np.ones((2, 1)), np.array([[5, 10]])))\n",
    "# add avoid\n",
    "regions['avoid'] = pc.box2poly(np.array([[-5, 3],[-10, 5]]))\n",
    "\n",
    "x = pc.extreme(regions['target'])\n",
    "y = pc.extreme(regions['avoid'])\n",
    "\n",
    "patch = matplotlib.patches.Polygon(x)\n",
    "ax.add_patch(patch)\n",
    "\n",
    "patch = matplotlib.patches.Polygon(y)\n",
    "ax.add_patch(patch)"
   ]
  },
  {
   "cell_type": "code",
   "execution_count": null,
   "metadata": {},
   "outputs": [],
   "source": []
  },
  {
   "cell_type": "code",
   "execution_count": null,
   "metadata": {},
   "outputs": [],
   "source": []
  },
  {
   "cell_type": "code",
   "execution_count": null,
   "metadata": {},
   "outputs": [],
   "source": []
  }
 ],
 "metadata": {
  "kernelspec": {
   "display_name": "Python 2",
   "language": "python",
   "name": "python2"
  },
  "language_info": {
   "codemirror_mode": {
    "name": "ipython",
    "version": 2
   },
   "file_extension": ".py",
   "mimetype": "text/x-python",
   "name": "python",
   "nbconvert_exporter": "python",
   "pygments_lexer": "ipython2",
   "version": "2.7.12"
  }
 },
 "nbformat": 4,
 "nbformat_minor": 2
}
