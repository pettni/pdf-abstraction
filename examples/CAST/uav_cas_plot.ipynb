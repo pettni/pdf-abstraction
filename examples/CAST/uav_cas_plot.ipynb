{
 "cells": [
  {
   "cell_type": "code",
   "execution_count": 11,
   "metadata": {},
   "outputs": [
    {
     "name": "stdout",
     "output_type": "stream",
     "text": [
      "constructing augmented network...\n",
      "finished constructing augmented network in 0.09s\n",
      "iteration 0, time 0.00\n",
      "iteration 1, time 0.08\n",
      "iteration 2, time 0.15\n",
      "iteration 3, time 0.22\n",
      "iteration 4, time 0.30\n",
      "iteration 5, time 0.37\n",
      "iteration 6, time 0.44\n",
      "iteration 7, time 0.51\n",
      "iteration 8, time 0.59\n",
      "iteration 9, time 0.66\n",
      "iteration 10, time 0.74\n",
      "iteration 11, time 0.82\n",
      "iteration 12, time 0.90\n",
      "iteration 13, time 0.97\n",
      "iteration 14, time 1.06\n",
      "iteration 15, time 1.14\n",
      "iteration 16, time 1.21\n",
      "iteration 17, time 1.29\n",
      "iteration 18, time 1.36\n",
      "iteration 19, time 1.43\n",
      "finished after 1.51s and 20 iterations\n",
      "iteration 0, time 0.00\n",
      "iteration 1, time 0.00\n",
      "iteration 2, time 0.01\n",
      "iteration 3, time 0.01\n",
      "iteration 4, time 0.01\n",
      "iteration 5, time 0.01\n",
      "iteration 6, time 0.02\n",
      "iteration 7, time 0.02\n",
      "iteration 8, time 0.02\n",
      "iteration 9, time 0.02\n",
      "iteration 10, time 0.03\n",
      "iteration 11, time 0.03\n",
      "iteration 12, time 0.03\n",
      "finished after 0.03s and 12 iterations\n"
     ]
    }
   ],
   "source": [
    "import numpy as np\n",
    "import matplotlib.pyplot as plt\n",
    "\n",
    "from synthesize_plan import *\n",
    "from problem_definition import get_prob\n",
    "\n",
    "np.random.seed(4)\n",
    "prob = get_prob()\n",
    "uav_pol, cas_pol = synthesize_plan(prob)"
   ]
  },
  {
   "cell_type": "code",
   "execution_count": 12,
   "metadata": {},
   "outputs": [
    {
     "name": "stdout",
     "output_type": "stream",
     "text": [
      "success probability: 0.25\n"
     ]
    },
    {
     "data": {
      "image/png": "[encoded data removed]",
      "text/plain": [
       "<Figure size 432x288 with 2 Axes>"
      ]
     },
     "metadata": {
      "needs_background": "light"
     },
     "output_type": "display_data"
    }
   ],
   "source": [
    "plot_value_cassie(cas_pol, get_prob())"
   ]
  },
  {
   "cell_type": "code",
   "execution_count": 13,
   "metadata": {},
   "outputs": [
    {
     "name": "stdout",
     "output_type": "stream",
     "text": [
      "success value: 15.432626302721696\n"
     ]
    },
    {
     "data": {
      "image/png": "[encoded data removed]",
      "text/plain": [
       "<Figure size 432x288 with 2 Axes>"
      ]
     },
     "metadata": {
      "needs_background": "light"
     },
     "output_type": "display_data"
    }
   ],
   "source": [
    "plot_value_uav(uav_pol, get_prob())"
   ]
  },
  {
   "cell_type": "code",
   "execution_count": null,
   "metadata": {},
   "outputs": [],
   "source": []
  }
 ],
 "metadata": {
  "kernelspec": {
   "display_name": "Python 3",
   "language": "python",
   "name": "python3"
  },
  "language_info": {
   "codemirror_mode": {
    "name": "ipython",
    "version": 3
   },
   "file_extension": ".py",
   "mimetype": "text/x-python",
   "name": "python",
   "nbconvert_exporter": "python",
   "pygments_lexer": "ipython3",
   "version": "3.6.3"
  }
 },
 "nbformat": 4,
 "nbformat_minor": 2
}
