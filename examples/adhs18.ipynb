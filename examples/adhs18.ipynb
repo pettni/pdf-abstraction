{
 "cells": [
  {
   "cell_type": "code",
   "execution_count": 1,
   "metadata": {},
   "outputs": [
    {
     "name": "stderr",
     "output_type": "stream",
     "text": [
      "Using numpy backend.\n"
     ]
    }
   ],
   "source": [
    "import polytope as pc\n",
    "import numpy as np\n",
    "import math\n",
    "from collections import OrderedDict\n",
    "\n",
    "import matplotlib.patches\n",
    "import matplotlib.pyplot as plt\n",
    "from matplotlib import patches\n",
    "\n",
    "import sys\n",
    "sys.path.append('../')\n",
    "\n",
    "from ApprxSimulation.LTI_simrel import tune_dratio, eps_err\n",
    "from ApprxSimulation.Visualize import plot_regions, patch_ellips, ellips_cov\n",
    "import ApprxSimulation.Visualize as Vis\n",
    "\n",
    "from best.abstraction import LTIAbstraction\n",
    "from best.mdp import MDP, ProductMDP, ParallelMDP\n",
    "\n",
    "from Models.Linear import LTI, POMDP"
   ]
  },
  {
   "cell_type": "markdown",
   "metadata": {},
   "source": [
    "### System dynamics"
   ]
  },
  {
   "cell_type": "code",
   "execution_count": 2,
   "metadata": {},
   "outputs": [
    {
     "name": "stdout",
     "output_type": "stream",
     "text": [
      "[[ 0.84446 -0.2862 ]\n",
      " [-0.2862   0.84446]]\n",
      "P_l is a valid lower bound\n",
      "P_up is a valid upper bound\n",
      "(0.08010882788459806, 0.17189243466963683) (2, 2)\n"
     ]
    }
   ],
   "source": [
    "# Define the linear time invariant system\n",
    "#A = np.array([[0,-0.8572],[0.1,0.5]])\n",
    "dim = 2\n",
    "A = np.eye(2)  #np.array([[.9,-0.32],[0.1,0.9]])\n",
    "B = np.eye(dim)  #array([[1], [0.1]])\n",
    "W = np.array([[.4,-0.2],[-0.2,0.4]])  \n",
    "# noise on state transitions\n",
    " \n",
    "# Accuracy\n",
    "C = np.array([[1, 0],[0,1]])\n",
    "# defines metric for error (||y_finite-y||< epsilon with y= cx   )\n",
    "\n",
    "sys_lti = LTI(A, B, C, None, W=W)  # LTI system with   D = None\n",
    "\n",
    "# Sensor noise => pomdp\n",
    "H = np.eye(2) #np.ones((1,2)) # what can be measured\n",
    "V = 1*np.eye(2)\n",
    "    #  x^+= A x + Bu + w\n",
    "    #  y = C x\n",
    "    #  z = H x+v\n",
    "\n",
    "P = np.eye(2)\n",
    "mean = np.zeros((2,1))\n",
    "pomdp = POMDP(sys_lti, H, V, P, mean)\n",
    "\n",
    "L, Pst = pomdp.kalman()\n",
    "print(Pst)\n",
    "belief_mdp = pomdp.beliefmodel()\n",
    "\n",
    "# LTI system over-approximating belief\n",
    "P_init = Pst-np.eye(2)*.1\n",
    "P_l =Pst-np.eye(2)*.1\n",
    "P_upper =Pst #+np.eye(2)*.1\n",
    "\n",
    "lti_belief, Error_noise,error_rank = belief_mdp.to_LTI_approx(C, P_init, P_l,P_upper, combined =False)\n",
    "\n",
    "# Define spaces\n",
    "lti_belief.setU(pc.box2poly(np.kron(np.ones((sys_lti.m, 1)), np.array([[-1, 1]])))) # continuous set of inputs\n",
    "lti_belief.setX(pc.box2poly(np.kron(np.ones((sys_lti.dim, 1)), np.array([[-10, 10]])))) # X space\n",
    "\n",
    "print Error_noise, error_rank"
   ]
  },
  {
   "cell_type": "markdown",
   "metadata": {},
   "source": [
    "### Regions and map MDP"
   ]
  },
  {
   "cell_type": "code",
   "execution_count": 3,
   "metadata": {},
   "outputs": [
    {
     "name": "stdout",
     "output_type": "stream",
     "text": [
      "MDP: 16 inputs \"(meas0, meas1, meas2, meas3)\" --> 81 outputs \"(label0, label1, label2, label3)\"\n"
     ]
    }
   ],
   "source": [
    "# Define regions of interest for the labeling\n",
    "regions = OrderedDict()\n",
    "regions['target1'] = pc.box2poly(np.array([[-9, -6], [6, 9]]))\n",
    "regions['target2'] = pc.box2poly(np.array([[6, 9], [6, 9]]))\n",
    "regions['obstacle1'] = pc.box2poly(np.array([[0, 2], [-5, 2]]))\n",
    "regions['obstacle2'] = pc.box2poly(np.array([[0, 2], [3, 10]]))\n",
    "\n",
    "regions['target1meas'] = pc.box2poly(np.array([[-10, -3.9], [4.1, 10]]))\n",
    "regions['target2meas'] = pc.box2poly(np.array([[4.1, 10], [4.1, 10]]))\n",
    "regions['obstacle1meas'] = pc.box2poly(np.array([[-1.9, 3.9], [-6.9, 3.1]]))\n",
    "regions['obstacle2meas'] = pc.box2poly(np.array([[-1.9, 3.9], [1.1, 10]]))\n",
    "\n",
    "def target_output(n):\n",
    "    if n == 0:\n",
    "        return 'init'     # label unknown\n",
    "    if n == 1:\n",
    "        return 'true'     # label true\n",
    "    if n == 2:\n",
    "        return 'false'    # label false\n",
    "\n",
    "# label prior probabilities\n",
    "p_list = [0.5, 0.6, 0.1, 0.3]\n",
    "\n",
    "mdp_list = [MDP([np.eye(3), np.array([[0,p,1-p], [0,1,0], [0,0,1]])], \n",
    "                input_name='meas{}'.format(i),\n",
    "                output_fcn=target_output,\n",
    "                output_name='label{}'.format(i))\n",
    "            for (i, p) in enumerate(p_list)]\n",
    "\n",
    "map_mdp = ParallelMDP(mdp_list)\n",
    "print map_mdp"
   ]
  },
  {
   "cell_type": "markdown",
   "metadata": {},
   "source": [
    "### Abstract dynamics"
   ]
  },
  {
   "cell_type": "code",
   "execution_count": 4,
   "metadata": {},
   "outputs": [
    {
     "name": "stdout",
     "output_type": "stream",
     "text": [
      "Warning no inputspace given\n",
      "Warning no state space given\n",
      "('check norm of rows', array([[ 0.97015,  0.24252],\n",
      "       [-0.23615,  0.97172],\n",
      "       [-0.97015, -0.24252],\n",
      "       [ 0.23615, -0.97172]]))\n",
      "('check norm of rows', array([[ 0.97015,  0.24252],\n",
      "       [-0.23615,  0.97172],\n",
      "       [-0.97015, -0.24252],\n",
      "       [ 0.23615, -0.97172]]))\n",
      "('check norm of rows', array([[ 0.97015,  0.24252],\n",
      "       [-0.23615,  0.97172],\n",
      "       [-0.97015, -0.24252],\n",
      "       [ 0.23615, -0.97172]]))\n",
      "('check norm of rows', array([[ 0.97015,  0.24252],\n",
      "       [-0.23615,  0.97172],\n",
      "       [-0.97015, -0.24252],\n",
      "       [ 0.23615, -0.97172]]))\n",
      "('check norm of rows', array([[ 0.97015,  0.24252],\n",
      "       [-0.23615,  0.97172],\n",
      "       [-0.97015, -0.24252],\n",
      "       [ 0.23615, -0.97172]]))\n",
      "('check norm of rows', array([[ 0.97015,  0.24252],\n",
      "       [-0.23615,  0.97172],\n",
      "       [-0.97015, -0.24252],\n",
      "       [ 0.23615, -0.97172]]))\n",
      "('check norm of rows', array([[ 0.97015,  0.24252],\n",
      "       [-0.23615,  0.97172],\n",
      "       [-0.97015, -0.24252],\n",
      "       [ 0.23615, -0.97172]]))\n",
      "('check norm of rows', array([[ 0.97015,  0.24252],\n",
      "       [-0.23615,  0.97172],\n",
      "       [-0.97015, -0.24252],\n",
      "       [ 0.23615, -0.97172]]))\n",
      "MDP: 9 inputs \"u_d\" --> 1711 outputs \"(s, x_d)\"\n",
      "before prune: nnz: 9875893, sparsity: 0.374829572339\n",
      "after prune: nnz: 850891, sparsity: 0.0322947109327\n"
     ]
    },
    {
     "data": {
      "image/png": "[encoded data removed]",
      "text/plain": [
       "<matplotlib.figure.Figure at 0x7f3bd7ddb750>"
      ]
     },
     "metadata": {},
     "output_type": "display_data"
    }
   ],
   "source": [
    "# simulation relation parameters\n",
    "d = np.array([[ 0.76481], [ 0.64426]])\n",
    "eps_min = 0.935780510323\n",
    "M_min = np.array([[ 1.02097, -0.01268],\n",
    "                  [-0.01268,  1.00766]])\n",
    "K_min = np.array([[ 0.66149, -0.67953],\n",
    "                  [-0.69586, -0.7139 ]])\n",
    "delta = 0.01\n",
    "\n",
    "abstr = LTIAbstraction(lti_belief, d, un=3, Accuracy=False)\n",
    "\n",
    "abstr.eps = eps_min\n",
    "abstr.M = M_min\n",
    "abstr.K = K_min\n",
    "\n",
    "abstr.set_regions(regions)\n",
    "in_regions, nin_regions = abstr.map_dfa_inputs()\n",
    "\n",
    "fig = plt.figure()\n",
    "ax0 = fig.add_subplot(111)\n",
    "abstr.plot(ax0)\n",
    "\n",
    "# plot regions\n",
    "for poly in regions.itervalues():\n",
    "    V = pc.extreme(poly)\n",
    "    ax0.add_patch(patches.Polygon(V))\n",
    "\n",
    "print abstr.mdp\n",
    "print 'before prune: nnz: {}, sparsity: {}'.format(abstr.mdp.nnz(), abstr.mdp.sparsity())\n",
    "abstr.mdp.prune(1e-6)\n",
    "print 'after prune: nnz: {}, sparsity: {}'.format(abstr.mdp.nnz(), abstr.mdp.sparsity())"
   ]
  },
  {
   "cell_type": "markdown",
   "metadata": {},
   "source": [
    "### Construct abstraction x map product system"
   ]
  },
  {
   "cell_type": "code",
   "execution_count": 5,
   "metadata": {},
   "outputs": [
    {
     "name": "stdout",
     "output_type": "stream",
     "text": [
      "MDP: 9 inputs \"u_d\" --> 138591 outputs \"((s, x_d), (label0, label1, label2, label3))\"\n"
     ]
    },
    {
     "data": {
      "text/plain": [
       "{(0, 0, 0, 1), (0, 0, 1, 1)}"
      ]
     },
     "execution_count": 5,
     "metadata": {},
     "output_type": "execute_result"
    }
   ],
   "source": [
    "from best import subsets\n",
    "\n",
    "def get_regions(s):\n",
    "    '''compute subsets of possible regions corresponding to abstract state'''   \n",
    "    if s == abstr.mdp.N-1:\n",
    "        return set([ (), ])\n",
    "    \n",
    "    know_in = []\n",
    "    know_out = []\n",
    "    for reg in regions.keys():\n",
    "        if in_regions[reg][s] == 0:\n",
    "            know_out.append(reg)\n",
    "        if nin_regions[reg][s] == 0:\n",
    "            know_in.append(reg)\n",
    "    uncertain = list(set(regions.keys()) - set(know_in) - set(know_out))\n",
    "    return set([ tuple(know_in + unc) for unc in subsets(uncertain)])  \n",
    "\n",
    "# mapping (s, x_d) -> 2^2^(meas1, meas2, meas3, meas4)\n",
    "def map_connection(s_xd):\n",
    "    if s_xd[0] == abstr.mdp.N-1:\n",
    "        return set([(0,0,0,0)])\n",
    "    \n",
    "    current_regs = get_regions(s_xd[0])\n",
    "    mapstates = []\n",
    "    \n",
    "    for regs in current_regs:\n",
    "        mapstates.append((1 if 'target1meas' in regs else 0, 1 if 'target2meas' in regs else 0, \n",
    "                          1 if 'obstacle1meas' in regs else 0, 1 if 'obstacle2meas' in regs else 0))\n",
    "    \n",
    "    return set(mapstates)\n",
    "\n",
    "prod_mdp = abstr.mdp.product(map_mdp, map_connection)\n",
    "print prod_mdp\n",
    "\n",
    "s = abstr.closest_abstract((0,2))\n",
    "map_connection((s, (0,0)))"
   ]
  },
  {
   "cell_type": "markdown",
   "metadata": {},
   "source": [
    "### Set up LTL problem"
   ]
  },
  {
   "cell_type": "code",
   "execution_count": 6,
   "metadata": {},
   "outputs": [],
   "source": [
    "formula = '! fail U sample'\n",
    "\n",
    "# map ((s, xd), (label1, label2, label3), fail) -> 2^2^{sample, obstacle}\n",
    "def abstract_connection(s_xd_lbls):\n",
    "    s = s_xd_lbls[0][0]\n",
    "    xd = np.array(s_xd_lbls[0][1]).flatten()\n",
    " \n",
    "    current_regs = get_regions(s)\n",
    "    \n",
    "    lbl_t1  = s_xd_lbls[1][0]\n",
    "    lbl_t2  = s_xd_lbls[1][1]\n",
    "    lbl_ob1 = s_xd_lbls[1][2]\n",
    "    lbl_ob2 = s_xd_lbls[1][3]\n",
    "\n",
    "    ret = []\n",
    "    \n",
    "    if all('target1' in reg for reg in current_regs) and lbl_t1 == 'true' or \\\n",
    "       all('target2' in reg for reg in current_regs) and lbl_t2 == 'true':\n",
    "        # we are in target region and a sample exists\n",
    "        ret.append('sample')\n",
    "        \n",
    "    if any('obstacle1' in reg for reg in current_regs) and lbl_ob1 == 'true' or \\\n",
    "       any('obstacle2' in reg for reg in current_regs) and lbl_ob2 == 'true' or \\\n",
    "        xd[0] is None or \\\n",
    "        np.any(np.abs(xd) > 10):\n",
    "        # we are in obstacle region and there is an obstacle\n",
    "        ret.append('fail')\n",
    "            \n",
    "    return set([tuple(ret)])"
   ]
  },
  {
   "cell_type": "markdown",
   "metadata": {},
   "source": [
    "### Solve recursion"
   ]
  },
  {
   "cell_type": "code",
   "execution_count": 7,
   "metadata": {},
   "outputs": [
    {
     "name": "stdout",
     "output_type": "stream",
     "text": [
      "iteration 0, time 0.00203013420105\n",
      "iteration 1, time 0.368140935898\n",
      "iteration 2, time 0.785130023956\n",
      "iteration 3, time 1.14973497391\n",
      "iteration 4, time 1.49796700478\n",
      "iteration 5, time 1.861287117\n",
      "iteration 6, time 2.20052695274\n",
      "iteration 7, time 2.54014706612\n",
      "iteration 8, time 2.89090514183\n",
      "iteration 9, time 3.23168611526\n",
      "iteration 10, time 3.57323503494\n",
      "iteration 11, time 3.94644713402\n",
      "iteration 12, time 4.31420993805\n",
      "iteration 13, time 4.67588591576\n",
      "iteration 14, time 5.03497099876\n",
      "iteration 15, time 5.39266490936\n",
      "iteration 16, time 5.73386192322\n",
      "iteration 17, time 6.07348704338\n",
      "iteration 18, time 6.42044401169\n",
      "iteration 19, time 6.76229906082\n",
      "iteration 20, time 7.15150403976\n",
      "iteration 21, time 7.52376914024\n",
      "iteration 22, time 7.88708901405\n",
      "iteration 23, time 8.24629092216\n",
      "iteration 24, time 8.59380292892\n",
      "iteration 25, time 8.94480395317\n",
      "iteration 26, time 9.34348011017\n",
      "iteration 27, time 9.6973991394\n",
      "iteration 28, time 10.0531051159\n",
      "iteration 29, time 10.4166929722\n",
      "iteration 30, time 10.8100969791\n",
      "iteration 31, time 11.1827189922\n",
      "iteration 32, time 11.5657100677\n",
      "iteration 33, time 11.9204900265\n",
      "iteration 34, time 12.2656700611\n",
      "iteration 35, time 12.6350610256\n",
      "iteration 36, time 12.9760501385\n",
      "iteration 37, time 13.3427491188\n",
      "iteration 38, time 13.6834211349\n",
      "iteration 39, time 14.0697600842\n",
      "iteration 40, time 14.4445180893\n",
      "iteration 41, time 14.8051280975\n",
      "iteration 42, time 15.1476330757\n",
      "iteration 43, time 15.4924371243\n",
      "iteration 44, time 15.8381240368\n",
      "iteration 45, time 16.1781210899\n",
      "iteration 46, time 16.5290749073\n",
      "iteration 47, time 16.8761389256\n",
      "iteration 48, time 17.2886149883\n",
      "iteration 49, time 17.6613790989\n",
      "iteration 50, time 18.0346341133\n",
      "iteration 51, time 18.3879790306\n",
      "iteration 52, time 18.7352449894\n",
      "iteration 53, time 19.0857129097\n",
      "iteration 54, time 19.4355580807\n",
      "iteration 55, time 19.7806141376\n",
      "iteration 56, time 20.1415839195\n",
      "iteration 57, time 20.4871349335\n",
      "iteration 58, time 20.8343169689\n",
      "iteration 59, time 21.2283110619\n",
      "iteration 60, time 21.6159169674\n",
      "iteration 61, time 21.9889519215\n",
      "iteration 62, time 22.3393261433\n",
      "iteration 63, time 22.6917390823\n",
      "iteration 64, time 23.0357999802\n",
      "iteration 65, time 23.380341053\n",
      "iteration 66, time 23.729902029\n",
      "iteration 67, time 24.0691139698\n",
      "iteration 68, time 24.4079360962\n",
      "iteration 69, time 24.7886350155\n",
      "iteration 70, time 25.1692390442\n",
      "iteration 71, time 25.5275940895\n",
      "iteration 72, time 25.8823969364\n",
      "iteration 73, time 26.2330539227\n",
      "iteration 74, time 26.5730090141\n",
      "iteration 75, time 26.919508934\n",
      "iteration 76, time 27.2593050003\n",
      "iteration 77, time 27.6066479683\n",
      "iteration 78, time 27.9891121387\n",
      "iteration 79, time 28.3601520061\n",
      "iteration 80, time 28.7145500183\n",
      "iteration 81, time 29.0753810406\n",
      "finished after 29.4212589264s and 81 iterations\n"
     ]
    }
   ],
   "source": [
    "from best.ltl import solve_ltl_cosafe\n",
    "\n",
    "pol = solve_ltl_cosafe(prod_mdp, formula, abstract_connection, delta=delta, verbose=True)"
   ]
  },
  {
   "cell_type": "code",
   "execution_count": 8,
   "metadata": {},
   "outputs": [],
   "source": [
    "# define a policy on top of mdp policy\n",
    "def my_policy(x, mapstate):\n",
    "    # x: current concrete state [x; y]\n",
    "    x = np.array(x).reshape((2,1))\n",
    "    \n",
    "    lbl_t1 = mapstate[0]\n",
    "    lbl_t2 = mapstate[1]\n",
    "    lbl_ob1 = mapstate[2]\n",
    "    lbl_ob2 = mapstate[3]\n",
    "\n",
    "    aps = []\n",
    "    \n",
    "    if regions['target1'].contains(x) and lbl_t1 == 1 or \\\n",
    "       regions['target2'].contains(x) and lbl_t2 == 1:\n",
    "        # we are in target region and a sample exists\n",
    "        aps.append('sample')\n",
    "        \n",
    "    if regions['obstacle1'].contains(x) and lbl_ob1 == 1 or \\\n",
    "       regions['obstacle2'].contains(x) and lbl_ob2 == 1:\n",
    "        # we are in obstacle region and there is an obstacle\n",
    "        aps.append('fail')\n",
    "        \n",
    "    pol.report_aps(aps)\n",
    "\n",
    "    s_map = map_mdp.global_state(mapstate)\n",
    "\n",
    "    s_list, _ = abstr.all_abstract(x)\n",
    "    if len(s_list):\n",
    "        s_idx = np.argmax(pol.V[s_list, s_map, pol.dfsa_state])\n",
    "        s_abstract = s_list[s_idx]\n",
    "    else:\n",
    "        s_abstract = len(abstr)\n",
    "    \n",
    "   \n",
    "    u_abstract, curr_val = pol.get_input((s_abstract, s_map))\n",
    "    \n",
    "    if curr_val > 0 and u_abstract != -1:\n",
    "        return abstr.interface(u_abstract, s_abstract, x), curr_val\n",
    "    else:\n",
    "        return np.array([[0], [0]]), 0\n",
    "\n",
    "def my_value(x, mapstate):    \n",
    "    x = np.array(x).reshape((2,1))\n",
    "    \n",
    "    s_abstract = abstr.closest_abstract(x)\n",
    "    s_map = map_mdp.global_state(mapstate)\n",
    "\n",
    "    _, val = pol.get_input((s_abstract, s_map))\n",
    "    return val\n",
    "\n",
    "def my_policy_init(x):\n",
    "    u, _ = my_policy(x, (0,0,0,0))\n",
    "    pol.reset()\n",
    "    return u\n",
    "\n",
    "pol.reset()"
   ]
  },
  {
   "cell_type": "code",
   "execution_count": 9,
   "metadata": {},
   "outputs": [
    {
     "data": {
      "image/png": "[encoded data removed]",
      "text/plain": [
       "<matplotlib.figure.Figure at 0x7f3bd7dd0d90>"
      ]
     },
     "metadata": {},
     "output_type": "display_data"
    },
    {
     "data": {
      "image/png": "[encoded data removed]",
      "text/plain": [
       "<matplotlib.figure.Figure at 0x7f3bfc8a0c50>"
      ]
     },
     "metadata": {},
     "output_type": "display_data"
    },
    {
     "data": {
      "image/png": "[encoded data removed]",
      "text/plain": [
       "<matplotlib.figure.Figure at 0x7f3bfc4a5910>"
      ]
     },
     "metadata": {},
     "output_type": "display_data"
    }
   ],
   "source": [
    "from matplotlib2tikz import save as tikz_save\n",
    "\n",
    "# figure 1\n",
    "x_edge = np.linspace(-11,11,50)\n",
    "x_del = np.diff(x_edge).max()\n",
    "y_edge = np.linspace(-11,11,50)\n",
    "y_del = np.diff(y_edge).max()\n",
    "\n",
    "xi, yi = np.meshgrid(x_edge[:-1]+x_del/2,y_edge[:-1]+y_del/2)\n",
    "xi = xi.flatten()\n",
    "yi = yi.flatten()\n",
    "\n",
    "values = np.array([my_value((x,y), (0,0,0,0)) for (x,y) in zip(xi, yi)])\n",
    "\n",
    "fig = plt.figure()\n",
    "ax = plt.Axes(fig, [0.,0.,1.,1.])\n",
    "ax.set_axis_off()\n",
    "\n",
    "fig.add_axes(ax)\n",
    "\n",
    "ax.set_xlim(-10, 10)\n",
    "ax.set_ylim(-10, 10)\n",
    "\n",
    "ax.pcolor(x_edge, y_edge, values.reshape((49,49)), vmin=0, vmax=1)\n",
    "\n",
    "ax.add_patch(matplotlib.patches.Polygon( pc.extreme(regions['target1']), facecolor='none', linestyle='--', linewidth=2, edgecolor='blue'  ))\n",
    "ax.add_patch(matplotlib.patches.Polygon( pc.extreme(regions['target2']), facecolor='none', linestyle='--', linewidth=2, edgecolor='blue'  ))\n",
    "\n",
    "ax.add_patch(matplotlib.patches.Polygon( pc.extreme(regions['obstacle1']), facecolor='none', linestyle='--', linewidth=2, edgecolor='red'  ))\n",
    "ax.add_patch(matplotlib.patches.Polygon( pc.extreme(regions['obstacle2']), facecolor='none', linestyle='--', linewidth=2, edgecolor='red'  ))\n",
    "\n",
    "fig.savefig('value1.pdf')\n",
    "\n",
    "\n",
    "# # figure 2\n",
    "values = np.array([my_value((x,y), (0,1,0,1)) for (x,y) in zip(xi, yi)])\n",
    "\n",
    "fig = plt.figure()\n",
    "ax = plt.Axes(fig, [0.,0.,1.,1.])\n",
    "ax.set_axis_off()\n",
    "\n",
    "fig.add_axes(ax)\n",
    "\n",
    "ax.set_xlim(-10, 10)\n",
    "ax.set_ylim(-10, 10)\n",
    "\n",
    "ax.pcolor(x_edge, y_edge, values.reshape((49,49)), vmin=0, vmax=1)\n",
    "\n",
    "ax.add_patch(matplotlib.patches.Polygon( pc.extreme(regions['target1']), facecolor='none', linestyle='--', linewidth=2, edgecolor='blue'  ))\n",
    "ax.add_patch(matplotlib.patches.Polygon( pc.extreme(regions['target2']), facecolor='none', linestyle='--', linewidth=2, edgecolor='blue'  ))\n",
    "\n",
    "ax.add_patch(matplotlib.patches.Polygon( pc.extreme(regions['obstacle1']), facecolor='none', linestyle='--', linewidth=2, edgecolor='red'  ))\n",
    "ax.add_patch(matplotlib.patches.Polygon( pc.extreme(regions['obstacle2']), facecolor='none', linestyle='--', linewidth=2, edgecolor='red'  ))\n",
    "\n",
    "fig.savefig('value2.pdf')\n",
    "\n",
    "fig = plt.figure(figsize=(1,5))\n",
    "ax = plt.Axes(fig, [0.,0.,1.,1.])\n",
    "ax.set_axis_off()\n",
    "\n",
    "fig.add_axes(ax)\n",
    "\n",
    "cb1 = matplotlib.colorbar.ColorbarBase(ax)\n",
    "\n",
    "fig.savefig('cbar.pdf')"
   ]
  },
  {
   "cell_type": "markdown",
   "metadata": {},
   "source": [
    "### Run simulation 1"
   ]
  },
  {
   "cell_type": "code",
   "execution_count": 10,
   "metadata": {
    "scrolled": true
   },
   "outputs": [
    {
     "name": "stdout",
     "output_type": "stream",
     "text": [
      "reached\n",
      "reached\n",
      "reached\n",
      "=========================================================\n",
      "Please add the following lines to your LaTeX preamble:\n",
      "\n",
      "\\usepackage[utf8]{inputenc}\n",
      "\\usepackage{fontspec} % This line only for XeLaTeX and LuaLaTeX\n",
      "\\usepackage{pgfplots}\n",
      "=========================================================\n",
      "Horizontal alignment will be ignored as no 'x tick label text width' has been passed in the 'extra' parameter\n",
      "Horizontal alignment will be ignored as no 'y tick label text width' has been passed in the 'extra' parameter\n",
      "=========================================================\n",
      "Please add the following lines to your LaTeX preamble:\n",
      "\n",
      "\\usepackage[utf8]{inputenc}\n",
      "\\usepackage{fontspec} % This line only for XeLaTeX and LuaLaTeX\n",
      "\\usepackage{pgfplots}\n",
      "=========================================================\n",
      "Horizontal alignment will be ignored as no 'x tick label text width' has been passed in the 'extra' parameter\n",
      "Horizontal alignment will be ignored as no 'y tick label text width' has been passed in the 'extra' parameter\n"
     ]
    },
    {
     "data": {
      "image/png": "[encoded data removed]",
      "text/plain": [
       "<matplotlib.figure.Figure at 0x7f3bfd214610>"
      ]
     },
     "metadata": {},
     "output_type": "display_data"
    },
    {
     "data": {
      "image/png": "[encoded data removed]",
      "text/plain": [
       "<matplotlib.figure.Figure at 0x7f3bfd214b90>"
      ]
     },
     "metadata": {},
     "output_type": "display_data"
    }
   ],
   "source": [
    "import scipy.linalg as scla\n",
    "import matplotlib\n",
    "\n",
    "np.random.seed(10)\n",
    "\n",
    "time = 90\n",
    "fig1 = plt.figure(1)\n",
    "ax1 = fig1.add_subplot(111)\n",
    "\n",
    "fig2 = plt.figure(2)\n",
    "ax2 = fig2.add_subplot(111)\n",
    "\n",
    "# plot regions\n",
    "ax1.add_patch(matplotlib.patches.Polygon( pc.extreme(regions['obstacle1']), color='red', alpha=0.5 ))\n",
    "ax1.add_patch(matplotlib.patches.Polygon( pc.extreme(regions['obstacle2']), color='red', alpha=0.5 ))\n",
    "ax1.text(1, 1, '$O_1$')\n",
    "ax1.text(1, 9, '$O_2$')\n",
    "\n",
    "ax1.add_patch(matplotlib.patches.Polygon( pc.extreme(regions['obstacle1meas']), facecolor='none', linestyle='--', edgecolor='red' ))\n",
    "ax1.add_patch(matplotlib.patches.Polygon( pc.extreme(regions['obstacle2meas']), facecolor='none', linestyle='--', edgecolor='red' ))\n",
    "\n",
    "\n",
    "ax1.add_patch(matplotlib.patches.Polygon( pc.extreme(regions['target1']), color='blue', alpha=0.5 ))\n",
    "ax1.add_patch(matplotlib.patches.Polygon( pc.extreme(regions['target2']), color='blue', alpha=0.5 ))\n",
    "ax1.text(-9, 8, '$T_1$')\n",
    "ax1.text(8, 8, '$T_2$')\n",
    "\n",
    "ax1.add_patch(matplotlib.patches.Polygon( pc.extreme(regions['target1meas']), facecolor='none', linestyle='--', edgecolor='blue' ))\n",
    "ax1.add_patch(matplotlib.patches.Polygon( pc.extreme(regions['target2meas']), facecolor='none', linestyle='--', edgecolor='blue' ))\n",
    "\n",
    "\n",
    "realmap = [1, 2, 1, 2]   # true map state\n",
    "\n",
    "Wsqrt = scla.sqrtm(sys_lti.W)\n",
    "for xinit in range(-8, 9, 8):\n",
    "    pol.reset()\n",
    "    mapstate = [0, 0, 0, 0]\n",
    "    xx = np.array([[xinit],[-9]])\n",
    "    vv = np.array([my_value(xx, mapstate)])\n",
    "\n",
    "    for t in range(time): \n",
    "        # current state\n",
    "        xt = xx[:,-1].reshape(2,1)\n",
    "        # reveal map if within distance\n",
    "        if regions['target1meas'].contains(xt):\n",
    "            mapstate[0] = realmap[0]\n",
    "        if regions['target2meas'].contains(xt):\n",
    "            mapstate[1] = realmap[1]\n",
    "        if regions['obstacle1meas'].contains(xt):\n",
    "            mapstate[2] = realmap[2]\n",
    "        if regions['obstacle2meas'].contains(xt):\n",
    "            mapstate[3] = realmap[3]\n",
    "            \n",
    "        # next state\n",
    "        ut, vt = my_policy(xt, mapstate)\n",
    "\n",
    "        if pol.finished() :\n",
    "            print('reached')\n",
    "            break\n",
    "            \n",
    "        # update state\n",
    "        xt1, P1 = belief_mdp.simulate(ut, xt)\n",
    "\n",
    "        xx = np.hstack([xx, xt1])\n",
    "        vv = np.hstack([vv, vt])\n",
    "\n",
    "    if not pol.finished():\n",
    "        print('not reached')\n",
    "\n",
    "    ax1.plot(xx[0,:],xx[1,:])\n",
    "    ax1.scatter(xx[0,:],xx[1,:], color='k', s=10, marker=\"o\")\n",
    "    \n",
    "    ax2.plot(range(t+1), vv)\n",
    "\n",
    "ax1.set_xlabel('$x_1$') \n",
    "ax1.set_ylabel('$x_2$') \n",
    "\n",
    "ax2.set_xlabel('$t$')\n",
    "ax2.set_ylabel('$\\\\mathbb{P}(\\\\psi)$')\n",
    "\n",
    "tikz_save('exp1-map.tikz', figure=fig1, figurewidth='\\\\figurewidth', figureheight='\\\\figureheight')\n",
    "tikz_save('exp1-prob.tikz', figure=fig2, figurewidth='\\\\figurewidth', figureheight='\\\\figureheight')"
   ]
  },
  {
   "cell_type": "markdown",
   "metadata": {},
   "source": [
    "### Run simulation 2"
   ]
  },
  {
   "cell_type": "code",
   "execution_count": 11,
   "metadata": {},
   "outputs": [
    {
     "name": "stdout",
     "output_type": "stream",
     "text": [
      "reached\n",
      "reached\n",
      "reached\n",
      "=========================================================\n",
      "Please add the following lines to your LaTeX preamble:\n",
      "\n",
      "\\usepackage[utf8]{inputenc}\n",
      "\\usepackage{fontspec} % This line only for XeLaTeX and LuaLaTeX\n",
      "\\usepackage{pgfplots}\n",
      "=========================================================\n",
      "Horizontal alignment will be ignored as no 'x tick label text width' has been passed in the 'extra' parameter\n",
      "Horizontal alignment will be ignored as no 'y tick label text width' has been passed in the 'extra' parameter\n",
      "=========================================================\n",
      "Please add the following lines to your LaTeX preamble:\n",
      "\n",
      "\\usepackage[utf8]{inputenc}\n",
      "\\usepackage{fontspec} % This line only for XeLaTeX and LuaLaTeX\n",
      "\\usepackage{pgfplots}\n",
      "=========================================================\n",
      "Horizontal alignment will be ignored as no 'x tick label text width' has been passed in the 'extra' parameter\n",
      "Horizontal alignment will be ignored as no 'y tick label text width' has been passed in the 'extra' parameter\n"
     ]
    },
    {
     "data": {
      "image/png": "[encoded data removed]",
      "text/plain": [
       "<matplotlib.figure.Figure at 0x7f3bfd274650>"
      ]
     },
     "metadata": {},
     "output_type": "display_data"
    },
    {
     "data": {
      "image/png": "[encoded data removed]",
      "text/plain": [
       "<matplotlib.figure.Figure at 0x7f3bfd274bd0>"
      ]
     },
     "metadata": {},
     "output_type": "display_data"
    }
   ],
   "source": [
    "np.random.seed(2)\n",
    "\n",
    "time = 90\n",
    "fig1 = plt.figure(1)\n",
    "ax1 = fig1.add_subplot(111)\n",
    "\n",
    "fig2 = plt.figure(2)\n",
    "ax2 = fig2.add_subplot(111)\n",
    "\n",
    "# plot regions\n",
    "ax1.add_patch(matplotlib.patches.Polygon( pc.extreme(regions['obstacle1']), color='red', alpha=0.5 ))\n",
    "ax1.add_patch(matplotlib.patches.Polygon( pc.extreme(regions['obstacle2']), color='red', alpha=0.5 ))\n",
    "ax1.text(1, 1, '$O_1$')\n",
    "ax1.text(1, 9, '$O_2$')\n",
    "\n",
    "ax1.add_patch(matplotlib.patches.Polygon( pc.extreme(regions['obstacle1meas']), facecolor='none', linestyle='--', edgecolor='red' ))\n",
    "ax1.add_patch(matplotlib.patches.Polygon( pc.extreme(regions['obstacle2meas']), facecolor='none', linestyle='--', edgecolor='red' ))\n",
    "\n",
    "\n",
    "ax1.add_patch(matplotlib.patches.Polygon( pc.extreme(regions['target1']), color='blue', alpha=0.5 ))\n",
    "ax1.add_patch(matplotlib.patches.Polygon( pc.extreme(regions['target2']), color='blue', alpha=0.5 ))\n",
    "ax1.text(-9, 8, '$T_1$')\n",
    "ax1.text(8, 8, '$T_2$')\n",
    "\n",
    "ax1.add_patch(matplotlib.patches.Polygon( pc.extreme(regions['target1meas']), facecolor='none', linestyle='--', edgecolor='blue' ))\n",
    "ax1.add_patch(matplotlib.patches.Polygon( pc.extreme(regions['target2meas']), facecolor='none', linestyle='--', edgecolor='blue' ))\n",
    "\n",
    "\n",
    "realmap = [1, 2, 1, 1]   # true map state\n",
    "\n",
    "Wsqrt = scla.sqrtm(sys_lti.W)\n",
    "for xinit in range(-8, 9, 8):\n",
    "    pol.reset()\n",
    "    mapstate = [0, 0, 0, 0]\n",
    "    xx = np.array([[xinit],[-9]])\n",
    "    vv = np.array([my_value(xx, mapstate)])\n",
    "\n",
    "    for t in range(time): \n",
    "        # current state\n",
    "        xt = xx[:,-1].reshape(2,1)\n",
    "        \n",
    "        # reveal map if within distance\n",
    "        if regions['target1meas'].contains(xt):\n",
    "            mapstate[0] = realmap[0]\n",
    "        if regions['target2meas'].contains(xt):\n",
    "            mapstate[1] = realmap[1]\n",
    "        if regions['obstacle1meas'].contains(xt):\n",
    "            mapstate[2] = realmap[2]\n",
    "        if regions['obstacle2meas'].contains(xt):\n",
    "            mapstate[3] = realmap[3]\n",
    "        \n",
    "        # next state\n",
    "        ut, vt = my_policy(xt, mapstate)\n",
    "\n",
    "        if pol.finished():\n",
    "            print('reached')\n",
    "            break\n",
    "            \n",
    "        # update state\n",
    "        xt1, P1 = belief_mdp.simulate(ut, xt)\n",
    "\n",
    "        xx = np.hstack([xx, xt1])\n",
    "        vv = np.hstack([vv, vt])\n",
    "\n",
    "    if not pol.finished():\n",
    "        print('not reached')\n",
    "\n",
    "    ax1.plot(xx[0,:],xx[1,:])\n",
    "    ax1.scatter(xx[0,:],xx[1,:], color='k', s=10, marker=\"o\")\n",
    "    \n",
    "    ax2.plot(range(t+1), vv)\n",
    "\n",
    "ax1.set_xlabel('$x_1$') \n",
    "ax1.set_ylabel('$x_2$') \n",
    "\n",
    "ax2.set_xlabel('$t$')\n",
    "ax2.set_ylabel('$\\\\mathbb{P}(\\\\psi)$')\n",
    "\n",
    "tikz_save('exp2-map.tikz', figure=fig1, figurewidth='\\\\figurewidth', figureheight='\\\\figureheight')\n",
    "tikz_save('exp2-prob.tikz', figure=fig2, figurewidth='\\\\figurewidth', figureheight='\\\\figureheight')"
   ]
  },
  {
   "cell_type": "code",
   "execution_count": null,
   "metadata": {},
   "outputs": [],
   "source": []
  }
 ],
 "metadata": {
  "kernelspec": {
   "display_name": "Python 2",
   "language": "python",
   "name": "python2"
  },
  "language_info": {
   "codemirror_mode": {
    "name": "ipython",
    "version": 2
   },
   "file_extension": ".py",
   "mimetype": "text/x-python",
   "name": "python",
   "nbconvert_exporter": "python",
   "pygments_lexer": "ipython2",
   "version": "2.7.12"
  }
 },
 "nbformat": 4,
 "nbformat_minor": 2
}
