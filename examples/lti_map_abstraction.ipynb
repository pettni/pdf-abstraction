{
 "cells": [
  {
   "cell_type": "code",
   "execution_count": 1,
   "metadata": {},
   "outputs": [
    {
     "data": {
      "text/plain": [
       "<polytope.polytope.Polytope at 0x7f813e73f750>"
      ]
     },
     "execution_count": 1,
     "metadata": {},
     "output_type": "execute_result"
    }
   ],
   "source": [
    "import numpy as np\n",
    "import polytope as pc\n",
    "from itertools import combinations\n",
    "\n",
    "import matplotlib.pyplot as plt\n",
    "\n",
    "import sys\n",
    "sys.path.append('../')\n",
    "\n",
    "from best.abstraction import LTIAbstraction\n",
    "from best.mdp import *\n",
    "from best.policy import *\n",
    "\n",
    "from Models.Linear import LTI\n",
    "\n",
    "# Define the linear time invariant system\n",
    "#A = np.array([[0,-0.8572],[0.1,0.5]])\n",
    "dim = 2\n",
    "A = np.eye(2) #np.array([[.9,-0.32],[0.1,0.9]])\n",
    "B = np.eye(dim)  #array([[1], [0.1]])\n",
    "W = np.array([[0,0],[0,0.4]]) #2*Tr.dot(np.eye(dim)).dot(Tr)  # noise on transitions\n",
    " \n",
    "# Accuracy\n",
    "C = np.array([[1, 0],[0,1]])  # defines metric for error (||y_finite-y||< epsilon with y= cx   )\n",
    "\n",
    "sys_lti = LTI(A, B, C, None, W=W)  # LTI system with   D = None\n",
    "sys_lti.setU(pc.box2poly(np.kron(np.ones((sys_lti.m, 1)), np.array([[-1, 1]])))) # continuous set of inputs\n",
    "sys_lti.setX(pc.box2poly(np.kron(np.ones((sys_lti.dim, 1)), np.array([[-10, 10]])))) # X space"
   ]
  },
  {
   "cell_type": "code",
   "execution_count": 2,
   "metadata": {},
   "outputs": [],
   "source": [
    "# Define regions of interest for the labeling\n",
    "regions = dict()\n",
    "regions['target1'] = pc.box2poly(np.array([[-9, -6], [6, 9]]))\n",
    "# add avoid\n",
    "regions['target2'] = pc.box2poly(np.array([[6, 9], [6, 9]]))"
   ]
  },
  {
   "cell_type": "code",
   "execution_count": 3,
   "metadata": {},
   "outputs": [],
   "source": [
    "## step 1: tune gridding ratio (find optimal horizontal d_1, and vertical d_2)\n",
    "# currently only available for 2D\n",
    "# d_opt, d_vals, eps_values = tune_dratio(sys_n)\n",
    "\n",
    "d_opt = np.array([[ 0.69294],\n",
    "                  [ 0.721  ]])\n",
    "\n",
    "# d = np.array([[1.5], [1.5]])\n",
    "d = d_opt"
   ]
  },
  {
   "cell_type": "markdown",
   "metadata": {},
   "source": [
    "### Construct map MDP"
   ]
  },
  {
   "cell_type": "code",
   "execution_count": 4,
   "metadata": {},
   "outputs": [
    {
     "name": "stdout",
     "output_type": "stream",
     "text": [
      "MDP: 4 inputs \"(meas1, meas2)\" --> 9 states \"(samplelabel1, samplelabel2)\"\n"
     ]
    }
   ],
   "source": [
    "p1 = 0.5\n",
    "p2 = 0.6\n",
    "\n",
    "T0 = np.eye(3)\n",
    "T1 = np.array([[0,p1,1-p1], [0,1,0], [0,0,1]])\n",
    "T2 = np.array([[0,p2,1-p2], [0,1,0], [0,0,1]])\n",
    "\n",
    "def output_fcn(n):\n",
    "    if n == 0:\n",
    "        return 'init'    # label unknown\n",
    "    if n == 1:\n",
    "        return 'sample'  # there is a sample\n",
    "    if n == 2:\n",
    "        return 'empty'   # no sample\n",
    "    \n",
    "map1 = MDP([T0, T1], input_name='meas1',\n",
    "                     output_fcn=output_fcn, output_name='samplelabel1')\n",
    "\n",
    "map2 = MDP([T0, T2], input_name='meas2',\n",
    "                     output_fcn=output_fcn, output_name='samplelabel2')\n",
    "\n",
    "map_mdp = ParallelMDP([map1, map2])\n",
    "print map_mdp"
   ]
  },
  {
   "cell_type": "markdown",
   "metadata": {},
   "source": [
    "### Construct abstraction"
   ]
  },
  {
   "cell_type": "code",
   "execution_count": 5,
   "metadata": {},
   "outputs": [
    {
     "name": "stdout",
     "output_type": "stream",
     "text": [
      "Warning no inputspace given\n",
      "Warning no state space given\n",
      "status: optimal\n",
      "optimal epsilon 1.00000639831\n",
      "optimal M [[ 1.  0.]\n",
      " [ 0.  1.]]\n",
      "Optimal K [[ 0. -1.]\n",
      " [-1.  0.]]\n",
      "('check norm of rows', matrix([[ 0.,  1.],\n",
      "        [-1.,  0.],\n",
      "        [ 0., -1.],\n",
      "        [ 1.,  0.]]))\n",
      "('check norm of rows', matrix([[ 0.,  1.],\n",
      "        [-1.,  0.],\n",
      "        [ 0., -1.],\n",
      "        [ 1.,  0.]]))\n",
      "MDP: 16 inputs \"u_d\" --> 871 states \"(s, x_d)\"\n"
     ]
    },
    {
     "data": {
      "image/png": "[encoded data removed]",
      "text/plain": [
       "<matplotlib.figure.Figure at 0x7f817c2bfb90>"
      ]
     },
     "metadata": {},
     "output_type": "display_data"
    }
   ],
   "source": [
    "# mdp_grid = sys_n.abstract_io(d, un=4, verbose=False)  # do the gridding\n",
    "# mdp_grid.map_dfa_inputs(dict_input2prop, regions)\n",
    "\n",
    "abstr = LTIAbstraction(sys_lti, d, un=4)\n",
    "abstr.set_regions(regions)\n",
    "\n",
    "in_regions, nin_regions = abstr.map_dfa_inputs()\n",
    "\n",
    "fig = plt.figure()\n",
    "abstr.plot(fig)\n",
    "print abstr.mdp"
   ]
  },
  {
   "cell_type": "markdown",
   "metadata": {},
   "source": [
    "### Connect abstraction and map"
   ]
  },
  {
   "cell_type": "code",
   "execution_count": 6,
   "metadata": {},
   "outputs": [
    {
     "name": "stdout",
     "output_type": "stream",
     "text": [
      "set([(0, 0)])\n",
      "set([(1, 0)])\n",
      "set([(0, 1)])\n",
      "MDP: 16 inputs \"u_d\" --> 7839 states \"((s, x_d), (samplelabel1, samplelabel2))\"\n"
     ]
    }
   ],
   "source": [
    "# mapping (s, x_d) -> (meas1, meas2)\n",
    "def map_connection(s_xd):\n",
    "    if s_xd[0] == abstr.mdp.N-1:\n",
    "        return set([(0,0)])\n",
    "    \n",
    "    x_d = np.array(s_xd[1]).reshape((2,1))\n",
    "        \n",
    "    ret = [0 for i in range(len(regions))]\n",
    "    for i, poly in enumerate(regions.itervalues()):\n",
    "        if poly.contains(x_d):\n",
    "            ret[i] = 1\n",
    "    return set([tuple(ret)])\n",
    "\n",
    "prod_mdp = ProductMDP(abstr.mdp, map_mdp, map_connection)\n",
    "print prod_mdp"
   ]
  },
  {
   "cell_type": "markdown",
   "metadata": {},
   "source": [
    "### Set up LTL problem"
   ]
  },
  {
   "cell_type": "code",
   "execution_count": 7,
   "metadata": {},
   "outputs": [
    {
     "name": "stdout",
     "output_type": "stream",
     "text": [
      "(array([728]), array([0]))\n",
      "(array([749]), array([0]))\n",
      "(728, array([[-7.5705 ],\n",
      "       [ 7.62234]]))\n",
      "(749, array([[ 7.5705 ],\n",
      "       [ 7.62234]]))\n"
     ]
    }
   ],
   "source": [
    "print np.nonzero(nin_regions['target1']==0)\n",
    "print np.nonzero(nin_regions['target2']==0)\n",
    "print abstr.mdp.output(728)\n",
    "print abstr.mdp.output(749)"
   ]
  },
  {
   "cell_type": "code",
   "execution_count": 8,
   "metadata": {},
   "outputs": [
    {
     "name": "stdout",
     "output_type": "stream",
     "text": [
      "set([('sample',)])\n",
      "set([()])\n",
      "set([('sample',)])\n",
      "set([()])\n"
     ]
    }
   ],
   "source": [
    "formula = '( F sample )'\n",
    "\n",
    "def subsets(collection):\n",
    "    for i in range(len(collection)+1):\n",
    "        it = combinations(collection, i)\n",
    "        try:\n",
    "            while True:\n",
    "                yield(list(next(it)))\n",
    "        except StopIteration:\n",
    "            pass\n",
    "    raise StopIteration\n",
    "\n",
    "def get_regions(s):\n",
    "    '''compute subsets of possible regions corresponding to abstract state'''   \n",
    "    if s == abstr.mdp.N-1:\n",
    "        return set([ (), ])\n",
    "    \n",
    "    know_in = []\n",
    "    know_out = []\n",
    "    for reg in regions.keys():\n",
    "        if in_regions[reg][s] == 0:\n",
    "            know_out.append(reg)\n",
    "        if nin_regions[reg][s] == 0:\n",
    "            know_in.append(reg)\n",
    "    uncertain = list(set(regions.keys()) - set(know_in) - set(know_out))\n",
    "    return set([ tuple(know_in + unc) for unc in subsets(uncertain)])  \n",
    "\n",
    "# map ((s, xd), (sample1, sample2)) -> 2^{sample}\n",
    "def abstract_connection(s_xd_sample):\n",
    "    s = s_xd_sample[0][0]\n",
    "    regions = get_regions(s)\n",
    "    \n",
    "    sample1 = s_xd_sample[1][0]\n",
    "    sample2 = s_xd_sample[1][1]\n",
    "\n",
    "    if all('target1' in reg for reg in regions) and sample1 == 'sample' or \\\n",
    "       all('target2' in reg for reg in regions) and sample2 == 'sample':\n",
    "        return set([tuple(['sample'])])\n",
    "    else:\n",
    "        return set([(), ])\n",
    "\n",
    "print abstract_connection( ( (728, (_, _)), ('sample', 'empty') ) )\n",
    "print abstract_connection( ( (728, (_, _)), ('empty', 'empty') ) )\n",
    "\n",
    "print abstract_connection( ( (749, (_, _)), ('empty', 'sample') ) )\n",
    "print abstract_connection( ( (749, (_, _)), ('empty', 'empty') ) )"
   ]
  },
  {
   "cell_type": "markdown",
   "metadata": {},
   "source": [
    "### Solve with Petter's recursion"
   ]
  },
  {
   "cell_type": "code",
   "execution_count": 9,
   "metadata": {},
   "outputs": [
    {
     "name": "stdout",
     "output_type": "stream",
     "text": [
      "MDP: 16 inputs \"u_d\" --> 15678 states \"(((s, x_d), (samplelabel1, samplelabel2)), mu)\"\n",
      "iteration 0, time 4.05311584473e-06\n",
      "iteration 1, time 729.331240177\n",
      "iteration 2, time 729.379991055\n",
      "iteration 3, time 729.406613111\n",
      "iteration 4, time 729.429795027\n",
      "iteration 5, time 729.453698158\n",
      "iteration 6, time 729.475414038\n",
      "iteration 7, time 729.496597052\n",
      "iteration 8, time 729.51762104\n",
      "iteration 9, time 729.544834137\n",
      "iteration 10, time 729.570142984\n",
      "iteration 11, time 729.595479012\n",
      "iteration 12, time 729.619222164\n",
      "iteration 13, time 729.641448021\n",
      "iteration 14, time 729.664016008\n",
      "iteration 15, time 729.686784983\n",
      "iteration 16, time 729.709309101\n",
      "iteration 17, time 729.732248068\n",
      "iteration 18, time 729.76028204\n",
      "iteration 19, time 729.786061049\n",
      "iteration 20, time 729.809571028\n",
      "iteration 21, time 729.833001137\n",
      "iteration 22, time 729.856142998\n",
      "iteration 23, time 729.878211975\n",
      "iteration 24, time 729.90071106\n",
      "iteration 25, time 729.926759958\n",
      "iteration 26, time 729.952006102\n",
      "iteration 27, time 729.977637053\n",
      "iteration 28, time 730.001791954\n",
      "iteration 29, time 730.026512146\n",
      "iteration 30, time 730.050086021\n",
      "iteration 31, time 730.072556019\n",
      "iteration 32, time 730.096323967\n",
      "iteration 33, time 730.121526003\n",
      "iteration 34, time 730.146914005\n",
      "iteration 35, time 730.169559956\n",
      "iteration 36, time 730.194764137\n",
      "iteration 37, time 730.217856169\n",
      "iteration 38, time 730.242987156\n",
      "iteration 39, time 730.26761508\n",
      "iteration 40, time 730.293117046\n",
      "iteration 41, time 730.317059994\n",
      "iteration 42, time 730.340523005\n",
      "iteration 43, time 730.365152121\n",
      "iteration 44, time 730.387622118\n",
      "iteration 45, time 730.410367012\n",
      "iteration 46, time 730.433783054\n",
      "iteration 47, time 730.460577965\n",
      "iteration 48, time 730.483771086\n",
      "iteration 49, time 730.509123087\n",
      "iteration 50, time 730.532047987\n",
      "iteration 51, time 730.554486036\n",
      "iteration 52, time 730.583627939\n",
      "iteration 53, time 730.61048007\n",
      "iteration 54, time 730.637748957\n",
      "iteration 55, time 730.665688038\n",
      "iteration 56, time 730.689301014\n",
      "iteration 57, time 730.713459969\n",
      "iteration 58, time 730.736124992\n",
      "iteration 59, time 730.757995129\n",
      "iteration 60, time 730.781789064\n",
      "iteration 61, time 730.804259062\n",
      "iteration 62, time 730.827265024\n",
      "iteration 63, time 730.849846125\n",
      "iteration 64, time 730.873178005\n",
      "iteration 65, time 730.89558816\n",
      "iteration 66, time 730.918113947\n",
      "iteration 67, time 730.939100981\n",
      "iteration 68, time 730.96005702\n",
      "iteration 69, time 730.985574961\n",
      "iteration 70, time 731.007454157\n",
      "iteration 71, time 731.030267954\n",
      "iteration 72, time 731.053943157\n",
      "iteration 73, time 731.079982996\n",
      "iteration 74, time 731.103585005\n",
      "iteration 75, time 731.126170158\n",
      "finished after 75 iterations and 731.150174141s\n"
     ]
    }
   ],
   "source": [
    "import best.policy as bp\n",
    "from best.ltl import formula_to_mdp\n",
    "\n",
    "reload(bp)\n",
    "\n",
    "dfsa, init, final, _ = formula_to_mdp(formula)\n",
    "mdp_dfsa = ProductMDP(prod_mdp, dfsa, abstract_connection)\n",
    "print mdp_dfsa\n",
    "\n",
    "V, pol = mdp_dfsa.solve_reach(accept=lambda s: s[1] in final)\n",
    "\n",
    "pol_qn = pol.reshape( (dfsa.N, prod_mdp.N), order='F' )\n",
    "V_qn = V.reshape( (dfsa.N, prod_mdp.N), order='F' )\n",
    "\n",
    "pol_pn = bp.LTL_Policy(dfsa, list(init)[0], final, pol_qn, V_qn)"
   ]
  },
  {
   "cell_type": "markdown",
   "metadata": {},
   "source": [
    "### Solve with Sofie's recursion"
   ]
  },
  {
   "cell_type": "code",
   "execution_count": 29,
   "metadata": {},
   "outputs": [],
   "source": [
    "from best.bellman import reach_dfa\n",
    "\n",
    "dfsa, dfsa_init, dfsa_final, _ = formula_to_mdp(formula)\n",
    "\n",
    "act_inputs = np.array([[1 if q in map(dfsa.input, abstract_connection( prod_mdp.output(s) )) else 0 \n",
    "                        for s in range(prod_mdp.N)] for q in range(dfsa.N)])\n",
    "act_inputs[:,-1] = 0\n",
    "\n",
    "V, pol_mat, W = reach_dfa(act_inputs, prod_mdp, dfsa, dfsa_final, V=None, recursions=30, delta=0.0)\n",
    "pol_sof = LTL_Policy(dfsa, list(dfsa_init)[0], dfsa_final, pol_mat, V)"
   ]
  },
  {
   "cell_type": "markdown",
   "metadata": {},
   "source": [
    "### Define policy"
   ]
  },
  {
   "cell_type": "code",
   "execution_count": 30,
   "metadata": {},
   "outputs": [],
   "source": [
    "pol = pol_sof\n",
    "\n",
    "# define a policy on top of mdp policy\n",
    "def my_policy(x, sam1, sam2):\n",
    "    # x: current concrete state [x; y]\n",
    "    # sam1: current state of target1 {0,1,2}\n",
    "    # sam2: current state of target2 {0,1,2}\n",
    "    x = np.array(x).reshape((2,1))\n",
    "    \n",
    "    if regions['target1'].contains(x) and sam1 == 1 or \\\n",
    "       regions['target2'].contains(x) and sam2 == 1:\n",
    "        aps = set(['sample'])\n",
    "    else:\n",
    "        aps = set([])\n",
    "    pol.report_aps(aps)\n",
    "    \n",
    "    s_abstract = abstr.closest_abstract(x)\n",
    "    \n",
    "    s_tot = prod_mdp.global_state((s_abstract, (sam1, sam2) ))\n",
    "   \n",
    "    u_abstract, curr_val = pol.get_input(s_tot)\n",
    "    \n",
    "    return abstr.refine_input(u_abstract, s_abstract, x)\n",
    "\n",
    "def my_value(x):    \n",
    "    x = np.array(x).reshape((2,1))\n",
    "    \n",
    "    s_abstract = abstr.closest_abstract(x)\n",
    "    s_tot = prod_mdp.global_state( (s_abstract, (0,0)) )\n",
    "\n",
    "    return pol.V[list(dfsa_init)[0], s_tot]\n",
    "\n",
    "def my_policy_init(x):\n",
    "    u = my_policy(x, 0,0)\n",
    "    pol.reset()\n",
    "    return u\n"
   ]
  },
  {
   "cell_type": "code",
   "execution_count": 31,
   "metadata": {},
   "outputs": [
    {
     "name": "stdout",
     "output_type": "stream",
     "text": [
      "6. Plot concrete systen\n"
     ]
    },
    {
     "data": {
      "text/plain": [
       "<matplotlib.quiver.Quiver at 0x7f810a82e990>"
      ]
     },
     "execution_count": 31,
     "metadata": {},
     "output_type": "execute_result"
    },
    {
     "data": {
      "image/png": "[encoded data removed]",
      "text/plain": [
       "<matplotlib.figure.Figure at 0x7f811cf94ad0>"
      ]
     },
     "metadata": {},
     "output_type": "display_data"
    }
   ],
   "source": [
    "print('6. Plot concrete systen')\n",
    "fig = plt.figure()\n",
    "x_edge = np.linspace(-15,15,50)\n",
    "x_del = np.diff(x_edge).max()\n",
    "y_edge = np.linspace(-15,15,50)\n",
    "y_del = np.diff(y_edge).max()\n",
    "\n",
    "xi, yi = np.meshgrid(x_edge[:-1]+x_del/2,y_edge[:-1]+y_del/2)\n",
    "xi = xi.flatten()\n",
    "yi = yi.flatten()\n",
    "\n",
    "values = np.array([my_value((x,y)) for (x,y) in zip(xi, yi)])\n",
    "\n",
    "\n",
    "plt.pcolor(x_edge, y_edge, values.reshape((49,49)))\n",
    "plt.colorbar()\n",
    "plt.xlim(np.array([-15,15]))\n",
    "plt.ylim(np.array([-15,15]))\n",
    "\n",
    "x_edge = np.linspace(-15,15,20)\n",
    "x_del = np.diff(x_edge).max()\n",
    "y_edge = np.linspace(-15,15,20)\n",
    "y_del = np.diff(y_edge).max()\n",
    "\n",
    "xi, yi = np.meshgrid(x_edge[:-1]+x_del/2,y_edge[:-1]+y_del/2)\n",
    "xi = xi.flatten()\n",
    "yi = yi.flatten()\n",
    "\n",
    "delx_fun = lambda x,y: sys_lti.a.dot(np.array([[x], [y]])) + sys_lti.b.dot(my_policy_init((x,y))) - np.array([[x], [y]])\n",
    "\n",
    "delx = np.hstack([delx_fun(x,y) for (x,y) in zip(xi, yi)])\n",
    "\n",
    "x_tr = (np.block([[xi.flatten()], [yi.flatten()]]))\n",
    "\n",
    "#plt.quiver(xi.flatten(), yi.flatten(),u[0],u[1])\n",
    "plt.quiver(xi, yi, delx[0], delx[1], color = 'r')\n"
   ]
  },
  {
   "cell_type": "code",
   "execution_count": null,
   "metadata": {},
   "outputs": [],
   "source": [
    "pol_sof.V[1,:][prod_mdp.global_state((200, (0,0)) )]"
   ]
  },
  {
   "cell_type": "code",
   "execution_count": null,
   "metadata": {},
   "outputs": [],
   "source": [
    "print prod_mdp.global_state((200, (0,0)) )\n",
    "print prod_mdp.local_states(1800)\n",
    "print prod_mdp.output(1800)"
   ]
  },
  {
   "cell_type": "code",
   "execution_count": null,
   "metadata": {},
   "outputs": [],
   "source": [
    "list(dfsa_init)[0],"
   ]
  },
  {
   "cell_type": "code",
   "execution_count": null,
   "metadata": {},
   "outputs": [],
   "source": []
  }
 ],
 "metadata": {
  "kernelspec": {
   "display_name": "Python 2",
   "language": "python",
   "name": "python2"
  },
  "language_info": {
   "codemirror_mode": {
    "name": "ipython",
    "version": 2
   },
   "file_extension": ".py",
   "mimetype": "text/x-python",
   "name": "python",
   "nbconvert_exporter": "python",
   "pygments_lexer": "ipython2",
   "version": "2.7.12"
  }
 },
 "nbformat": 4,
 "nbformat_minor": 2
}
