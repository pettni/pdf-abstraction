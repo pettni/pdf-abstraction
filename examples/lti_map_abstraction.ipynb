{
 "cells": [
  {
   "cell_type": "code",
   "execution_count": 1,
   "metadata": {},
   "outputs": [
    {
     "data": {
      "text/plain": [
       "<polytope.polytope.Polytope at 0x7fb5975a1410>"
      ]
     },
     "execution_count": 1,
     "metadata": {},
     "output_type": "execute_result"
    }
   ],
   "source": [
    "import numpy as np\n",
    "import polytope as pc\n",
    "from itertools import combinations\n",
    "\n",
    "import matplotlib.pyplot as plt\n",
    "\n",
    "import sys\n",
    "sys.path.append('../')\n",
    "\n",
    "from best.abstraction import LTIAbstraction\n",
    "from best.mdp import MDP, ProductMDP, ParallelMDP\n",
    "from best.ltl import solve_ltl_cosafe\n",
    "\n",
    "from Models.Linear import LTI\n",
    "\n",
    "# Define the linear time invariant system\n",
    "#A = np.array([[0,-0.8572],[0.1,0.5]])\n",
    "dim = 2\n",
    "A = np.eye(2) #np.array([[.9,-0.32],[0.1,0.9]])\n",
    "B = np.eye(dim)  #array([[1], [0.1]])\n",
    "W = np.array([[0,0],[0,0.4]]) #2*Tr.dot(np.eye(dim)).dot(Tr)  # noise on transitions\n",
    " \n",
    "# Accuracy\n",
    "C = np.array([[1, 0],[0,1]])  # defines metric for error (||y_finite-y||< epsilon with y= cx   )\n",
    "\n",
    "sys_lti = LTI(A, B, C, None, W=W)  # LTI system with   D = None\n",
    "sys_lti.setU(pc.box2poly(np.kron(np.ones((sys_lti.m, 1)), np.array([[-1, 1]])))) # continuous set of inputs\n",
    "sys_lti.setX(pc.box2poly(np.kron(np.ones((sys_lti.dim, 1)), np.array([[-10, 10]])))) # X space"
   ]
  },
  {
   "cell_type": "code",
   "execution_count": 2,
   "metadata": {},
   "outputs": [],
   "source": [
    "# Define regions of interest for the labeling\n",
    "target_regs = dict()\n",
    "target_regs['target1'] = pc.box2poly(np.array([[-9, -6], [6, 9]]))\n",
    "target_regs['target2'] = pc.box2poly(np.array([[6, 9], [6, 9]]))"
   ]
  },
  {
   "cell_type": "code",
   "execution_count": 3,
   "metadata": {},
   "outputs": [],
   "source": [
    "## step 1: tune gridding ratio (find optimal horizontal d_1, and vertical d_2)\n",
    "# currently only available for 2D\n",
    "# d_opt, d_vals, eps_values = tune_dratio(sys_n)\n",
    "\n",
    "d_opt = np.array([[ 0.69294],\n",
    "                  [ 0.721  ]])\n",
    "\n",
    "# d = np.array([[1.5], [1.5]])\n",
    "d = d_opt"
   ]
  },
  {
   "cell_type": "markdown",
   "metadata": {},
   "source": [
    "### Construct map MDP"
   ]
  },
  {
   "cell_type": "code",
   "execution_count": 4,
   "metadata": {},
   "outputs": [
    {
     "name": "stdout",
     "output_type": "stream",
     "text": [
      "MDP: 4 inputs \"(meas1, meas2)\" --> 9 states \"(samplelabel1, samplelabel2)\"\n"
     ]
    }
   ],
   "source": [
    "p1 = 0.5\n",
    "p2 = 0.6\n",
    "\n",
    "T0 = np.eye(3)\n",
    "T1 = np.array([[0,p1,1-p1], [0,1,0], [0,0,1]])\n",
    "T2 = np.array([[0,p2,1-p2], [0,1,0], [0,0,1]])\n",
    "\n",
    "def output_fcn(n):\n",
    "    if n == 0:\n",
    "        return 'init'    # label unknown\n",
    "    if n == 1:\n",
    "        return 'sample'  # there is a sample\n",
    "    if n == 2:\n",
    "        return 'empty'   # no sample\n",
    "    \n",
    "map1 = MDP([T0, T1], input_name='meas1',\n",
    "                     output_fcn=output_fcn, output_name='samplelabel1')\n",
    "\n",
    "map2 = MDP([T0, T2], input_name='meas2',\n",
    "                     output_fcn=output_fcn, output_name='samplelabel2')\n",
    "\n",
    "map_mdp = ParallelMDP([map1, map2])\n",
    "print map_mdp"
   ]
  },
  {
   "cell_type": "markdown",
   "metadata": {},
   "source": [
    "### Construct abstraction"
   ]
  },
  {
   "cell_type": "code",
   "execution_count": 5,
   "metadata": {},
   "outputs": [
    {
     "name": "stdout",
     "output_type": "stream",
     "text": [
      "Warning no inputspace given\n",
      "Warning no state space given\n",
      "status: optimal\n",
      "optimal epsilon 1.00000639831\n",
      "optimal M [[ 1.  0.]\n",
      " [ 0.  1.]]\n",
      "Optimal K [[ 0. -1.]\n",
      " [-1.  0.]]\n",
      "('check norm of rows', matrix([[ 0.,  1.],\n",
      "        [-1.,  0.],\n",
      "        [ 0., -1.],\n",
      "        [ 1.,  0.]]))\n",
      "('check norm of rows', matrix([[ 0.,  1.],\n",
      "        [-1.,  0.],\n",
      "        [ 0., -1.],\n",
      "        [ 1.,  0.]]))\n",
      "MDP: 16 inputs \"u_d\" --> 871 states \"(s, x_d)\"\n"
     ]
    },
    {
     "data": {
      "image/png": "[encoded data removed]",
      "text/plain": [
       "<matplotlib.figure.Figure at 0x7fb595c33650>"
      ]
     },
     "metadata": {},
     "output_type": "display_data"
    }
   ],
   "source": [
    "# mdp_grid = sys_n.abstract_io(d, un=4, verbose=False)  # do the gridding\n",
    "# mdp_grid.map_dfa_inputs(dict_input2prop, regions)\n",
    "\n",
    "abstr = LTIAbstraction(sys_lti, d, un=4)\n",
    "abstr.set_regions(target_regs)\n",
    "\n",
    "in_regions, nin_regions = abstr.map_dfa_inputs()\n",
    "\n",
    "fig = plt.figure()\n",
    "abstr.plot(fig)\n",
    "print abstr.mdp"
   ]
  },
  {
   "cell_type": "markdown",
   "metadata": {},
   "source": [
    "### Connect abstraction and map"
   ]
  },
  {
   "cell_type": "code",
   "execution_count": 6,
   "metadata": {},
   "outputs": [
    {
     "name": "stdout",
     "output_type": "stream",
     "text": [
      "MDP: 16 inputs \"u_d\" --> 7839 states \"((s, x_d), (samplelabel1, samplelabel2))\"\n"
     ]
    }
   ],
   "source": [
    "# mapping (s, x_d) -> (meas1, meas2)\n",
    "def map_connection(s_xd):\n",
    "    if s_xd[0] == abstr.mdp.N-1:\n",
    "        return set([(0,0)])\n",
    "    \n",
    "    x_d = np.array(s_xd[1]).reshape((2,1))\n",
    "        \n",
    "    ret = [0 for i in range(len(target_regs))]\n",
    "    for i, poly in enumerate(target_regs.itervalues()):\n",
    "        if poly.contains(x_d):\n",
    "            ret[i] = 1\n",
    "    return set([tuple(ret)])\n",
    "\n",
    "prod_mdp = ProductMDP(abstr.mdp, map_mdp, map_connection)\n",
    "print prod_mdp"
   ]
  },
  {
   "cell_type": "markdown",
   "metadata": {},
   "source": [
    "### Set up LTL problem"
   ]
  },
  {
   "cell_type": "code",
   "execution_count": 8,
   "metadata": {},
   "outputs": [
    {
     "name": "stdout",
     "output_type": "stream",
     "text": [
      "set([('sample',)])\n",
      "set([()])\n",
      "set([('sample',)])\n",
      "set([()])\n"
     ]
    }
   ],
   "source": [
    "from best import subsets\n",
    "\n",
    "formula = '( F sample )'\n",
    "\n",
    "def get_regions(s):\n",
    "    '''compute subsets of possible regions corresponding to abstract state'''   \n",
    "    if s == abstr.mdp.N-1:\n",
    "        return set([ (), ])\n",
    "    \n",
    "    know_in = []\n",
    "    know_out = []\n",
    "    for reg in target_regs.keys():\n",
    "        if in_regions[reg][s] == 0:\n",
    "            know_out.append(reg)\n",
    "        if nin_regions[reg][s] == 0:\n",
    "            know_in.append(reg)\n",
    "    uncertain = list(set(target_regs.keys()) - set(know_in) - set(know_out))\n",
    "    return set([ tuple(know_in + unc) for unc in subsets(uncertain)])  \n",
    "\n",
    "# map ((s, xd), (sample1, sample2)) -> 2^{sample}\n",
    "def abstract_connection(s_xd_sample):\n",
    "    s = s_xd_sample[0][0]\n",
    "    regs = get_regions(s)\n",
    "    \n",
    "    sample1 = s_xd_sample[1][0]\n",
    "    sample2 = s_xd_sample[1][1]\n",
    "\n",
    "    if all('target1' in reg for reg in regs) and sample1 == 'sample' or \\\n",
    "       all('target2' in reg for reg in regs) and sample2 == 'sample':\n",
    "        return set([tuple(['sample'])])\n",
    "    else:\n",
    "        return set([(), ])\n",
    "\n",
    "print abstract_connection( ( (728, (_, _)), ('sample', 'empty') ) )\n",
    "print abstract_connection( ( (728, (_, _)), ('empty', 'empty') ) )\n",
    "\n",
    "print abstract_connection( ( (749, (_, _)), ('empty', 'sample') ) )\n",
    "print abstract_connection( ( (749, (_, _)), ('empty', 'empty') ) )"
   ]
  },
  {
   "cell_type": "markdown",
   "metadata": {},
   "source": [
    "### Solve recursion"
   ]
  },
  {
   "cell_type": "code",
   "execution_count": 9,
   "metadata": {},
   "outputs": [],
   "source": [
    "pol = solve_ltl_cosafe(prod_mdp, formula, abstract_connection, algorithm='sofie')"
   ]
  },
  {
   "cell_type": "markdown",
   "metadata": {},
   "source": [
    "### Define policy"
   ]
  },
  {
   "cell_type": "code",
   "execution_count": 15,
   "metadata": {},
   "outputs": [],
   "source": [
    "# define a policy on top of mdp policy\n",
    "def my_policy(x, mapstate):\n",
    "    # x: current concrete state [x; y]\n",
    "    # sam1: current state of target1 {0,1,2}\n",
    "    # sam2: current state of target2 {0,1,2}\n",
    "    x = np.array(x).reshape((2,1))\n",
    "    \n",
    "    if any(poly.contains(x) and mapstate[i] == 1 for (i, poly) in enumerate(target_regs.itervalues())):\n",
    "        aps = set(['sample'])\n",
    "    else:\n",
    "        aps = set([])\n",
    "        \n",
    "    pol.report_aps(aps)\n",
    "    \n",
    "    s_abstract = abstr.closest_abstract(x)\n",
    "    \n",
    "    s_tot = prod_mdp.global_state((s_abstract, mapstate ))\n",
    "   \n",
    "    u_abstract, curr_val = pol.get_input(s_tot)\n",
    "    \n",
    "    return abstr.refine_input(u_abstract, s_abstract, x)\n",
    "\n",
    "def my_value(x):    \n",
    "    x = np.array(x).reshape((2,1))\n",
    "    \n",
    "    s_abstract = abstr.closest_abstract(x)\n",
    "    s_tot = prod_mdp.global_state( (s_abstract, (0,0)) )\n",
    "\n",
    "    _, val = pol.get_input(s_tot)\n",
    "    return val\n",
    "\n",
    "def my_policy_init(x):\n",
    "    u = my_policy(x, (0,0))\n",
    "    pol.reset()\n",
    "    return u\n"
   ]
  },
  {
   "cell_type": "markdown",
   "metadata": {},
   "source": [
    "### Plot value function"
   ]
  },
  {
   "cell_type": "code",
   "execution_count": 16,
   "metadata": {},
   "outputs": [
    {
     "data": {
      "text/plain": [
       "<matplotlib.quiver.Quiver at 0x7fb5763eff10>"
      ]
     },
     "execution_count": 16,
     "metadata": {},
     "output_type": "execute_result"
    },
    {
     "data": {
      "image/png": "[encoded data removed]",
      "text/plain": [
       "<matplotlib.figure.Figure at 0x7fb563474950>"
      ]
     },
     "metadata": {},
     "output_type": "display_data"
    }
   ],
   "source": [
    "fig = plt.figure()\n",
    "x_edge = np.linspace(-15,15,50)\n",
    "x_del = np.diff(x_edge).max()\n",
    "y_edge = np.linspace(-15,15,50)\n",
    "y_del = np.diff(y_edge).max()\n",
    "\n",
    "xi, yi = np.meshgrid(x_edge[:-1]+x_del/2,y_edge[:-1]+y_del/2)\n",
    "xi = xi.flatten()\n",
    "yi = yi.flatten()\n",
    "\n",
    "values = np.array([my_value((x,y)) for (x,y) in zip(xi, yi)])\n",
    "\n",
    "plt.pcolor(x_edge, y_edge, values.reshape((49,49)))\n",
    "plt.colorbar()\n",
    "plt.xlim(np.array([-15,15]))\n",
    "plt.ylim(np.array([-15,15]))\n",
    "\n",
    "x_edge = np.linspace(-15,15,20)\n",
    "x_del = np.diff(x_edge).max()\n",
    "y_edge = np.linspace(-15,15,20)\n",
    "y_del = np.diff(y_edge).max()\n",
    "\n",
    "xi, yi = np.meshgrid(x_edge[:-1]+x_del/2,y_edge[:-1]+y_del/2)\n",
    "xi = xi.flatten()\n",
    "yi = yi.flatten()\n",
    "\n",
    "delx_fun = lambda x,y: sys_lti.a.dot(np.array([[x], [y]])) + sys_lti.b.dot(my_policy_init((x,y))) - np.array([[x], [y]])\n",
    "\n",
    "delx = np.hstack([delx_fun(x,y) for (x,y) in zip(xi, yi)])\n",
    "\n",
    "x_tr = (np.block([[xi.flatten()], [yi.flatten()]]))\n",
    "\n",
    "#plt.quiver(xi.flatten(), yi.flatten(),u[0],u[1])\n",
    "plt.quiver(xi, yi, delx[0], delx[1], color = 'r')\n"
   ]
  },
  {
   "cell_type": "markdown",
   "metadata": {},
   "source": [
    "### Run a simulation"
   ]
  },
  {
   "cell_type": "code",
   "execution_count": 19,
   "metadata": {},
   "outputs": [
    {
     "name": "stdout",
     "output_type": "stream",
     "text": [
      "Matrix is singular and may not have a square root.\n",
      "reached\n",
      "reached\n",
      "reached\n",
      "reached\n",
      "reached\n",
      "reached\n"
     ]
    },
    {
     "data": {
      "text/plain": [
       "Text(0,0.5,u'x_2')"
      ]
     },
     "execution_count": 19,
     "metadata": {},
     "output_type": "execute_result"
    },
    {
     "data": {
      "image/png": "[encoded data removed]",
      "text/plain": [
       "<matplotlib.figure.Figure at 0x7fb5633fb0d0>"
      ]
     },
     "metadata": {},
     "output_type": "display_data"
    }
   ],
   "source": [
    "import scipy.linalg as scla\n",
    "import matplotlib\n",
    "\n",
    "np.random.seed(4)\n",
    "\n",
    "time = 50\n",
    "fig = plt.figure()\n",
    "ax = fig.add_subplot(111)\n",
    "\n",
    "realmap = [1, 2]    # sample at target1, not at target2\n",
    "\n",
    "Wsqrt = scla.sqrtm(sys_lti.W)\n",
    "for x0 in (np.array([[-9],[-4]]),np.array([[9],[-9]])):\n",
    "    for repeating in range(3):\n",
    "        pol.reset()\n",
    "        mapstate = [0, 0]\n",
    "        xx = x0\n",
    "        \n",
    "        for t in range(time): \n",
    "            # current state\n",
    "            xt = xx[:,-1].reshape(2,1)\n",
    "            # update map state\n",
    "            for i, poly in enumerate(target_regs.itervalues()):\n",
    "                if poly.contains(xt):\n",
    "                    mapstate[i] = realmap[i]\n",
    "            # next state\n",
    "            ut = my_policy(xt, mapstate)\n",
    "            wt = np.random.normal(0,1,size=(2,1))\n",
    "            # update state\n",
    "            xt1 = sys_lti.a.dot(xt)+sys_lti.b.dot(ut) + np.array(Wsqrt).dot(wt)\n",
    "\n",
    "            xx = np.hstack([xx, xt1])\n",
    "\n",
    "            if pol.finished() :\n",
    "                print('reached')\n",
    "                break\n",
    "                \n",
    "        if not pol.finished():\n",
    "            print('not reached')\n",
    "            \n",
    "        plt.plot(xx[0,:],xx[1,:])\n",
    "        plt.scatter(xx[0,:],xx[1,:], label='Finite states', color='k', s=10, marker=\"o\")\n",
    "\n",
    "# plot regions\n",
    "for poly in target_regs.itervalues():\n",
    "    V = pc.extreme(poly)\n",
    "    ax.add_patch(matplotlib.patches.Polygon(V))\n",
    "    \n",
    "plt.xlim(np.array([-15,15]))\n",
    "plt.ylim(np.array([-15,15]))\n",
    "\n",
    "plt.xlabel('x_1') \n",
    "plt.ylabel('x_2') \n"
   ]
  },
  {
   "cell_type": "code",
   "execution_count": null,
   "metadata": {},
   "outputs": [],
   "source": []
  }
 ],
 "metadata": {
  "kernelspec": {
   "display_name": "Python 2",
   "language": "python",
   "name": "python2"
  },
  "language_info": {
   "codemirror_mode": {
    "name": "ipython",
    "version": 2
   },
   "file_extension": ".py",
   "mimetype": "text/x-python",
   "name": "python",
   "nbconvert_exporter": "python",
   "pygments_lexer": "ipython2",
   "version": "2.7.12"
  }
 },
 "nbformat": 4,
 "nbformat_minor": 2
}
