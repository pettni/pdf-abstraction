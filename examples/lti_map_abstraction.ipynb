{
 "cells": [
  {
   "cell_type": "code",
   "execution_count": 1,
   "metadata": {},
   "outputs": [],
   "source": [
    "import numpy as np\n",
    "import polytope as pc\n",
    "from itertools import combinations\n",
    "from collections import OrderedDict\n",
    "\n",
    "import matplotlib.pyplot as plt\n",
    "from matplotlib import patches\n",
    "\n",
    "import sys\n",
    "sys.path.append('../')\n",
    "\n",
    "from best.abstraction import LTIAbstraction\n",
    "from best.mdp import MDP, ProductMDP, ParallelMDP\n",
    "from best.ltl import solve_ltl_cosafe\n",
    "\n",
    "from Models.Linear import LTI\n",
    "\n",
    "# Define the linear time invariant system\n",
    "#A = np.array([[0,-0.8572],[0.1,0.5]])\n",
    "dim = 2\n",
    "A = np.eye(2) #np.array([[.9,-0.32],[0.1,0.9]])\n",
    "B = np.eye(dim)  #array([[1], [0.1]])\n",
    "W = np.array([[0,0],[0,0.4]]) #2*Tr.dot(np.eye(dim)).dot(Tr)  # noise on transitions\n",
    " \n",
    "# Accuracy\n",
    "C = np.array([[1, 0],[0,1]])  # defines metric for error (||y_finite-y||< epsilon with y= cx   )\n",
    "\n",
    "sys_lti = LTI(A, B, C, None, W=W)  # LTI system with   D = None\n",
    "sys_lti.setU(pc.box2poly(np.kron(np.ones((sys_lti.m, 1)), np.array([[-1, 1]])))) # continuous set of inputs\n",
    "sys_lti.setX(pc.box2poly(np.kron(np.ones((sys_lti.dim, 1)), np.array([[-10, 10]])))) # X space\n",
    "\n",
    "# How far away do we detect labels\n",
    "sight_distance = 2"
   ]
  },
  {
   "cell_type": "code",
   "execution_count": 2,
   "metadata": {},
   "outputs": [],
   "source": [
    "# Define regions of interest for the labeling\n",
    "regions = OrderedDict()\n",
    "regions['target1'] = pc.box2poly(np.array([[-9, -6], [6, 9]]))\n",
    "regions['target2'] = pc.box2poly(np.array([[6, 9], [6, 9]]))\n",
    "regions['obstacle1'] = pc.box2poly(np.array([[0, 2], [-5, 2]]))\n",
    "regions['obstacle2'] = pc.box2poly(np.array([[0, 2], [3, 10]]))\n",
    "\n",
    "def close(poly, point, distance):\n",
    "    # returns true if point within distance of poly\n",
    "    return np.all(poly.A.dot(point.flatten()) < poly.b + distance)"
   ]
  },
  {
   "cell_type": "code",
   "execution_count": 3,
   "metadata": {},
   "outputs": [],
   "source": [
    "## step 1: tune gridding ratio (find optimal horizontal d_1, and vertical d_2)\n",
    "# currently only available for 2D\n",
    "# d_opt, d_vals, eps_values = tune_dratio(sys_n)\n",
    "\n",
    "d_opt = np.array([[ 0.69294],\n",
    "                  [ 0.721  ]])\n",
    "\n",
    "# d = np.array([[1.5], [1.5]])\n",
    "d = d_opt"
   ]
  },
  {
   "cell_type": "markdown",
   "metadata": {},
   "source": [
    "### Construct map MDP"
   ]
  },
  {
   "cell_type": "code",
   "execution_count": 4,
   "metadata": {},
   "outputs": [
    {
     "name": "stdout",
     "output_type": "stream",
     "text": [
      "MDP: 16 inputs \"(meas0, meas1, meas2, meas3)\" --> 81 outputs \"(label0, label1, label2, label3)\"\n"
     ]
    }
   ],
   "source": [
    "def target_output(n):\n",
    "    if n == 0:\n",
    "        return 'init'     # label unknown\n",
    "    if n == 1:\n",
    "        return 'true'     # label true\n",
    "    if n == 2:\n",
    "        return 'false'    # label false\n",
    "\n",
    "# label prior probabilities\n",
    "p_list = [0.5, 0.6, 0.1, 0.3]\n",
    "\n",
    "mdp_list = [MDP([np.eye(3), np.array([[0,p,1-p], [0,1,0], [0,0,1]])], \n",
    "                input_name='meas{}'.format(i),\n",
    "                output_fcn=target_output,\n",
    "                output_name='label{}'.format(i))\n",
    "            for (i, p) in enumerate(p_list)]\n",
    "\n",
    "map_mdp = ParallelMDP(mdp_list)\n",
    "print map_mdp"
   ]
  },
  {
   "cell_type": "markdown",
   "metadata": {},
   "source": [
    "### Construct abstraction"
   ]
  },
  {
   "cell_type": "code",
   "execution_count": 5,
   "metadata": {},
   "outputs": [
    {
     "name": "stdout",
     "output_type": "stream",
     "text": [
      "Warning no inputspace given\n",
      "Warning no state space given\n",
      "status: optimal\n",
      "optimal epsilon 1.00000639831\n",
      "optimal M [[ 1.  0.]\n",
      " [ 0.  1.]]\n",
      "Optimal K [[ 0. -1.]\n",
      " [-1.  0.]]\n",
      "('check norm of rows', matrix([[ 0.,  1.],\n",
      "        [-1.,  0.],\n",
      "        [ 0., -1.],\n",
      "        [ 1.,  0.]]))\n",
      "('check norm of rows', matrix([[ 0.,  1.],\n",
      "        [-1.,  0.],\n",
      "        [ 0., -1.],\n",
      "        [ 1.,  0.]]))\n",
      "('check norm of rows', matrix([[ 0.,  1.],\n",
      "        [-1.,  0.],\n",
      "        [ 0., -1.],\n",
      "        [ 1.,  0.]]))\n",
      "('check norm of rows', matrix([[ 0.,  1.],\n",
      "        [-1.,  0.],\n",
      "        [ 0., -1.],\n",
      "        [ 1.,  0.]]))\n",
      "MDP: 9 inputs \"u_d\" --> 871 outputs \"(s, x_d)\"\n",
      "nnz: 176532, sparsity: 0.0258550047607\n"
     ]
    },
    {
     "data": {
      "image/png": "[encoded data removed]",
      "text/plain": [
       "<matplotlib.figure.Figure at 0x7f58f0756c50>"
      ]
     },
     "metadata": {},
     "output_type": "display_data"
    }
   ],
   "source": [
    "# mdp_grid = sys_n.abstract_io(d, un=4, verbose=False)  # do the gridding\n",
    "# mdp_grid.map_dfa_inputs(dict_input2prop, regions)\n",
    "\n",
    "abstr = LTIAbstraction(sys_lti, d, un=3)\n",
    "abstr.set_regions(regions)\n",
    "\n",
    "in_regions, nin_regions = abstr.map_dfa_inputs()\n",
    "\n",
    "fig = plt.figure()\n",
    "ax0 = fig.add_subplot(111)\n",
    "abstr.plot(ax0)\n",
    "\n",
    "# plot regions\n",
    "for poly in regions.itervalues():\n",
    "    V = pc.extreme(poly)\n",
    "    ax0.add_patch(patches.Polygon(V))\n",
    "\n",
    "print abstr.mdp\n",
    "print 'nnz: {}, sparsity: {}'.format(abstr.mdp.nnz(), abstr.mdp.sparsity())"
   ]
  },
  {
   "cell_type": "markdown",
   "metadata": {},
   "source": [
    "### Connect abstraction and map"
   ]
  },
  {
   "cell_type": "code",
   "execution_count": 6,
   "metadata": {},
   "outputs": [
    {
     "name": "stdout",
     "output_type": "stream",
     "text": [
      "MDP: 9 inputs \"u_d\" --> 70551 outputs \"((s, x_d), (label0, label1, label2, label3))\"\n"
     ]
    }
   ],
   "source": [
    "# mapping (s, x_d) -> 2^2^(meas1, meas2, meas3)\n",
    "def map_connection(s_xd):\n",
    "    if s_xd[0] == abstr.mdp.N-1:\n",
    "        return set([(0,0,0,0)])\n",
    "    \n",
    "    x_d = np.array(s_xd[1]).reshape((2,1))\n",
    "        \n",
    "    mapstate = [0 for i in range(len(regions))]\n",
    "    for i, poly in enumerate(regions.values()):\n",
    "        if close(poly, x_d, sight_distance):\n",
    "            mapstate[i] = 1\n",
    "    return set([tuple(mapstate)])\n",
    "\n",
    "prod_mdp = abstr.mdp.product(map_mdp, map_connection)\n",
    "print prod_mdp"
   ]
  },
  {
   "cell_type": "markdown",
   "metadata": {},
   "source": [
    "### Set up LTL problem"
   ]
  },
  {
   "cell_type": "code",
   "execution_count": 7,
   "metadata": {},
   "outputs": [
    {
     "name": "stdout",
     "output_type": "stream",
     "text": [
      "obstacle:  set([('obstacle',)])\n",
      "no obstacle:  set([()])\n",
      "sample:  set([('sample',)])\n",
      "no sample:  set([()])\n"
     ]
    }
   ],
   "source": [
    "from best import subsets\n",
    "\n",
    "formula = '( F sample ) & ( ! obstacle U sample )'\n",
    "\n",
    "def get_regions(s):\n",
    "    '''compute subsets of possible regions corresponding to abstract state'''   \n",
    "    if s == abstr.mdp.N-1:\n",
    "        return set([ (), ])\n",
    "    \n",
    "    know_in = []\n",
    "    know_out = []\n",
    "    for reg in regions.keys():\n",
    "        if in_regions[reg][s] == 0:\n",
    "            know_out.append(reg)\n",
    "        if nin_regions[reg][s] == 0:\n",
    "            know_in.append(reg)\n",
    "    uncertain = list(set(regions.keys()) - set(know_in) - set(know_out))\n",
    "    return set([ tuple(know_in + unc) for unc in subsets(uncertain)])  \n",
    "\n",
    "# map ((s, xd), (label1, label2, label3)) -> 2^2^{sample, obstacle}\n",
    "def abstract_connection(s_xd_lbls):\n",
    "    s = s_xd_lbls[0][0]\n",
    "    current_regs = get_regions(s)\n",
    "    \n",
    "    lbl_t1  = s_xd_lbls[1][0]\n",
    "    lbl_t2  = s_xd_lbls[1][1]\n",
    "    lbl_ob1 = s_xd_lbls[1][2]\n",
    "    lbl_ob2 = s_xd_lbls[1][3]\n",
    "\n",
    "    ret = []\n",
    "    \n",
    "    if all('target1' in reg for reg in current_regs) and lbl_t1 == 'true' or \\\n",
    "       all('target2' in reg for reg in current_regs) and lbl_t2 == 'true':\n",
    "        # we are in target region and a sample exists\n",
    "        ret.append('sample')\n",
    "        \n",
    "    if any('obstacle1' in reg for reg in current_regs) and lbl_ob1 == 'true' or \\\n",
    "       any('obstacle2' in reg for reg in current_regs) and lbl_ob2 == 'true':\n",
    "        # we are in obstacle region and there is an obstacle\n",
    "        ret.append('obstacle')\n",
    "        \n",
    "    return set([tuple(ret)])\n",
    "\n",
    "\n",
    "obs_state = abstr.closest_abstract(np.array([[2],[0]]))\n",
    "print 'obstacle: ', abstract_connection( ( (obs_state, (_, _)), ('init', 'init', 'true', 'init') ) )\n",
    "print 'no obstacle: ',abstract_connection( ( (obs_state, (_, _)), ('init', 'init', 'false', 'init') ) )\n",
    "\n",
    "target_state = abstr.closest_abstract(np.array([[7.5],[7.5]]))\n",
    "\n",
    "print 'sample: ', abstract_connection( ( (target_state, (_, _)), ('init', 'true', 'init', 'init') ) )\n",
    "print 'no sample: ', abstract_connection( ( (target_state, (_, _)), ('init', 'init', 'init', 'init') ) )\n"
   ]
  },
  {
   "cell_type": "markdown",
   "metadata": {},
   "source": [
    "### Solve recursion"
   ]
  },
  {
   "cell_type": "code",
   "execution_count": 8,
   "metadata": {},
   "outputs": [
    {
     "name": "stdout",
     "output_type": "stream",
     "text": [
      "iteration 0, time 0.000341176986694\n",
      "iteration 1, time 1.6556429863\n",
      "iteration 2, time 3.26583600044\n",
      "iteration 3, time 4.88960814476\n",
      "iteration 4, time 6.47667813301\n",
      "iteration 5, time 8.0818901062\n",
      "iteration 6, time 9.73331999779\n",
      "iteration 7, time 11.3186910152\n",
      "iteration 8, time 12.9149651527\n",
      "iteration 9, time 14.5428071022\n",
      "iteration 10, time 16.1472129822\n",
      "iteration 11, time 17.7427411079\n",
      "iteration 12, time 19.2951071262\n",
      "iteration 13, time 20.8330910206\n",
      "iteration 14, time 22.4485721588\n",
      "iteration 15, time 24.0216159821\n",
      "iteration 16, time 25.5859651566\n",
      "iteration 17, time 27.1326811314\n",
      "iteration 18, time 28.7281341553\n",
      "iteration 19, time 30.304336071\n",
      "iteration 20, time 31.9081091881\n",
      "iteration 21, time 33.4933431149\n",
      "iteration 22, time 35.0797691345\n",
      "iteration 23, time 36.6287469864\n",
      "iteration 24, time 38.184248209\n",
      "iteration 25, time 39.7222621441\n",
      "iteration 26, time 41.3202831745\n",
      "iteration 27, time 42.8878421783\n",
      "iteration 28, time 44.4593000412\n",
      "iteration 29, time 46.0306861401\n",
      "iteration 30, time 47.6543171406\n",
      "iteration 31, time 49.2622241974\n",
      "iteration 32, time 50.8468170166\n",
      "iteration 33, time 52.4677970409\n",
      "iteration 34, time 54.1197600365\n",
      "iteration 35, time 55.6961979866\n",
      "iteration 36, time 57.2522289753\n",
      "iteration 37, time 58.8128252029\n",
      "iteration 38, time 60.3608791828\n",
      "iteration 39, time 61.9678370953\n",
      "iteration 40, time 63.5110850334\n",
      "iteration 41, time 65.0926201344\n",
      "iteration 42, time 66.6871020794\n",
      "iteration 43, time 68.2546970844\n",
      "iteration 44, time 69.855312109\n",
      "iteration 45, time 71.4254469872\n",
      "iteration 46, time 72.9687211514\n",
      "iteration 47, time 74.5063591003\n",
      "iteration 48, time 76.0951900482\n",
      "iteration 49, time 77.6861491203\n",
      "iteration 50, time 79.2770471573\n",
      "iteration 51, time 80.8705871105\n",
      "iteration 52, time 82.4632511139\n",
      "iteration 53, time 84.0891730785\n",
      "iteration 54, time 85.6830351353\n",
      "iteration 55, time 87.2681801319\n",
      "iteration 56, time 88.818198204\n",
      "iteration 57, time 90.3496789932\n",
      "iteration 58, time 91.8903310299\n",
      "iteration 59, time 93.4229030609\n",
      "iteration 60, time 94.9644470215\n",
      "iteration 61, time 96.4987571239\n",
      "iteration 62, time 98.0463001728\n",
      "iteration 63, time 99.6481740475\n",
      "iteration 64, time 101.248099089\n",
      "iteration 65, time 102.919960022\n",
      "iteration 66, time 104.605308056\n",
      "iteration 67, time 106.171184063\n",
      "iteration 68, time 107.787628174\n",
      "iteration 69, time 109.371649027\n",
      "iteration 70, time 110.967983007\n",
      "iteration 71, time 112.599635124\n",
      "iteration 72, time 114.127237082\n",
      "iteration 73, time 115.713521004\n",
      "iteration 74, time 117.239799976\n",
      "iteration 75, time 118.78849721\n"
     ]
    }
   ],
   "source": [
    "pol = solve_ltl_cosafe(prod_mdp, formula, abstract_connection, algorithm='petter')"
   ]
  },
  {
   "cell_type": "markdown",
   "metadata": {},
   "source": [
    "### Define policy"
   ]
  },
  {
   "cell_type": "code",
   "execution_count": 9,
   "metadata": {},
   "outputs": [],
   "source": [
    "# define a policy on top of mdp policy\n",
    "def my_policy(x, mapstate):\n",
    "    # x: current concrete state [x; y]\n",
    "    x = np.array(x).reshape((2,1))\n",
    "    \n",
    "    lbl_t1 = mapstate[0]\n",
    "    lbl_t2 = mapstate[1]\n",
    "    lbl_ob1 = mapstate[2]\n",
    "    lbl_ob2 = mapstate[3]\n",
    "\n",
    "    aps = []\n",
    "    \n",
    "    if regions['target1'].contains(x) and lbl_t1 == 1 or \\\n",
    "       regions['target2'].contains(x) and lbl_t2 == 1:\n",
    "        # we are in target region and a sample exists\n",
    "        aps.append('sample')\n",
    "        \n",
    "    if regions['obstacle1'].contains(x) and lbl_ob1 == 1 or \\\n",
    "       regions['obstacle2'].contains(x) and lbl_ob2 == 1:\n",
    "        # we are in obstacle region and not sure that there is no obstacle\n",
    "        aps.append('obstacle')\n",
    "        \n",
    "    pol.report_aps(aps)\n",
    "    \n",
    "    s_abstract = abstr.closest_abstract(x)\n",
    "    \n",
    "    s_tot = prod_mdp.global_state((s_abstract, mapstate ))\n",
    "   \n",
    "    u_abstract, curr_val = pol.get_input(s_tot)\n",
    "    \n",
    "    if curr_val > 0 and u_abstract != -1:\n",
    "        return abstr.refine_input(u_abstract, s_abstract, x)\n",
    "    else:\n",
    "        return np.array([[0], [0]])\n",
    "\n",
    "def my_value(x):    \n",
    "    x = np.array(x).reshape((2,1))\n",
    "    \n",
    "    s_abstract = abstr.closest_abstract(x)\n",
    "    s_tot = prod_mdp.global_state( (s_abstract, (0,0,0,0)) )\n",
    "\n",
    "    _, val = pol.get_input(s_tot)\n",
    "    return val\n",
    "\n",
    "def my_policy_init(x):\n",
    "    u = my_policy(x, (0,0,0,0))\n",
    "    pol.reset()\n",
    "    return u\n",
    "\n",
    "pol.reset()"
   ]
  },
  {
   "cell_type": "markdown",
   "metadata": {},
   "source": [
    "### Plot value function"
   ]
  },
  {
   "cell_type": "code",
   "execution_count": 10,
   "metadata": {},
   "outputs": [
    {
     "data": {
      "text/plain": [
       "<matplotlib.quiver.Quiver at 0x7f59286e1550>"
      ]
     },
     "execution_count": 10,
     "metadata": {},
     "output_type": "execute_result"
    },
    {
     "data": {
      "image/png": "[encoded data removed]",
      "text/plain": [
       "<matplotlib.figure.Figure at 0x7f59288548d0>"
      ]
     },
     "metadata": {},
     "output_type": "display_data"
    }
   ],
   "source": [
    "fig = plt.figure()\n",
    "x_edge = np.linspace(-15,15,50)\n",
    "x_del = np.diff(x_edge).max()\n",
    "y_edge = np.linspace(-15,15,50)\n",
    "y_del = np.diff(y_edge).max()\n",
    "\n",
    "xi, yi = np.meshgrid(x_edge[:-1]+x_del/2,y_edge[:-1]+y_del/2)\n",
    "xi = xi.flatten()\n",
    "yi = yi.flatten()\n",
    "\n",
    "values = np.array([my_value((x,y)) for (x,y) in zip(xi, yi)])\n",
    "\n",
    "plt.pcolor(x_edge, y_edge, values.reshape((49,49)))\n",
    "plt.colorbar()\n",
    "plt.xlim(np.array([-15,15]))\n",
    "plt.ylim(np.array([-15,15]))\n",
    "\n",
    "x_edge = np.linspace(-15,15,20)\n",
    "x_del = np.diff(x_edge).max()\n",
    "y_edge = np.linspace(-15,15,20)\n",
    "y_del = np.diff(y_edge).max()\n",
    "\n",
    "xi, yi = np.meshgrid(x_edge[:-1]+x_del/2,y_edge[:-1]+y_del/2)\n",
    "xi = xi.flatten()\n",
    "yi = yi.flatten()\n",
    "\n",
    "delx_fun = lambda x,y: sys_lti.a.dot(np.array([[x], [y]])) + sys_lti.b.dot(my_policy_init((x,y))) - np.array([[x], [y]])\n",
    "\n",
    "delx = np.hstack([delx_fun(x,y) for (x,y) in zip(xi, yi)])\n",
    "\n",
    "x_tr = (np.block([[xi.flatten()], [yi.flatten()]]))\n",
    "\n",
    "plt.quiver(xi, yi, delx[0], delx[1], color = 'r')\n"
   ]
  },
  {
   "cell_type": "markdown",
   "metadata": {},
   "source": [
    "### Run a simulation"
   ]
  },
  {
   "cell_type": "code",
   "execution_count": 11,
   "metadata": {},
   "outputs": [
    {
     "name": "stdout",
     "output_type": "stream",
     "text": [
      "Matrix is singular and may not have a square root.\n",
      "reached\n",
      "reached\n",
      "not reached\n",
      "reached\n",
      "reached\n",
      "reached\n"
     ]
    },
    {
     "data": {
      "text/plain": [
       "Text(0,0.5,u'x_2')"
      ]
     },
     "execution_count": 11,
     "metadata": {},
     "output_type": "execute_result"
    },
    {
     "data": {
      "image/png": "[encoded data removed]",
      "text/plain": [
       "<matplotlib.figure.Figure at 0x7f5928617c50>"
      ]
     },
     "metadata": {},
     "output_type": "display_data"
    }
   ],
   "source": [
    "import scipy.linalg as scla\n",
    "import matplotlib\n",
    "\n",
    "np.random.seed(4)\n",
    "\n",
    "time = 70\n",
    "fig = plt.figure()\n",
    "ax = fig.add_subplot(111)\n",
    "\n",
    "# plot regions\n",
    "for poly in regions.itervalues():\n",
    "    V = pc.extreme(poly)\n",
    "    ax.add_patch(matplotlib.patches.Polygon(V))\n",
    "    \n",
    "realmap = [1, 2, 1, 2]   # true map state\n",
    "\n",
    "Wsqrt = scla.sqrtm(sys_lti.W)\n",
    "for xinit in range(-10, 11, 4):\n",
    "    pol.reset()\n",
    "    mapstate = [0, 0, 0, 0]\n",
    "    xx = np.array([[xinit],[-9]])\n",
    "\n",
    "    for t in range(time): \n",
    "        # current state\n",
    "        xt = xx[:,-1].reshape(2,1)\n",
    "        # reveal map if within distance\n",
    "        for i, poly in enumerate(regions.itervalues()):\n",
    "            if close(poly, xt, sight_distance):\n",
    "                mapstate[i] = realmap[i]\n",
    "        # next state\n",
    "        ut = my_policy(xt, mapstate)\n",
    "        wt = np.random.normal(0,1,size=(2,1))\n",
    "        # update state\n",
    "        xt1 = sys_lti.a.dot(xt)+sys_lti.b.dot(ut) + np.array(Wsqrt).dot(wt)\n",
    "\n",
    "        xx = np.hstack([xx, xt1])\n",
    "\n",
    "        if pol.finished() :\n",
    "            print('reached')\n",
    "            break\n",
    "\n",
    "    if not pol.finished():\n",
    "        print('not reached')\n",
    "\n",
    "    plt.plot(xx[0,:],xx[1,:])\n",
    "    plt.scatter(xx[0,:],xx[1,:], label='Finite states', color='k', s=10, marker=\"o\")\n",
    "\n",
    "plt.xlim(np.array([-15,15]))\n",
    "plt.ylim(np.array([-15,15]))\n",
    "\n",
    "plt.xlabel('x_1') \n",
    "plt.ylabel('x_2') \n"
   ]
  },
  {
   "cell_type": "code",
   "execution_count": null,
   "metadata": {},
   "outputs": [],
   "source": []
  }
 ],
 "metadata": {
  "kernelspec": {
   "display_name": "Python 2",
   "language": "python",
   "name": "python2"
  },
  "language_info": {
   "codemirror_mode": {
    "name": "ipython",
    "version": 2
   },
   "file_extension": ".py",
   "mimetype": "text/x-python",
   "name": "python",
   "nbconvert_exporter": "python",
   "pygments_lexer": "ipython2",
   "version": "2.7.12"
  }
 },
 "nbformat": 4,
 "nbformat_minor": 2
}
