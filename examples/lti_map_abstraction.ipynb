{
 "cells": [
  {
   "cell_type": "code",
   "execution_count": 1,
   "metadata": {},
   "outputs": [
    {
     "data": {
      "text/plain": [
       "<polytope.polytope.Polytope at 0x7f0717c52510>"
      ]
     },
     "execution_count": 1,
     "metadata": {},
     "output_type": "execute_result"
    }
   ],
   "source": [
    "import numpy as np\n",
    "import polytope as pc\n",
    "from itertools import combinations\n",
    "from collections import OrderedDict\n",
    "\n",
    "import matplotlib.pyplot as plt\n",
    "from matplotlib import patches\n",
    "\n",
    "import sys\n",
    "sys.path.append('../')\n",
    "\n",
    "from best.abstraction import LTIAbstraction\n",
    "from best.mdp import MDP, ProductMDP, ParallelMDP\n",
    "from best.ltl import solve_ltl_cosafe\n",
    "\n",
    "from Models.Linear import LTI\n",
    "\n",
    "# Define the linear time invariant system\n",
    "#A = np.array([[0,-0.8572],[0.1,0.5]])\n",
    "dim = 2\n",
    "A = np.eye(2) #np.array([[.9,-0.32],[0.1,0.9]])\n",
    "B = np.eye(dim)  #array([[1], [0.1]])\n",
    "W = np.array([[0,0],[0,0.4]]) #2*Tr.dot(np.eye(dim)).dot(Tr)  # noise on transitions\n",
    " \n",
    "# Accuracy\n",
    "C = np.array([[1, 0],[0,1]])  # defines metric for error (||y_finite-y||< epsilon with y= cx   )\n",
    "\n",
    "sys_lti = LTI(A, B, C, None, W=W)  # LTI system with   D = None\n",
    "sys_lti.setU(pc.box2poly(np.kron(np.ones((sys_lti.m, 1)), np.array([[-1, 1]])))) # continuous set of inputs\n",
    "sys_lti.setX(pc.box2poly(np.kron(np.ones((sys_lti.dim, 1)), np.array([[-10, 10]])))) # X space"
   ]
  },
  {
   "cell_type": "code",
   "execution_count": 2,
   "metadata": {},
   "outputs": [
    {
     "name": "stdout",
     "output_type": "stream",
     "text": [
      "target1\n",
      "target2\n",
      "obstacle1\n"
     ]
    }
   ],
   "source": [
    "# Define regions of interest for the labeling\n",
    "regions = OrderedDict()\n",
    "regions['target1'] = pc.box2poly(np.array([[-9, -6], [6, 9]]))\n",
    "regions['target2'] = pc.box2poly(np.array([[6, 9], [6, 9]]))\n",
    "regions['obstacle1'] = pc.box2poly(np.array([[0, 4], [-2, 2]]))\n",
    "\n",
    "for name in regions.keys():\n",
    "    print name"
   ]
  },
  {
   "cell_type": "code",
   "execution_count": 3,
   "metadata": {},
   "outputs": [],
   "source": [
    "## step 1: tune gridding ratio (find optimal horizontal d_1, and vertical d_2)\n",
    "# currently only available for 2D\n",
    "# d_opt, d_vals, eps_values = tune_dratio(sys_n)\n",
    "\n",
    "d_opt = np.array([[ 0.69294],\n",
    "                  [ 0.721  ]])\n",
    "\n",
    "# d = np.array([[1.5], [1.5]])\n",
    "d = d_opt"
   ]
  },
  {
   "cell_type": "markdown",
   "metadata": {},
   "source": [
    "### Construct map MDP"
   ]
  },
  {
   "cell_type": "code",
   "execution_count": 4,
   "metadata": {},
   "outputs": [
    {
     "name": "stdout",
     "output_type": "stream",
     "text": [
      "MDP: 8 inputs \"(meas0, meas1, meas2)\" --> 27 states \"(label0, label1, label2)\"\n"
     ]
    }
   ],
   "source": [
    "def target_output(n):\n",
    "    if n == 0:\n",
    "        return 'init'     # label unknown\n",
    "    if n == 1:\n",
    "        return 'positive' # label true\n",
    "    if n == 2:\n",
    "        return 'false'    # label false\n",
    "\n",
    "# label prior probabilities\n",
    "p_list = [0.5, 0.6, 0.1]\n",
    "\n",
    "mdp_list = [MDP([np.eye(3), np.array([[0,p,1-p], [0,1,0], [0,0,1]])], \n",
    "                input_name='meas{}'.format(i),\n",
    "                output_fcn=target_output,\n",
    "                output_name='label{}'.format(i))\n",
    "            for (i, p) in enumerate(p_list)]\n",
    "\n",
    "map_mdp = ParallelMDP(mdp_list)\n",
    "print map_mdp"
   ]
  },
  {
   "cell_type": "markdown",
   "metadata": {},
   "source": [
    "### Construct abstraction"
   ]
  },
  {
   "cell_type": "code",
   "execution_count": 5,
   "metadata": {},
   "outputs": [
    {
     "name": "stdout",
     "output_type": "stream",
     "text": [
      "Warning no inputspace given\n",
      "Warning no state space given\n",
      "status: optimal\n",
      "optimal epsilon 1.00000639831\n",
      "optimal M [[ 1.  0.]\n",
      " [ 0.  1.]]\n",
      "Optimal K [[ 0. -1.]\n",
      " [-1.  0.]]\n",
      "('check norm of rows', matrix([[ 0.,  1.],\n",
      "        [-1.,  0.],\n",
      "        [ 0., -1.],\n",
      "        [ 1.,  0.]]))\n",
      "('check norm of rows', matrix([[ 0.,  1.],\n",
      "        [-1.,  0.],\n",
      "        [ 0., -1.],\n",
      "        [ 1.,  0.]]))\n",
      "('check norm of rows', matrix([[ 0.,  1.],\n",
      "        [-1.,  0.],\n",
      "        [ 0., -1.],\n",
      "        [ 1.,  0.]]))\n",
      "MDP: 16 inputs \"u_d\" --> 871 states \"(s, x_d)\"\n"
     ]
    },
    {
     "data": {
      "image/png": "[encoded data removed]",
      "text/plain": [
       "<matplotlib.figure.Figure at 0x7f0754684390>"
      ]
     },
     "metadata": {},
     "output_type": "display_data"
    }
   ],
   "source": [
    "# mdp_grid = sys_n.abstract_io(d, un=4, verbose=False)  # do the gridding\n",
    "# mdp_grid.map_dfa_inputs(dict_input2prop, regions)\n",
    "\n",
    "abstr = LTIAbstraction(sys_lti, d, un=4)\n",
    "abstr.set_regions(regions)\n",
    "\n",
    "in_regions, nin_regions = abstr.map_dfa_inputs()\n",
    "\n",
    "fig = plt.figure()\n",
    "ax0 = fig.add_subplot(111)\n",
    "abstr.plot(ax0)\n",
    "\n",
    "# plot regions\n",
    "for poly in regions.itervalues():\n",
    "    V = pc.extreme(poly)\n",
    "    ax0.add_patch(patches.Polygon(V))\n",
    "\n",
    "print abstr.mdp"
   ]
  },
  {
   "cell_type": "markdown",
   "metadata": {},
   "source": [
    "### Connect abstraction and map"
   ]
  },
  {
   "cell_type": "code",
   "execution_count": 6,
   "metadata": {},
   "outputs": [
    {
     "name": "stdout",
     "output_type": "stream",
     "text": [
      "MDP: 16 inputs \"u_d\" --> 23517 states \"((s, x_d), (label0, label1, label2))\"\n"
     ]
    }
   ],
   "source": [
    "# mapping (s, x_d) -> 2^2^(meas1, meas2, meas3)\n",
    "def map_connection(s_xd):\n",
    "    if s_xd[0] == abstr.mdp.N-1:\n",
    "        return set([(0,0,0)])\n",
    "    \n",
    "    x_d = np.array(s_xd[1]).reshape((2,1))\n",
    "        \n",
    "    mapstate = [0 for i in range(len(regions))]\n",
    "    for i, poly in enumerate(regions.values()):\n",
    "        if poly.contains(x_d):\n",
    "            mapstate[i] = 1\n",
    "    return set([tuple(mapstate)])\n",
    "\n",
    "prod_mdp = ProductMDP(abstr.mdp, map_mdp, map_connection)\n",
    "print prod_mdp"
   ]
  },
  {
   "cell_type": "markdown",
   "metadata": {},
   "source": [
    "### Set up LTL problem"
   ]
  },
  {
   "cell_type": "code",
   "execution_count": 7,
   "metadata": {},
   "outputs": [
    {
     "name": "stdout",
     "output_type": "stream",
     "text": [
      "obstacle:  set([('obstacle',)])\n",
      "no obstacle:  set([()])\n",
      "sample:  set([('sample',)])\n",
      "no sample:  set([()])\n"
     ]
    }
   ],
   "source": [
    "from best import subsets\n",
    "\n",
    "formula = '( F sample ) & ( ! obstacle U sample )'\n",
    "\n",
    "def get_regions(s):\n",
    "    '''compute subsets of possible regions corresponding to abstract state'''   \n",
    "    if s == abstr.mdp.N-1:\n",
    "        return set([ (), ])\n",
    "    \n",
    "    know_in = []\n",
    "    know_out = []\n",
    "    for reg in regions.keys():\n",
    "        if in_regions[reg][s] == 0:\n",
    "            know_out.append(reg)\n",
    "        if nin_regions[reg][s] == 0:\n",
    "            know_in.append(reg)\n",
    "    uncertain = list(set(regions.keys()) - set(know_in) - set(know_out))\n",
    "    return set([ tuple(know_in + unc) for unc in subsets(uncertain)])  \n",
    "\n",
    "# map ((s, xd), (label1, label2, label3)) -> 2^2^{sample, obstacle}\n",
    "def abstract_connection(s_xd_lbls):\n",
    "    s = s_xd_lbls[0][0]\n",
    "    current_regs = get_regions(s)\n",
    "    \n",
    "    lbl_t1 = s_xd_lbls[1][0]\n",
    "    lbl_t2 = s_xd_lbls[1][1]\n",
    "    lbl_ob = s_xd_lbls[1][2]\n",
    "    \n",
    "    ret = []\n",
    "    \n",
    "    if all('target1' in reg for reg in current_regs) and lbl_t1 == 'true' or \\\n",
    "       all('target2' in reg for reg in current_regs) and lbl_t2 == 'true':\n",
    "        # we are in target region and a sample exists\n",
    "        ret.append('sample')\n",
    "        \n",
    "    if any('obstacle1' in reg for reg in current_regs) and lbl_ob != 'false':\n",
    "        # we are in obstacle region and not sure that there is no obstacle\n",
    "        ret.append('obstacle')\n",
    "        \n",
    "    return set([tuple(ret)])\n",
    "\n",
    "\n",
    "obs_state = abstr.closest_abstract(np.array([[2],[0]]))\n",
    "print 'obstacle: ', abstract_connection( ( (obs_state, (_, _)), ('init', 'init', 'init') ) )\n",
    "print 'no obstacle: ',abstract_connection( ( (obs_state, (_, _)), ('init', 'init', 'false') ) )\n",
    "\n",
    "target_state = abstr.closest_abstract(np.array([[7.5],[7.5]]))\n",
    "\n",
    "print 'sample: ', abstract_connection( ( (target_state, (_, _)), ('init', 'true', 'init') ) )\n",
    "print 'no sample: ', abstract_connection( ( (target_state, (_, _)), ('init', 'init', 'init') ) )\n"
   ]
  },
  {
   "cell_type": "markdown",
   "metadata": {},
   "source": [
    "### Solve recursion"
   ]
  },
  {
   "cell_type": "code",
   "execution_count": null,
   "metadata": {},
   "outputs": [
    {
     "name": "stdout",
     "output_type": "stream",
     "text": [
      "computed a Tm\n",
      "computed a Tm\n"
     ]
    }
   ],
   "source": [
    "pol = solve_ltl_cosafe(prod_mdp, formula, abstract_connection, algorithm='sofie')"
   ]
  },
  {
   "cell_type": "markdown",
   "metadata": {},
   "source": [
    "### Define policy"
   ]
  },
  {
   "cell_type": "code",
   "execution_count": null,
   "metadata": {},
   "outputs": [],
   "source": [
    "# define a policy on top of mdp policy\n",
    "def my_policy(x, mapstate):\n",
    "    # x: current concrete state [x; y]\n",
    "    # sam1: current state of target1 {0,1,2}\n",
    "    # sam2: current state of target2 {0,1,2}\n",
    "    x = np.array(x).reshape((2,1))\n",
    "    \n",
    "    if any(poly.contains(x) and mapstate[i] == 1 for (i, poly) in enumerate(target_regs.itervalues())):\n",
    "        aps = set(['sample'])\n",
    "    else:\n",
    "        aps = set([])\n",
    "        \n",
    "    pol.report_aps(aps)\n",
    "    \n",
    "    s_abstract = abstr.closest_abstract(x)\n",
    "    \n",
    "    s_tot = prod_mdp.global_state((s_abstract, mapstate ))\n",
    "   \n",
    "    u_abstract, curr_val = pol.get_input(s_tot)\n",
    "    \n",
    "    return abstr.refine_input(u_abstract, s_abstract, x)\n",
    "\n",
    "def my_value(x):    \n",
    "    x = np.array(x).reshape((2,1))\n",
    "    \n",
    "    s_abstract = abstr.closest_abstract(x)\n",
    "    s_tot = prod_mdp.global_state( (s_abstract, (0,0)) )\n",
    "\n",
    "    _, val = pol.get_input(s_tot)\n",
    "    return val\n",
    "\n",
    "def my_policy_init(x):\n",
    "    u = my_policy(x, (0,0))\n",
    "    pol.reset()\n",
    "    return u\n"
   ]
  },
  {
   "cell_type": "markdown",
   "metadata": {},
   "source": [
    "### Plot value function"
   ]
  },
  {
   "cell_type": "code",
   "execution_count": null,
   "metadata": {},
   "outputs": [],
   "source": [
    "fig = plt.figure()\n",
    "x_edge = np.linspace(-15,15,50)\n",
    "x_del = np.diff(x_edge).max()\n",
    "y_edge = np.linspace(-15,15,50)\n",
    "y_del = np.diff(y_edge).max()\n",
    "\n",
    "xi, yi = np.meshgrid(x_edge[:-1]+x_del/2,y_edge[:-1]+y_del/2)\n",
    "xi = xi.flatten()\n",
    "yi = yi.flatten()\n",
    "\n",
    "values = np.array([my_value((x,y)) for (x,y) in zip(xi, yi)])\n",
    "\n",
    "plt.pcolor(x_edge, y_edge, values.reshape((49,49)))\n",
    "plt.colorbar()\n",
    "plt.xlim(np.array([-15,15]))\n",
    "plt.ylim(np.array([-15,15]))\n",
    "\n",
    "x_edge = np.linspace(-15,15,20)\n",
    "x_del = np.diff(x_edge).max()\n",
    "y_edge = np.linspace(-15,15,20)\n",
    "y_del = np.diff(y_edge).max()\n",
    "\n",
    "xi, yi = np.meshgrid(x_edge[:-1]+x_del/2,y_edge[:-1]+y_del/2)\n",
    "xi = xi.flatten()\n",
    "yi = yi.flatten()\n",
    "\n",
    "delx_fun = lambda x,y: sys_lti.a.dot(np.array([[x], [y]])) + sys_lti.b.dot(my_policy_init((x,y))) - np.array([[x], [y]])\n",
    "\n",
    "delx = np.hstack([delx_fun(x,y) for (x,y) in zip(xi, yi)])\n",
    "\n",
    "x_tr = (np.block([[xi.flatten()], [yi.flatten()]]))\n",
    "\n",
    "#plt.quiver(xi.flatten(), yi.flatten(),u[0],u[1])\n",
    "plt.quiver(xi, yi, delx[0], delx[1], color = 'r')\n"
   ]
  },
  {
   "cell_type": "markdown",
   "metadata": {},
   "source": [
    "### Run a simulation"
   ]
  },
  {
   "cell_type": "code",
   "execution_count": null,
   "metadata": {},
   "outputs": [],
   "source": [
    "import scipy.linalg as scla\n",
    "import matplotlib\n",
    "\n",
    "np.random.seed(4)\n",
    "\n",
    "time = 50\n",
    "fig = plt.figure()\n",
    "ax = fig.add_subplot(111)\n",
    "\n",
    "realmap = [1, 2]    # sample at target1, not at target2\n",
    "\n",
    "Wsqrt = scla.sqrtm(sys_lti.W)\n",
    "for x0 in (np.array([[-9],[-4]]),np.array([[9],[-9]])):\n",
    "    for repeating in range(3):\n",
    "        pol.reset()\n",
    "        mapstate = [0, 0]\n",
    "        xx = x0\n",
    "        \n",
    "        for t in range(time): \n",
    "            # current state\n",
    "            xt = xx[:,-1].reshape(2,1)\n",
    "            # update map state\n",
    "            for i, poly in enumerate(target_regs.itervalues()):\n",
    "                if poly.contains(xt):\n",
    "                    mapstate[i] = realmap[i]\n",
    "            # next state\n",
    "            ut = my_policy(xt, mapstate)\n",
    "            wt = np.random.normal(0,1,size=(2,1))\n",
    "            # update state\n",
    "            xt1 = sys_lti.a.dot(xt)+sys_lti.b.dot(ut) + np.array(Wsqrt).dot(wt)\n",
    "\n",
    "            xx = np.hstack([xx, xt1])\n",
    "\n",
    "            if pol.finished() :\n",
    "                print('reached')\n",
    "                break\n",
    "                \n",
    "        if not pol.finished():\n",
    "            print('not reached')\n",
    "            \n",
    "        plt.plot(xx[0,:],xx[1,:])\n",
    "        plt.scatter(xx[0,:],xx[1,:], label='Finite states', color='k', s=10, marker=\"o\")\n",
    "\n",
    "# plot regions\n",
    "for poly in target_regs.itervalues():\n",
    "    V = pc.extreme(poly)\n",
    "    ax.add_patch(matplotlib.patches.Polygon(V))\n",
    "    \n",
    "plt.xlim(np.array([-15,15]))\n",
    "plt.ylim(np.array([-15,15]))\n",
    "\n",
    "plt.xlabel('x_1') \n",
    "plt.ylabel('x_2') \n"
   ]
  },
  {
   "cell_type": "code",
   "execution_count": null,
   "metadata": {},
   "outputs": [],
   "source": []
  }
 ],
 "metadata": {
  "kernelspec": {
   "display_name": "Python 2",
   "language": "python",
   "name": "python2"
  },
  "language_info": {
   "codemirror_mode": {
    "name": "ipython",
    "version": 2
   },
   "file_extension": ".py",
   "mimetype": "text/x-python",
   "name": "python",
   "nbconvert_exporter": "python",
   "pygments_lexer": "ipython2",
   "version": "2.7.12"
  }
 },
 "nbformat": 4,
 "nbformat_minor": 2
}
