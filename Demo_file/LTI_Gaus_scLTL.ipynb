{
 "cells": [
  {
   "cell_type": "code",
   "execution_count": 1,
   "metadata": {
    "collapsed": true
   },
   "outputs": [
    {
     "data": {
      "text/plain": [
       "'\\nLTI Gaussian processes abstraction (basic)\\nGiven\\n    -  x^+= A x + Bu + w , w ~ N(0,W)\\n    -  z = Cx+Fv\\nDo :\\n    - Quantify eps,\\n    - Abstract to finite MDP\\n    Remark that since there is no order reduction,\\n     there is also no delta error.\\n\\nAuthor Sofie Haesaert\\n'"
      ]
     },
     "execution_count": 1,
     "metadata": {},
     "output_type": "execute_result"
    }
   ],
   "source": [
    "\"\"\"\n",
    "LTI Gaussian processes abstraction (basic)\n",
    "Given\n",
    "    -  x^+= A x + Bu + w , w ~ N(0,W)\n",
    "    -  z = Cx+Fv\n",
    "Do :\n",
    "    - Quantify eps,\n",
    "    - Abstract to finite MDP\n",
    "    Remark that since there is no order reduction,\n",
    "     there is also no delta error.\n",
    "\n",
    "Author Sofie Haesaert\n",
    "\"\"\"\n"
   ]
  },
  {
   "cell_type": "code",
   "execution_count": 2,
   "metadata": {},
   "outputs": [
    {
     "name": "stdout",
     "output_type": "stream",
     "text": [
      "Imported packages\n"
     ]
    }
   ],
   "source": [
    "\n",
    "from ApprxSimulation.LTI_simrel import tune_dratio\n",
    "from ApprxSimulation.Visualize import plot_regions\n",
    "from Models.MDP import Rpol\n",
    "from label_abstraction.test_mdp import test_mdp_dfsa, formula_to_mdp, test_ltl_synth2\n",
    "# Import packages:\n",
    "from Models.Linear import LTI, POMDP\n",
    "from label_abstraction.mdp import *\n",
    "import matplotlib.pyplot as plt\n",
    "import polytope as pc\n",
    "\n",
    "\n",
    "print('Imported packages')\n"
   ]
  },
  {
   "cell_type": "code",
   "execution_count": 3,
   "metadata": {},
   "outputs": [
    {
     "name": "stdout",
     "output_type": "stream",
     "text": [
      "Initialise values\n"
     ]
    }
   ],
   "source": [
    "\n",
    "\n",
    "print('Initialise values')\n",
    "# Define the linear time invariant system\n",
    "#A = np.array([[0,-0.8572],[0.1,0.5]])\n",
    "dim = 2\n",
    "A = np.eye(2) #np.array([[.9,-0.32],[0.1,0.9]])\n",
    "B = np.eye(dim)  #array([[1], [0.1]])\n",
    "W = np.array([[0,0],[0,0.4]]) #2*Tr.dot(np.eye(dim)).dot(Tr)  # noise on transitions\n",
    " \n",
    "# Accuracy\n",
    "C = np.array([[1, 0],[0,1]])  # defines metric for error (||y_finite-y||< epsilon with y= cx   )\n",
    "\n",
    "sys_lti = LTI(A, B, C, None, W=W)  # LTI system with   D = None\n"
   ]
  },
  {
   "cell_type": "code",
   "execution_count": 4,
   "metadata": {},
   "outputs": [],
   "source": [
    "\n",
    "# Define spaces\n",
    "sys_lti.setU(pc.box2poly(np.kron(np.ones((sys_lti.m, 1)), np.array([[-1, 1]])))) # continuous set of inputs\n",
    "sys_lti.setX(pc.box2poly(np.kron(np.ones((sys_lti.dim, 1)), np.array([[-10, 10]])))) # X space\n",
    "\n",
    "\n",
    "# Define regions of interest for the labeling\n",
    "regions = dict()\n",
    "regions['target'] = pc.box2poly(np.kron(np.ones((2, 1)), np.array([[5, 10]])))\n",
    "# add avoid\n",
    "regions['avoid'] = pc.box2poly(np.array([[-5, 3],[-10, 5]]))\n",
    "\n",
    "x =pc.extreme(regions['target'])\n",
    "y =pc.extreme(regions['avoid'])\n"
   ]
  },
  {
   "cell_type": "code",
   "execution_count": 5,
   "metadata": {},
   "outputs": [
    {
     "data": {
      "text/plain": [
       "(-10, 20)"
      ]
     },
     "execution_count": 5,
     "metadata": {},
     "output_type": "execute_result"
    }
   ],
   "source": [
    "import matplotlib.patches\n",
    "import matplotlib.pyplot as plt\n",
    "\n",
    "fig = plt.figure()\n",
    "ax = fig.add_subplot(111)\n",
    "patch = matplotlib.patches.Polygon(x)\n",
    "ax.add_patch(patch)\n",
    "\n",
    "patch = matplotlib.patches.Polygon(y)\n",
    "ax.add_patch(patch)\n",
    "\n",
    "plt.xlim([-10,20])\n",
    "plt.ylim([-10,20])\n",
    "\n"
   ]
  },
  {
   "cell_type": "code",
   "execution_count": 6,
   "metadata": {
    "collapsed": false
   },
   "outputs": [
    {
     "name": "stdout",
     "output_type": "stream",
     "text": [
      "1.  Transform to normalised state space\n[[  5.  10.  10.   5.]\n [ 10.  10.   5.   5.]]\n"
     ]
    },
    {
     "data": {
      "text/plain": [
       "(-20, 20)"
      ]
     },
     "execution_count": 6,
     "metadata": {},
     "output_type": "execute_result"
    }
   ],
   "source": [
    "import numpy.linalg as LA\n",
    "print('1.  Transform to normalised state space')\n",
    "sys_n = sys_lti.normalize()\n",
    "x = pc.extreme(regions['target'])\n",
    "y = pc.extreme(regions['avoid'])\n",
    "\n",
    "xtr = LA.inv(sys_n.T2x).dot(x.T)\n",
    "print(xtr)\n",
    "patch = matplotlib.patches.Polygon(xtr.T)\n",
    "ax.add_patch(patch)\n",
    "# \n",
    "patch = matplotlib.patches.Polygon(LA.inv(sys_n.T2x).dot(y.T).T)\n",
    "ax.add_patch(patch)\n",
    "\n",
    "plt.xlim([-20,20])\n",
    "plt.ylim([-20,20])\n",
    " \n"
   ]
  },
  {
   "cell_type": "code",
   "execution_count": 7,
   "metadata": {
    "collapsed": false
   },
   "outputs": [
    {
     "data": {
      "text/plain": [
       "False"
      ]
     },
     "execution_count": 7,
     "metadata": {},
     "output_type": "execute_result"
    }
   ],
   "source": [
    "x = np.array([[1],[1]])\n",
    "x in regions['target']"
   ]
  },
  {
   "cell_type": "code",
   "execution_count": null,
   "metadata": {
    "collapsed": true
   },
   "outputs": [
    {
     "name": "stdout",
     "output_type": "stream",
     "text": [
      "('Choose grid ribs as', array([[ 0.69294],\n       [ 0.721  ]]))\n"
     ]
    }
   ],
   "source": [
    "\n",
    "## step 1: tune gridding ratio (find optimal horizontal d_1, and vertical d_2)\n",
    "# currently only available for 2D\n",
    "print('2.  Tune gridding ratio')\n",
    "d_opt, d_vals, eps_values = tune_dratio(sys_n)\n",
    "# d_opt has optimal ratio with grid diameter of 1\n",
    "# choose grid sizes (factor of d_opt)\n"
   ]
  },
  {
   "cell_type": "code",
   "execution_count": 24,
   "metadata": {
    "collapsed": true
   },
   "outputs": [
    {
     "name": "stdout",
     "output_type": "stream",
     "text": [
      "('Choose grid ribs as', array([[ 0.69294],\n       [ 0.721  ]]))\n"
     ]
    }
   ],
   "source": [
    "\n",
    "d = d_opt #  with distance measure\n",
    "print('Choose grid ribs as', d)    # *Grid space\n"
   ]
  },
  {
   "cell_type": "code",
   "execution_count": 26,
   "metadata": {
    "collapsed": true
   },
   "outputs": [
    {
     "name": "stdout",
     "output_type": "stream",
     "text": [
      "3.  Grid Gaussian process\n[[ 0.  1.]\n [ 1.  0.]]\nWarning no inputspace given\nWarning no state space given\n"
     ]
    },
    {
     "name": "stdout",
     "output_type": "stream",
     "text": [
      "status: optimal\noptimal epsilon 1.00000297652\noptimal M [[ 1. -0.]\n [-0.  1.]]\nOptimal K [[-0. -1.]\n [-1. -0.]]\n"
     ]
    },
    {
     "name": "stdout",
     "output_type": "stream",
     "text": [
      "((871, 49), (49, 871, 871))\n--- done gridding\n"
     ]
    }
   ],
   "source": [
    "\n",
    "print('3.  Grid Gaussian process')\n",
    "print(sys_n.T2x)\n",
    "mdp_grid = sys_n.abstract_io(d, un=7, verbose=False)  # do the gridding\n",
    "print('--- done gridding')\n"
   ]
  },
  {
   "cell_type": "code",
   "execution_count": 22,
   "metadata": {
    "collapsed": true
   },
   "outputs": [
    {
     "name": "stdout",
     "output_type": "stream",
     "text": [
      "3.  Grid Gaussian process\n[[ 0.  1.]\n [ 1.  0.]]\nWarning no inputspace given\nWarning no state space given\n"
     ]
    },
    {
     "name": "stdout",
     "output_type": "stream",
     "text": [
      "status: optimal\noptimal epsilon 1.00000297652\noptimal M [[ 1. -0.]\n [-0.  1.]]\nOptimal K [[-0. -1.]\n [-1. -0.]]\n"
     ]
    },
    {
     "name": "stdout",
     "output_type": "stream",
     "text": [
      "((871, 49), (49, 871, 871))\n--- done gridding\n"
     ]
    }
   ],
   "source": [
    "\n"
   ]
  },
  {
   "cell_type": "code",
   "execution_count": 27,
   "metadata": {
    "collapsed": false
   },
   "outputs": [
    {
     "name": "stdout",
     "output_type": "stream",
     "text": [
      "4.  Define formula and compute DFA\n& U ! avoid target F avoid\n['avoid', 'target']\n{0: (), 1: ('avoid',), 2: ('target',), 3: ('avoid', 'target')}\nset([1])\n('check norm of rows', matrix([[ 0.,  1.],\n        [-1.,  0.],\n        [ 0., -1.],\n        [ 1.,  0.]]))\n('check norm of rows', matrix([[ 0.,  1.],\n        [-1.,  0.],\n        [ 0., -1.],\n        [ 1.,  0.]]))\n[[ 1.  1.  1. ...,  1.  1.  0.]\n [ 0.  0.  0. ...,  0.  0.  0.]\n [ 0.  0.  0. ...,  1.  1.  0.]\n [ 0.  0.  0. ...,  0.  0.  0.]]\n"
     ]
    }
   ],
   "source": [
    "print('4.  Define formula and compute DFA')\n",
    "\n",
    "formula = '( ( ! avoid U target ) & ( F avoid ) )'\n",
    "\n",
    "# figure out a map dict_input2prop from numeric inputs to name based inputs\n",
    "dfsa, init, final, dict_input2prop = formula_to_mdp(formula)\n",
    "\n",
    "mdp_grid.map_dfa_inputs(dict_input2prop, regions)\n",
    "mdp_grid.setdfa(dfsa,final)\n"
   ]
  },
  {
   "cell_type": "code",
   "execution_count": 28,
   "metadata": {
    "collapsed": false
   },
   "outputs": [
    {
     "name": "stdout",
     "output_type": "stream",
     "text": [
      "5. Compute recursions\n"
     ]
    }
   ],
   "source": [
    "\n",
    "print('5. Compute recursions')\n",
    "\n",
    "mdp_grid.policy= None\n",
    "mdp_grid.trans_qs = None\n",
    "V, policy, W = mdp_grid.reach_dfa(recursions = 30)\n"
   ]
  },
  {
   "cell_type": "code",
   "execution_count": 29,
   "metadata": {
    "collapsed": false
   },
   "outputs": [],
   "source": [
    "pol = None\n",
    "pol = Rpol(mdp_grid, V, W, policy)\n",
    "\n",
    "pol.set_regions(dict_input2prop, regions)\n"
   ]
  },
  {
   "cell_type": "code",
   "execution_count": 30,
   "metadata": {
    "collapsed": false
   },
   "outputs": [
    {
     "name": "stdout",
     "output_type": "stream",
     "text": [
      "6. Plot normalized systen\n"
     ]
    },
    {
     "data": {
      "text/plain": [
       "<matplotlib.quiver.Quiver at 0x116dab350>"
      ]
     },
     "execution_count": 29,
     "metadata": {},
     "output_type": "execute_result"
    }
   ],
   "source": [
    "print('6. Plot normalized systen')\n",
    "fig = plt.figure()\n",
    "\n",
    "xi, yi = np.meshgrid(*mdp_grid.srep)\n",
    "\n",
    "plt.pcolor(mdp_grid.sedge[0], mdp_grid.sedge[1],  W[:-1].reshape(xi.shape, order='F'))\n",
    "plt.colorbar()\n",
    "plt.xlim(np.array([mdp_grid.srep[0][0],mdp_grid.srep[0][-1]]))\n",
    "plt.ylim(np.array([mdp_grid.srep[1][0],mdp_grid.srep[1][-1]]))\n",
    "#plt.show()\n",
    "\n",
    "xi, yi = np.meshgrid(np.linspace(mdp_grid.srep[0][0],mdp_grid.srep[0][-1],10),np.linspace(mdp_grid.srep[1][0],mdp_grid.srep[1][-1],10))\n",
    "\n",
    "# compute inputs\n",
    "u =sys_n.b.dot(pol.cst(np.block([[xi.flatten()],[yi.flatten()]]) ))\n",
    "delx = (-np.block([[xi.flatten()],[yi.flatten()]])\n",
    "        +sys_n.a.dot(np.block([[xi.flatten()],[yi.flatten()]])) \n",
    "        + sys_n.b.dot(pol.cst(np.block([[xi.flatten()],[yi.flatten()]]))))\n",
    "x_tr = (np.block([[xi.flatten()], [yi.flatten()]]))\n",
    "\n",
    "#plt.quiver(xi.flatten(), yi.flatten(),u[0],u[1])\n",
    "plt.quiver(x_tr[0],x_tr[1],delx[0],delx[1], color = 'r')\n"
   ]
  },
  {
   "cell_type": "code",
   "execution_count": 31,
   "metadata": {
    "collapsed": false
   },
   "outputs": [
    {
     "data": {
      "image/png": "[encoded data removed]",
      "text/plain": [
       "<matplotlib.figure.Figure at 0x1165ad290>"
      ]
     },
     "metadata": {},
     "output_type": "display_data"
    },
    {
     "data": {
      "image/png": "[encoded data removed]",
      "text/plain": [
       "<matplotlib.figure.Figure at 0x116b49e50>"
      ]
     },
     "metadata": {},
     "output_type": "display_data"
    },
    {
     "data": {
      "image/png": "[encoded data removed]",
      "text/plain": [
       "<matplotlib.figure.Figure at 0x116c0be10>"
      ]
     },
     "metadata": {},
     "output_type": "display_data"
    }
   ],
   "source": [
    "\n",
    "plt.show()\n"
   ]
  },
  {
   "cell_type": "code",
   "execution_count": 31,
   "metadata": {
    "collapsed": false
   },
   "outputs": [
    {
     "name": "stdout",
     "output_type": "stream",
     "text": [
      "6. Plot concrete systen\n"
     ]
    },
    {
     "data": {
      "image/png": "[encoded data removed]",
      "text/plain": [
       "<matplotlib.figure.Figure at 0x11691f2d0>"
      ]
     },
     "metadata": {},
     "output_type": "display_data"
    }
   ],
   "source": [
    "print('6. Plot concrete systen')\n",
    "fig = plt.figure()\n",
    "x_edge = np.linspace(-15,15,50)\n",
    "x_del = np.diff(x_edge).max()\n",
    "y_edge = np.linspace(-15,15,50)\n",
    "y_del = np.diff(y_edge).max()\n",
    "\n",
    "xi, yi = np.meshgrid(x_edge[:-1]+x_del/2,y_edge[:-1]+y_del/2)\n",
    "\n",
    "values = pol.val_concrete(np.block([[xi.flatten()], [yi.flatten()]]))\n",
    "plt.pcolor(x_edge, y_edge, values.reshape(xi.shape))\n",
    "plt.colorbar()\n",
    "plt.xlim(np.array([-15,15]))\n",
    "plt.ylim(np.array([-15,15]))\n",
    "\n",
    "x_edge = np.linspace(-15,15,20)\n",
    "x_del = np.diff(x_edge).max()\n",
    "y_edge = np.linspace(-15,15,20)\n",
    "y_del = np.diff(y_edge).max()\n",
    "\n",
    "xi, yi = np.meshgrid(x_edge[:-1]+x_del/2,y_edge[:-1]+y_del/2)\n",
    "\n",
    "u =sys_lti.b.dot(pol.cst(np.block([[xi.flatten()],[yi.flatten()]]),transformed = False))\n",
    "delx = (-np.block([[xi.flatten()],[yi.flatten()]])\n",
    "        +sys_lti.a.dot(np.block([[xi.flatten()],[yi.flatten()]])) \n",
    "        + sys_lti.b.dot(pol.cst(np.block([[xi.flatten()],[yi.flatten()]]),transformed = False)))\n",
    "x_tr = (np.block([[xi.flatten()], [yi.flatten()]]))\n",
    "\n",
    "#plt.quiver(xi.flatten(), yi.flatten(),u[0],u[1])\n",
    "plt.quiver(x_tr[0],x_tr[1],delx[0],delx[1], color = 'r')\n",
    "\n",
    "plt.show(fig)"
   ]
  },
  {
   "cell_type": "code",
   "execution_count": 34,
   "metadata": {
    "collapsed": true
   },
   "outputs": [
    {
     "name": "stdout",
     "output_type": "stream",
     "text": [
      "('final state:', set([1]))\n[[ 0.   0. ]\n [ 0.   0.4]]\nMatrix is singular and may not have a square root.\nreached\nreached\n"
     ]
    },
    {
     "name": "stdout",
     "output_type": "stream",
     "text": [
      "reached\nreached\nreached\nreached\n"
     ]
    },
    {
     "data": {
      "text/plain": [
       "<matplotlib.patches.Polygon at 0x1088c1590>"
      ]
     },
     "execution_count": 34,
     "metadata": {},
     "output_type": "execute_result"
    }
   ],
   "source": [
    "# how to get a nice simulation? \n",
    "from random import  gauss \n",
    "import random\n",
    "import scipy.linalg as scla\n",
    "random.seed(a = '4')\n",
    "print('final state:', final)\n",
    "time = 50\n",
    "fig = plt.figure()\n",
    "ax = fig.add_subplot(111)\n",
    "print(sys_lti.W)\n",
    "Wsqrt = scla.sqrtm(sys_lti.W)\n",
    "for x0 in (np.array([[-10],[-10]]),np.array([[10],[-5]])):\n",
    "    for repeating in range(3):\n",
    "        pol.state = pol.dfa.init[0]\n",
    "        \n",
    "        x = np.zeros((2,time+1))\n",
    "        x[:,[0]] = x0\n",
    "\n",
    "        for t in range(time): \n",
    "            x[:,[t+1]] = (sys_lti.a.dot(x[:,[t]])+sys_lti.b.dot(pol(x[:,[t]], transformed=False )) \n",
    "                        + np.array(Wsqrt).dot(np.array([[gauss(0,1)],[gauss(0,1)]])))\n",
    "            if pol.state in final :\n",
    "                print('reached')\n",
    "                break\n",
    "        if not pol.state in final:\n",
    "            print('not reached')\n",
    "        plt.plot(x[0,0:t+1],x[1,0:t+1])\n",
    "        plt.scatter(x[0],x[1], label='Finite states', color='k', s=10, marker=\"o\")\n",
    "\n",
    "plt.xlabel('x_1') \n",
    "plt.ylabel('x_2') \n",
    "\n",
    "plt.xlim(np.array([-15,15]))\n",
    "plt.ylim(np.array([-15,15]))\n",
    "# Define regions of interest for the labeling\n",
    "regions = dict()\n",
    "regions['target'] = pc.box2poly(np.kron(np.ones((2, 1)), np.array([[5, 10]])))\n",
    "# add avoid\n",
    "regions['avoid'] = pc.box2poly(np.array([[-5, 3],[-10, 5]]))\n",
    "\n",
    "x =pc.extreme(regions['target'])\n",
    "y =pc.extreme(regions['avoid'])\n",
    "\n",
    "patch = matplotlib.patches.Polygon(x)\n",
    "ax.add_patch(patch)\n",
    "\n",
    "patch = matplotlib.patches.Polygon(y)\n",
    "ax.add_patch(patch)\n",
    " \n"
   ]
  },
  {
   "cell_type": "code",
   "execution_count": 35,
   "metadata": {
    "collapsed": false
   },
   "outputs": [
    {
     "name": "stdout",
     "output_type": "stream",
     "text": [
      "=========================================================\nPlease add the following lines to your LaTeX preamble:\n\n\\usepackage[utf8]{inputenc}\n\\usepackage{fontspec} % This line only for XeLaTeX and LuaLaTeX\n\\usepackage{pgfplots}\n=========================================================\nHorizontal alignment will be ignored as no 'x tick label text width' has been passed in the 'extra' parameter\nHorizontal alignment will be ignored as no 'y tick label text width' has been passed in the 'extra' parameter\n"
     ]
    },
    {
     "data": {
      "image/png": "[encoded data removed]",
      "text/plain": [
       "<matplotlib.figure.Figure at 0x10f05c150>"
      ]
     },
     "metadata": {},
     "output_type": "display_data"
    }
   ],
   "source": [
    "from matplotlib2tikz import save as tikz_save\n",
    "tikz_save(\n",
    "    'mytikz.tex',\n",
    "    figureheight='\\\\figureheight',\n",
    "    figurewidth='\\\\figurewidth'\n",
    "    )\n",
    "plt.show()\n"
   ]
  },
  {
   "cell_type": "code",
   "execution_count": 19,
   "metadata": {
    "collapsed": false
   },
   "outputs": [
    {
     "data": {
      "text/plain": [
       "matrix([[ 0.,  0.,  1.,  0.],\n        [ 0.,  1.,  0.,  0.],\n        [ 0.,  0.,  1.,  0.],\n        [ 0.,  0.,  0.,  1.]])"
      ]
     },
     "execution_count": 19,
     "metadata": {},
     "output_type": "execute_result"
    }
   ],
   "source": [
    "mdp_grid.dfa.Tmat[2].todense()"
   ]
  },
  {
   "cell_type": "code",
   "execution_count": 20,
   "metadata": {
    "collapsed": false
   },
   "outputs": [
    {
     "data": {
      "text/plain": [
       "array([[ 1.03941],\n       [ 1.0815 ]])"
      ]
     },
     "execution_count": 20,
     "metadata": {},
     "output_type": "execute_result"
    }
   ],
   "source": [
    "\n",
    "d\n",
    "#\n",
    "#\n",
    "#\n",
    "# # Sensor noise => pomdp\n",
    "# H = np.ones((1,2)) # what can be measured\n",
    "# V = np.eye(1)\n",
    "#     #  x^+= A x + Bu + w\n",
    "#     #  y = C x\n",
    "#     #  z = Cz x+v\n",
    "#\n",
    "# P= np.eye(2)\n",
    "# mean = np.zeros((2,1))\n",
    "#\n",
    "# pomdp = POMDP(sys, H, V, P, mean)\n",
    "# Pp = P\n",
    "# for i in range(15):\n",
    "#     x, Pu = pomdp.update(mean, Pp)\n",
    "#     x, Pp = pomdp.predict(np.array([[1],[1]]),x=mean, P=Pu)\n",
    "#     # updates of x,P\n",
    "#\n",
    "# L, Pst = pomdp.kalman()\n",
    "#\n",
    "# belief_mdp = pomdp.beliefmodel()\n",
    "#\n",
    "#\n",
    "#\n",
    "# for i in range(15):\n",
    "#     (x,P) = belief_mdp.simulate(np.array([[1],[1]]))\n"
   ]
  },
  {
   "cell_type": "code",
   "execution_count": 21,
   "metadata": {},
   "outputs": [],
   "source": [
    "from mdptoolbox.mdp import *\n"
   ]
  }
 ],
 "metadata": {
  "kernelspec": {
   "display_name": "Python 2",
   "language": "python",
   "name": "python2"
  },
  "language_info": {
   "codemirror_mode": {
    "name": "ipython",
    "version": 2
   },
   "file_extension": ".py",
   "mimetype": "text/x-python",
   "name": "python",
   "nbconvert_exporter": "python",
   "pygments_lexer": "ipython2",
   "version": "2.7.6"
  }
 },
 "nbformat": 4,
 "nbformat_minor": 0
}
