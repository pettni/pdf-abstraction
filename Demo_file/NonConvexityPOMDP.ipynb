{
 "cells": [
  {
   "cell_type": "heading",
   "metadata": {
    "collapsed": true
   },
   "level": 3,
   "source": [
    "Counter example to the assumption that reachability in discrete POMDP can be computed with convex functions"
   ]
  },
  {
   "cell_type": "heading",
   "metadata": {},
   "level": 1,
   "source": [
    "Define dynamics POMDP"
   ]
  },
  {
   "cell_type": "code",
   "execution_count": 349,
   "metadata": {},
   "outputs": [],
   "source": [
    "import numpy as np\n",
    "alph = 0.3\n",
    "beta = 0.2\n",
    "Tr = np.array([[1,0],[0,1]]) \n",
    "# transition probabilistic\n",
    "O = np.array([[1-alph,alph],[alph,1-alph]])"
   ]
  },
  {
   "cell_type": "heading",
   "metadata": {},
   "level": 1,
   "source": [
    "Define belief MDP"
   ]
  },
  {
   "cell_type": "code",
   "execution_count": 350,
   "metadata": {},
   "outputs": [
    {
     "name": "stdout",
     "output_type": "stream",
     "text": [
      "[[ 0. ]\n [ 0.7]]\n0.7\n0.0\n"
     ]
    }
   ],
   "source": [
    "# transition \n",
    "obser = range(2)\n",
    "update = lambda o, b : np.diag(O[o]).dot(Tr).dot(np.array([[b],[1-b]]))\n",
    "obs = lambda o, b : np.sum(update(o,b))\n",
    "def nex(o,b):\n",
    "    return  (update(o, b)*obs(o,b)**-1)[0,0].tolist()\n",
    "print(update(1,0))\n",
    "print(obs(1,0))\n",
    "print(nex(1,0))"
   ]
  },
  {
   "cell_type": "heading",
   "metadata": {},
   "level": 2,
   "source": [
    "Iterate"
   ]
  },
  {
   "cell_type": "code",
   "execution_count": 351,
   "metadata": {},
   "outputs": [],
   "source": [
    "# define set\n",
    "def K(b):\n",
    "    #print('K(%f)' %(nex(0,[[b],[1-b]])) )\n",
    "    return float(((b<beta)|(1-b<beta)))\n",
    "    "
   ]
  },
  {
   "cell_type": "code",
   "execution_count": 352,
   "metadata": {},
   "outputs": [],
   "source": [
    ""
   ]
  },
  {
   "cell_type": "code",
   "execution_count": 352,
   "metadata": {},
   "outputs": [],
   "source": [
    "\n",
    "def init(b):\n",
    "    return 0\n",
    "\n",
    "def value_f(b,depth):\n",
    "    if depth == 0:\n",
    "        return K(b)\n",
    "    else:\n",
    "        return K(b)+(1-K(b))*sum(map(lambda o: value_f(nex(o,b),depth-1)*obs(o,b),obser))\n",
    "    "
   ]
  },
  {
   "cell_type": "code",
   "execution_count": 389,
   "metadata": {
    "collapsed": false
   },
   "outputs": [
    {
     "name": "stdout",
     "output_type": "stream",
     "text": [
      "-----\n-----\n"
     ]
    },
    {
     "name": "stdout",
     "output_type": "stream",
     "text": [
      "-----\n"
     ]
    }
   ],
   "source": [
    "\n",
    "# plot value iteratons of different depth \n",
    "# (plot in next window)\n",
    "import matplotlib.pyplot as plt\n",
    "value_f(0,0)\n",
    "for it in range(3):\n",
    "    b= np.arange(0,1,0.001)\n",
    "\n",
    "\n",
    "    plt.plot(b,list(map(lambda b: value_f(b,it),b)),label = \"iter %d\" %it )\n",
    "    print(\"-----\")\n",
    "\n",
    "\n",
    "    \n",
    "    \n",
    "\n"
   ]
  },
  {
   "cell_type": "code",
   "execution_count": 395,
   "metadata": {},
   "outputs": [
    {
     "name": "stdout",
     "output_type": "stream",
     "text": [
      "[0.2, 0.3684210526315789, 0.423529411764706, 0.5764705882352941, 0.6315789473684211, 0.7999999999999999, 0.8]\n"
     ]
    },
    {
     "name": "stderr",
     "output_type": "stream",
     "text": [
      "/anaconda/envs/Python36/lib/python3.6/site-packages/matplotlib/axes/_axes.py:545: UserWarning: No labelled objects found. Use label='...' kwarg on individual plots.\n  warnings.warn(\"No labelled objects found. \"\n"
     ]
    },
    {
     "data": {
      "text/plain": [
       "0.5526315789473684"
      ]
     },
     "execution_count": 395,
     "metadata": {},
     "output_type": "execute_result"
    }
   ],
   "source": [
    "# compute turing  points\n",
    "\n",
    "def rec_crit(c):\n",
    "    if isinstance(c, list):\n",
    "        out = []\n",
    "        for cv in c:\n",
    "            out += [*rec_crit(cv)]\n",
    "        return out\n",
    "\n",
    "    out = []\n",
    "    obs0 = c*alph*(1-alph-c+2*c*alph)**-1\n",
    "    obs1 = c*(1-alph)*(c-2*c*alph+alph)**-1\n",
    "    if (obs0 <1-beta)&(beta<obs0) :\n",
    "        out+=[obs0]\n",
    "    if (obs1 <1-beta)&(beta<obs1) :\n",
    "        out+=[obs1]\n",
    "    return out\n",
    "\n",
    "\n",
    "crit = {beta,1-beta}\n",
    "for i in range(2):\n",
    "    crit |= set(rec_crit(list(crit)))\n",
    "    \n",
    "turn = sorted(list(crit)) \n",
    "print(sorted(list(crit)))\n",
    "plt.plot(list(crit), [1]*len(crit),linestyle='None', marker =\".\")\n",
    "\n",
    "\n",
    "slope0 = lambda b: alph + (1-2*alph)*b\n",
    "slope1 = lambda b: (1-alph) - (1-2*alph)*b\n",
    "\n",
    "#v = np.where(b < turn[0],1,np.where(b < turn[1],slope1(b),np.where(b < turn[2],0, np.where(b < turn[3],slope0(b),1))))\n",
    "#plt.plot(b,v)\n",
    "plt.legend()\n",
    "slope1(turn[1])"
   ]
  },
  {
   "cell_type": "code",
   "execution_count": 396,
   "metadata": {},
   "outputs": [
    {
     "name": "stdout",
     "output_type": "stream",
     "text": [
      "=========================================================\nPlease add the following lines to your LaTeX preamble:\n\n\\usepackage[utf8]{inputenc}\n\\usepackage{fontspec} % This line only for XeLaTeX and LuaLaTeX\n\\usepackage{pgfplots}\n=========================================================\nHorizontal alignment will be ignored as no 'x tick label text width' has been passed in the 'extra' parameter\nHorizontal alignment will be ignored as no 'y tick label text width' has been passed in the 'extra' parameter\n"
     ]
    },
    {
     "data": {
      "image/png": "[encoded data removed]",
      "text/plain": [
       "<matplotlib.figure.Figure at 0x10ea657f0>"
      ]
     },
     "metadata": {},
     "output_type": "display_data"
    }
   ],
   "source": [
    "from matplotlib2tikz import save as tikz_save\n",
    "\n",
    "\n",
    "tikz_save(\n",
    "    'mytikzv0.tex',\n",
    "    figureheight='\\\\figureheight',\n",
    "    figurewidth='\\\\figurewidth'\n",
    "    )\n",
    "\n",
    "plt.show()"
   ]
  },
  {
   "cell_type": "code",
   "execution_count": null,
   "metadata": {},
   "outputs": [],
   "source": []
  }
 ],
 "metadata": {
  "kernelspec": {
   "display_name": "Python 2",
   "language": "python",
   "name": "python2"
  },
  "language_info": {
   "codemirror_mode": {
    "name": "ipython",
    "version": 2
   },
   "file_extension": ".py",
   "mimetype": "text/x-python",
   "name": "python",
   "nbconvert_exporter": "python",
   "pygments_lexer": "ipython2",
   "version": "2.7.6"
  }
 },
 "nbformat": 4,
 "nbformat_minor": 0
}
