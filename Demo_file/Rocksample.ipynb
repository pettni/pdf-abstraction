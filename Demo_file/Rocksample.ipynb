{
 "cells": [
  {
   "cell_type": "code",
   "execution_count": 1,
   "metadata": {},
   "outputs": [],
   "source": [
    "from collections import OrderedDict\n",
    "from best.hVI_fsrm import SPaths\n",
    "from best.hVI_fsrm import spec_Spaths\n",
    "from best.hVI_models import State_Space, Det_SI_Model\n",
    "from best.hVI_types import Env, Gamma\n",
    "import best.rss18_functions as rf\n",
    "from best.hVI_config import sc, load, parr, obs_action, epsilon, rand_seed\n",
    "import numpy as np\n",
    "from collections import OrderedDict\n",
    "import matplotlib.pyplot as plt\n",
    "import copy\n",
    "import cPickle as pkl\n",
    "import random\n",
    "from os import fork\n",
    "from joblib import Parallel, delayed\n",
    "import multiprocessing\n",
    "from itertools import product\n",
    "import time\n",
    "\n",
    "from polytope import *\n"
   ]
  },
  {
   "cell_type": "code",
   "execution_count": 2,
   "metadata": {},
   "outputs": [
    {
     "data": {
      "text/plain": [
       "'2'"
      ]
     },
     "execution_count": 2,
     "metadata": {},
     "output_type": "execute_result"
    }
   ],
   "source": [
    "import sys\n",
    "sys.version[0]"
   ]
  },
  {
   "cell_type": "code",
   "execution_count": 3,
   "metadata": {},
   "outputs": [
    {
     "name": "stdout",
     "output_type": "stream",
     "text": [
      "Setting Up Scenario\nStarted wall case\nRegions: \nOrderedDict([('r4', 0), ('r5', 1), ('r10', 2), ('a1', 3), ('a2', 4)])\n\nTotal number of unknown regions: 5\nTotal number of  regions: 13\n"
     ]
    }
   ],
   "source": [
    "print \"Setting Up Scenario\"\n",
    "\n",
    "# Define Regions\n",
    "# Regs have the same format as RSS code. Regs that are added first have a higher priority\n",
    "#### Wall region\n",
    "print(\"Started wall case\")\n",
    "regs = OrderedDict()\n",
    "p1 = rf.vertex_to_poly(np.array([[2, 0], [3, 0], [3, 1], [2, 1]]))\n",
    "regs['r1'] = (p1, 1, 'obs')\n",
    "p2 = rf.vertex_to_poly(np.array([[2, 1], [3, 1], [3, 2], [2, 2]]))\n",
    "regs['r2'] = (p2, 1, 'obs')\n",
    "p3 = rf.vertex_to_poly(np.array([[2, 2], [3, 2], [3, 3], [2, 3]]))\n",
    "regs['r3'] = (p3, 1, 'obs')\n",
    "p4 = rf.vertex_to_poly(np.array([[2, 3], [3, 3], [3, 4], [2, 4]]))\n",
    "regs['r4'] = (p4, .6, 'obs', 1)\n",
    "p5 = rf.vertex_to_poly(np.array([[2, 4], [3, 4], [3, 5], [2, 5]]))\n",
    "regs['r5'] = (p5, .6, 'obs', 0)\n",
    "\n",
    "p1 = rf.vertex_to_poly(np.array([[2, 0], [3, 0], [3, -1], [2, -1]]))\n",
    "regs['r6'] = (p1, 1, 'obs')\n",
    "p2 = rf.vertex_to_poly(np.array([[2, -1], [3, -1], [3, -2], [2, -2]]))\n",
    "regs['r7'] = (p2, 1, 'obs')\n",
    "p3 = rf.vertex_to_poly(np.array([[2, -2], [3, -2], [3, -3], [2, -3]]))\n",
    "regs['r8'] = (p3, 1, 'obs')\n",
    "p4 = rf.vertex_to_poly(np.array([[2, -3], [3, -3], [3, -4], [2, -4]]))\n",
    "regs['r9'] = (p4,1, 'obs', 0)\n",
    "p5 = rf.vertex_to_poly(np.array([[2, -4], [3, -4], [3, -5], [2, -5]]))\n",
    "regs['r10'] = (p5, .9, 'obs', 0)\n",
    "\n",
    "a1 = rf.vertex_to_poly(np.array([[4, 0], [5, 0], [5, 1], [4, 1]]))\n",
    "regs['a1'] = (a1, 0.9, 'sample1', 1)\n",
    "\n",
    "a2 = rf.vertex_to_poly(np.array([[4, -3], [5, -3], [5, -2], [4, -2]]))\n",
    "regs['a2'] = (a2, 0.1, 'sample2', 1)\n",
    "\n",
    "output_color = {'r1': 'red', 'r2': 'red', 'r3': 'red', 'r4': 'red', 'r5': 'red', 'r6': 'red', 'r7': 'red',\n",
    "                'r8': 'red', 'r9': 'red', 'r10': 'red',\n",
    "                'a1': 'green','a2': 'blue', 'null': 'white'}\n",
    "# Define Null regions with bounds of the space for null output with lowest priority\n",
    "p = rf.vertex_to_poly(np.array([[-3, -5], [-3, 5], [5, -5], [5, 5]]))\n",
    "regs['null'] = (p, 1.0, 'null')\n",
    "\n",
    "# Construct belief-MDP for env\n",
    "env = Env(regs)\n",
    "print(env)"
   ]
  },
  {
   "cell_type": "code",
   "execution_count": 4,
   "metadata": {
    "scrolled": true
   },
   "outputs": [
    {
     "name": "stdout",
     "output_type": "stream",
     "text": [
      " Setup Motion and Observation Models \n The used model contains an integrator for each dimension:\n\n[[1. 0.]\n [0. 1.]]\n Constructing FIRM\n[[1. 0.]\n [0. 1.]]\n[[0.1 0. ]\n [0.  0.1]]\n[[10.51249  0.     ]\n [ 0.      10.51249]]\n"
     ]
    }
   ],
   "source": [
    "''' Configuration Parameters '''\n",
    "random.seed(rand_seed)\n",
    "np.random.seed(rand_seed)\n",
    "\n",
    "print ''' Setup Motion and Observation Models '''\n",
    "# Define Motion and Observation Model\n",
    "Wx = np.eye(2)\n",
    "Wu = np.eye(2)\n",
    "r2_bs = State_Space([-5, -5], [5, 5])\n",
    "motion_model = Det_SI_Model(0.1)\n",
    "\n",
    "print \" Constructing FIRM\"\n",
    "fig = plt.figure(figsize=(14, 14), dpi=80, facecolor='w', edgecolor='k')\n",
    "ax = fig.add_subplot(111, aspect='equal')\n",
    "prm = SPaths(r2_bs, motion_model, Wx, Wu, regs, output_color, ax)\n",
    "prm.make_nodes_edges(40, 3, init=np.array([[-4.5],[0]]))\n",
    "t1 = time.clock()\n",
    "# prm.compute_output_prob()\n",
    "t2 = time.clock()\n",
    "prm.plot(ax)\n"
   ]
  },
  {
   "cell_type": "code",
   "execution_count": 5,
   "metadata": {
    "collapsed": true
   },
   "outputs": [
    {
     "name": "stdout",
     "output_type": "stream",
     "text": [
      "-- Generate the DFA and the Product model c\n{'sample1': 2, 'obs': 1, 'sample2': 4}\n[(u'1', u'1', {'input': set([0, 1, 2, 3]), 'guard': '(1)', 'weight': 0, 'label': '(1)'}), (u'0', u'1', {'input': set([1, 3]), 'guard': u'sample', 'weight': 0, 'label': u'sample'}), (u'0', u'0', {'input': set([0]), 'guard': u'(!sample & !obs)', 'weight': 0, 'label': u'(!sample & !obs)'})]\n"
     ]
    },
    {
     "name": "stdout",
     "output_type": "stream",
     "text": [
      "Added virtual final node = (-1, -1)\n"
     ]
    }
   ],
   "source": [
    "print('-- Generate the DFA and the Product model c')\n",
    "from best.fsa import Fsa\n",
    "props = ['obs', 'sample1', 'sample2']\n",
    "props = dict(zip(props, map(lambda x: 2 ** x, range(0, len(props)))))\n",
    "print(props)\n",
    "fsa = Fsa()\n",
    "vars(Fsa)\n",
    "fsa.g.add_node(0)\n",
    "fsa.g.add_node('trap')\n",
    "fsa.g.add_node(1)\n",
    "\n",
    "fsa.g.add_edge(0,1, weight=0, input={props['sample1'],props['sample2'],props['sample2']+props['sample1']})\n",
    "fsa.g.add_edge(0,0, weight=0, input={0})\n",
    "fsa.g.add_edge(0,'trap', weight=0, input={props['obs']})\n",
    "\n",
    "fsa.props=props\n",
    "fsa.final = {1}\n",
    "fsa.init = dict({0:1})\n",
    "\n",
    "#fsa.g.add_edge(src, dest, weight=0, input=bitmaps, guard=guard, label=guard)\n",
    "from best.ltl import formula_to_mdp\n",
    "\n",
    "fsaform = Fsa()\n",
    "form = '! obs U sample'\n",
    "fsaform.from_formula(form)\n",
    "vars(fsa.g)\n",
    "print(fsaform.g.edges(data=True))\n",
    "formula_fsa = dict()\n",
    "formula_fsa['fsa'] = fsa\n",
    "formula_fsa['init'] = dict({0:1})\n",
    "formula_fsa['final'] = {1}\n",
    "formula_fsa['prop'] = props\n",
    "\n",
    "env.get_prop('r3')\n",
    "prod_ = spec_Spaths(prm, formula_fsa,env,n=125)\n"
   ]
  },
  {
   "cell_type": "code",
   "execution_count": 6,
   "metadata": {
    "collapsed": true
   },
   "outputs": [],
   "source": [
    "import matplotlib.pyplot as plt\n",
    "\n",
    "\n",
    "def plot_bel(n,i):\n",
    "    print(prod_.env.b_reg_init.tolist())\n",
    "    \n",
    "    (q,v) =  n\n",
    "    vals = []\n",
    "    for b_i in np.linspace(0,1,20):\n",
    "        b_ind = [ prob if not el == i else [b_i]  for el,prob in enumerate(prod_.env.b_reg_init.tolist()) ]\n",
    "        b = prod_.env.get_product_belief(b_ind)\n",
    "        vals += [max(prod_.val[(q,v)].alpha_mat.T * b).tolist()]\n",
    "    plt.figure(0)\n",
    "\n",
    "    plt.plot(np.linspace(0,1,20),sum(vals,[]))\n",
    "    plt.ylabel('probability')\n",
    "    ax = plt.gca()\n",
    "    ax.set_xlim(0,1)\n",
    "    ax.set_ylim(0,1)\n",
    "    plt.show()\n",
    "\n",
    "    \n",
    "\n"
   ]
  },
  {
   "cell_type": "code",
   "execution_count": 7,
   "metadata": {
    "scrolled": false,
    "collapsed": false
   },
   "outputs": [
    {
     "name": "stdout",
     "output_type": "stream",
     "text": [
      "Start Back-ups\n('iteration', 0)\n"
     ]
    },
    {
     "ename": "KeyError",
     "evalue": "(0, 20)",
     "traceback": [
      "\u001b[0;31m\u001b[0m",
      "\u001b[0;31mKeyError\u001b[0mTraceback (most recent call last)",
      "\u001b[0;32m<ipython-input-7-50caea5190f9>\u001b[0m in \u001b[0;36m<module>\u001b[0;34m()\u001b[0m\n\u001b[1;32m      9\u001b[0m     \u001b[0;32mprint\u001b[0m\u001b[0;34m(\u001b[0m\u001b[0;34m'iteration'\u001b[0m\u001b[0;34m,\u001b[0m \u001b[0mi\u001b[0m\u001b[0;34m)\u001b[0m\u001b[0;34m\u001b[0m\u001b[0m\n\u001b[1;32m     10\u001b[0m     \u001b[0mnot_converged\u001b[0m \u001b[0;34m=\u001b[0m \u001b[0mprod_\u001b[0m\u001b[0;34m.\u001b[0m\u001b[0mfull_back_up\u001b[0m\u001b[0;34m(\u001b[0m\u001b[0mopts\u001b[0m\u001b[0;34m)\u001b[0m\u001b[0;34m\u001b[0m\u001b[0m\n\u001b[0;32m---> 11\u001b[0;31m     \u001b[0mopt\u001b[0m \u001b[0;34m=\u001b[0m \u001b[0mnp\u001b[0m\u001b[0;34m.\u001b[0m\u001b[0munique\u001b[0m\u001b[0;34m(\u001b[0m\u001b[0mprod_\u001b[0m\u001b[0;34m.\u001b[0m\u001b[0mval\u001b[0m\u001b[0;34m[\u001b[0m\u001b[0mn\u001b[0m\u001b[0;34m]\u001b[0m\u001b[0;34m.\u001b[0m\u001b[0mbest_edge\u001b[0m\u001b[0;34m)\u001b[0m\u001b[0;34m\u001b[0m\u001b[0m\n\u001b[0m\u001b[1;32m     12\u001b[0m     \u001b[0;32mif\u001b[0m \u001b[0mi\u001b[0m\u001b[0;34m>\u001b[0m\u001b[0;36m20\u001b[0m\u001b[0;34m:\u001b[0m\u001b[0;34m\u001b[0m\u001b[0m\n\u001b[1;32m     13\u001b[0m         \u001b[0mnot_converged\u001b[0m \u001b[0;34m=\u001b[0m \u001b[0mFalse\u001b[0m\u001b[0;34m\u001b[0m\u001b[0m\n",
      "\u001b[0;31mKeyError\u001b[0m: (0, 20)"
     ],
     "output_type": "error"
    }
   ],
   "source": [
    "print('Start Back-ups')\n",
    "\n",
    "not_converged = True\n",
    "i = 0\n",
    "(q,key) = prod_.init[0]\n",
    "n = (q,20) \n",
    "opts =dict()\n",
    "while not_converged:\n",
    "    print('iteration', i)\n",
    "    not_converged = prod_.full_back_up(opts)\n",
    "    opt = np.unique(prod_.val[n].best_edge) \n",
    "    if i>20:\n",
    "        not_converged = False\n",
    "    i += 1"
   ]
  },
  {
   "cell_type": "code",
   "execution_count": 21,
   "metadata": {
    "collapsed": true
   },
   "outputs": [
    {
     "ename": "NameError",
     "evalue": "name 'pdf' is not defined",
     "traceback": [
      "\u001b[0;31m\u001b[0m",
      "\u001b[0;31mNameError\u001b[0mTraceback (most recent call last)",
      "\u001b[0;32m<ipython-input-21-ef4f16a48306>\u001b[0m in \u001b[0;36m<module>\u001b[0;34m()\u001b[0m\n\u001b[1;32m      2\u001b[0m \u001b[0;32mfrom\u001b[0m \u001b[0mbest\u001b[0m\u001b[0;34m.\u001b[0m\u001b[0mhVI_fsrm\u001b[0m \u001b[0;32mimport\u001b[0m \u001b[0mplot_optimizers\u001b[0m\u001b[0;34m,\u001b[0m \u001b[0msimulate\u001b[0m\u001b[0;34m\u001b[0m\u001b[0m\n\u001b[1;32m      3\u001b[0m \u001b[0;32mimport\u001b[0m \u001b[0mimp\u001b[0m\u001b[0;34m\u001b[0m\u001b[0m\n\u001b[0;32m----> 4\u001b[0;31m \u001b[0mimp\u001b[0m\u001b[0;34m.\u001b[0m\u001b[0mreload\u001b[0m\u001b[0;34m(\u001b[0m\u001b[0mpdf\u001b[0m\u001b[0;34m-\u001b[0m\u001b[0mabstraction\u001b[0m\u001b[0;34m)\u001b[0m\u001b[0;34m\u001b[0m\u001b[0m\n\u001b[0m\u001b[1;32m      5\u001b[0m \u001b[0mplot_optimizers\u001b[0m\u001b[0;34m(\u001b[0m\u001b[0mprod_\u001b[0m\u001b[0;34m,\u001b[0m\u001b[0max\u001b[0m\u001b[0;34m)\u001b[0m\u001b[0;34m\u001b[0m\u001b[0m\n\u001b[1;32m      6\u001b[0m \u001b[0;34m\u001b[0m\u001b[0m\n",
      "\u001b[0;31mNameError\u001b[0m: name 'pdf' is not defined"
     ],
     "output_type": "error"
    }
   ],
   "source": [
    "\n",
    "from best.hVI_fsrm import plot_optimizers, simulate\n",
    "import imp\n",
    "imp.reload(F)\n",
    "plot_optimizers(prod_,ax)\n",
    "\n",
    "best.hVI_fsrm.simulate.simulate(prod_, regs)\n"
   ]
  },
  {
   "cell_type": "code",
   "execution_count": 9,
   "metadata": {
    "scrolled": false,
    "collapsed": false
   },
   "outputs": [
    {
     "name": "stdout",
     "output_type": "stream",
     "text": [
      "[[0.00144]\n [0.00216]\n [0.00216]\n [0.00324]\n [0.01296]\n [0.01944]\n [0.01944]\n [0.02916]\n [0.01296]\n [0.01944]\n [0.01944]\n [0.02916]\n [0.11664]\n [0.17496]\n [0.17496]\n [0.26244]\n [0.00016]\n [0.00024]\n [0.00024]\n [0.00036]\n [0.00144]\n [0.00216]\n [0.00216]\n [0.00324]\n [0.00144]\n [0.00216]\n [0.00216]\n [0.00324]\n [0.01296]\n [0.01944]\n [0.01944]\n [0.02916]]\n[(0, <node at x:-4.5 y:0.0>)]\ngoing from vertex [[-4.5]\n [ 0. ]] to vertex [[-3.45837]\n [ 2.4005 ]] q = 0\ngoing from vertex [[-3.45837]\n [ 2.4005 ]] to vertex [[-1.65352]\n [ 4.78058]] q = 0\ngoing from vertex [[-1.65352]\n [ 4.78058]] to vertex [[1.24582]\n [4.50314]] q = 0\nObserving r5 at vertex[[1.24582]\n [4.50314]] q = 0\nObserving r5 at vertex[[1.24582]\n [4.50314]] q = 0\ngoing from vertex [[1.24582]\n [4.50314]] to vertex [[2.5]\n [4.5]] q = 0\ngoing from vertex [[2.5]\n [4.5]] to vertex [[4.44225]\n [3.52736]] q = 0\ngoing from vertex [[4.44225]\n [3.52736]] to vertex [[3.94743]\n [1.05778]] q = 0\ngoing from vertex [[3.94743]\n [1.05778]] to vertex [[4.5]\n [0.5]] q = 0\nbreak\n[<node at x:-4.5 y:0.0>, <node at x:-3.4583715762032763 y:2.4004969651540478>, <node at x:-1.6535247089394423 y:4.780580790165189>, <node at x:1.2458211173535236 y:4.503135246995253>, <node at x:2.5 y:4.5>, <node at x:4.442251360530422 y:3.5273554110928487>, <node at x:3.947430739278907 y:1.0577769313558498>, <node at x:4.5 y:0.5>]\n[0.5275772802010633, 0.5329063436374377, 0.5382892359974119, 0.5436614045157471, 0.8313567391292263, 0.8640008599313895, 0.8741378458127689, 0.882967521022999, 0.891886384871716]\n[<node at x:-3.4583715762032763 y:2.4004969651540478>, <node at x:-1.6535247089394423 y:4.780580790165189>, <node at x:1.2458211173535236 y:4.503135246995253>, 'Observing = r5', 'Observing = r5', <node at x:2.5 y:4.5>, <node at x:4.442251360530422 y:3.5273554110928487>, <node at x:3.947430739278907 y:1.0577769313558498>, <node at x:4.5 y:0.5>]\n"
     ]
    }
   ],
   "source": [
    "''' Execute the policy '''\n",
    "b = prod_.env.b_prod_init\n",
    "plt.figure()\n",
    "print b\n",
    "print(prod_.init)\n",
    "(q,v) = prod_.init[0]\n",
    "# v = 0\n",
    "traj = []\n",
    "v_list =[v]\n",
    "act_list =[]\n",
    "vals = []\n",
    "for t in range(150):\n",
    "    # import pdb; pdb.set_trace()\n",
    "    #print((q,v))\n",
    "    #print(prod_.val[(q,v)].alpha_mat.T * np.array(b))\n",
    "    #print \"val = \" + str(max(prod_.val[(q,v)].alpha_mat.T * b))\n",
    "    #vals += [str(max(prod_.val[(q,v)].alpha_mat.T * b))]\n",
    "    # Get best edge\n",
    "    alpha_new, best_e, opt = prod_._back_up(q, v, b)\n",
    "    # print(\"best action = \",best_e)\n",
    "    vals += [opt]\n",
    "#     i_best_alpha = np.argmax(prod_.val[(q,v)].alpha_mat.T * b)\n",
    "#     best_e = prod_.val[(q,v)].best_edge[i_best_alpha]\n",
    "\n",
    "    if obs_action is True and best_e < 0:\n",
    "        reg_key = prod_.env.regs.keys()[-1 * (best_e + 1)]\n",
    "        (b_, o, i_o) = env.get_b_o_reg(b, env.regs[reg_key][3], reg_key, v.mean)\n",
    "        b = b_\n",
    "        act_list += [\"Observing = \" +reg_key ]\n",
    "        print \"Observing \" +reg_key + \" at vertex\" + str(v) + \" q = \" + str(q) \n",
    "        continue\n",
    "    # Simulate trajectory under edges\n",
    "    edge_controller = prm.edge_controllers[v][prm.edges[v].index(best_e)]\n",
    "    traj_e = edge_controller.simulate_trajectory(edge_controller.node_i)\n",
    "    traj_n = prm.node_controllers[prm.nodes.index(edge_controller.node_j)].simulate_trajectory(traj_e[-1])\n",
    "    # traj_i = [(b, i, q) for i in traj_e + traj_n]\n",
    "    traj_i = traj_e + traj_n\n",
    "    traj = traj + traj_i\n",
    "    # Get q', v', q' and loop\n",
    "    z = prm.get_output_traj(traj_e + traj_n)\n",
    "    v_ = best_e\n",
    "    act_list += [best_e]\n",
    "\n",
    "    if obs_action is False:\n",
    "        print \"TODO: Implement backup without obs_action\"\n",
    "    else:\n",
    "        if regs[z][2] is 'null':\n",
    "            b_ = b\n",
    "            q_ = q\n",
    "        elif regs[z][2] is 'obs' or regs[z][2] is 'sample1':\n",
    "            q_ = None\n",
    "            b_ = None\n",
    "            # if region is known\n",
    "            if regs[z][1] == 1 or regs[z][1] == 0:\n",
    "                # if label is true\n",
    "                if regs[z][1] == 1:\n",
    "                    q_ = prod_.fsa.next_states_of_fsa(q,regs[z][2]) \n",
    "                    b_ = b\n",
    "            # else update belief by simulating an observation\n",
    "            else:\n",
    "                (b_, o, i_o) = env.get_b_o_reg(b, env.regs[z][3], z)\n",
    "                # if true label is true then do transition in DFA\n",
    "                # We are assuming that we get zero false rate when we pass through the region\n",
    "                #print(regs[z][2], i_o)\n",
    "                if regs[z][3] is 1:\n",
    "                    #print(regs[z][2], regs[z][3])\n",
    "                    q_ = prod_.fsa.next_states_of_fsa(q,(env.regs[z][2],)) \n",
    "            if q_ is None:\n",
    "                q_ = q\n",
    "            if b_ is None:\n",
    "                b_ = b\n",
    "    print \"going from vertex \" + str(v) + \" to vertex \" + str(v_) + \" q = \" + str(q)\n",
    "\n",
    "    b = b_\n",
    "    q = q_\n",
    "    v = v_\n",
    "    v_list += [v]\n",
    "    if q in list(prod_.dfsa_final) or q == list(prod_.dfsa_final):\n",
    "        print('break')\n",
    "        break\n",
    "print(v_list)\n",
    "print(vals)\n",
    "print(act_list)\n",
    "%matplotlib inline\n",
    "f =prod_.firm.plot_traj(traj, 'green')\n",
    "plt.show()"
   ]
  },
  {
   "cell_type": "code",
   "execution_count": 10,
   "metadata": {
    "collapsed": true
   },
   "outputs": [],
   "source": [
    "plt.show()"
   ]
  },
  {
   "cell_type": "code",
   "execution_count": 11,
   "metadata": {
    "collapsed": true
   },
   "outputs": [],
   "source": []
  },
  {
   "cell_type": "code",
   "execution_count": 11,
   "metadata": {},
   "outputs": [],
   "source": []
  },
  {
   "cell_type": "code",
   "execution_count": 11,
   "metadata": {},
   "outputs": [],
   "source": []
  }
 ],
 "metadata": {
  "kernelspec": {
   "display_name": "Python 2",
   "language": "python",
   "name": "python2"
  },
  "language_info": {
   "codemirror_mode": {
    "name": "ipython",
    "version": 2
   },
   "file_extension": ".py",
   "mimetype": "text/x-python",
   "name": "python",
   "nbconvert_exporter": "python",
   "pygments_lexer": "ipython2",
   "version": "2.7.13"
  }
 },
 "nbformat": 4,
 "nbformat_minor": 1
}
