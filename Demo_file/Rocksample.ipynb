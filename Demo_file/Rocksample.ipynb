{
 "cells": [
  {
   "cell_type": "code",
   "execution_count": 2,
   "metadata": {
    "collapsed": true
   },
   "outputs": [
    {
     "name": "stdout",
     "output_type": "stream",
     "text": [
      "rss\n"
     ]
    }
   ],
   "source": [
    "from best.ltl import formula_to_mdp\n",
    "from best.hVI_firm import FIRM\n",
    "from best.hVI_models import Rn_Belief_Space, SI_Model, Gaussian_Noise\n",
    "from best.hVI_types import Env, Gamma\n",
    "import best.rss18_functions as rf\n",
    "from best.hVI_config import sc, load, parr, obs_action, epsilon, rand_seed\n",
    "print(sc)\n",
    "import numpy as np\n",
    "from collections import OrderedDict\n",
    "import matplotlib.pyplot as plt\n",
    "import copy\n",
    "import cPickle as pkl\n",
    "import random\n",
    "from os import fork\n",
    "from joblib import Parallel, delayed\n",
    "import multiprocessing\n",
    "from itertools import product\n",
    "import time\n",
    "\n",
    "%matplotlib inline"
   ]
  },
  {
   "cell_type": "code",
   "execution_count": 7,
   "metadata": {
    "collapsed": true
   },
   "outputs": [
    {
     "name": "stdout",
     "output_type": "stream",
     "text": [
      "Setting Up Scenario\nStarted wall case\n"
     ]
    }
   ],
   "source": [
    "\n",
    "\n",
    "''' TODO:\n",
    "- Smarter expansion of belief set to make algorithm anytime\n",
    "'''\n",
    "\n",
    "''' Configuration Parameters '''\n",
    "random.seed(rand_seed)\n",
    "np.random.seed(rand_seed)\n",
    "\n",
    "''' Setup Motion and Observation Models '''\n",
    "# Define Motion and Observation Model\n",
    "Wx = np.eye(2)\n",
    "Wu = np.eye(2)\n",
    "r2_bs = Rn_Belief_Space([-5, -5], [5, 5])\n",
    "motion_model = SI_Model(0.1)\n",
    "obs_model = Gaussian_Noise(2)\n",
    "\n",
    "print \"Setting Up Scenario\"\n",
    "\n",
    "\n",
    "# Define Regions\n",
    "# Regs have the same format as RSS code. Regs that are added first have a higher priority\n",
    "#### Wall region\n",
    "print(\"Started wall case\")\n",
    "regs = OrderedDict()\n",
    "p1 = rf.vertex_to_poly(np.array([[2, 0], [3, 0], [3, 1], [2, 1]]))\n",
    "regs['r1'] = (p1, 1, 'obs')\n",
    "p2 = rf.vertex_to_poly(np.array([[2, 1], [3, 1], [3, 2], [2, 2]]))\n",
    "regs['r2'] = (p2, 1, 'obs')\n",
    "p3 = rf.vertex_to_poly(np.array([[2, 2], [3, 2], [3, 3], [2, 3]]))\n",
    "regs['r3'] = (p3, 1, 'obs')\n",
    "p4 = rf.vertex_to_poly(np.array([[2, 3], [3, 3], [3, 4], [2, 4]]))\n",
    "regs['r4'] = (p4, 0.5, 'obs', 0)\n",
    "p5 = rf.vertex_to_poly(np.array([[2, 4], [3, 4], [3, 5], [2, 5]]))\n",
    "regs['r5'] = (p5, 0, 'obs', 0)\n",
    "\n",
    "\n",
    "p1 = rf.vertex_to_poly(np.array([[2, 0], [3, 0], [3, -1], [2, -1]]))\n",
    "regs['r6'] = (p1, 1, 'obs')\n",
    "p2 = rf.vertex_to_poly(np.array([[2, -1], [3, -1], [3, -2], [2, -2]]))\n",
    "regs['r7'] = (p2, 1, 'obs')\n",
    "p3 = rf.vertex_to_poly(np.array([[2, -2], [3, -2], [3, -3], [2, -3]]))\n",
    "regs['r8'] = (p3, 1, 'obs')\n",
    "p4 = rf.vertex_to_poly(np.array([[2, -3], [3, -3], [3, -4], [2, -4]]))\n",
    "regs['r9'] = (p4, 0.5, 'obs', 0)\n",
    "p5 = rf.vertex_to_poly(np.array([[2, -4], [3, -4], [3, -5], [2, -5]]))\n",
    "regs['r10'] = (p5, 0, 'obs', 0)\n",
    "\n",
    "\n",
    "\n",
    "a1 = rf.vertex_to_poly(np.array([[4, 0], [5, 0], [5, 1], [4, 1]]))\n",
    "regs['a1'] = (a1, 0.9, 'sample', 1)\n",
    "\n",
    "\n",
    "output_color = {'r1':'red', 'r2':'red', 'r3':'red', 'r4':'red', 'r5':'red','r6':'red','r7':'red',\n",
    "                'r8':'red','r9':'red','r10':'red',\n",
    "            'a1':'green',  'null':'white'}\n",
    "# Define Null regions with bounds of the space for null output with lowest priority\n",
    "p = rf.vertex_to_poly(np.array([[r2_bs.x_low[0], r2_bs.x_low[1]],\n",
    "                                [r2_bs.x_up[0], r2_bs.x_low[1]],\n",
    "                                [r2_bs.x_low[0], r2_bs.x_up[1]],\n",
    "                                [r2_bs.x_up[0], r2_bs.x_up[1]]]))\n",
    "regs['null'] = (p, 1.0, 'null')\n",
    "# Construct belief-MDP for env\n",
    "env = Env(regs)\n",
    "# belief set used for PBVI\n",
    "probs = [0, 0.2, 0.5, 0.8, 1] # what is this?\n",
    "probs_list = [probs for i in range(env.n_unknown_regs)]\n",
    "if obs_action is True:\n",
    "    b_reg_set = [env.get_reg_belief(list(i)) for i in product(*probs_list)]\n",
    "b_prod_set = [env.get_product_belief(list(i)) for i in product(*probs_list)]\n",
    "# True state of the regs used to simulate trajectories after policy is generated\n",
    "x_e_true = env.get_product_belief([val[3] for key, val in env.regs.iteritems()])\n",
    "# b_set_test = [env.get_product_belief([b1, b2, b3]) for b1 in probs for b2 in probs for b3 in probs]\n",
    "# x_e_true_test = env.get_product_belief([0, 1, 0])\n",
    "\n",
    "\n"
   ]
  },
  {
   "cell_type": "code",
   "execution_count": 9,
   "metadata": {
    "collapsed": true
   },
   "outputs": [
    {
     "name": "stdout",
     "output_type": "stream",
     "text": [
      "Constructing FIRM\n"
     ]
    },
    {
     "data": {
      "image/png": "[encoded data removed]",
      "text/plain": [
       "<matplotlib.figure.Figure at 0x115d7ed10>"
      ]
     },
     "metadata": {},
     "output_type": "display_data"
    }
   ],
   "source": [
    "\n",
    "# Construct and Visualize FIRM\n",
    "print \"Constructing FIRM\"\n",
    "fig = plt.figure(0)\n",
    "ax = fig.add_subplot(111, aspect='equal')\n",
    "firm = FIRM(r2_bs, motion_model, obs_model, Wx, Wu, regs, output_color, ax, sc)\n",
    "firm.compute_output_prob()\n",
    "firm.plot(ax)\n"
   ]
  },
  {
   "cell_type": "code",
   "execution_count": null,
   "metadata": {
    "collapsed": true
   },
   "outputs": [
    {
     "name": "stdout",
     "output_type": "stream",
     "text": [
      "Constructing FIRM\n"
     ]
    },
    {
     "data": {
      "image/png": "[encoded data removed]",
      "text/plain": [
       "<matplotlib.figure.Figure at 0x115d7ed10>"
      ]
     },
     "metadata": {},
     "output_type": "display_data"
    }
   ],
   "source": [
    "\n",
    "# Create DFA\n",
    "formula = '! obs U sample'\n",
    "dfsa, dfsa_init, dfsa_final, proplist = formula_to_mdp(formula)\n",
    "\n",
    "def backup(i_b, i_v, i_q, val):\n",
    "    b = val[i_v][i_q].b_prod_points[i_b]\n",
    "    if i_q in dfsa_final:\n",
    "        return (np.ones([len(b), 1]), firm.edges[i_v][0]) # return 0th edge caz it doesn't matter\n",
    "    index_alpha_init = np.argmax(val[i_v][i_q].alpha_mat.T * b)  # set max alpha to current max\n",
    "    max_alpha_b_e = val[i_v][i_q].alpha_mat[:, index_alpha_init]\n",
    "    best_e = val[i_v][i_q].best_edge[index_alpha_init]\n",
    "    for i_e in range(len(firm.edges[i_v])):\n",
    "        p_outputs = firm.edge_output_prob[i_v][i_e]\n",
    "        v_e = firm.edges[i_v][i_e]\n",
    "        O = env.get_O_prod(firm.nodes[v_e].mean)\n",
    "        sum_z = np.zeros([2**env.n_unknown_regs, 1])\n",
    "        for z, info in firm.regs.iteritems():\n",
    "            if p_outputs[z] == 0:\n",
    "                continue\n",
    "            sum_o = np.zeros([2**env.n_unknown_regs, 1])\n",
    "            for i_o in range(len(O)):\n",
    "                q_z_o = None\n",
    "                # if we are in an obstacle region and we observe an obstacle/sample\n",
    "                if regs[z][1]==1:\n",
    "                    # if regs[z][2]=='obs' or regs[z][2]=='sample':\n",
    "                    if regs[z][2]=='obs' or regs[z][2]=='sample' and regs[z][0].contains(firm.nodes[v_e].mean):\n",
    "                        q_z_o = np.argmax(dfsa.T(proplist[regs[z][2]])[i_q, :])\n",
    "                elif regs[z][1]>0:\n",
    "                    # if (regs[z][2]=='obs' or regs[z][2]=='sample') and (env.x_e[i_o] & 2**env.reg_index[z] == 2**env.reg_index[z]):\n",
    "                    if (regs[z][2]=='obs' or regs[z][2]=='sample') and (env.x_e[i_o] & 2**env.reg_index[z] == 2**env.reg_index[z]) and regs[z][0].contains(firm.nodes[v_e].mean):\n",
    "                        q_z_o = np.argmax(dfsa.T(proplist[regs[z][2]])[i_q, :])\n",
    "                if q_z_o is None:\n",
    "                    q_z_o = i_q\n",
    "                gamma_o_e = np.diag(np.ravel(O[i_o, :])) * np.matrix(val[v_e][q_z_o].alpha_mat)\n",
    "                index = np.argmax(gamma_o_e.T * b)\n",
    "                sum_o = sum_o + gamma_o_e[:, index]\n",
    "                # if (i_v==8 and i_q==0 and (v_e==7) and i==3):\n",
    "                    # print \"obs = \" + str(i_o) + \"q_z_o = \" + str(q_z_o)\n",
    "                    # print sum_z.T * b\n",
    "                    # print max_alpha_b_e.T * np.matrix(b)\n",
    "                    # import pdb; pdb.set_trace()\n",
    "            sum_z = sum_z + p_outputs[z] * sum_o\n",
    "        if (max_alpha_b_e.T * np.matrix(b) + epsilon) < (sum_z.T * np.matrix(b)):\n",
    "            max_alpha_b_e = sum_z\n",
    "            best_e = firm.edges[i_v][i_e]\n",
    "    return (max_alpha_b_e, best_e)\n"
   ]
  },
  {
   "cell_type": "code",
   "execution_count": 4,
   "metadata": {
    "collapsed": true
   },
   "outputs": [],
   "source": [
    "\n",
    "def backup_with_obs_action(i_b, i_v, i_q, val):\n",
    "    b = val[i_v][i_q].b_prod_points[i_b]\n",
    "    if i_q in dfsa_final:\n",
    "        return (np.ones([len(b), 1]), firm.edges[i_v][0]) # return 0th edge caz it doesn't matter\n",
    "    index_alpha_init = np.argmax(val[i_v][i_q].alpha_mat.T * b)  # set max alpha to current max\n",
    "    max_alpha_b_e = val[i_v][i_q].alpha_mat[:, index_alpha_init]\n",
    "    best_e = val[i_v][i_q].best_edge[index_alpha_init]\n",
    "    # Foreach edge action\n",
    "    for i_e in range(len(firm.edges[i_v])):\n",
    "        p_outputs = firm.edge_output_prob[i_v][i_e]\n",
    "        v_e = firm.edges[i_v][i_e]\n",
    "        sum_z = np.zeros([2**env.n_unknown_regs, 1])\n",
    "        for z, info in firm.regs.iteritems():\n",
    "            if p_outputs[z] == 0:\n",
    "                continue\n",
    "            # if (i_v==0 and i_q==0 and i_b==31 and i==7):\n",
    "                # print \"obs = \" + str(i_o) + \"q_z_o = \" + str(q_z_o)\n",
    "                # print sum_z.T * b\n",
    "                # print max_alpha_b_e.T * np.matrix(b)\n",
    "                # import pdb; pdb.set_trace()\n",
    "            # If we get a null output from an edge or region is known then don't sum over obs\n",
    "            if regs[z][2] is 'null' or regs[z][1]==1 or regs[z][1]==0:\n",
    "                if (regs[z][2]=='obs' or regs[z][2]=='sample') and regs[z][1]==1:\n",
    "                    q_z_o = np.argmax(dfsa.T(proplist[regs[z][2]])[i_q, :])\n",
    "                elif regs[z][2] is 'null' or regs[z][1]==0:\n",
    "                    q_z_o = i_q\n",
    "                gamma_e = np.matrix(val[v_e][q_z_o].alpha_mat)\n",
    "                index = np.argmax(gamma_e.T * b)\n",
    "                sum_o = gamma_e[:, index]\n",
    "            else:\n",
    "                sum_o = 0\n",
    "                O = env.get_O_reg_prob(z)\n",
    "                for i_o in range(2):\n",
    "                    q_z_o = None\n",
    "                    # if we pass through an unknown obstacle/sample region and also observe obstacle/sample\n",
    "                    if regs[z][1]>0:\n",
    "                        if (regs[z][2]=='obs' or regs[z][2]=='sample') and (i_o is 1):\n",
    "                            q_z_o = np.argmax(dfsa.T(proplist[regs[z][2]])[i_q, :])\n",
    "                    if q_z_o is None:\n",
    "                        q_z_o = i_q\n",
    "                    gamma_e = np.diag(np.ravel(O[i_o, :])) * np.matrix(val[v_e][q_z_o].alpha_mat)\n",
    "                    index = np.argmax(gamma_e.T * b)\n",
    "                    sum_o = sum_o + gamma_e[:, index]\n",
    "            sum_z = sum_z + p_outputs[z] * sum_o\n",
    "        if (max_alpha_b_e.T * np.matrix(b) + epsilon) < (sum_z.T * np.matrix(b)):\n",
    "            max_alpha_b_e = sum_z\n",
    "            best_e = firm.edges[i_v][i_e]\n",
    "    # Foreach obs action\n",
    "    for key, info in env.regs.iteritems():\n",
    "        p_outputs = firm.edge_output_prob[i_v][i_e]\n",
    "        O = env.get_O_reg_prob(key, firm.nodes[i_v].mean)\n",
    "        sum_o = np.zeros([2**env.n_unknown_regs, 1])\n",
    "        for i_o in range(2):\n",
    "            gamma_o_v = np.diag(np.ravel(O[i_o, :])) * np.matrix(val[i_v][i_q].alpha_mat)\n",
    "            index = np.argmax(gamma_o_v.T * b)\n",
    "            sum_o = sum_o + gamma_o_v[:, index]\n",
    "        if (max_alpha_b_e.T * np.matrix(b) + epsilon) < (sum_o.T * np.matrix(b)):\n",
    "            max_alpha_b_e = sum_o\n",
    "            best_e = -1*(env.regs.keys().index(key)+1)  # region 0 will map to edge -1\n",
    "    return (max_alpha_b_e, best_e)\n"
   ]
  },
  {
   "cell_type": "code",
   "execution_count": 5,
   "metadata": {
    "collapsed": true
   },
   "outputs": [
    {
     "name": "stdout",
     "output_type": "stream",
     "text": [
      "Running Value Iteration\nIteration = 0\nBacking up i_v = 0 of 15\nBacking up i_v = 1 of 15\n"
     ]
    },
    {
     "name": "stdout",
     "output_type": "stream",
     "text": [
      "Backing up i_v = 2 of 15\nBacking up i_v = 3 of 15\n"
     ]
    },
    {
     "name": "stdout",
     "output_type": "stream",
     "text": [
      "Backing up i_v = 4 of 15\nBacking up i_v = 5 of 15\n"
     ]
    },
    {
     "name": "stdout",
     "output_type": "stream",
     "text": [
      "Backing up i_v = 6 of 15\nBacking up i_v = 7 of 15\n"
     ]
    },
    {
     "name": "stdout",
     "output_type": "stream",
     "text": [
      "Backing up i_v = 8 of 15\n"
     ]
    },
    {
     "name": "stdout",
     "output_type": "stream",
     "text": [
      "Backing up i_v = 9 of 15\nBacking up i_v = 10 of 15\n"
     ]
    },
    {
     "name": "stdout",
     "output_type": "stream",
     "text": [
      "Backing up i_v = 11 of 15\n"
     ]
    },
    {
     "name": "stdout",
     "output_type": "stream",
     "text": [
      "Backing up i_v = 12 of 15\nBacking up i_v = 13 of 15\n"
     ]
    },
    {
     "name": "stdout",
     "output_type": "stream",
     "text": [
      "Backing up i_v = 14 of 15\nIteration = 1\nBacking up i_v = 0 of 15\n"
     ]
    },
    {
     "name": "stdout",
     "output_type": "stream",
     "text": [
      "Backing up i_v = 1 of 15\nBacking up i_v = 2 of 15\nBacking up i_v = 3 of 15\n"
     ]
    },
    {
     "name": "stdout",
     "output_type": "stream",
     "text": [
      "Backing up i_v = 4 of 15\nBacking up i_v = 5 of 15\n"
     ]
    },
    {
     "name": "stdout",
     "output_type": "stream",
     "text": [
      "Backing up i_v = 6 of 15\nBacking up i_v = 7 of 15\n"
     ]
    },
    {
     "name": "stdout",
     "output_type": "stream",
     "text": [
      "Backing up i_v = 8 of 15\nBacking up i_v = 9 of 15\n"
     ]
    },
    {
     "name": "stdout",
     "output_type": "stream",
     "text": [
      "Backing up i_v = 10 of 15\nBacking up i_v = 11 of 15\n"
     ]
    },
    {
     "name": "stdout",
     "output_type": "stream",
     "text": [
      "Backing up i_v = 12 of 15\nBacking up i_v = 13 of 15\n"
     ]
    },
    {
     "name": "stdout",
     "output_type": "stream",
     "text": [
      "Backing up i_v = 14 of 15\nIteration = 2\nBacking up i_v = 0 of 15\n"
     ]
    },
    {
     "name": "stdout",
     "output_type": "stream",
     "text": [
      "Backing up i_v = 1 of 15\nBacking up i_v = 2 of 15\nBacking up i_v = 3 of 15\n"
     ]
    },
    {
     "name": "stdout",
     "output_type": "stream",
     "text": [
      "Backing up i_v = 4 of 15\nBacking up i_v = 5 of 15\n"
     ]
    },
    {
     "name": "stdout",
     "output_type": "stream",
     "text": [
      "Backing up i_v = 6 of 15\nBacking up i_v = 7 of 15\n"
     ]
    },
    {
     "name": "stdout",
     "output_type": "stream",
     "text": [
      "Backing up i_v = 8 of 15\nBacking up i_v = 9 of 15\n"
     ]
    },
    {
     "name": "stdout",
     "output_type": "stream",
     "text": [
      "Backing up i_v = 10 of 15\nBacking up i_v = 11 of 15\n"
     ]
    },
    {
     "name": "stdout",
     "output_type": "stream",
     "text": [
      "Backing up i_v = 12 of 15\nBacking up i_v = 13 of 15\n"
     ]
    },
    {
     "name": "stdout",
     "output_type": "stream",
     "text": [
      "Backing up i_v = 14 of 15\nIteration = 3\nBacking up i_v = 0 of 15\n"
     ]
    },
    {
     "name": "stdout",
     "output_type": "stream",
     "text": [
      "Backing up i_v = 1 of 15\nBacking up i_v = 2 of 15\nBacking up i_v = 3 of 15\n"
     ]
    },
    {
     "name": "stdout",
     "output_type": "stream",
     "text": [
      "Backing up i_v = 4 of 15\nBacking up i_v = 5 of 15\n"
     ]
    },
    {
     "name": "stdout",
     "output_type": "stream",
     "text": [
      "Backing up i_v = 6 of 15\nBacking up i_v = 7 of 15\n"
     ]
    },
    {
     "name": "stdout",
     "output_type": "stream",
     "text": [
      "Backing up i_v = 8 of 15\nBacking up i_v = 9 of 15\n"
     ]
    },
    {
     "name": "stdout",
     "output_type": "stream",
     "text": [
      "Backing up i_v = 10 of 15\nBacking up i_v = 11 of 15\n"
     ]
    },
    {
     "name": "stdout",
     "output_type": "stream",
     "text": [
      "Backing up i_v = 12 of 15\nBacking up i_v = 13 of 15\n"
     ]
    },
    {
     "name": "stdout",
     "output_type": "stream",
     "text": [
      "Backing up i_v = 14 of 15\nIteration = 4\nBacking up i_v = 0 of 15\n"
     ]
    },
    {
     "name": "stdout",
     "output_type": "stream",
     "text": [
      "Backing up i_v = 1 of 15\nBacking up i_v = 2 of 15\n"
     ]
    },
    {
     "name": "stdout",
     "output_type": "stream",
     "text": [
      "Backing up i_v = 3 of 15\n"
     ]
    },
    {
     "name": "stdout",
     "output_type": "stream",
     "text": [
      "Backing up i_v = 4 of 15\nBacking up i_v = 5 of 15\n"
     ]
    },
    {
     "name": "stdout",
     "output_type": "stream",
     "text": [
      "Backing up i_v = 6 of 15\nBacking up i_v = 7 of 15\n"
     ]
    },
    {
     "name": "stdout",
     "output_type": "stream",
     "text": [
      "Backing up i_v = 8 of 15\nBacking up i_v = 9 of 15\n"
     ]
    },
    {
     "name": "stdout",
     "output_type": "stream",
     "text": [
      "Backing up i_v = 10 of 15\nBacking up i_v = 11 of 15\n"
     ]
    },
    {
     "name": "stdout",
     "output_type": "stream",
     "text": [
      "Backing up i_v = 12 of 15\nBacking up i_v = 13 of 15\n"
     ]
    },
    {
     "name": "stdout",
     "output_type": "stream",
     "text": [
      "Backing up i_v = 14 of 15\nIteration = 5\nBacking up i_v = 0 of 15\n"
     ]
    },
    {
     "name": "stdout",
     "output_type": "stream",
     "text": [
      "Backing up i_v = 1 of 15\nBacking up i_v = 2 of 15\nBacking up i_v = 3 of 15\n"
     ]
    },
    {
     "name": "stdout",
     "output_type": "stream",
     "text": [
      "Backing up i_v = 4 of 15\nBacking up i_v = 5 of 15\n"
     ]
    },
    {
     "name": "stdout",
     "output_type": "stream",
     "text": [
      "Backing up i_v = 6 of 15\nBacking up i_v = 7 of 15\n"
     ]
    },
    {
     "name": "stdout",
     "output_type": "stream",
     "text": [
      "Backing up i_v = 8 of 15\nBacking up i_v = 9 of 15\n"
     ]
    },
    {
     "name": "stdout",
     "output_type": "stream",
     "text": [
      "Backing up i_v = 10 of 15\nBacking up i_v = 11 of 15\n"
     ]
    },
    {
     "name": "stdout",
     "output_type": "stream",
     "text": [
      "Backing up i_v = 12 of 15\nBacking up i_v = 13 of 15\n"
     ]
    },
    {
     "name": "stdout",
     "output_type": "stream",
     "text": [
      "Backing up i_v = 14 of 15\nIteration = 6\nBacking up i_v = 0 of 15\n"
     ]
    },
    {
     "name": "stdout",
     "output_type": "stream",
     "text": [
      "Backing up i_v = 1 of 15\nBacking up i_v = 2 of 15\nBacking up i_v = 3 of 15\n"
     ]
    },
    {
     "name": "stdout",
     "output_type": "stream",
     "text": [
      "Backing up i_v = 4 of 15\nBacking up i_v = 5 of 15\n"
     ]
    },
    {
     "name": "stdout",
     "output_type": "stream",
     "text": [
      "Backing up i_v = 6 of 15\nBacking up i_v = 7 of 15\n"
     ]
    },
    {
     "name": "stdout",
     "output_type": "stream",
     "text": [
      "Backing up i_v = 8 of 15\nBacking up i_v = 9 of 15\n"
     ]
    },
    {
     "name": "stdout",
     "output_type": "stream",
     "text": [
      "Backing up i_v = 10 of 15\nBacking up i_v = 11 of 15\n"
     ]
    },
    {
     "name": "stdout",
     "output_type": "stream",
     "text": [
      "Backing up i_v = 12 of 15\nBacking up i_v = 13 of 15\n"
     ]
    },
    {
     "name": "stdout",
     "output_type": "stream",
     "text": [
      "Backing up i_v = 14 of 15\nIteration = 7\nBacking up i_v = 0 of 15\n"
     ]
    },
    {
     "name": "stdout",
     "output_type": "stream",
     "text": [
      "Backing up i_v = 1 of 15\nBacking up i_v = 2 of 15\nBacking up i_v = 3 of 15\n"
     ]
    },
    {
     "name": "stdout",
     "output_type": "stream",
     "text": [
      "Backing up i_v = 4 of 15\nBacking up i_v = 5 of 15\n"
     ]
    },
    {
     "name": "stdout",
     "output_type": "stream",
     "text": [
      "Backing up i_v = 6 of 15\nBacking up i_v = 7 of 15\n"
     ]
    },
    {
     "name": "stdout",
     "output_type": "stream",
     "text": [
      "Backing up i_v = 8 of 15\nBacking up i_v = 9 of 15\n"
     ]
    },
    {
     "name": "stdout",
     "output_type": "stream",
     "text": [
      "Backing up i_v = 10 of 15\nBacking up i_v = 11 of 15\n"
     ]
    },
    {
     "name": "stdout",
     "output_type": "stream",
     "text": [
      "Backing up i_v = 12 of 15\nBacking up i_v = 13 of 15\n"
     ]
    },
    {
     "name": "stdout",
     "output_type": "stream",
     "text": [
      "Backing up i_v = 14 of 15\nIteration = 8\nBacking up i_v = 0 of 15\n"
     ]
    },
    {
     "name": "stdout",
     "output_type": "stream",
     "text": [
      "Backing up i_v = 1 of 15\nBacking up i_v = 2 of 15\nBacking up i_v = 3 of 15\n"
     ]
    },
    {
     "name": "stdout",
     "output_type": "stream",
     "text": [
      "Backing up i_v = 4 of 15\nBacking up i_v = 5 of 15\n"
     ]
    },
    {
     "name": "stdout",
     "output_type": "stream",
     "text": [
      "Backing up i_v = 6 of 15\nBacking up i_v = 7 of 15\n"
     ]
    },
    {
     "name": "stdout",
     "output_type": "stream",
     "text": [
      "Backing up i_v = 8 of 15\nBacking up i_v = 9 of 15\n"
     ]
    },
    {
     "name": "stdout",
     "output_type": "stream",
     "text": [
      "Backing up i_v = 10 of 15\nBacking up i_v = 11 of 15\n"
     ]
    },
    {
     "name": "stdout",
     "output_type": "stream",
     "text": [
      "Backing up i_v = 12 of 15\nBacking up i_v = 13 of 15\n"
     ]
    },
    {
     "name": "stdout",
     "output_type": "stream",
     "text": [
      "Backing up i_v = 14 of 15\nIteration = 9\nBacking up i_v = 0 of 15\n"
     ]
    },
    {
     "name": "stdout",
     "output_type": "stream",
     "text": [
      "Backing up i_v = 1 of 15\nBacking up i_v = 2 of 15\nBacking up i_v = 3 of 15\n"
     ]
    },
    {
     "name": "stdout",
     "output_type": "stream",
     "text": [
      "Backing up i_v = 4 of 15\nBacking up i_v = 5 of 15\n"
     ]
    },
    {
     "name": "stdout",
     "output_type": "stream",
     "text": [
      "Backing up i_v = 6 of 15\nBacking up i_v = 7 of 15\n"
     ]
    },
    {
     "name": "stdout",
     "output_type": "stream",
     "text": [
      "Backing up i_v = 8 of 15\nBacking up i_v = 9 of 15\n"
     ]
    },
    {
     "name": "stdout",
     "output_type": "stream",
     "text": [
      "Backing up i_v = 10 of 15\nBacking up i_v = 11 of 15\n"
     ]
    },
    {
     "name": "stdout",
     "output_type": "stream",
     "text": [
      "Backing up i_v = 12 of 15\nBacking up i_v = 13 of 15\n"
     ]
    },
    {
     "name": "stdout",
     "output_type": "stream",
     "text": [
      "Backing up i_v = 14 of 15\n24.430975914\n"
     ]
    }
   ],
   "source": [
    "\n",
    "def plot_val(val):\n",
    "    # v_names=['left','center','right']\n",
    "    q_names=['NoObsNoSample', 'Sample', 'Obs']\n",
    "    for i_v in range(len(val)):\n",
    "        for i_q in range(len(val[0])):\n",
    "            fig = plt.figure(1)\n",
    "            fig.add_subplot((len(val)), (len(val[0])), (i_v*len(val[0])+i_q))\n",
    "            for i_alpha in range(val[i_v][i_q].alpha_mat.shape[1]):\n",
    "                plt.plot(val[i_v][i_q].alpha_mat[:2, i_alpha])\n",
    "                plt.plot(val[i_v][i_q].b_prod_points[i_alpha][1],\n",
    "                         val[i_v][i_q].alpha_mat[:, i_alpha].T*val[i_v][i_q].b_prod_points[i_alpha],\n",
    "                         'ro')\n",
    "                plt.text(val[i_v][i_q].b_prod_points[i_alpha][1],\n",
    "                         val[i_v][i_q].alpha_mat[:, i_alpha].T*val[i_v][i_q].b_prod_points[i_alpha]+0.1,\n",
    "                         str(val[i_v][i_q].best_edge[i_alpha]))\n",
    "                # plt.title('Gamma(v='+v_names[i_v]+',q='+q_names[i_q]+')')\n",
    "                plt.title('Gamma(v='+str(i_v)+',q='+q_names[i_q]+')')\n",
    "                plt.xlabel('belief', horizontalalignment='right', x=1.0)\n",
    "                plt.ylabel('Value')\n",
    "                plt.ylim(-0.5, 1.5)\n",
    "    plt.show()\n",
    "\n",
    "\n",
    "if load:\n",
    "    print \"Loading Value Function\"\n",
    "    # fh = open('val.pkl', 'rb')\n",
    "    # fh = open('val_' + sc + '_seed10_par.pkl', 'rb')\n",
    "    fh = open('val_' + sc + '_seed10_par_newoutput.pkl', 'rb')\n",
    "    val = pkl.load(fh)\n",
    "    val_new = copy.deepcopy(val)\n",
    "    fh.close()\n",
    "else:\n",
    "    # Hybrid Value Iteration\n",
    "    if obs_action is True:\n",
    "        val = [[Gamma(b_prod_set, b_reg_set) for i_q in range(dfsa.N)] for i_v in range(len(firm.nodes))]\n",
    "    else:\n",
    "        val = [[Gamma(b_prod_set) for i_q in range(dfsa.N)] for i_v in range(len(firm.nodes))]\n",
    "\n",
    "    # Initialize Value Function to 1_(q_goal)\n",
    "    for i_v in range(len(firm.nodes)):\n",
    "        for i_q in range(dfsa.N):\n",
    "            for i_b in range(len(val[i_v][i_q].b_prod_points)):\n",
    "                if i_q in dfsa_final:\n",
    "                    val[i_v][i_q].alpha_mat[:, i_b] = 1  #np.zeros([n_regs, 1])\n",
    "                else:\n",
    "                    val[i_v][i_q].alpha_mat[:, i_b] = 0  #np.zeros([n_regs, 1])\n",
    "    n_cores = multiprocessing.cpu_count() - 1\n",
    "    print \"Running Value Iteration\"\n",
    "    t_start = time.time()\n",
    "    val_new = copy.deepcopy(val)\n",
    "    for i in range(10):\n",
    "        print \"Iteration = \" + str(i)\n",
    "        for i_v in range(len(firm.nodes)):\n",
    "            for i_q in range(dfsa.N):\n",
    "                # Don't backup states which are in obs or goal\n",
    "                # if True:\n",
    "                if (sc == 'rss' or sc == 'toy') and i_q == 0:\n",
    "                    print \"Backing up i_v = \" + str(i_v) + \" of \" + str(len(firm.nodes))\n",
    "                    # Run backup for each belief point in parallel\n",
    "                    if parr:\n",
    "                        results = Parallel(n_jobs=n_cores)(delayed(backup)(i_b, i_v, i_q, val)\n",
    "                                                       for i_b in range(len(val[i_v][i_q].b_prod_points)))\n",
    "                        for i_b in range(len(val[i_v][i_q].b_prod_points)):\n",
    "                            val_new[i_v][i_q].alpha_mat[:, i_b] = results[i_b][0]\n",
    "                            val_new[i_v][i_q].best_edge[i_b] = results[i_b][1]\n",
    "                    else:\n",
    "                        for i_b in range(len(val[i_v][i_q].b_prod_points)):\n",
    "                            if obs_action is True:\n",
    "                                alpha_new, best_e = backup_with_obs_action(i_b, i_v, i_q, val)\n",
    "                            else:\n",
    "                                alpha_new, best_e = backup(i_b, i_v, i_q, val)\n",
    "                            val_new[i_v][i_q].alpha_mat[:, i_b] = alpha_new\n",
    "                            val_new[i_v][i_q].best_edge[i_b] = best_e\n",
    "        val = copy.deepcopy(val_new)\n",
    "    t_end = time.time()\n",
    "    print t_end-t_start\n",
    "\n",
    "    fh = open('val_' + sc + '_seed10_par_newoutput.pkl', 'wb')\n",
    "    pkl.dump(val, fh)\n",
    "    fh.flush()\n",
    "    fh.close()\n",
    "        # print \"Val(v5,q0)\"\n",
    "        # print val[5][0].alpha_mat\n",
    "        # print val[5][0].best_edge\n",
    "        # print \"Val(v3,q0)\"\n",
    "        # print val[3][0].alpha_mat\n",
    "        # print val[3][0].best_edge\n",
    "        # print \"Val(v7,q0)\"\n",
    "        # print val[7][0].alpha_mat\n",
    "        # print val[7][0].best_edge\n",
    "if sc == 'toy':\n",
    "    plot_val(val_new)\n"
   ]
  },
  {
   "cell_type": "code",
   "execution_count": 6,
   "metadata": {
    "collapsed": true
   },
   "outputs": [
    {
     "name": "stdout",
     "output_type": "stream",
     "text": [
      "[[ 0.01]\n [ 0.01]\n [ 0.09]\n [ 0.09]\n [ 0.04]\n [ 0.04]\n [ 0.36]\n [ 0.36]]\nval = [[ 0.89]]\ngoing from vertex 2 to vertex 6 q = 0 b = [[ 0.01]\n [ 0.01]\n [ 0.09]\n [ 0.09]\n [ 0.04]\n [ 0.04]\n [ 0.36]\n [ 0.36]]\nval = [[ 0.89]]\ngoing from vertex 6 to vertex 6 q = 0 b = [[ 0.01]\n [ 0.01]\n [ 0.09]\n [ 0.09]\n [ 0.04]\n [ 0.04]\n [ 0.36]\n [ 0.36]]\nval = [[ 0.45]]\ngoing from vertex 6 to vertex 2 q = 0 b = [[ 0.05]\n [ 0.05]\n [ 0.45]\n [ 0.45]\n [ 0.  ]\n [ 0.  ]\n [ 0.  ]\n [ 0.  ]]\nval = [[ 0.45]]\ngoing from vertex 2 to vertex 0 q = 0 b = [[ 0.05]\n [ 0.05]\n [ 0.45]\n [ 0.45]\n [ 0.  ]\n [ 0.  ]\n [ 0.  ]\n [ 0.  ]]\nval = [[ 0.45]]\ngoing from vertex 0 to vertex 11 q = 0 b = [[ 0.05]\n [ 0.05]\n [ 0.45]\n [ 0.45]\n [ 0.  ]\n [ 0.  ]\n [ 0.  ]\n [ 0.  ]]\nval = [[ 0.45]]"
     ]
    },
    {
     "name": "stdout",
     "output_type": "stream",
     "text": [
      "\ngoing from vertex 11 to vertex 10 q = 0 b = [[ 0.05]\n [ 0.05]\n [ 0.45]\n [ 0.45]\n [ 0.  ]\n [ 0.  ]\n [ 0.  ]\n [ 0.  ]]\nval = [[ 0.9]]\ngoing from vertex 10 to vertex 5 q = 0 b = [[ 0.1]\n [ 0. ]\n [ 0.9]\n [ 0. ]\n [ 0. ]\n [ 0. ]\n [ 0. ]\n [ 0. ]]\n"
     ]
    }
   ],
   "source": [
    "\n",
    "''' Execute the policy '''\n",
    "b = env.b_prod_init\n",
    "print b\n",
    "q = 0\n",
    "v = 2\n",
    "# v = 0\n",
    "traj = []\n",
    "for t in range(50):\n",
    "    # import pdb; pdb.set_trace()\n",
    "    print \"val = \" + str(max(val[v][q].alpha_mat.T * b))\n",
    "    # Get best edge\n",
    "    i_best_alpha = np.argmax(val_new[v][q].alpha_mat.T * b)\n",
    "    best_e = val_new[v][q].best_edge[i_best_alpha]\n",
    "    if obs_action is True and best_e < 0:\n",
    "        reg_key = env.regs.keys()[-1*(best_e-1)]\n",
    "        (b_, o, i_o) = env.get_b_o_reg(b, env.regs[reg_key][3], reg_key, firm.nodes[v].mean)\n",
    "        b = b_\n",
    "        print \"Observing \" + str(best_e) + \" at vertex\" + str(v) + \" q = \" + str(q) + \" b_ = \" + str(b_)\n",
    "        continue\n",
    "    # Simulate trajectory under edges\n",
    "    edge_controller = firm.edge_controllers[v][firm.edges[v].index(best_e)]\n",
    "    traj_e = edge_controller.simulate_trajectory(edge_controller.node_i)\n",
    "    traj_n = firm.node_controllers[firm.nodes.index(edge_controller.node_j)].simulate_trajectory(traj_e[-1])\n",
    "    # traj_i = [(b, i, q) for i in traj_e + traj_n]\n",
    "    traj_i = traj_e + traj_n\n",
    "    traj = traj + traj_i\n",
    "    # Get q', v', q' and loop\n",
    "    z = firm.get_outputs(traj_e + traj_n)\n",
    "    v_ = best_e\n",
    "    if obs_action is False:\n",
    "        (b_, o, i_o) = env.get_b_o_prod(b, regs[z][3], z, traj_n[-1].mean)\n",
    "        q_= None\n",
    "        if regs[z][1]==1:\n",
    "            if regs[z][2]=='obs' or regs[z][2]=='sample' and regs[z][0].contains(firm.nodes[v_].mean):\n",
    "                q_ = np.argmax(dfsa.T(proplist[regs[z][2]])[q, :])\n",
    "    # and regs[z][0].contains(firm.nodes[v_].mean)\n",
    "        elif regs[z][1]>0:\n",
    "            if (regs[z][2]=='obs' or regs[z][2]=='sample') and (env.x_e[i_o] & 2**env.reg_index[z] == 2**env.reg_index[z]) and regs[z][0].contains(firm.nodes[v_].mean):\n",
    "                q_ = np.argmax(dfsa.T(proplist[regs[z][2]])[q, :])\n",
    "        if q_ == None:\n",
    "            q_ = q\n",
    "    else:\n",
    "        if regs[z][2] is 'null':\n",
    "            b_ = b\n",
    "            q_ = q\n",
    "        elif regs[z][2] is 'obs' or regs[z][2] is 'sample':\n",
    "            q_ = None\n",
    "            b_ = None\n",
    "            # if region is known\n",
    "            if regs[z][1]==1 or regs[z][1]==0:\n",
    "                if regs[z][1]==1:\n",
    "                    q_ = np.argmax(dfsa.T(proplist[regs[z][2]])[q, :])\n",
    "                    b_ = b\n",
    "            else:\n",
    "                (b_, o, i_o) = env.get_b_o_reg(b, env.regs[z][3], z)\n",
    "                # if true label is true then do transition in DFA\n",
    "                if regs[z][3] is 1:\n",
    "                    q_ = np.argmax(dfsa.T(proplist[regs[z][2]])[q, :])\n",
    "            if q_ is None:\n",
    "                q_ = q\n",
    "            if b_ is None:\n",
    "                b_ = b\n",
    "    print \"going from vertex \" + str(v) + \" to vertex \" + str(v_) + \" q = \" + str(q) + \" b = \" + str(b)\n",
    "    b = b_\n",
    "    q = q_\n",
    "    v = v_\n",
    "    if q in dfsa_final:\n",
    "        break\n",
    "firm.plot_traj(traj, 'blue')\n",
    "plt.show()\n"
   ]
  },
  {
   "cell_type": "code",
   "execution_count": null,
   "metadata": {},
   "outputs": [],
   "source": []
  }
 ],
 "metadata": {
  "kernelspec": {
   "display_name": "Python 2",
   "language": "python",
   "name": "python2"
  },
  "language_info": {
   "codemirror_mode": {
    "name": "ipython",
    "version": 2
   },
   "file_extension": ".py",
   "mimetype": "text/x-python",
   "name": "python",
   "nbconvert_exporter": "python",
   "pygments_lexer": "ipython2",
   "version": "2.7.6"
  }
 },
 "nbformat": 4,
 "nbformat_minor": 0
}
