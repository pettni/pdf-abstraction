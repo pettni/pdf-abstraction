{
 "cells": [
  {
   "cell_type": "heading",
   "metadata": {
    "collapsed": true
   },
   "level": 1,
   "source": [
    "Case study ADHS science mission"
   ]
  },
  {
   "cell_type": "markdown",
   "metadata": {},
   "source": [
    "In this jupyter notebook the case-study is developed which is to be submitted to ADHS 2018."
   ]
  },
  {
   "cell_type": "markdown",
   "metadata": {},
   "source": [
    "**First**, we take a look at the labelling and the properties of interest.\n",
    "We label identify two regions, \n",
    " 1. region **A** populated either with a highly desired product or with sand.\n",
    " 2. region **B** populated with a moderately desired product.\n"
   ]
  },
  {
   "cell_type": "code",
   "execution_count": 1,
   "metadata": {},
   "outputs": [
    {
     "name": "stdout",
     "output_type": "stream",
     "text": [
      "=========================================================\nPlease add the following lines to your LaTeX preamble:\n\n\\usepackage[utf8]{inputenc}\n\\usepackage{fontspec} % This line only for XeLaTeX and LuaLaTeX\n\\usepackage{pgfplots}\n=========================================================\nHorizontal alignment will be ignored as no 'x tick label text width' has been passed in the 'extra' parameter\nHorizontal alignment will be ignored as no 'y tick label text width' has been passed in the 'extra' parameter\n"
     ]
    },
    {
     "data": {
      "image/png": "[encoded data removed]",
      "text/plain": [
       "<matplotlib.figure.Figure at 0x113442e90>"
      ]
     },
     "metadata": {},
     "output_type": "display_data"
    }
   ],
   "source": [
    "import polytope as pc\n",
    "import numpy as np\n",
    "import matplotlib.patches\n",
    "import matplotlib.pyplot as plt\n",
    "\n",
    "from ApprxSimulation.LTI_simrel import tune_dratio, eps_err\n",
    "from ApprxSimulation.Visualize import plot_regions, patch_ellips, ellips_cov\n",
    "from Models.MDP import Rpol\n",
    "from label_abstraction.test_mdp import test_mdp_dfsa, formula_to_mdp, test_ltl_synth2\n",
    "# Import packages:\n",
    "from Models.Linear import LTI, POMDP\n",
    "from label_abstraction.mdp import *\n",
    "import polytope as pc\n",
    "import numpy as np\n",
    "import ApprxSimulation.Visualize as Vis\n",
    "science_regions = dict()\n",
    "science_regions['a'] = pc.box2poly(np.array([[-2.5, 2.5],[-5, 1]]))\n",
    "science_regions['b'] = pc.box2poly(np.array([[5, 10],[5, 10]]))\n",
    "Vis.plot_regions(science_regions, [-10,10], [-10,10], tikz=True) \n"
   ]
  },
  {
   "cell_type": "markdown",
   "metadata": {},
   "source": [
    "Initialise the dynamics\n"
   ]
  },
  {
   "cell_type": "code",
   "execution_count": 2,
   "metadata": {},
   "outputs": [],
   "source": [
    "# Define the linear time invariant system\n",
    "#A = np.array([[0,-0.8572],[0.1,0.5]])\n",
    "dim = 2\n",
    "A = np.eye(2)  #np.array([[.9,-0.32],[0.1,0.9]])\n",
    "B = np.eye(dim)  #array([[1], [0.1]])\n",
    "W = np.array([[.4,-0.2],[-0.2,0.4]])  \n",
    "# noise on state transitions\n",
    " \n",
    "# Accuracy\n",
    "C = np.array([[1, 0],[0,1]])\n",
    "# defines metric for error (||y_finite-y||< epsilon with y= cx   )\n",
    "\n",
    "sys_lti = LTI(A, B, C, None, W=W)  # LTI system with   D = None\n"
   ]
  },
  {
   "cell_type": "markdown",
   "metadata": {},
   "source": [
    "Initialize the sensor model"
   ]
  },
  {
   "cell_type": "code",
   "execution_count": 3,
   "metadata": {},
   "outputs": [
    {
     "name": "stdout",
     "output_type": "stream",
     "text": [
      "[[ 0.84446 -0.2862 ]\n [-0.2862   0.84446]]\n"
     ]
    }
   ],
   "source": [
    "\n",
    "# Sensor noise => pomdp\n",
    "H = np.eye(2) #np.ones((1,2)) # what can be measured\n",
    "V = 1*np.eye(2)\n",
    "    #  x^+= A x + Bu + w\n",
    "    #  y = C x\n",
    "    #  z = H x+v\n",
    "\n",
    "P = np.eye(2)\n",
    "mean = np.zeros((2,1))\n",
    "pomdp = POMDP(sys_lti, H, V, P, mean)\n",
    "\n",
    "L, Pst = pomdp.kalman()\n",
    "print(Pst)\n",
    "belief_mdp = pomdp.beliefmodel()\n",
    "\n"
   ]
  },
  {
   "cell_type": "markdown",
   "metadata": {},
   "source": [
    "Compute simplified simple  with continuous state.\n",
    "\n",
    "x(k+1) = A x(k) + B u(k) + **P** C^T s(k+1) \n",
    "with\n",
    "\n",
    " variance s ~ N(0,**S_inv**). \n",
    "\n",
    " 1. Define an initial P, and compute an upper and lower bound on P_k based on this initial P and the steady state P.\n",
    "1. Compute **S_inv** such that forall k: **S_inv**=< S_k^{-1}\n",
    "1. Compute the error caused by the stochastic difference between this simple LTI and the time varying kalman LTI"
   ]
  },
  {
   "cell_type": "code",
   "execution_count": 4,
   "metadata": {},
   "outputs": [
    {
     "name": "stdout",
     "output_type": "stream",
     "text": [
      "P_l is a valid lower bound\nP_up is a valid upper bound\n(0.080108827884598083, 0.17189243466963675) (2, 2)\n<Models.Linear.LTI instance at 0x1078a45f0>\n"
     ]
    }
   ],
   "source": [
    "P_init = Pst-np.eye(2)*.1\n",
    "P_l =Pst-np.eye(2)*.1\n",
    "P_upper =Pst #+np.eye(2)*.1\n",
    "\n",
    "lti_belief, Error_noise,error_rank = belief_mdp.to_LTI_approx(C, P_init, P_l,P_upper, combined =False)\n",
    "print Error_noise, error_rank\n",
    "print(lti_belief)"
   ]
  },
  {
   "cell_type": "code",
   "execution_count": 19,
   "metadata": {},
   "outputs": [
    {
     "name": "stdout",
     "output_type": "stream",
     "text": [
      "('P-init', array([[ 0.74446, -0.2862 ],\n       [-0.2862 ,  0.74446]]))\n('P_l', array([[ 0.74446, -0.2862 ],\n       [-0.2862 ,  0.74446]]))\n"
     ]
    }
   ],
   "source": [
    "print('P-init',P_init)\n",
    "print('P_l', P_l)"
   ]
  },
  {
   "cell_type": "markdown",
   "metadata": {},
   "source": [
    "Compute a polytope that over aproximates the error in the stochastic noise for a 2 dimensional system\n"
   ]
  },
  {
   "cell_type": "code",
   "execution_count": 5,
   "metadata": {},
   "outputs": [
    {
     "data": {
      "image/png": "[encoded data removed]",
      "text/plain": [
       "<matplotlib.figure.Figure at 0x113830950>"
      ]
     },
     "metadata": {},
     "output_type": "display_data"
    }
   ],
   "source": [
    "import math\n",
    "A = np.block([[ np.array([[math.cos(a), math.sin(a)]])] for a in np.linspace(0,2*math.pi,20)])\n",
    "ball = pc.Polytope(A=A,b=np.ones((20,1)))\n",
    "\n",
    "fig = plt.figure()\n",
    "ax = fig.add_subplot(111)\n",
    " \n",
    "x = pc.extreme(ball)\n",
    "\n",
    "patch = matplotlib.patches.Polygon(.5*x)\n",
    "ax.add_patch(patch)\n",
    "# \n",
    "\n",
    "plt.xlim([-1,1.1])\n",
    "plt.ylim([-2,2])\n",
    "\n",
    "plt.show()"
   ]
  },
  {
   "cell_type": "markdown",
   "metadata": {},
   "source": [
    "**Retrieve normalized system**\n",
    "1. define state space\n",
    "2. define  input space\n",
    "3. normalize system\n"
   ]
  },
  {
   "cell_type": "code",
   "execution_count": 6,
   "metadata": {},
   "outputs": [],
   "source": [
    "\n",
    "# Define spaces\n",
    "lti_belief.setU(pc.box2poly(np.kron(np.ones((sys_lti.m, 1)), np.array([[-3, 3]])))) # continuous set of inputs\n",
    "lti_belief.setX(pc.box2poly(np.kron(np.ones((sys_lti.dim, 1)), np.array([[-10, 10]])))) # X space\n",
    "\n",
    "\n",
    "lti_belief_n = lti_belief.normalize()"
   ]
  },
  {
   "cell_type": "markdown",
   "metadata": {},
   "source": [
    "**Compute probability**\n",
    "\n"
   ]
  },
  {
   "cell_type": "code",
   "execution_count": 7,
   "metadata": {
    "collapsed": false
   },
   "outputs": [
    {
     "name": "stdout",
     "output_type": "stream",
     "text": [
      "(0.080108827884598083, 0.17189243466963675)\nOptimization terminated successfully.\n         Current function value: 0.814549\n         Iterations: 22\n         Function evaluations: 44\n[ 0.30115]\n"
     ]
    }
   ],
   "source": [
    "from scipy.stats import chi2\n",
    "\n",
    "print(Error_noise)\n",
    "def tradeoff(alpha,delta,ranks,errors,):\n",
    "    er1 = chi2.ppf([1-alpha*delta],ranks[0])\n",
    "    er2 = chi2.ppf([1-(1-alpha)*delta],ranks[1])\n",
    "    val =  (er1**.5)*errors[0]+(er2**.5)*errors[1]\n",
    "    return val\n",
    "\n",
    "\n",
    "import scipy.optimize\n",
    "delta = .01\n",
    "minimum = scipy.optimize.fmin(lambda alpha : tradeoff(alpha, delta, error_rank,Error_noise ),.7,\n",
    "                    xtol=0.000001, ftol=0.000001)\n",
    "\n",
    "print(minimum)"
   ]
  },
  {
   "cell_type": "markdown",
   "metadata": {},
   "source": [
    "**Compute the Eps,delta error**\n",
    "Given an delta error and the corresponding polytopic disturbance compute the error"
   ]
  },
  {
   "cell_type": "code",
   "execution_count": 8,
   "metadata": {
    "collapsed": false
   },
   "outputs": [
    {
     "name": "stdout",
     "output_type": "stream",
     "text": [
      "\nMaximum number of function evaluations exceeded --- increase maxfun argument.\n\n"
     ]
    },
    {
     "name": "stdout",
     "output_type": "stream",
     "text": [
      "\nMaximum number of function evaluations exceeded --- increase maxfun argument.\n\n"
     ]
    },
    {
     "name": "stdout",
     "output_type": "stream",
     "text": [
      "\nMaximum number of function evaluations exceeded --- increase maxfun argument.\n\n"
     ]
    },
    {
     "name": "stdout",
     "output_type": "stream",
     "text": [
      "\nMaximum number of function evaluations exceeded --- increase maxfun argument.\n\n"
     ]
    },
    {
     "name": "stdout",
     "output_type": "stream",
     "text": [
      "\nMaximum number of function evaluations exceeded --- increase maxfun argument.\n\n"
     ]
    },
    {
     "name": "stderr",
     "output_type": "stream",
     "text": [
      "/anaconda/envs/Py_gdtl/lib/python2.7/site-packages/scipy/optimize/optimize.py:1684: RuntimeWarning: invalid value encountered in double_scalars\n  q = (xf - fulc) * (fx - fnfc)\n"
     ]
    },
    {
     "name": "stdout",
     "output_type": "stream",
     "text": [
      "\nMaximum number of function evaluations exceeded --- increase maxfun argument.\n\n"
     ]
    },
    {
     "name": "stdout",
     "output_type": "stream",
     "text": [
      "\nMaximum number of function evaluations exceeded --- increase maxfun argument.\n\n"
     ]
    },
    {
     "name": "stdout",
     "output_type": "stream",
     "text": [
      "\nMaximum number of function evaluations exceeded --- increase maxfun argument.\n\n"
     ]
    },
    {
     "name": "stdout",
     "output_type": "stream",
     "text": [
      "\nMaximum number of function evaluations exceeded --- increase maxfun argument.\n\n"
     ]
    },
    {
     "name": "stdout",
     "output_type": "stream",
     "text": [
      "\nMaximum number of function evaluations exceeded --- increase maxfun argument.\n\n"
     ]
    },
    {
     "name": "stdout",
     "output_type": "stream",
     "text": [
      "status: optimal\noptimal epsilon 1.26433345788\noptimal M [[ 1.04587 -0.02226]\n [-0.02226  1.0108 ]]\nOptimal K [[ 0.61837 -0.66405]\n [-0.67635 -0.72203]]\n"
     ]
    }
   ],
   "source": [
    "from ApprxSimulation.LTI_simrel import eps_err_dist, eps_err_dist_tuned\n",
    "grid = pc.box2poly(np.diag([0.5,.5]).dot(np.array([[-1,1],[-1, 1]])))\n",
    "rad = 0.814549\n",
    "dist = pc.Polytope(A =ball.A,b=rad*ball.b)\n",
    "    \n",
    "# eps_err_dist(lti_belief,grid,dist)\n",
    "d,M_min, K_min, eps_min = eps_err_dist_tuned(lti_belief_n,grid,dist)"
   ]
  },
  {
   "cell_type": "markdown",
   "metadata": {},
   "source": [
    "**grid normalised process**\n"
   ]
  },
  {
   "cell_type": "markdown",
   "metadata": {},
   "source": [
    "**Define formula and compute DFA//NFA**"
   ]
  },
  {
   "cell_type": "code",
   "execution_count": 9,
   "metadata": {},
   "outputs": [
    {
     "name": "stdout",
     "output_type": "stream",
     "text": [
      "3.  Grid Gaussian process\n[[ 0.6  0. ]\n [ 0.   0.2]]\n[[-0.70711  0.70711]\n [ 0.70711  0.70711]]\nWarning no inputspace given\nWarning no state space given\n"
     ]
    },
    {
     "name": "stdout",
     "output_type": "stream",
     "text": [
      "((1756, 49), (49, 1756, 1756))\n--- done gridding\n"
     ]
    }
   ],
   "source": [
    "print('3.  Grid Gaussian process')\n",
    "\n",
    "print(lti_belief_n.W)\n",
    "print(lti_belief_n.T2x)\n",
    "mdp_grid = lti_belief_n.abstract_io(d, un=7, Accuracy=False, verbose=False)  # do the gridding\n",
    "print('--- done gridding')\n",
    "mdp_grid.eps=eps_min\n",
    "mdp_grid.M = M_min\n",
    "mdp_grid.K = K_min"
   ]
  },
  {
   "cell_type": "markdown",
   "metadata": {},
   "source": [
    "**Define formula and compute DFA//NFA**"
   ]
  },
  {
   "cell_type": "code",
   "execution_count": 10,
   "metadata": {},
   "outputs": [
    {
     "name": "stdout",
     "output_type": "stream",
     "text": [
      "4.  Define formula and compute DFA\n& F a F b\n['a', 'b']\n{0: (), 1: ('a',), 2: ('b',), 3: ('a', 'b')}\nset([1])\n('check norm of rows', matrix([[ 0.94199,  0.33563],\n        [-0.31952,  0.94758],\n        [-0.94199, -0.33563],\n        [ 0.31952, -0.94758]]))\n('check norm of rows', matrix([[ 0.94199,  0.33563],\n        [-0.31952,  0.94758],\n        [-0.94199, -0.33563],\n        [ 0.31952, -0.94758]]))\n"
     ]
    },
    {
     "name": "stdout",
     "output_type": "stream",
     "text": [
      "[[ 1.  1.  1. ...,  1.  1.  0.]\n [ 0.  0.  0. ...,  0.  0.  0.]\n [ 0.  0.  0. ...,  0.  0.  0.]\n [ 0.  0.  0. ...,  0.  0.  0.]]\n"
     ]
    },
    {
     "data": {
      "text/plain": [
       "array([  32, 1626, 1644, 1756])"
      ]
     },
     "execution_count": 10,
     "metadata": {},
     "output_type": "execute_result"
    }
   ],
   "source": [
    "\n",
    "print('4.  Define formula and compute DFA')\n",
    "\n",
    "#formula = '( ( ! avoid U target ) & ( F avoid ) )'\n",
    "formula = '( ( F a ) & ( F b ) )'\n",
    "\n",
    "# figure out a map dict_input2prop from numeric inputs to name based inputs\n",
    "dfsa, init, final, dict_input2prop = formula_to_mdp(formula)\n",
    "\n",
    "mdp_grid.map_dfa_inputs(dict_input2prop, science_regions)\n",
    "mdp_grid.setdfa(dfsa,final)\n",
    "mat=mdp_grid.act_inputs\n",
    "np.sum(mdp_grid.act_inputs==0,axis=1)"
   ]
  },
  {
   "cell_type": "code",
   "execution_count": 11,
   "metadata": {},
   "outputs": [
    {
     "name": "stdout",
     "output_type": "stream",
     "text": [
      "5. Compute recursions\n"
     ]
    }
   ],
   "source": [
    "\n",
    "print('5. Compute recursions')\n",
    "\n",
    "mdp_grid.policy= None\n",
    "mdp_grid.trans_qs = None\n",
    "V, policy, W = mdp_grid.reach_dfa(recursions = 10,delta=delta)\n"
   ]
  },
  {
   "cell_type": "code",
   "execution_count": 12,
   "metadata": {},
   "outputs": [],
   "source": [
    "pol = None\n",
    "pol = Rpol(mdp_grid, V, W, policy)\n",
    "\n",
    "pol.set_regions(dict_input2prop, science_regions)\n"
   ]
  },
  {
   "cell_type": "code",
   "execution_count": 13,
   "metadata": {},
   "outputs": [
    {
     "name": "stdout",
     "output_type": "stream",
     "text": [
      "6. Plot normalized system\n"
     ]
    }
   ],
   "source": [
    "print('6. Plot normalized system')\n",
    "fig = plt.figure()\n",
    "\n",
    "xi, yi = np.meshgrid(*mdp_grid.srep)\n",
    "\n",
    "plt.pcolor(mdp_grid.sedge[0], mdp_grid.sedge[1],  W[:-1].reshape(xi.shape, order='F'))\n",
    "plt.colorbar()\n",
    "plt.xlim(np.array([mdp_grid.srep[0][0],mdp_grid.srep[0][-1]]))\n",
    "plt.ylim(np.array([mdp_grid.srep[1][0],mdp_grid.srep[1][-1]]))\n",
    "#plt.show()\n",
    "\n",
    "xi, yi = np.meshgrid(np.linspace(mdp_grid.srep[0][0],mdp_grid.srep[0][-1],10),\n",
    "                     np.linspace(mdp_grid.srep[1][0],mdp_grid.srep[1][-1],10))\n"
   ]
  },
  {
   "cell_type": "code",
   "execution_count": 14,
   "metadata": {},
   "outputs": [
    {
     "data": {
      "image/png": "[encoded data removed]",
      "text/plain": [
       "<matplotlib.figure.Figure at 0x11397cc10>"
      ]
     },
     "metadata": {},
     "output_type": "display_data"
    }
   ],
   "source": [
    "\n",
    "plt.show()\n"
   ]
  },
  {
   "cell_type": "code",
   "execution_count": 15,
   "metadata": {},
   "outputs": [
    {
     "name": "stdout",
     "output_type": "stream",
     "text": [
      "6. Plot concrete systen\n"
     ]
    },
    {
     "data": {
      "image/png": "[encoded data removed]",
      "text/plain": [
       "<matplotlib.figure.Figure at 0x113ac98d0>"
      ]
     },
     "metadata": {},
     "output_type": "display_data"
    }
   ],
   "source": [
    "print('6. Plot concrete systen')\n",
    "fig = plt.figure()\n",
    "x_edge = np.linspace(-15,15,50)\n",
    "x_del = np.diff(x_edge).max()\n",
    "y_edge = np.linspace(-15,15,50)\n",
    "y_del = np.diff(y_edge).max()\n",
    "\n",
    "xi, yi = np.meshgrid(x_edge[:-1]+x_del/2,y_edge[:-1]+y_del/2)\n",
    "\n",
    "values = pol.val_concrete(np.block([[xi.flatten()], [yi.flatten()]]))\n",
    "plt.pcolor(x_edge, y_edge, values.reshape(xi.shape))\n",
    "plt.colorbar()\n",
    "plt.xlim(np.array([-15,15]))\n",
    "plt.ylim(np.array([-15,15]))\n",
    "\n",
    "x_edge = np.linspace(-15,15,20)\n",
    "x_del = np.diff(x_edge).max()\n",
    "y_edge = np.linspace(-15,15,20)\n",
    "y_del = np.diff(y_edge).max()\n",
    "\n",
    "xi, yi = np.meshgrid(x_edge[:-1]+x_del/2,y_edge[:-1]+y_del/2)\n",
    "\n",
    "u =sys_lti.b.dot(pol.cst(np.block([[xi.flatten()],[yi.flatten()]]),transformed = False))\n",
    "delx = (-np.block([[xi.flatten()],[yi.flatten()]])\n",
    "        +sys_lti.a.dot(np.block([[xi.flatten()],[yi.flatten()]])) \n",
    "        + sys_lti.b.dot(pol.cst(np.block([[xi.flatten()],[yi.flatten()]]),transformed = False)))\n",
    "x_tr = (np.block([[xi.flatten()], [yi.flatten()]]))\n",
    "\n",
    "#plt.quiver(xi.flatten(), yi.flatten(),u[0],u[1])\n",
    "plt.quiver(x_tr[0],x_tr[1],delx[0],delx[1], color = 'r')\n",
    "\n",
    "plt.show(fig)"
   ]
  },
  {
   "cell_type": "code",
   "execution_count": 16,
   "metadata": {},
   "outputs": [
    {
     "name": "stdout",
     "output_type": "stream",
     "text": [
      "('final state:', set([1]))\nreached\nreached\n"
     ]
    },
    {
     "name": "stdout",
     "output_type": "stream",
     "text": [
      "reached\nreached\nreached\nreached\n"
     ]
    },
    {
     "name": "stdout",
     "output_type": "stream",
     "text": [
      "reached\nreached\nreached\n"
     ]
    },
    {
     "name": "stdout",
     "output_type": "stream",
     "text": [
      "reached\nreached\nreached\n"
     ]
    },
    {
     "name": "stdout",
     "output_type": "stream",
     "text": [
      "reached\nreached\nreached\n"
     ]
    },
    {
     "name": "stdout",
     "output_type": "stream",
     "text": [
      "reached\nreached\nreached\n"
     ]
    },
    {
     "name": "stdout",
     "output_type": "stream",
     "text": [
      "reached\nreached\n"
     ]
    },
    {
     "data": {
      "text/plain": [
       "(-15, 15)"
      ]
     },
     "execution_count": 16,
     "metadata": {},
     "output_type": "execute_result"
    }
   ],
   "source": [
    "# how to get a nice simulation? \n",
    "from random import  gauss \n",
    "import random\n",
    "import scipy.linalg as scla\n",
    "random.seed(a = '4')\n",
    "print('final state:', final)\n",
    "time = 50\n",
    "fig = plt.figure()\n",
    "ax = fig.add_subplot(111)\n",
    "x =pc.extreme(science_regions['a'])\n",
    "y =pc.extreme(science_regions['b'])\n",
    "\n",
    "patch = matplotlib.patches.Polygon(x)\n",
    "ax.add_patch(patch)\n",
    "\n",
    "patch = matplotlib.patches.Polygon(y)\n",
    "ax.add_patch(patch)\n",
    "for x0 in (np.array([[0],[-7.5]]),np.array([[-5],[10]])):\n",
    "    for repeating in range(10):\n",
    "        pol.state = pol.dfa.init[0]\n",
    "        \n",
    "        x = np.zeros((2,time+1))\n",
    "        x[:,[0]] = x0\n",
    "        belief_mdp.state =  ( x0,  0*np.eye(2))\n",
    "\n",
    "        for t in range(time): \n",
    "           # x[:,[t+1]] = ( lti_pomdp.a.dot(x[:,[t]])+ lti_pomdp.b.dot(pol(x[:,[t]], transformed=False )) \n",
    "           #             + np.array(noise).dot(np.array([[gauss(0,1)],[gauss(0,1)]])))\n",
    "            (x[:,[t+1]],P) = belief_mdp.simulate(pol(x[:,[t]], transformed=False ))\n",
    "            \n",
    "            if pol.state in final :\n",
    "                print('reached')\n",
    "                break\n",
    "            ellips_cov(P, 1, ax, pos =  tuple(x[:,[t+1]].flatten()))\n",
    "        if not pol.state in final:\n",
    "            print('not reached')\n",
    "        plt.plot(x[0,0:t+1],x[1,0:t+1])\n",
    "        plt.scatter(x[0,0:t+1],x[1,0:t+1], label='Finite states', color='k', s=10, marker=\"o\")          \n",
    " \n",
    "\n",
    "\n",
    "plt.xlabel('x_1') \n",
    "plt.ylabel('x_2') \n",
    "\n",
    "plt.xlim(np.array([-15,25]))\n",
    "plt.ylim(np.array([-15,15]))\n",
    "# Define regions of interest for the labeling\n",
    " \n"
   ]
  },
  {
   "cell_type": "code",
   "execution_count": 17,
   "metadata": {
    "collapsed": false
   },
   "outputs": [
    {
     "name": "stdout",
     "output_type": "stream",
     "text": [
      "=========================================================\nPlease add the following lines to your LaTeX preamble:\n\n\\usepackage[utf8]{inputenc}\n\\usepackage{fontspec} % This line only for XeLaTeX and LuaLaTeX\n\\usepackage{pgfplots}\n=========================================================\nHorizontal alignment will be ignored as no 'x tick label text width' has been passed in the 'extra' parameter\nHorizontal alignment will be ignored as no 'y tick label text width' has been passed in the 'extra' parameter\n"
     ]
    },
    {
     "data": {
      "image/png": "[encoded data removed]",
      "text/plain": [
       "<matplotlib.figure.Figure at 0x113b59f90>"
      ]
     },
     "metadata": {},
     "output_type": "display_data"
    }
   ],
   "source": [
    "from matplotlib2tikz import save as tikz_save\n",
    "\n",
    "\n",
    "tikz_save(\n",
    "    'mytikz.tex',\n",
    "    figureheight='\\\\figureheight',\n",
    "    figurewidth='\\\\figurewidth'\n",
    "    )\n",
    "\n",
    "plt.show()"
   ]
  },
  {
   "cell_type": "code",
   "execution_count": 18,
   "metadata": {},
   "outputs": [],
   "source": []
  }
 ],
 "metadata": {
  "kernelspec": {
   "display_name": "Python 2",
   "language": "python",
   "name": "python2"
  },
  "language_info": {
   "codemirror_mode": {
    "name": "ipython",
    "version": 2
   },
   "file_extension": ".py",
   "mimetype": "text/x-python",
   "name": "python",
   "nbconvert_exporter": "python",
   "pygments_lexer": "ipython2",
   "version": "2.7.6"
  }
 },
 "nbformat": 4,
 "nbformat_minor": 0
}
