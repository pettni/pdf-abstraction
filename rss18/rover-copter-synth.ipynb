{
 "cells": [
  {
   "cell_type": "code",
   "execution_count": 1,
   "metadata": {},
   "outputs": [],
   "source": [
    "import numpy as np\n",
    "import sys\n",
    "sys.path.append('../')\n",
    "\n",
    "prob = {}\n",
    "prob['rov_T'] = 15\n",
    "prob['cop_T'] = 30\n",
    "prob['rov_x0'] = np.array([0.5, -4.5])\n",
    "prob['cop_x0'] = np.array([-0.5, -4.5, 2])\n",
    "prob['cop_xT'] = np.array([1.5, -1.5, 2])\n",
    "prob['cop_sight'] = 2\n",
    "prob['prob_margin'] = 0.05"
   ]
  },
  {
   "cell_type": "code",
   "execution_count": 2,
   "metadata": {},
   "outputs": [
    {
     "name": "stderr",
     "output_type": "stream",
     "text": [
      "Using numpy backend.\n"
     ]
    },
    {
     "name": "stdout",
     "output_type": "stream",
     "text": [
      "MDP: 5 inputs \"ar\" --> 100 outputs \"xr\"\n",
      "MDP: 7 inputs \"ac\" --> 200 outputs \"xc\"\n",
      "MDP: 243 inputs \"(r1_u, r2_u, a1_u, b1_u, c1_u)\" --> 3125 outputs \"(r1_b, r2_b, a1_b, b1_b, c1_b)\"\n",
      "MDP: 5 inputs \"ar\" --> 312500 outputs \"(xr, (r1_b, r2_b, a1_b, b1_b, c1_b))\"\n",
      "MDP: 7 inputs \"ac\" --> 625000 outputs \"(xc, (r1_b, r2_b, a1_b, b1_b, c1_b))\"\n"
     ]
    }
   ],
   "source": [
    "import polytope as pc\n",
    "from collections import OrderedDict\n",
    "\n",
    "from best.abstraction import Abstraction\n",
    "from best.mdp import ParallelMDP\n",
    "import rss18_functions as rf\n",
    "\n",
    "# regions\n",
    "regs = OrderedDict()\n",
    "\n",
    "regs['r1'] = (pc.box2poly(np.array([[2, 3], [0, 5]])), 0.5, 'red')\n",
    "regs['r2'] = (pc.box2poly(np.array([[-3, -2], [0, 5]])), 0.5, 'red')\n",
    "regs['a1'] = (pc.box2poly(np.array([[-1, 1], [4, 5]])), 0.5, 'green')\n",
    "regs['b1'] = (pc.box2poly(np.array([[4, 5], [4, 5]])), 0.5, 'blue')\n",
    "regs['c1'] = (pc.box2poly(np.array([[-5, -4], [4, 5]])), 0.5, 'blue')\n",
    "\n",
    "e_init = [0 if  reg[1] in [0,1] else 2 for reg in regs.itervalues()]\n",
    "\n",
    "prob['regs'] = regs\n",
    "prob['env_x0'] = e_init\n",
    "\n",
    "# formula\n",
    "prob['formula'] = '( ( ! fail U sampleA ) & ( ! fail U sampleB ) ) | ( ! fail U ( emptyA & sampleC ) )'\n",
    "\n",
    "# rover model\n",
    "rover_abstr = Abstraction([-5, -5], [5, 5], [10, 10])\n",
    "rover = rover_abstr.abstract()\n",
    "rover.input_name = 'ar'\n",
    "rover.output_name = 'xr'\n",
    "print rover\n",
    "\n",
    "# copter model\n",
    "copter_abstr = Abstraction([-5, -5, 1.5], [5, 5, 3.5], [10, 10, 2])\n",
    "copter = copter_abstr.abstract()\n",
    "copter.input_name = 'ac'\n",
    "copter.output_name = 'xc'\n",
    "print copter\n",
    "\n",
    "# Environment belief model\n",
    "env = ParallelMDP([rf.get_mdp(info[1], 0, name) for (name, info) in regs.iteritems()])\n",
    "print env\n",
    "\n",
    "# connect rover-env\n",
    "rover_env_mdp = rover.product(env, connection=rf.get_conn_rov_env(prob['regs']) )\n",
    "print rover_env_mdp\n",
    "\n",
    "# Connect copter-env\n",
    "mdp_copt_env = copter.product(env, connection=rf.get_conn_copt_env(prob['regs'], prob['cop_sight']) )\n",
    "print mdp_copt_env"
   ]
  },
  {
   "cell_type": "code",
   "execution_count": 3,
   "metadata": {},
   "outputs": [
    {
     "data": {
      "image/png": "[encoded data removed]",
      "text/plain": [
       "<matplotlib.figure.Figure at 0x7f0e90070cd0>"
      ]
     },
     "metadata": {},
     "output_type": "display_data"
    }
   ],
   "source": [
    "# plot regions\n",
    "\n",
    "import matplotlib.pyplot as plt\n",
    "import matplotlib.patches as patches\n",
    "\n",
    "fig = plt.figure()\n",
    "ax = plt.Axes(fig, [0.,0.,1.,1.])\n",
    "fig.add_axes(ax)\n",
    "rover_abstr.plot(ax)\n",
    "\n",
    "for name, info in regs.iteritems():\n",
    "    rf.plot_region(ax, info[0], name, info[1], info[2])\n",
    "    \n",
    "ax.text(prob['rov_x0'][0]+0.1, prob['rov_x0'][1]+0.1, '$\\\\xi_r^0$')\n",
    "\n",
    "ax.add_patch(patches.Rectangle(  prob['cop_xT'][:2]-0.5, 1, 1, fill=False ))\n",
    "ax.text( prob['cop_x0'][0]+0.1, prob['cop_x0'] [1]+0.1, '$\\\\xi_c^0$')\n",
    "\n",
    "fig.savefig('arena.pdf')"
   ]
  },
  {
   "cell_type": "code",
   "execution_count": 4,
   "metadata": {},
   "outputs": [
    {
     "name": "stdout",
     "output_type": "stream",
     "text": [
      "iteration 0, time 0.000108003616333\n",
      "iteration 1, time 7.67656517029\n",
      "iteration 2, time 15.8642311096\n",
      "iteration 3, time 24.0148880482\n",
      "iteration 4, time 31.4154100418\n",
      "iteration 5, time 38.8109021187\n",
      "iteration 6, time 46.2963330746\n",
      "iteration 7, time 53.6702771187\n",
      "iteration 8, time 61.0117800236\n",
      "iteration 9, time 69.0200681686\n",
      "iteration 10, time 76.651061058\n",
      "iteration 11, time 84.3292870522\n",
      "iteration 12, time 92.3158540726\n",
      "iteration 13, time 99.6712181568\n",
      "iteration 14, time 107.239845991\n",
      "finished after 115.08419919s and 15 iterations\n",
      "iteration 0, time 0.000478982925415\n",
      "iteration 1, time 1.60785198212\n",
      "iteration 2, time 3.18162703514\n",
      "iteration 3, time 4.85254096985\n",
      "iteration 4, time 6.46101713181\n",
      "iteration 5, time 8.08188796043\n",
      "iteration 6, time 9.66304802895\n",
      "iteration 7, time 11.3284499645\n",
      "iteration 8, time 12.9202311039\n",
      "iteration 9, time 14.5359449387\n",
      "iteration 10, time 16.1191658974\n",
      "iteration 11, time 17.787733078\n",
      "iteration 12, time 19.3612120152\n",
      "iteration 13, time 21.0028231144\n",
      "iteration 14, time 22.614962101\n",
      "iteration 15, time 24.2384560108\n",
      "iteration 16, time 25.8554279804\n",
      "iteration 17, time 27.6109549999\n",
      "iteration 18, time 29.2078590393\n",
      "iteration 19, time 30.8601760864\n",
      "iteration 20, time 32.4600100517\n",
      "iteration 21, time 34.0882270336\n",
      "iteration 22, time 35.7122969627\n",
      "iteration 23, time 37.3698649406\n",
      "iteration 24, time 38.9782159328\n",
      "iteration 25, time 40.5984239578\n",
      "iteration 26, time 42.3607270718\n",
      "iteration 27, time 44.0253350735\n",
      "iteration 28, time 45.6179080009\n",
      "iteration 29, time 47.2723419666\n",
      "finished after 48.8577110767s and 30 iterations\n"
     ]
    }
   ],
   "source": [
    "# solve rover LTL problem\n",
    "\n",
    "from best.ltl import solve_ltl_cosafe\n",
    "\n",
    "rover_ltlpol = solve_ltl_cosafe(rover_env_mdp, prob['formula'], rf.get_ltl_connection(regs),\n",
    "                                delta=0.001, maxiter=prob['rov_T'], verbose=True)\n",
    "\n",
    "# construct copter value fcn\n",
    "VT = -np.inf * np.ones(mdp_copt_env.N_list)\n",
    "\n",
    "init_rov = rover_abstr.x_to_s(prob['rov_x0'])\n",
    "init_dfsa = rover_ltlpol.dfsa_init\n",
    "\n",
    "v_max = np.max(rover_ltlpol.V.flatten())\n",
    "\n",
    "end_cop = copter_abstr.x_to_s(prob['cop_xT'])\n",
    "\n",
    "idx = np.logical_or(rover_ltlpol.V[init_rov, :, init_dfsa] > v_max-prob['prob_margin'],\n",
    "                    rover_ltlpol.V[init_rov, :, init_dfsa] < prob['prob_margin'])\n",
    "\n",
    "VT[end_cop, :] = 0\n",
    "VT[end_cop, idx] = 1\n",
    "            \n",
    "# solve copter reach problem\n",
    "V_copt, Pol_copt = mdp_copt_env.solve_reach(VT, maxiter=prob['cop_T'], delta=0.001, verbose=True)"
   ]
  },
  {
   "cell_type": "code",
   "execution_count": 5,
   "metadata": {},
   "outputs": [],
   "source": [
    "# save controllers\n",
    "import cPickle as pickle\n",
    "\n",
    "copter_policy = rf.CopterPolicy(Pol_copt, V_copt, copter_abstr)\n",
    "rover_policy = rf.RoverPolicy(rover_ltlpol, rover_abstr)\n",
    "\n",
    "with open('policies.pickle', 'wb') as fp:\n",
    "  pickle.dump((copter_policy, rover_policy, prob), fp)"
   ]
  },
  {
   "cell_type": "code",
   "execution_count": 6,
   "metadata": {},
   "outputs": [
    {
     "name": "stdout",
     "output_type": "stream",
     "text": [
      "success probability: 0.241\n"
     ]
    },
    {
     "data": {
      "image/png": "[encoded data removed]",
      "text/plain": [
       "<matplotlib.figure.Figure at 0x7f0e69a7ec50>"
      ]
     },
     "metadata": {},
     "output_type": "display_data"
    }
   ],
   "source": [
    "# plot rover value fcn\n",
    "def my_value(x, mapstate):    \n",
    "    s_abstr = rover_abstr.x_to_s(x)\n",
    "    s_map = env.global_state(mapstate)\n",
    "\n",
    "    _, val = rover_ltlpol.get_input((s_abstr, s_map))\n",
    "    return val\n",
    "\n",
    "def my_init_value(x, y):\n",
    "    return my_value(np.array([x, y]), prob['env_x0'])\n",
    "\n",
    "fig = plt.figure()\n",
    "ax = plt.Axes(fig, [0.,0.,1.,1.])\n",
    "# ax.set_axis_off()\n",
    "fig.add_axes(ax)\n",
    "\n",
    "x, y = np.meshgrid(np.arange(-5, 6, 1), np.arange(-5, 6, 1))\n",
    "xx, yy = np.meshgrid(np.arange(-5, 5, 1), np.arange(-5, 5, 1))\n",
    "vals = np.vectorize(my_init_value)(xx+0.5, yy+0.5)\n",
    "\n",
    "ax.pcolor(x, y, vals, vmin=0, vmax=1)\n",
    "\n",
    "print 'success probability: {}'.format(my_value(prob['rov_x0'], prob['env_x0']))\n",
    "\n",
    "fig.savefig('value-rov.pdf')"
   ]
  },
  {
   "cell_type": "code",
   "execution_count": 7,
   "metadata": {},
   "outputs": [
    {
     "name": "stdout",
     "output_type": "stream",
     "text": [
      "success value: 0.977\n"
     ]
    },
    {
     "data": {
      "image/png": "[encoded data removed]",
      "text/plain": [
       "<matplotlib.figure.Figure at 0x7f0e90e7be90>"
      ]
     },
     "metadata": {},
     "output_type": "display_data"
    }
   ],
   "source": [
    "# plot copter value fcn\n",
    "map_init = env.global_state(prob['env_x0'])\n",
    "\n",
    "def copter_value(x, mapstate):  \n",
    "    scop = copter_abstr.x_to_s(x)\n",
    "    \n",
    "    return V_copt[scop, mapstate]\n",
    "\n",
    "def my_init_cvalue(x, y):\n",
    "    return copter_value(np.array([x, y, 2]), map_init)\n",
    "\n",
    "fig = plt.figure()\n",
    "ax = plt.Axes(fig, [0.,0.,1.,1.])\n",
    "# ax.set_axis_off()\n",
    "fig.add_axes(ax)\n",
    "\n",
    "x, y = np.meshgrid(np.arange(-5, 6, 1), np.arange(-5, 6, 1))\n",
    "xx, yy = np.meshgrid(np.arange(-5, 5, 1), np.arange(-5, 5, 1))\n",
    "\n",
    "vals = np.vectorize(my_init_cvalue)(xx+0.5, yy+0.5)\n",
    "\n",
    "ax.pcolor(x, y, vals)\n",
    "\n",
    "print 'success value: {}'.format(copter_value(prob['cop_x0'], map_init))"
   ]
  }
 ],
 "metadata": {
  "kernelspec": {
   "display_name": "Python 2",
   "language": "python",
   "name": "python2"
  },
  "language_info": {
   "codemirror_mode": {
    "name": "ipython",
    "version": 2
   },
   "file_extension": ".py",
   "mimetype": "text/x-python",
   "name": "python",
   "nbconvert_exporter": "python",
   "pygments_lexer": "ipython2",
   "version": "2.7.12"
  }
 },
 "nbformat": 4,
 "nbformat_minor": 2
}
