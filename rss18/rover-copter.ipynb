{
 "cells": [
  {
   "cell_type": "code",
   "execution_count": 1,
   "metadata": {},
   "outputs": [
    {
     "name": "stderr",
     "output_type": "stream",
     "text": [
      "Using numpy backend.\n"
     ]
    },
    {
     "name": "stdout",
     "output_type": "stream",
     "text": [
      "MDP: 9 inputs \"(ux, uy)\" --> 121 outputs \"(rx, ry)\"\n"
     ]
    }
   ],
   "source": [
    "import numpy as np\n",
    "import matplotlib.pyplot as plt\n",
    "import matplotlib.patches as patches\n",
    "from collections import OrderedDict\n",
    "\n",
    "import sys\n",
    "sys.path.append('../')\n",
    "\n",
    "from best.mdp import MDP, ParallelMDP\n",
    "\n",
    "###### ROVER MODEL (deterministic for now..) ######\n",
    "\n",
    "n_r = 11  # number of rover states\n",
    "\n",
    "# Move left\n",
    "T1_stay = np.diag(np.ones(n_r))\n",
    "\n",
    "# Move left\n",
    "T1_west = np.diag(np.ones(n_r-1), -1)\n",
    "T1_west[0, 0] = 1\n",
    "\n",
    "# Mover right\n",
    "T1_east = np.diag(np.ones(n_r-1), 1)\n",
    "T1_east[n_r-1, n_r-1] = 1\n",
    "\n",
    "\n",
    "def input_fcn(inp):  # -1, 0, 1\n",
    "    return inp+1\n",
    "    \n",
    "def output_fcn(n):    # -nr/2, ..., nr/2\n",
    "    return n\n",
    "\n",
    "rov_x = MDP([T1_west, T1_stay, T1_east], output_name='rx', output_fcn=output_fcn, \n",
    "                                input_name='ux', input_fcn=input_fcn)\n",
    "\n",
    "rov_y = MDP([T1_west, T1_stay, T1_east], output_name='ry', output_fcn=output_fcn, \n",
    "                                input_name='uy', input_fcn=input_fcn)\n",
    "\n",
    "rover = ParallelMDP([rov_x, rov_y])\n",
    "\n",
    "print rover"
   ]
  },
  {
   "cell_type": "code",
   "execution_count": 2,
   "metadata": {},
   "outputs": [
    {
     "data": {
      "image/png": "[encoded data removed]",
      "text/plain": [
       "<matplotlib.figure.Figure at 0x7f7050453990>"
      ]
     },
     "metadata": {},
     "output_type": "display_data"
    }
   ],
   "source": [
    "# Define regions\n",
    "regs = OrderedDict()\n",
    "\n",
    "def r1(r):\n",
    "    return r[0] in [5] and r[1] in [0,1,2,3,4]\n",
    "\n",
    "def r2(r):\n",
    "    return r[0] in [9,10] and r[1] in [4,5]\n",
    "\n",
    "def r3(r):\n",
    "    return r[0] in [6,7,8] and r[1] in [4,5]\n",
    "\n",
    "def a1(r):\n",
    "    return r[0] in [8,9] and r[1] in [8, 9]\n",
    "\n",
    "def a2(r):\n",
    "    return r[0] in [0,1] and r[1] in [9, 10]\n",
    "\n",
    "def b1(r):\n",
    "    return r[0] in [9,10] and r[1] in [1]\n",
    "\n",
    "\n",
    "regs['r1'] = (r1, 0.5)\n",
    "regs['r2'] = (r2, 1)\n",
    "regs['r3'] = (r3, 0.5)\n",
    "regs['a1'] = (a1, 0.4)\n",
    "regs['a2'] = (a2, 0.4)\n",
    "regs['b1'] = (b1, 1)\n",
    "\n",
    "fig = plt.figure()\n",
    "ax=fig.gca()\n",
    "ax.set_xticks(np.arange(0, n_r+1, 1))\n",
    "ax.set_yticks(np.arange(0, n_r+1, 1))\n",
    "plt.grid()\n",
    "\n",
    "def plot_region(func, p, color, name):\n",
    "    text = 0\n",
    "    for ix in range(n_r):\n",
    "        for iy in range(n_r):\n",
    "            if func([ix, iy]):\n",
    "                ax.add_patch(patches.Rectangle( (ix, iy), 1, 1, color=color ))\n",
    "                if not text:\n",
    "                    ax.text(ix+0.3, iy+0.3, '{}, p={}'.format(name, p))\n",
    "                    text = 1\n",
    "                \n",
    "cm = plt.get_cmap('Set3')\n",
    "\n",
    "i = 0\n",
    "for (name, info) in regs.iteritems():\n",
    "    plot_region(info[0], info[1], cm(i), name)\n",
    "    i += 1"
   ]
  },
  {
   "cell_type": "code",
   "execution_count": 3,
   "metadata": {},
   "outputs": [
    {
     "name": "stdout",
     "output_type": "stream",
     "text": [
      "MDP: 729 inputs \"(r1_u, r2_u, r3_u, a1_u, a2_u, b1_u)\" --> 625 outputs \"(r1_b, r2_b, r3_b, a1_b, a2_b, b1_b)\"\n",
      "[5, 1, 5, 5, 5, 1]\n"
     ]
    }
   ],
   "source": [
    "## Environment belief model\n",
    "\n",
    "def get_mdp(p0, qw, name):\n",
    "    # Create map belief MDP with prior p0 and qw quality of weak measurements\n",
    "    if p0 == 0:\n",
    "        # no dynamics\n",
    "        Tnone = np.array([1])\n",
    "        Tweak = np.array([1])\n",
    "        Tstrong = np.array([1])\n",
    "        output_fcn = lambda s: 0\n",
    "    \n",
    "    elif p0 == 1:\n",
    "        Tnone = np.array([1])\n",
    "        Tweak = np.array([1])\n",
    "        Tstrong = np.array([1])\n",
    "        output_fcn = lambda s: 1\n",
    "        \n",
    "    else:\n",
    "        pm = p0/2\n",
    "        pp = p0 + (1-p0)/2\n",
    "        # levels [0 p- p0 p+ 1]\n",
    "\n",
    "        Tnone = np.eye(5);\n",
    "        Tweak = np.array([[1,           0,             0,       0,              0], \n",
    "                          [qw*(1-pm),   (1-qw)*(1-pm), 0,       (1-qw)*pm,      qw*pm],\n",
    "                          [qw*(1-p0),   (1-qw)*p0,     0,       (1-qw)*(1-p0),  qw*p0],\n",
    "                          [qw*(1-pp),   (1-qw)*(1-pp), 0,       (1-qw)*pp,      qw*pp],\n",
    "                          [0,           0,             0,       0,              1]])\n",
    "        Tstrong = np.array([[1,      0, 0, 0, 0],\n",
    "                            [(1-pm), 0, 0, 0, pm],\n",
    "                            [(1-p0), 0, 0, 0, p0],\n",
    "                            [(1-pp), 0, 0, 0, pp],\n",
    "                            [0,      0, 0, 0, 1]])\n",
    "\n",
    "        def output_fcn(s):\n",
    "            return [0, pm, p0, pp, 1][s]\n",
    "    \n",
    "    return MDP([Tnone, Tweak, Tstrong], input_name=name+'_u', output_name=name+'_b', output_fcn=output_fcn)\n",
    "\n",
    "env = ParallelMDP([get_mdp(info[1], 0.1, name) for (name, info) in regs.iteritems()])\n",
    "\n",
    "print env\n",
    "print env.N_list"
   ]
  },
  {
   "cell_type": "code",
   "execution_count": 4,
   "metadata": {},
   "outputs": [
    {
     "name": "stdout",
     "output_type": "stream",
     "text": [
      "MDP: 9 inputs \"(ux, uy)\" --> 75625 outputs \"((rx, ry), (r1_b, r2_b, r3_b, a1_b, a2_b, b1_b))\"\n"
     ]
    }
   ],
   "source": [
    "## Connect Rover-env\n",
    "\n",
    "def is_adjacent(func, x):\n",
    "    # return true x within distance 1 of func\n",
    "    for dx in [-1, 0, 1]:\n",
    "        for dy in [-1, 0, 1]:\n",
    "            if func((x[0]+dx, x[1]+dy)):\n",
    "                return True\n",
    "    return False\n",
    "\n",
    "def connection(xr):\n",
    "    ret = [0 for i in range(len(regs))]\n",
    "    i = 0\n",
    "    for (name, info) in regs.iteritems():\n",
    "        if is_adjacent(info[0], xr):\n",
    "            ret[i] = 2    # strong measurement\n",
    "        i += 1\n",
    "            \n",
    "    return set([tuple(ret)])\n",
    "\n",
    "prod_mdp = rover.product(env, connection=connection)\n",
    "print prod_mdp"
   ]
  },
  {
   "cell_type": "code",
   "execution_count": 5,
   "metadata": {},
   "outputs": [
    {
     "name": "stdout",
     "output_type": "stream",
     "text": [
      "set([()])\n",
      "set([('fail',)])\n",
      "set([()])\n",
      "set([('sampleB',)])\n"
     ]
    }
   ],
   "source": [
    "## Set up LTL problem\n",
    "\n",
    "formula = '( ! fail U sampleA ) & ( ! fail U sampleB )'\n",
    "\n",
    "# map ((rx, ry), (e1, ..., en)) -> 2^2^{sampleA, sampleB, fail}\n",
    "def ltl_connection(xr_env):\n",
    "    xr = xr_env[0]\n",
    "    env = xr_env[1]\n",
    "    \n",
    "    i = 0\n",
    "    \n",
    "    ret = set([])\n",
    "    \n",
    "    for (name, info) in regs.iteritems():\n",
    "        func = info[0]\n",
    "        \n",
    "        if name[0] == 'r' and func(xr) and env[i] > 0:\n",
    "            # we are in risk reg that is not confirmed safe \n",
    "            ret |= set(['fail'])\n",
    "            \n",
    "        if name[0] == 'a' and func(xr) and env[i] == 1:\n",
    "            # we are in target reg with confirmed sample\n",
    "            ret |= set(['sampleA'])\n",
    "\n",
    "        if name[0] == 'b' and func(xr) and env[i] == 1:\n",
    "            # we are in target reg with confirmed sample\n",
    "            ret |= set(['sampleB'])\n",
    "        i += 1\n",
    "\n",
    "    return set([tuple(ret)])\n",
    "\n",
    "print ltl_connection(((9,5), (0,0,0,0,0,1)))\n",
    "print ltl_connection(((9,5), (0,0.1,0,0,0,0)))\n",
    "\n",
    "print ltl_connection(((9,1), (0,0,0,0,0,0)))\n",
    "print ltl_connection(((9,1), (0,0,0,0,0,1)))"
   ]
  },
  {
   "cell_type": "code",
   "execution_count": null,
   "metadata": {},
   "outputs": [
    {
     "name": "stdout",
     "output_type": "stream",
     "text": [
      "iteration 0, time 4.88758087158e-05\n",
      "iteration 1, time 7.38167190552\n",
      "iteration 2, time 11.9876899719\n",
      "iteration 3, time 16.6215379238\n",
      "iteration 4, time 21.4229409695\n",
      "iteration 5, time 26.3536589146\n",
      "iteration 6, time 31.0062580109\n",
      "iteration 7, time 35.6225438118\n",
      "iteration 8, time 40.2235019207\n",
      "iteration 9, time 44.8393759727\n",
      "iteration 10, time 49.6645209789\n",
      "iteration 11, time 54.2503228188\n",
      "iteration 12, time 58.8015878201\n",
      "iteration 13, time 63.3573858738\n",
      "iteration 14, time 67.9759879112\n",
      "iteration 15, time 72.5815019608\n",
      "iteration 16, time 77.0860438347\n",
      "iteration 17, time 81.5844538212\n",
      "iteration 18, time 86.0797379017\n",
      "iteration 19, time 90.5798869133\n",
      "iteration 20, time 95.0541620255\n",
      "iteration 21, time 99.5590510368\n"
     ]
    }
   ],
   "source": [
    "from best.ltl import solve_ltl_cosafe\n",
    "pol = solve_ltl_cosafe(prod_mdp, formula, ltl_connection, delta=0.01, verbose=True)"
   ]
  },
  {
   "cell_type": "code",
   "execution_count": 8,
   "metadata": {},
   "outputs": [],
   "source": [
    "if False:\n",
    "    # theano\n",
    "    import theano.tensor as T\n",
    "    from theano import function\n",
    "    \n",
    "    from best.ltl import formula_to_mdp\n",
    "    \n",
    "    dfsa, dfsa_init, dfsa_final, _ = formula_to_mdp(formula)\n",
    "    prod3mdp = prod_mdp.product(dfsa, ltl_connection)\n",
    "    \n",
    "    sV_XEP = T.ftensor3('V_XEP')\n",
    "    sT_uxX = T.ftensor3('T_uxX')\n",
    "    sT_veE = T.ftensor3('T_veE')\n",
    "    sT_wpP = T.ftensor3('T_wpP')\n",
    "    sU_vX  = T.fmatrix('U_vX')\n",
    "    sU_wXE = T.ftensor3('U_wXE')\n",
    "    \n",
    "    # sum over w\n",
    "    sS_XEpP = T.tensordot( sU_wXE, sT_wpP, axes=[[0], [0]] )\n",
    "    sS_XeE = T.tensordot( sU_vX, sT_veE, axes=[[0], [0]] )\n",
    "\n",
    "    # sum over P\n",
    "    sW_XEpXE = T.tensordot( sS_XEpP, sV_XEP, axes=[[3], [2]] )\n",
    "    \n",
    "    # diagnonal over X\n",
    "    sW_EpEX = T.diagonal( sW_XEpXE, axis1=0, axis2=3 )\n",
    "    # diagonal over E\n",
    "    sW_pXE = T.diagonal( sW_EpEX, axis1=0, axis2=2 )\n",
    "    \n",
    "    # sum over E\n",
    "    sW_XepX = T.tensordot( sS_XeE, sW_pXE, axes=[[2], [2]])\n",
    "        \n",
    "    # diagonal over X  (diagonal dim is appended)\n",
    "    sV_epX = T.diagonal( sW_XepX, axis1=0, axis2=3 )\n",
    "\n",
    "    # sum over X\n",
    "    sV_uxep = T.tensordot( sT_uxX, sV_epX, axes=[[2], [2]] )\n",
    "\n",
    "    # max over u\n",
    "    sV_xep = T.max(sV_uxep, axis=0)\n",
    "\n",
    "    f = function([sV_XEP, sT_uxX, sT_veE, sT_wpP, sU_vX, sU_wXE], sV_xep, allow_input_downcast=True)\n",
    "    \n",
    "    V = np.zeros(prod3mdp.N_list)\n",
    "    V[:,:,list(dfsa_final)[0]] = 1\n",
    "    \n",
    "    T_uxX = np.array([prod3mdp.mdplist[0].T(m).todense() for m in range(prod3mdp.mdplist[0].M)])\n",
    "    T_veE = np.array([prod3mdp.mdplist[1].T(m).todense() for m in range(prod3mdp.mdplist[1].M)])\n",
    "    T_wpP = np.array([prod3mdp.mdplist[2].T(m).todense() for m in range(prod3mdp.mdplist[2].M)])\n",
    "\n",
    "    U_vX = prod3mdp.conn_list[0]\n",
    "    U_wXE = prod3mdp.conn_list[1]"
   ]
  },
  {
   "cell_type": "code",
   "execution_count": 9,
   "metadata": {},
   "outputs": [
    {
     "data": {
      "text/plain": [
       "<matplotlib.colorbar.Colorbar at 0x7fcb69306210>"
      ]
     },
     "execution_count": 9,
     "metadata": {},
     "output_type": "execute_result"
    },
    {
     "data": {
      "image/png": "[encoded data removed]",
      "text/plain": [
       "<matplotlib.figure.Figure at 0x7fcb685e5090>"
      ]
     },
     "metadata": {},
     "output_type": "display_data"
    }
   ],
   "source": [
    "cm = plt.get_cmap('winter')\n",
    "    \n",
    "def my_value(x, mapstate):    \n",
    "   \n",
    "    s_tot = prod_mdp.global_state( (x, mapstate) )\n",
    "\n",
    "    _, val = pol.get_input(s_tot)\n",
    "    return val\n",
    "\n",
    "pinit = [4, 0, 2, 2, 2, 0]\n",
    "\n",
    "fig = plt.figure()\n",
    "ax=fig.gca()\n",
    "ax.set_xticks(np.arange(0, n_r+1, 1))\n",
    "ax.set_yticks(np.arange(0, n_r+1, 1))\n",
    "plt.grid()\n",
    "        \n",
    "x_edge = np.arange(0,n_r)\n",
    "y_edge = np.arange(0,n_r)\n",
    "\n",
    "xi, yi = np.meshgrid(x_edge,y_edge)\n",
    "vals = np.array([my_value((x,y), pinit) for (x,y) in zip(xi, yi)])\n",
    "\n",
    "plt.pcolor(x_edge+0.5, y_edge+0.5, vals.reshape((n_r, n_r)), vmin=0, vmax=1)\n",
    "plt.colorbar()\n"
   ]
  },
  {
   "cell_type": "code",
   "execution_count": 10,
   "metadata": {},
   "outputs": [
    {
     "name": "stdout",
     "output_type": "stream",
     "text": [
      "MDP: 18 inputs \"(ux, uy, uy)\" --> 242 outputs \"(rx, ry, rz)\"\n"
     ]
    }
   ],
   "source": [
    "# Copter system\n",
    "\n",
    "n_r = 11  # number of rover states\n",
    "\n",
    "# Move left\n",
    "T1_stay = np.diag(np.ones(n_r))\n",
    "\n",
    "# Move left\n",
    "T1_west = np.diag(np.ones(n_r-1), -1)\n",
    "T1_west[0, 0] = 1\n",
    "\n",
    "# Mover right\n",
    "T1_east = np.diag(np.ones(n_r-1), 1)\n",
    "T1_east[n_r-1, n_r-1] = 1\n",
    "\n",
    "T1_up = np.array([[0, 1], [0, 1]]);\n",
    "T1_down = np.array([[1, 0], [1, 0]]);\n",
    "\n",
    "def input_fcn(inp):  # -1, 0, 1\n",
    "    return inp+1\n",
    "    \n",
    "def output_fcn(n):    # -nr/2, ..., nr/2\n",
    "    return n\n",
    "\n",
    "cop_x = MDP([T1_west, T1_stay, T1_east], output_name='rx', output_fcn=output_fcn, \n",
    "                                input_name='ux', input_fcn=input_fcn)\n",
    "\n",
    "cop_y = MDP([T1_west, T1_stay, T1_east], output_name='ry', output_fcn=output_fcn, \n",
    "                                input_name='uy', input_fcn=input_fcn)\n",
    "\n",
    "cop_z = MDP([T1_down, T1_up], output_name='rz', output_fcn=output_fcn, \n",
    "                              input_name='uy', input_fcn=input_fcn)\n",
    "\n",
    "copter = ParallelMDP([cop_x, cop_y, cop_z])\n",
    "\n",
    "print copter"
   ]
  },
  {
   "cell_type": "code",
   "execution_count": 11,
   "metadata": {},
   "outputs": [
    {
     "name": "stdout",
     "output_type": "stream",
     "text": [
      "MDP: 18 inputs \"(ux, uy, uy)\" --> 151250 outputs \"((rx, ry, rz), (r1_b, r2_b, r3_b, a1_b, a2_b, b1_b))\"\n"
     ]
    }
   ],
   "source": [
    "# connect copter with map\n",
    "dist = 3\n",
    "\n",
    "def is_above(func, x):\n",
    "    # return true x within distance 1 of func\n",
    "    if func( (x[0], x[1]) ):\n",
    "        return True\n",
    "    return False\n",
    "\n",
    "def is_adjacent(func, x):\n",
    "    # return true x within distance 1 of func\n",
    "    for dx in range(-dist, dist+1, 1):\n",
    "        for dy in range(-dist, dist+1, 1):\n",
    "            if func((x[0]+dx, x[1]+dy)):\n",
    "                return True\n",
    "    return False\n",
    "\n",
    "def copt_env(xr):\n",
    "    ret = [0 for i in range(len(regs))]\n",
    "    i = 0\n",
    "    for (name, info) in regs.iteritems():\n",
    "        if is_above(info[0], xr) and xr[2] == 0:\n",
    "            ret[i] = 1    # weak measurement\n",
    "        if is_adjacent(info[0], xr) and xr[2] == 1:\n",
    "            ret[i] = 2    # strong measurement\n",
    "        i += 1\n",
    "        \n",
    "    return set([tuple(ret)])\n",
    "\n",
    "mdp_copt_env = copter.product(env, connection=copt_env)\n",
    "print mdp_copt_env"
   ]
  },
  {
   "cell_type": "code",
   "execution_count": 15,
   "metadata": {},
   "outputs": [
    {
     "name": "stdout",
     "output_type": "stream",
     "text": [
      "(18, 242, 242)\n",
      "(729, 625, 625)\n",
      "(729, 242)\n"
     ]
    }
   ],
   "source": [
    "# Solve problem for copter\n",
    "MAX_STEP = 10  # copter only has 10 steps\n",
    "\n",
    "\n",
    "def copt_safe(x):\n",
    "    if x[0] == 4 and x[1] == 0 and x[2] == 0:\n",
    "        return 1\n",
    "    else:\n",
    "        return 0\n",
    "\n",
    "# value function at time t: rover success probability * copter safe\n",
    "VT = np.zeros(mdp_copt_env.N_list)\n",
    "\n",
    "for n in range(copter.N):\n",
    "    x = copter.output(n)\n",
    "    if copt_safe(x):\n",
    "        for m in range(env.N):\n",
    "            maps = env.local_states(m)\n",
    "            VT[n, m] = my_value( (0,0), maps )\n",
    "\n",
    "T_vxX = np.array([copter.T(m).todense() for m in range(copter.M)])\n",
    "T_ueE = np.array([env.T(m).todense() for m in range(env.M)])\n",
    "U_uX = mdp_copt_env.conn_list[0]\n",
    "\n",
    "print T_vxX.shape\n",
    "print T_ueE.shape\n",
    "print U_uX.shape"
   ]
  },
  {
   "cell_type": "code",
   "execution_count": 24,
   "metadata": {},
   "outputs": [
    {
     "name": "stdout",
     "output_type": "stream",
     "text": [
      "step 0, time 0.000221967697144\n",
      "step 1, time 93.6423590183\n",
      "step 2, time 187.343376875\n",
      "step 3, time 281.734480858\n",
      "step 4, time 372.178216934\n",
      "step 5, time 461.915452957\n",
      "step 6, time 552.300893068\n",
      "step 7, time 642.217705011\n",
      "step 8, time 731.713979959\n",
      "step 9, time 821.901067972\n"
     ]
    }
   ],
   "source": [
    "import time\n",
    "\n",
    "# run value iteration TODO: write exploiting sparsity\n",
    "Vt_list = [VT]\n",
    "\n",
    "t0 = time.time()\n",
    "for step in range(MAX_STEP):\n",
    "    print 'step {}, time {}'.format(step, time.time()-t0)\n",
    "    # W_{x', e'}\n",
    "    W = Vt_list[-1]\n",
    "    \n",
    "    # W_{x', e} = \\sum_{u, e'} U_{u, x'} T_{u, e, e'} W_{x', e'} \n",
    "    W = np.einsum('uX,ueE,XE->Xe', U_uX, T_ueE, W )\n",
    "    \n",
    "    # Wv_{v, x, e} = \\sum_{x'} T_{v, x, x'} W_{x', e}   \n",
    "    Wv = np.einsum('vxX,Xe->vxe', T_vxX, W)\n",
    "    \n",
    "    # W_{v, x} = \\max_{v} Wv_{v, x, e}\n",
    "    Vt = Wv.max(axis=0)\n",
    "    \n",
    "    Vt_list.append(Vt)"
   ]
  },
  {
   "cell_type": "code",
   "execution_count": 44,
   "metadata": {},
   "outputs": [
    {
     "name": "stdout",
     "output_type": "stream",
     "text": [
      "0.37871023437499995\n"
     ]
    },
    {
     "data": {
      "text/plain": [
       "<matplotlib.colorbar.Colorbar at 0x7fcb4040d110>"
      ]
     },
     "execution_count": 44,
     "metadata": {},
     "output_type": "execute_result"
    },
    {
     "data": {
      "image/png": "[encoded data removed]",
      "text/plain": [
       "<matplotlib.figure.Figure at 0x7fcb404e3650>"
      ]
     },
     "metadata": {},
     "output_type": "display_data"
    }
   ],
   "source": [
    "cm = plt.get_cmap('winter')\n",
    "    \n",
    "def copter_value(x, mapstate):  \n",
    "    \n",
    "    ncop = copter.global_state(x)\n",
    "    nmap = env.global_state(mapstate)\n",
    "\n",
    "    return Vt_list[8][ncop, nmap]\n",
    "\n",
    "pinit = [2, 0, 2, 2, 2, 0]\n",
    "\n",
    "print copter_value( (0, 0, 0), pinit )\n",
    "\n",
    "fig = plt.figure()\n",
    "ax=fig.gca()\n",
    "ax.set_xticks(np.arange(0, n_r+1, 1))\n",
    "ax.set_yticks(np.arange(0, n_r+1, 1))\n",
    "plt.grid()\n",
    "\n",
    "x_edge = np.arange(0,n_r)\n",
    "y_edge = np.arange(0,n_r)\n",
    "\n",
    "xi, yi = np.meshgrid(x_edge,y_edge)\n",
    "vals = np.array([copter_value((x,y, 0), pinit) for (x,y) in zip(xi, yi)])\n",
    "\n",
    "plt.pcolor(x_edge+0.5, y_edge+0.5, vals.reshape((n_r, n_r)), vmin=0.3, vmax=0.5)\n",
    "plt.colorbar()"
   ]
  },
  {
   "cell_type": "code",
   "execution_count": 45,
   "metadata": {},
   "outputs": [
    {
     "data": {
      "text/plain": [
       "(242, 625)"
      ]
     },
     "execution_count": 45,
     "metadata": {},
     "output_type": "execute_result"
    }
   ],
   "source": [
    "Vt.shape"
   ]
  },
  {
   "cell_type": "code",
   "execution_count": 46,
   "metadata": {},
   "outputs": [
    {
     "data": {
      "text/plain": [
       "(5, 75625)"
      ]
     },
     "execution_count": 46,
     "metadata": {},
     "output_type": "execute_result"
    }
   ],
   "source": [
    "pol.V.shape"
   ]
  },
  {
   "cell_type": "code",
   "execution_count": null,
   "metadata": {},
   "outputs": [],
   "source": []
  }
 ],
 "metadata": {
  "kernelspec": {
   "display_name": "Python 2",
   "language": "python",
   "name": "python2"
  },
  "language_info": {
   "codemirror_mode": {
    "name": "ipython",
    "version": 2
   },
   "file_extension": ".py",
   "mimetype": "text/x-python",
   "name": "python",
   "nbconvert_exporter": "python",
   "pygments_lexer": "ipython2",
   "version": "2.7.12"
  }
 },
 "nbformat": 4,
 "nbformat_minor": 2
}
