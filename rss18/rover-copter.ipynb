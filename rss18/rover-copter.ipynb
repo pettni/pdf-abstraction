{
 "cells": [
  {
   "cell_type": "code",
   "execution_count": 1,
   "metadata": {},
   "outputs": [
    {
     "name": "stderr",
     "output_type": "stream",
     "text": [
      "Using numpy backend.\n"
     ]
    },
    {
     "name": "stdout",
     "output_type": "stream",
     "text": [
      "MDP: 5 inputs \"a\" --> 100 outputs \"xc\"\n"
     ]
    }
   ],
   "source": [
    "import numpy as np\n",
    "import polytope as pc\n",
    "import matplotlib.pyplot as plt\n",
    "import matplotlib.patches as patches\n",
    "from collections import OrderedDict\n",
    "\n",
    "import time\n",
    "import sys\n",
    "sys.path.append('../')\n",
    "\n",
    "from best.mdp import MDP, ParallelMDP\n",
    "from best.ltl import solve_ltl_cosafe\n",
    "from best.abstraction import Abstraction\n",
    "\n",
    "ROVER_STEPS = 15   # rover num of steps\n",
    "COPTER_STEPS = 30  # copter num of steps\n",
    "rover_init = np.array([0.5, -4.5])\n",
    "copter_final = np.array([1.5, -1.5, 2])\n",
    "copter_init = np.array([-0.5, -4.5, 2])\n",
    "\n",
    "copter_sight = 2\n",
    "\n",
    "###### ROVER MODEL (deterministic for now..) ######\n",
    "rover_abs = Abstraction([-5, -5], [5, 5], [10, 10])\n",
    "rover = rover_abs.mdp\n",
    "\n",
    "print rover"
   ]
  },
  {
   "cell_type": "code",
   "execution_count": 2,
   "metadata": {},
   "outputs": [
    {
     "data": {
      "image/png": "[encoded data removed]",
      "text/plain": [
       "<matplotlib.figure.Figure at 0x7f8d8430cc10>"
      ]
     },
     "metadata": {},
     "output_type": "display_data"
    }
   ],
   "source": [
    "# Define regions\n",
    "regs = OrderedDict()\n",
    "\n",
    "regs['r1'] = (pc.box2poly(np.array([[2, 3], [0, 5]])), 0.5, 'red')\n",
    "regs['r2'] = (pc.box2poly(np.array([[-3, -2], [0, 5]])), 0.5, 'red')\n",
    "regs['a1'] = (pc.box2poly(np.array([[-1, 1], [4, 5]])), 0.5, 'green')\n",
    "regs['b1'] = (pc.box2poly(np.array([[4, 5], [4, 5]])), 0.5, 'blue')\n",
    "regs['c1'] = (pc.box2poly(np.array([[-5, -4], [4, 5]])), 0.5, 'blue')\n",
    "\n",
    "pinit = [0 if  reg[1] in [0,1] else 2 for reg in regs.itervalues()]\n",
    "\n",
    "fig = plt.figure()\n",
    "ax = plt.Axes(fig, [0.,0.,1.,1.])\n",
    "fig.add_axes(ax)\n",
    "rover_abs.plot(ax)\n",
    "          \n",
    "def plot_region(poly, name, prob, color='red', alpha=0.5, hatch=False, fill=True):\n",
    "    ax.add_patch(patches.Polygon(pc.extreme(poly), color=color, alpha=alpha, hatch=hatch, fill=fill))\n",
    "    _, xc = pc.cheby_ball(poly)\n",
    "    ax.text(xc[0]-0.4, xc[1]-0.43, '${}_{}$\\n$p={}$'.format(name[0].upper(), name[1], prob))\n",
    "\n",
    "for name, info in regs.iteritems():\n",
    "    plot_region(info[0], name, info[1], info[2])\n",
    "    \n",
    "ax.text(rover_init[0]+0.1, rover_init[1]+0.1, '$\\\\xi_r^0$')\n",
    "\n",
    "ax.add_patch(patches.Rectangle( copter_final[:2]-0.5, 1, 1, fill=False ))\n",
    "ax.text(copter_init[0]+0.1, copter_init[1]+0.1, '$\\\\xi_c^0$')\n",
    "\n",
    "fig.savefig('arena.pdf')\n"
   ]
  },
  {
   "cell_type": "code",
   "execution_count": 3,
   "metadata": {},
   "outputs": [
    {
     "name": "stdout",
     "output_type": "stream",
     "text": [
      "MDP: 243 inputs \"(r1_u, r2_u, a1_u, b1_u, c1_u)\" --> 3125 outputs \"(r1_b, r2_b, a1_b, b1_b, c1_b)\"\n"
     ]
    }
   ],
   "source": [
    "## Environment belief model\n",
    "def get_mdp(p0, qw, name):\n",
    "    # Create map belief MDP with prior p0 and qw quality of weak measurements\n",
    "    if p0 == 0:\n",
    "        # no dynamics\n",
    "        Tnone = np.array([1])\n",
    "        Tweak = np.array([1])\n",
    "        Tstrong = np.array([1])\n",
    "        output_fcn = lambda s: 0\n",
    "    \n",
    "    elif p0 == 1:\n",
    "        Tnone = np.array([1])\n",
    "        Tweak = np.array([1])\n",
    "        Tstrong = np.array([1])\n",
    "        output_fcn = lambda s: 1\n",
    "        \n",
    "    else:\n",
    "        pm = p0/2\n",
    "        pp = p0 + (1-p0)/2\n",
    "        # levels [0 p- p0 p+ 1]\n",
    "\n",
    "        Tnone = np.eye(5);\n",
    "        Tweak = np.array([[1,           0,             0,       0,              0], \n",
    "                          [qw*(1-pm),   (1-qw)*(1-pm), 0,       (1-qw)*pm,      qw*pm],\n",
    "                          [qw*(1-p0),   (1-qw)*p0,     0,       (1-qw)*(1-p0),  qw*p0],\n",
    "                          [qw*(1-pp),   (1-qw)*(1-pp), 0,       (1-qw)*pp,      qw*pp],\n",
    "                          [0,           0,             0,       0,              1]])\n",
    "        Tstrong = np.array([[1,      0, 0, 0, 0],\n",
    "                            [(1-pm), 0, 0, 0, pm],\n",
    "                            [(1-p0), 0, 0, 0, p0],\n",
    "                            [(1-pp), 0, 0, 0, pp],\n",
    "                            [0,      0, 0, 0, 1]])\n",
    "\n",
    "        def output_fcn(s):\n",
    "            return [0, pm, p0, pp, 1][s]\n",
    "    \n",
    "    return MDP([Tnone, Tweak, Tstrong], input_name=name+'_u', output_name=name+'_b', output_fcn=output_fcn)\n",
    "\n",
    "env = ParallelMDP([get_mdp(info[1], 0, name) for (name, info) in regs.iteritems()])\n",
    "\n",
    "print env"
   ]
  },
  {
   "cell_type": "code",
   "execution_count": 4,
   "metadata": {},
   "outputs": [
    {
     "name": "stdout",
     "output_type": "stream",
     "text": [
      "MDP: 5 inputs \"a\" --> 312500 outputs \"(xc, (r1_b, r2_b, a1_b, b1_b, c1_b))\"\n"
     ]
    }
   ],
   "source": [
    "## Connect Rover-env\n",
    "def conn_rov_env(xr):\n",
    "    ret = [0 for i in range(len(regs))]\n",
    "    i = 0\n",
    "    for (name, info) in regs.iteritems():\n",
    "        poly = info[0]\n",
    "        if np.all(poly.A.dot(xr) < poly.b + 2):\n",
    "            ret[i] = 2    # strong measurement\n",
    "        i += 1\n",
    "    return set([tuple(ret)])\n",
    "\n",
    "rover_env_mdp = rover.product(env, connection=conn_rov_env)\n",
    "print rover_env_mdp"
   ]
  },
  {
   "cell_type": "code",
   "execution_count": 5,
   "metadata": {},
   "outputs": [],
   "source": [
    "## Set up LTL problem\n",
    "\n",
    "formula = '( ( ! fail U sampleA ) & ( ! fail U sampleB ) ) | ( ! fail U ( emptyA & sampleC ) )'\n",
    "\n",
    "# map ((xc, ry), (e1, ..., en)) -> 2^2^{sampleA, sampleB, fail}\n",
    "def ltl_connection(xc_env):\n",
    "    xc = np.array(xc_env[0]).reshape(2,1)\n",
    "    env = xc_env[1]\n",
    "    \n",
    "    i = 0\n",
    "    \n",
    "    ret = set([])\n",
    "    \n",
    "    for (name, info) in regs.iteritems():\n",
    "        poly = info[0]\n",
    "        \n",
    "        if name[0] == 'r' and poly.contains(xc) and env[i] > 0:\n",
    "            # we are in risk reg that is not confirmed safe \n",
    "            ret |= set(['fail'])\n",
    "            \n",
    "        if name[0] == 'a' and poly.contains(xc) and env[i] == 1:\n",
    "            # we are in target reg with confirmed sample\n",
    "            ret |= set(['sampleA'])\n",
    "\n",
    "        if name[0] == 'b' and poly.contains(xc) and env[i] == 1:\n",
    "            # we are in target reg with confirmed sample\n",
    "            ret |= set(['sampleB'])\n",
    "\n",
    "        if name[0] == 'c' and poly.contains(xc) and env[i] == 1:\n",
    "            # we are in target reg with confirmed sample\n",
    "            ret |= set(['sampleC'])\n",
    "        i += 1\n",
    "\n",
    "    if env[2] == 0:\n",
    "        # no sample A\n",
    "        ret |= set(['emptyA'])\n",
    "\n",
    "    return set([tuple(ret)])"
   ]
  },
  {
   "cell_type": "code",
   "execution_count": 6,
   "metadata": {},
   "outputs": [
    {
     "name": "stdout",
     "output_type": "stream",
     "text": [
      "iteration 0, time 0.000216007232666\n",
      "iteration 1, time 9.39843606949\n",
      "iteration 2, time 17.9756140709\n",
      "iteration 3, time 26.3831751347\n",
      "iteration 4, time 34.8393461704\n",
      "iteration 5, time 43.2400290966\n",
      "iteration 6, time 51.6118631363\n",
      "iteration 7, time 59.9359881878\n",
      "iteration 8, time 68.9568150043\n",
      "iteration 9, time 77.4662780762\n",
      "iteration 10, time 86.0465190411\n",
      "iteration 11, time 94.5769300461\n",
      "iteration 12, time 103.156517029\n",
      "iteration 13, time 111.870164156\n",
      "iteration 14, time 120.350555182\n",
      "finished after 128.8782022s and 15 iterations\n"
     ]
    }
   ],
   "source": [
    "rover_ltlpol = solve_ltl_cosafe(rover_env_mdp, formula, ltl_connection, delta=0.001, maxiter=ROVER_STEPS, verbose=True)"
   ]
  },
  {
   "cell_type": "code",
   "execution_count": 7,
   "metadata": {},
   "outputs": [
    {
     "name": "stdout",
     "output_type": "stream",
     "text": [
      "success probability: 0.241\n"
     ]
    },
    {
     "data": {
      "image/png": "[encoded data removed]",
      "text/plain": [
       "<matplotlib.figure.Figure at 0x7f8da8d5a8d0>"
      ]
     },
     "metadata": {},
     "output_type": "display_data"
    }
   ],
   "source": [
    "def my_value(x, mapstate):    \n",
    "    s_abstr = rover_abs.x_to_s(np.array(x).flatten())\n",
    "    s_tot = rover_env_mdp.global_state( (s_abstr, mapstate) )\n",
    "\n",
    "    _, val = rover_ltlpol.get_input(s_tot)\n",
    "    return val\n",
    "\n",
    "def my_init_value(x, y):\n",
    "    return my_value(np.array([x, y]), pinit)\n",
    "\n",
    "fig = plt.figure()\n",
    "ax = plt.Axes(fig, [0.,0.,1.,1.])\n",
    "# ax.set_axis_off()\n",
    "fig.add_axes(ax)\n",
    "\n",
    "x, y = np.meshgrid(np.arange(-5, 6, 1), np.arange(-5, 6, 1))\n",
    "xx, yy = np.meshgrid(np.arange(-5, 5, 1), np.arange(-5, 5, 1))\n",
    "vals = np.vectorize(my_init_value)(xx+0.5, yy+0.5)\n",
    "\n",
    "ax.pcolor(x, y, vals, vmin=0, vmax=1)\n",
    "\n",
    "print 'success probability: {}'.format(my_value(rover_init, pinit))\n",
    "\n",
    "fig.savefig('value-rov.pdf')"
   ]
  },
  {
   "cell_type": "code",
   "execution_count": 8,
   "metadata": {},
   "outputs": [
    {
     "name": "stdout",
     "output_type": "stream",
     "text": [
      "MDP: 7 inputs \"a\" --> 200 outputs \"xc\"\n",
      "MDP: 7 inputs \"a\" --> 625000 outputs \"(xc, (r1_b, r2_b, a1_b, b1_b, c1_b))\"\n"
     ]
    }
   ],
   "source": [
    "# Copter system\n",
    "copter_abstr = Abstraction([-5, -5, 1.5], [5, 5, 3.5], [10, 10, 2])\n",
    "\n",
    "copter = copter_abstr.mdp\n",
    "\n",
    "print copter\n",
    "\n",
    "# connect copter with map\n",
    "def is_above(poly, x):\n",
    "    # return true x within distance 1 of func\n",
    "    return poly.contains(x.reshape((2,1)))\n",
    "\n",
    "def is_adjacent(poly, x):\n",
    "    # return true x within distance 3 of func\n",
    "    return np.all(poly.A.dot(x) < poly.b + copter_sight)\n",
    "\n",
    "def copt_env(xr):\n",
    "    ret = [0 for i in range(len(regs))]\n",
    "    i = 0\n",
    "    for (name, info) in regs.iteritems():\n",
    "        if is_above(info[0], xr[0:2]) and xr[2] < 2.5:\n",
    "            ret[i] = 2    # strong measurement\n",
    "        elif is_adjacent(info[0], xr[0:2]) and xr[2] > 2.5:\n",
    "            ret[i] = 1    # weak measurement\n",
    "        i += 1\n",
    "        \n",
    "    return set([tuple(ret)])\n",
    "\n",
    "mdp_copt_env = copter.product(env, connection=copt_env)\n",
    "print mdp_copt_env"
   ]
  },
  {
   "cell_type": "code",
   "execution_count": 9,
   "metadata": {},
   "outputs": [],
   "source": [
    "# value function at time t: rover success entropy * copter safe\n",
    "margin = 0.05\n",
    "\n",
    "VT = -np.inf * np.ones(mdp_copt_env.N_list)\n",
    "\n",
    "v_max = np.max(rover_ltlpol.V.flatten())\n",
    "\n",
    "init_val = my_value(rover_init, pinit)\n",
    "\n",
    "for n in range(copter.N):\n",
    "    if n == copter_abstr.x_to_s(np.array(copter_final)):   # if safe\n",
    "        for m in range(env.N):\n",
    "            maps = env.local_states(m)\n",
    "            v = my_value( rover_init, maps )\n",
    "            VT[n, m] = 1 if (v > v_max-margin or v < margin) else 0"
   ]
  },
  {
   "cell_type": "code",
   "execution_count": 10,
   "metadata": {},
   "outputs": [
    {
     "name": "stdout",
     "output_type": "stream",
     "text": [
      "iteration 0, time 0.000648975372314\n",
      "iteration 1, time 1.91232204437\n",
      "iteration 2, time 3.84777188301\n",
      "iteration 3, time 5.89511704445\n",
      "iteration 4, time 7.90119194984\n",
      "iteration 5, time 9.88001799583\n",
      "iteration 6, time 11.8895740509\n",
      "iteration 7, time 13.8358669281\n",
      "iteration 8, time 15.7939879894\n",
      "iteration 9, time 17.9575839043\n",
      "iteration 10, time 20.0639989376\n",
      "iteration 11, time 22.0827710629\n",
      "iteration 12, time 24.0751669407\n",
      "iteration 13, time 26.0261480808\n",
      "iteration 14, time 27.9388790131\n",
      "iteration 15, time 29.895113945\n",
      "iteration 16, time 31.9943668842\n",
      "iteration 17, time 33.9496080875\n",
      "iteration 18, time 35.9112999439\n",
      "iteration 19, time 37.8628900051\n",
      "iteration 20, time 39.8144659996\n",
      "iteration 21, time 41.7916829586\n",
      "iteration 22, time 43.7337300777\n",
      "iteration 23, time 45.6566009521\n",
      "iteration 24, time 47.5898640156\n",
      "iteration 25, time 49.5486299992\n",
      "iteration 26, time 51.53302598\n",
      "iteration 27, time 53.4879460335\n",
      "iteration 28, time 55.4521279335\n",
      "iteration 29, time 57.384428978\n",
      "finished after 59.3222119808s and 30 iterations\n"
     ]
    }
   ],
   "source": [
    "# run value iteration\n",
    "V_copt, Pol_copt = mdp_copt_env.solve_reach(VT, maxiter=COPTER_STEPS, delta=0.001, verbose=True)"
   ]
  },
  {
   "cell_type": "code",
   "execution_count": 11,
   "metadata": {},
   "outputs": [
    {
     "name": "stdout",
     "output_type": "stream",
     "text": [
      "success value: 0.977\n"
     ]
    },
    {
     "data": {
      "image/png": "[encoded data removed]",
      "text/plain": [
       "<matplotlib.figure.Figure at 0x7f8da8ce4710>"
      ]
     },
     "metadata": {},
     "output_type": "display_data"
    }
   ],
   "source": [
    "import matplotlib\n",
    "    \n",
    "def copter_value(x, mapstate):  \n",
    "    scop = copter_abstr.x_to_s(x)\n",
    "    \n",
    "    stot = mdp_copt_env.global_state((scop, mapstate))\n",
    "\n",
    "    return V_copt[stot]\n",
    "\n",
    "def my_init_cvalue(x, y):\n",
    "    return copter_value(np.array([x, y, 2]), pinit)\n",
    "\n",
    "fig = plt.figure()\n",
    "ax = plt.Axes(fig, [0.,0.,1.,1.])\n",
    "# ax.set_axis_off()\n",
    "fig.add_axes(ax)\n",
    "\n",
    "x, y = np.meshgrid(np.arange(-5, 6, 1), np.arange(-5, 6, 1))\n",
    "xx, yy = np.meshgrid(np.arange(-5, 5, 1), np.arange(-5, 5, 1))\n",
    "\n",
    "vals = np.vectorize(my_init_cvalue)(xx+0.5, yy+0.5)\n",
    "\n",
    "ax.pcolor(x, y, vals)\n",
    "\n",
    "print 'success value: {}'.format(copter_value(np.array(copter_init), pinit))"
   ]
  },
  {
   "cell_type": "code",
   "execution_count": 12,
   "metadata": {},
   "outputs": [],
   "source": [
    "# Control policies\n",
    "\n",
    "class RoverPolicy:\n",
    "    \n",
    "    def __init__(self, ltlpol):\n",
    "        self.ltlpol = ltlpol\n",
    "    \n",
    "    def __call__(self, x, mapstate):\n",
    "        aps = ltl_connection((x, env.output( env.global_state(mapstate) )))\n",
    "        rover_ltlpol.report_aps(list(aps)[0])\n",
    "\n",
    "        s_ab = rover_abs.x_to_s(x)\n",
    "\n",
    "        s_tot = rover_env_mdp.global_state((s_ab, mapstate))\n",
    "        u_ab, curr_val = rover_ltlpol.get_input(s_tot)\n",
    "\n",
    "        return rover_abs.interface(u_ab, s_ab, x)\n",
    "    \n",
    "    def finished(self):\n",
    "        return self.ltlpol.finished()\n",
    "    \n",
    "    def reset(self):\n",
    "        self.ltlpol.reset()    \n",
    "\n",
    "class CopterPolicy:\n",
    "    \n",
    "    def __init__(self, pol):\n",
    "        self.pol = pol\n",
    "        self.ft = False\n",
    "            \n",
    "    def __call__(self, x, mapstate):\n",
    "                \n",
    "        s_ab = copter_abstr.x_to_s(x)\n",
    "        s_map = env.global_state(mapstate)\n",
    "        s_tot = mdp_copt_env.global_state((s_ab, mapstate))\n",
    "    \n",
    "        if VT[s_ab, s_map] == 1:\n",
    "            self.ft = True\n",
    "            u_ab = 0\n",
    "        else:\n",
    "            u_ab = self.pol[s_tot]\n",
    "\n",
    "        return copter_abstr.interface(u_ab, s_ab, x)\n",
    "    \n",
    "    def reset(self):\n",
    "        self.ft = False\n",
    "    \n",
    "    def finished(self):\n",
    "        return self.ft\n",
    "            \n",
    "copter_policy = CopterPolicy(Pol_copt)\n",
    "rover_policy = RoverPolicy(rover_ltlpol)"
   ]
  },
  {
   "cell_type": "code",
   "execution_count": 13,
   "metadata": {},
   "outputs": [
    {
     "name": "stdout",
     "output_type": "stream",
     "text": [
      "success probability: 0.987\n",
      "mapstate: [0, 2, 4, 4, 2]\n",
      "success probability: 0.986\n",
      "mapstate: [2, 4, 0, 2, 4]\n",
      "success probability: 0.0\n",
      "mapstate: [4, 2, 4, 2, 2]\n",
      "success probability: 0.0\n",
      "mapstate: [0, 2, 4, 0, 2]\n"
     ]
    },
    {
     "data": {
      "image/png": "[encoded data removed]",
      "text/plain": [
       "<matplotlib.figure.Figure at 0x7f8dca6bb810>"
      ]
     },
     "metadata": {},
     "output_type": "display_data"
    },
    {
     "data": {
      "image/png": "[encoded data removed]",
      "text/plain": [
       "<matplotlib.figure.Figure at 0x7f8da8cc91d0>"
      ]
     },
     "metadata": {},
     "output_type": "display_data"
    },
    {
     "data": {
      "image/png": "[encoded data removed]",
      "text/plain": [
       "<matplotlib.figure.Figure at 0x7f8d81b20fd0>"
      ]
     },
     "metadata": {},
     "output_type": "display_data"
    },
    {
     "data": {
      "image/png": "[encoded data removed]",
      "text/plain": [
       "<matplotlib.figure.Figure at 0x7f8da89c2890>"
      ]
     },
     "metadata": {},
     "output_type": "display_data"
    }
   ],
   "source": [
    "# Simulations\n",
    "\n",
    "realmaps = ([0, 4, 4, 4, 4], [0, 4, 0, 4, 4], [4, 4, 4, 0, 4], [0, 4, 4, 0, 4])   # true map state\n",
    "\n",
    "for exp_i in range(len(realmaps)):\n",
    "    \n",
    "    realmap = realmaps[exp_i][:]\n",
    "    \n",
    "    mapstate = pinit[:]\n",
    "    \n",
    "    rover_policy.reset()\n",
    "    copter_policy.reset()\n",
    "\n",
    "    # copter simulation\n",
    "    x_copter = np.array(copter_init).reshape((1,3))\n",
    "    while not copter_policy.finished():\n",
    "\n",
    "        x_curr = x_copter[-1, :].flatten()\n",
    "\n",
    "        map_meas = list(copt_env(x_curr))[0]\n",
    "\n",
    "        for i in range(len(map_meas)):\n",
    "            if mapstate[i] in [0, 4]:\n",
    "                continue\n",
    "            if map_meas[i] == 1:  # weak meas\n",
    "                if realmap[i] == 4:\n",
    "                    mapstate[i] = 3\n",
    "                else:\n",
    "                    mapstate[i] = 1\n",
    "            if map_meas[i] == 2:\n",
    "                mapstate[i] = realmap[i]\n",
    "\n",
    "        x_next = copter_policy(x_curr, mapstate)\n",
    "\n",
    "        x_del = x_curr + 0.1*(x_next - x_curr)/np.linalg.norm(x_next - x_curr)\n",
    "        x_copter = np.vstack([x_copter, x_del])\n",
    "        \n",
    "    print 'success probability: {}'.format(my_value(rover_init, mapstate))\n",
    "    print 'mapstate: {}'.format(mapstate)\n",
    "        \n",
    "    env_probs = env.output(env.global_state(mapstate))\n",
    "\n",
    "    # rover simulation\n",
    "    it = 0\n",
    "    x_rover = np.array(rover_init).reshape((1,2))\n",
    "    while not rover_policy.finished() and it < 200:\n",
    "        \n",
    "        x_curr = x_rover[-1, :].flatten()\n",
    "        \n",
    "        map_meas = list(conn_rov_env(x_curr))[0]\n",
    "        for i in range(len(map_meas)):\n",
    "            if map_meas[i] == 2:  # strong meas\n",
    "                mapstate[i] = realmap[i]\n",
    "        \n",
    "        x_next = rover_policy(x_curr, mapstate)\n",
    "        \n",
    "        if np.linalg.norm(x_next - x_curr) > 0:\n",
    "            x_del = x_curr + 0.1*(x_next - x_curr)/np.linalg.norm(x_next - x_curr)\n",
    "        else:\n",
    "            x_del = x_curr\n",
    "        x_rover = np.vstack([x_rover, x_del])\n",
    "        \n",
    "        it += 1\n",
    "\n",
    "    fig = plt.figure()\n",
    "    ax = plt.Axes(fig, [0.,0.,1.,1.])\n",
    "    fig.add_axes(ax)\n",
    "    \n",
    "    i = 0\n",
    "    for (name, info) in regs.iteritems():\n",
    "        if realmap[i] == 0:\n",
    "            hatch = '///'\n",
    "            fill = False\n",
    "        else:\n",
    "            hatch = False\n",
    "            fill = True\n",
    "        plot_region(info[0], name, env_probs[i], info[2], hatch=hatch, fill=fill)\n",
    "        i += 1\n",
    "\n",
    "    ax.plot(x_copter[:, 0], x_copter[:, 1], color='blue', linewidth=2)\n",
    "    ax.scatter(x_copter[0, 0], x_copter[0, 1], marker='x', color='blue', zorder=2, s=100)\n",
    "    ax.scatter(x_copter[-1, 0], x_copter[-1, 1], marker='o', color='blue', zorder=2, s=100)\n",
    "\n",
    "    ax.plot(x_rover[:, 0], x_rover[:, 1], color='orange', linewidth=2)\n",
    "    ax.scatter(x_rover[0, 0], x_rover[0, 1], marker='x', color='orange', zorder=2, s=100)\n",
    "    ax.scatter(x_rover[-1, 0], x_rover[-1, 1], marker='o', color='orange', zorder=2, s=100)\n",
    "\n",
    "    ax.add_patch(patches.Rectangle( copter_final[:2]-0.5, 1, 1, fill=False ))\n",
    "\n",
    "    fig.savefig('exp{}-map.pdf'.format(exp_i))"
   ]
  },
  {
   "cell_type": "code",
   "execution_count": null,
   "metadata": {},
   "outputs": [],
   "source": []
  }
 ],
 "metadata": {
  "kernelspec": {
   "display_name": "Python 2",
   "language": "python",
   "name": "python2"
  },
  "language_info": {
   "codemirror_mode": {
    "name": "ipython",
    "version": 2
   },
   "file_extension": ".py",
   "mimetype": "text/x-python",
   "name": "python",
   "nbconvert_exporter": "python",
   "pygments_lexer": "ipython2",
   "version": "2.7.12"
  }
 },
 "nbformat": 4,
 "nbformat_minor": 2
}
