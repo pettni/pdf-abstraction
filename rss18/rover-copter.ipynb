{
 "cells": [
  {
   "cell_type": "code",
   "execution_count": 1,
   "metadata": {},
   "outputs": [
    {
     "name": "stderr",
     "output_type": "stream",
     "text": [
      "Using numpy backend.\n"
     ]
    },
    {
     "name": "stdout",
     "output_type": "stream",
     "text": [
      "MDP: 5 inputs \"a\" --> 100 outputs \"xc\"\n"
     ]
    }
   ],
   "source": [
    "import numpy as np\n",
    "import polytope as pc\n",
    "import matplotlib.pyplot as plt\n",
    "import matplotlib.patches as patches\n",
    "from collections import OrderedDict\n",
    "\n",
    "import time\n",
    "import sys\n",
    "sys.path.append('../')\n",
    "\n",
    "from best.mdp import MDP, ParallelMDP\n",
    "from best.ltl import solve_ltl_cosafe\n",
    "from best.abstraction import Abstraction\n",
    "\n",
    "ROVER_STEPS = 15   # rover num of steps\n",
    "COPTER_STEPS = 30  # copter num of steps\n",
    "rover_init = np.array([0.5, -4.5])\n",
    "copter_init = np.array([-0.5, -4.5, 2])\n",
    "\n",
    "copter_sight = 2\n",
    "\n",
    "###### ROVER MODEL (deterministic for now..) ######\n",
    "rover_abs = Abstraction([-5, -5], [5, 5], [10, 10])\n",
    "rover = rover_abs.mdp\n",
    "\n",
    "print rover"
   ]
  },
  {
   "cell_type": "code",
   "execution_count": 2,
   "metadata": {},
   "outputs": [
    {
     "data": {
      "image/png": "[encoded data removed]",
      "text/plain": [
       "<matplotlib.figure.Figure at 0x7fcab69ff7d0>"
      ]
     },
     "metadata": {},
     "output_type": "display_data"
    }
   ],
   "source": [
    "from matplotlib2tikz import save as tikz_save\n",
    "\n",
    "# Define regions\n",
    "regs = OrderedDict()\n",
    "\n",
    "regs['r1'] = (pc.box2poly(np.array([[2, 3], [0, 5]])), 0.5, 'red')\n",
    "regs['r2'] = (pc.box2poly(np.array([[-3, -2], [0, 5]])), 0.5, 'red')\n",
    "regs['a1'] = (pc.box2poly(np.array([[-1, 1], [4, 5]])), 0.5, 'green')\n",
    "regs['b1'] = (pc.box2poly(np.array([[4, 5], [4, 5]])), 0.5, 'blue')\n",
    "regs['c1'] = (pc.box2poly(np.array([[-5, -4], [4, 5]])), 0.5, 'blue')\n",
    "\n",
    "pinit = [0 if  reg[1] in [0,1] else 2 for reg in regs.itervalues()]\n",
    "\n",
    "fig = plt.figure()\n",
    "ax = plt.Axes(fig, [0.,0.,1.,1.])\n",
    "fig.add_axes(ax)\n",
    "rover_abs.plot(ax)\n",
    "          \n",
    "def plot_region(poly, name, prob, color='red', alpha=0.5, hatch=False, fill=True):\n",
    "    ax.add_patch(patches.Polygon(pc.extreme(poly), color=color, alpha=alpha, hatch=hatch, fill=fill))\n",
    "    _, xc = pc.cheby_ball(poly)\n",
    "    ax.text(xc[0]-0.4, xc[1]-0.43, '${}_{}$\\n$p={}$'.format(name[0].upper(), name[1], prob))\n",
    "\n",
    "for name, info in regs.iteritems():\n",
    "    plot_region(info[0], name, info[1], info[2])\n",
    "    \n",
    "ax.text(rover_init[0]+0.1, rover_init[1]+0.1, '$\\\\xi_r^0$')\n",
    "\n",
    "ax.add_patch(patches.Rectangle( copter_init[:2]-0.5, 1, 1, fill=False ))\n",
    "ax.text(copter_init[0]+0.1, copter_init[1]+0.1, '$\\\\xi_c^0$')\n",
    "\n",
    "fig.savefig('exp1-map.pdf')\n"
   ]
  },
  {
   "cell_type": "code",
   "execution_count": 3,
   "metadata": {},
   "outputs": [
    {
     "name": "stdout",
     "output_type": "stream",
     "text": [
      "MDP: 243 inputs \"(r1_u, r2_u, a1_u, b1_u, c1_u)\" --> 3125 outputs \"(r1_b, r2_b, a1_b, b1_b, c1_b)\"\n"
     ]
    }
   ],
   "source": [
    "## Environment belief model\n",
    "\n",
    "def get_mdp(p0, qw, name):\n",
    "    # Create map belief MDP with prior p0 and qw quality of weak measurements\n",
    "    if p0 == 0:\n",
    "        # no dynamics\n",
    "        Tnone = np.array([1])\n",
    "        Tweak = np.array([1])\n",
    "        Tstrong = np.array([1])\n",
    "        output_fcn = lambda s: 0\n",
    "    \n",
    "    elif p0 == 1:\n",
    "        Tnone = np.array([1])\n",
    "        Tweak = np.array([1])\n",
    "        Tstrong = np.array([1])\n",
    "        output_fcn = lambda s: 1\n",
    "        \n",
    "    else:\n",
    "        pm = p0/2\n",
    "        pp = p0 + (1-p0)/2\n",
    "        # levels [0 p- p0 p+ 1]\n",
    "\n",
    "        Tnone = np.eye(5);\n",
    "        Tweak = np.array([[1,           0,             0,       0,              0], \n",
    "                          [qw*(1-pm),   (1-qw)*(1-pm), 0,       (1-qw)*pm,      qw*pm],\n",
    "                          [qw*(1-p0),   (1-qw)*p0,     0,       (1-qw)*(1-p0),  qw*p0],\n",
    "                          [qw*(1-pp),   (1-qw)*(1-pp), 0,       (1-qw)*pp,      qw*pp],\n",
    "                          [0,           0,             0,       0,              1]])\n",
    "        Tstrong = np.array([[1,      0, 0, 0, 0],\n",
    "                            [(1-pm), 0, 0, 0, pm],\n",
    "                            [(1-p0), 0, 0, 0, p0],\n",
    "                            [(1-pp), 0, 0, 0, pp],\n",
    "                            [0,      0, 0, 0, 1]])\n",
    "\n",
    "        def output_fcn(s):\n",
    "            return [0, pm, p0, pp, 1][s]\n",
    "    \n",
    "    return MDP([Tnone, Tweak, Tstrong], input_name=name+'_u', output_name=name+'_b', output_fcn=output_fcn)\n",
    "\n",
    "env = ParallelMDP([get_mdp(info[1], 0, name) for (name, info) in regs.iteritems()])\n",
    "\n",
    "print env"
   ]
  },
  {
   "cell_type": "code",
   "execution_count": 4,
   "metadata": {},
   "outputs": [
    {
     "name": "stdout",
     "output_type": "stream",
     "text": [
      "set([(0, 2, 0, 0, 2)])\n",
      "set([(0, 0, 2, 0, 0)])\n",
      "set([(2, 0, 0, 2, 0)])\n",
      "set([(0, 0, 0, 0, 0)])\n",
      "MDP: 5 inputs \"a\" --> 312500 outputs \"(xc, (r1_b, r2_b, a1_b, b1_b, c1_b))\"\n"
     ]
    }
   ],
   "source": [
    "## Connect Rover-env\n",
    "def conn_rov_env(xr):\n",
    "    ret = [0 for i in range(len(regs))]\n",
    "    i = 0\n",
    "    for (name, info) in regs.iteritems():\n",
    "        poly = info[0]\n",
    "        if np.all(poly.A.dot(xr) < poly.b + 2):\n",
    "            ret[i] = 2    # strong measurement\n",
    "        i += 1\n",
    "    return set([tuple(ret)])\n",
    "\n",
    "print conn_rov_env([-3.5, 3.5])\n",
    "print conn_rov_env([0, 3.5])\n",
    "print conn_rov_env([3.5, 3.5])\n",
    "print conn_rov_env([0, -4])\n",
    "\n",
    "prod_mdp = rover.product(env, connection=conn_rov_env)\n",
    "print prod_mdp"
   ]
  },
  {
   "cell_type": "code",
   "execution_count": 5,
   "metadata": {},
   "outputs": [
    {
     "name": "stdout",
     "output_type": "stream",
     "text": [
      "set([('sampleA',)])\n",
      "set([('emptyA',)])\n",
      "set([('emptyA', 'sampleB')])\n",
      "set([('emptyA',)])\n",
      "set([()])\n",
      "set([('emptyA',)])\n",
      "set([('fail', 'emptyA')])\n"
     ]
    }
   ],
   "source": [
    "## Set up LTL problem\n",
    "\n",
    "formula = '( ( ! fail U sampleA ) & ( ! fail U sampleB ) ) | ( ! fail U ( emptyA & sampleC ) )'\n",
    "\n",
    "# map ((xc, ry), (e1, ..., en)) -> 2^2^{sampleA, sampleB, fail}\n",
    "def ltl_connection(xc_env):\n",
    "    xc = np.array(xc_env[0]).reshape(2,1)\n",
    "    env = xc_env[1]\n",
    "    \n",
    "    i = 0\n",
    "    \n",
    "    ret = set([])\n",
    "    \n",
    "    for (name, info) in regs.iteritems():\n",
    "        poly = info[0]\n",
    "        \n",
    "        if name[0] == 'r' and poly.contains(xc) and env[i] > 0:\n",
    "            # we are in risk reg that is not confirmed safe \n",
    "            ret |= set(['fail'])\n",
    "            \n",
    "        if name[0] == 'a' and poly.contains(xc) and env[i] == 1:\n",
    "            # we are in target reg with confirmed sample\n",
    "            ret |= set(['sampleA'])\n",
    "\n",
    "        if name[0] == 'b' and poly.contains(xc) and env[i] == 1:\n",
    "            # we are in target reg with confirmed sample\n",
    "            ret |= set(['sampleB'])\n",
    "\n",
    "        if name[0] == 'c' and poly.contains(xc) and env[i] == 1:\n",
    "            # we are in target reg with confirmed sample\n",
    "            ret |= set(['sampleC'])\n",
    "        i += 1\n",
    "\n",
    "    if env[2] == 0:\n",
    "        # no sample A\n",
    "        ret |= set(['emptyA'])\n",
    "\n",
    "    return set([tuple(ret)])\n",
    "\n",
    "print ltl_connection(((0,4.5), (0,0,1,0,0,0)))\n",
    "print ltl_connection(((0,4.5), (0,0,0,0,0,0)))\n",
    "\n",
    "\n",
    "print ltl_connection(((4.5,4.5), (0,0,0,1,0,0)))\n",
    "print ltl_connection(((4.5,4.5), (0,0,0,0.5,0,0)))\n",
    "print ltl_connection(((4.5,4.5), (0,0,1,0.5,0,0)))\n",
    "\n",
    "print ltl_connection(((3,4), (0,0,0,0,0,0)))\n",
    "print ltl_connection(((3,4), (0.3,0,0,0,0,0)))"
   ]
  },
  {
   "cell_type": "code",
   "execution_count": 6,
   "metadata": {},
   "outputs": [
    {
     "name": "stdout",
     "output_type": "stream",
     "text": [
      "iteration 0, time 6.69956207275e-05\n",
      "iteration 1, time 7.6340649128\n",
      "iteration 2, time 14.7586150169\n",
      "iteration 3, time 22.1902759075\n",
      "iteration 4, time 29.483258009\n",
      "iteration 5, time 36.6353240013\n",
      "iteration 6, time 43.7666568756\n",
      "iteration 7, time 50.8237318993\n",
      "iteration 8, time 57.9579160213\n",
      "iteration 9, time 65.1830370426\n",
      "iteration 10, time 72.3329720497\n",
      "iteration 11, time 79.4366588593\n",
      "iteration 12, time 86.5693118572\n",
      "iteration 13, time 93.6667430401\n",
      "iteration 14, time 100.749409914\n",
      "finished after 107.895336866s and 15 iterations\n"
     ]
    }
   ],
   "source": [
    "pol = solve_ltl_cosafe(prod_mdp, formula, ltl_connection, delta=0.0, maxiter=ROVER_STEPS, verbose=True)"
   ]
  },
  {
   "cell_type": "code",
   "execution_count": 7,
   "metadata": {},
   "outputs": [
    {
     "name": "stdout",
     "output_type": "stream",
     "text": [
      "success probability: 0.25\n"
     ]
    },
    {
     "data": {
      "image/png": "[encoded data removed]",
      "text/plain": [
       "<matplotlib.figure.Figure at 0x7fcae5b74590>"
      ]
     },
     "metadata": {},
     "output_type": "display_data"
    }
   ],
   "source": [
    "cm = plt.get_cmap('winter')\n",
    "    \n",
    "def my_value(x, mapstate):    \n",
    "    s_abstr = rover_abs.x_to_s(np.array(x).flatten())\n",
    "    s_tot = prod_mdp.global_state( (s_abstr, mapstate) )\n",
    "\n",
    "    _, val = pol.get_input(s_tot)\n",
    "    return val\n",
    "\n",
    "def my_init_value(x, y):\n",
    "    return my_value(np.array([x, y]), pinit)\n",
    "\n",
    "fig = plt.figure()\n",
    "ax = plt.Axes(fig, [0.,0.,1.,1.])\n",
    "# ax.set_axis_off()\n",
    "fig.add_axes(ax)\n",
    "\n",
    "x, y = np.meshgrid(np.arange(-5, 6, 1), np.arange(-5, 6, 1))\n",
    "xx, yy = np.meshgrid(np.arange(-5, 5, 1), np.arange(-5, 5, 1))\n",
    "vals = np.vectorize(my_init_value)(xx+0.5, yy+0.5)\n",
    "\n",
    "ax.pcolor(x, y, vals, vmin=0, vmax=1)\n",
    "\n",
    "print 'success probability: {}'.format(my_value(rover_init, pinit))\n",
    "\n",
    "fig.savefig('value-rov.pdf')"
   ]
  },
  {
   "cell_type": "code",
   "execution_count": 8,
   "metadata": {},
   "outputs": [
    {
     "name": "stdout",
     "output_type": "stream",
     "text": [
      "MDP: 7 inputs \"a\" --> 200 outputs \"xc\"\n"
     ]
    }
   ],
   "source": [
    "# Copter system\n",
    "\n",
    "copter_abstr = Abstraction([-5, -5, 1.5], [5, 5, 3.5], [10, 10, 2])\n",
    "\n",
    "copter = copter_abstr.mdp\n",
    "\n",
    "print copter"
   ]
  },
  {
   "cell_type": "code",
   "execution_count": 9,
   "metadata": {},
   "outputs": [
    {
     "name": "stdout",
     "output_type": "stream",
     "text": [
      "set([(0, 0, 0, 2, 0)])\n",
      "set([(1, 0, 0, 1, 0)])\n",
      "set([(0, 1, 0, 0, 1)])\n",
      "set([(0, 0, 2, 0, 0)])\n",
      "MDP: 7 inputs \"a\" --> 625000 outputs \"(xc, (r1_b, r2_b, a1_b, b1_b, c1_b))\"\n"
     ]
    }
   ],
   "source": [
    "# connect copter with map\n",
    "def is_above(poly, x):\n",
    "    # return true x within distance 1 of func\n",
    "    return poly.contains(x.reshape((2,1)))\n",
    "\n",
    "def is_adjacent(poly, x):\n",
    "    # return true x within distance 3 of func\n",
    "    return np.all(poly.A.dot(x) < poly.b + copter_sight)\n",
    "\n",
    "def copt_env(xr):\n",
    "    ret = [0 for i in range(len(regs))]\n",
    "    i = 0\n",
    "    for (name, info) in regs.iteritems():\n",
    "        if is_above(info[0], xr[0:2]) and xr[2] < 2.5:\n",
    "            ret[i] = 2    # strong measurement\n",
    "        elif is_adjacent(info[0], xr[0:2]) and xr[2] > 2.5:\n",
    "            ret[i] = 1    # weak measurement\n",
    "        i += 1\n",
    "        \n",
    "    return set([tuple(ret)])\n",
    "\n",
    "print copt_env(np.array([4.5, 4.5, 2]))\n",
    "print copt_env(np.array([4.5, 4.5, 3]))\n",
    "print copt_env(np.array([-4.5, 4.5, 3]))\n",
    "print copt_env(np.array([0, 4.5, 2]))\n",
    "\n",
    "mdp_copt_env = copter.product(env, connection=copt_env)\n",
    "print mdp_copt_env"
   ]
  },
  {
   "cell_type": "code",
   "execution_count": 10,
   "metadata": {},
   "outputs": [
    {
     "name": "stdout",
     "output_type": "stream",
     "text": [
      "step 0, time 0.000109910964966\n",
      "step 1, time 1.57175898552\n",
      "step 2, time 3.16611194611\n",
      "step 3, time 4.76467585564\n",
      "step 4, time 6.39257192612\n",
      "step 5, time 7.98706388474\n",
      "step 6, time 9.58459091187\n",
      "step 7, time 11.1833238602\n",
      "step 8, time 12.7765388489\n",
      "step 9, time 14.410063982\n",
      "step 10, time 16.0428700447\n",
      "step 11, time 17.6565258503\n",
      "step 12, time 19.2810258865\n",
      "step 13, time 20.8949239254\n",
      "step 14, time 22.4898228645\n",
      "step 15, time 24.0873680115\n",
      "step 16, time 25.6845908165\n",
      "step 17, time 27.2738690376\n",
      "step 18, time 29.0267238617\n",
      "step 19, time 30.7548248768\n",
      "step 20, time 32.4623668194\n",
      "step 21, time 34.1238498688\n",
      "step 22, time 35.7476279736\n",
      "step 23, time 37.351020813\n",
      "step 24, time 38.9606499672\n",
      "step 25, time 40.565721035\n",
      "step 26, time 42.3861269951\n",
      "step 27, time 44.069535017\n",
      "step 28, time 45.6873288155\n",
      "step 29, time 47.3048949242\n"
     ]
    }
   ],
   "source": [
    "# value function at time t: rover success entropy * copter safe\n",
    "VT = np.zeros(mdp_copt_env.N_list)\n",
    "\n",
    "init_val = my_value(rover_init, pinit)\n",
    "\n",
    "for n in range(copter.N):\n",
    "    if n == copter_abstr.x_to_s(np.array(copter_init)):   # if safe\n",
    "        for m in range(env.N):\n",
    "            maps = env.local_states(m)\n",
    "            v = my_value( rover_init, maps )\n",
    "            VT[n, m] = max( 2*np.abs(v - 0.5) , 0.5)\n",
    "#                 VT[n, m] = np.abs(v - 0.5)\n",
    "#                 VT[n, m] = np.abs(v - init_val)\n",
    "#                 VT[n, m] = 1 + v * np.log2(v) + (1-v) * np.log2(1-v)\n",
    "            \n",
    "# run value iteration\n",
    "Vt_list = [VT]\n",
    "Polt_list = []\n",
    "\n",
    "t0 = time.time()\n",
    "for step in range(COPTER_STEPS):\n",
    "    print 'step {}, time {}'.format(step, time.time()-t0)\n",
    "\n",
    "    W_m = mdp_copt_env.sequential_bellman(Vt_list[-1])\n",
    "    \n",
    "    Vt_list.append( W_m.max(axis=0) - 0.01 )\n",
    "    Polt_list.append(W_m.argmax(axis=0))"
   ]
  },
  {
   "cell_type": "code",
   "execution_count": 11,
   "metadata": {},
   "outputs": [
    {
     "name": "stdout",
     "output_type": "stream",
     "text": [
      "success value: 0.7\n"
     ]
    },
    {
     "data": {
      "image/png": "[encoded data removed]",
      "text/plain": [
       "<matplotlib.figure.Figure at 0x7fcae4ab6350>"
      ]
     },
     "metadata": {},
     "output_type": "display_data"
    },
    {
     "data": {
      "image/png": "[encoded data removed]",
      "text/plain": [
       "<matplotlib.figure.Figure at 0x7fcab416b810>"
      ]
     },
     "metadata": {},
     "output_type": "display_data"
    }
   ],
   "source": [
    "import matplotlib\n",
    "\n",
    "cm = plt.get_cmap('winter')\n",
    "\n",
    "class copter_policy:\n",
    "    \n",
    "    def __init__(self, pollist):\n",
    "        self.pollist = pollist\n",
    "        self.t = len(pollist)\n",
    "        self.d_traj = []\n",
    "        \n",
    "    def __call__(self, x, mapstate):\n",
    "        s_ab = copter_abstr.x_to_s(x)\n",
    "\n",
    "        if len(self.d_traj) == 0 or s_ab != self.d_traj[-1]:\n",
    "            self.t -= 1\n",
    "            self.d_traj.append(s_ab)\n",
    "        \n",
    "        smap = env.global_state(mapstate)\n",
    "        \n",
    "        u_ab = Polt_list[max(0, self.t)][s_ab, smap]\n",
    "        \n",
    "        if u_ab == 0:\n",
    "            # update discrete step\n",
    "            self.d_traj.append(s_ab)\n",
    "            self.t -= 1\n",
    "            \n",
    "        return copter_abstr.interface(u_ab, s_ab, x).flatten()\n",
    "    \n",
    "    def finished(self):\n",
    "        return self.t <= -1\n",
    "    \n",
    "    def reset(self):\n",
    "        self.t = len(self.pollist)\n",
    "        self.d_traj = []\n",
    "    \n",
    "def copter_value(x, mapstate):  \n",
    "    scop = copter_abstr.x_to_s(x)\n",
    "    \n",
    "    nmap = env.global_state(mapstate)\n",
    "\n",
    "    return Vt_list[-1][scop, nmap]\n",
    "\n",
    "def my_init_cvalue(x, y):\n",
    "    return copter_value(np.array([x, y, 2]), pinit)\n",
    "\n",
    "fig = plt.figure()\n",
    "ax = plt.Axes(fig, [0.,0.,1.,1.])\n",
    "# ax.set_axis_off()\n",
    "fig.add_axes(ax)\n",
    "\n",
    "x, y = np.meshgrid(np.arange(-5, 6, 1), np.arange(-5, 6, 1))\n",
    "xx, yy = np.meshgrid(np.arange(-5, 5, 1), np.arange(-5, 5, 1))\n",
    "\n",
    "vals = np.vectorize(my_init_cvalue)(xx+0.5, yy+0.5)\n",
    "\n",
    "ax.pcolor(x, y, vals)\n",
    "\n",
    "print 'success value: {}'.format(copter_value(np.array(copter_init), pinit))\n",
    "\n",
    "plt.savefig('value-cop.pdf')\n",
    "\n",
    "\n",
    "fig = plt.figure(figsize=(1,5))\n",
    "ax = plt.Axes(fig, [0.,0.,1.,1.])\n",
    "ax.set_axis_off()\n",
    "\n",
    "fig.add_axes(ax)\n",
    "\n",
    "cb1 = matplotlib.colorbar.ColorbarBase(ax)\n",
    "\n",
    "fig.savefig('cbar.pdf')"
   ]
  },
  {
   "cell_type": "code",
   "execution_count": 12,
   "metadata": {},
   "outputs": [
    {
     "name": "stdout",
     "output_type": "stream",
     "text": [
      "success probability: 1.0\n",
      "success probability: 1.0\n",
      "success probability: 0.0\n",
      "success probability: 0.0\n"
     ]
    },
    {
     "data": {
      "image/png": "[encoded data removed]",
      "text/plain": [
       "<matplotlib.figure.Figure at 0x7fcae5b74090>"
      ]
     },
     "metadata": {},
     "output_type": "display_data"
    },
    {
     "data": {
      "image/png": "[encoded data removed]",
      "text/plain": [
       "<matplotlib.figure.Figure at 0x7fcae5b80710>"
      ]
     },
     "metadata": {},
     "output_type": "display_data"
    },
    {
     "data": {
      "image/png": "[encoded data removed]",
      "text/plain": [
       "<matplotlib.figure.Figure at 0x7fcae48fce10>"
      ]
     },
     "metadata": {},
     "output_type": "display_data"
    },
    {
     "data": {
      "image/png": "[encoded data removed]",
      "text/plain": [
       "<matplotlib.figure.Figure at 0x7fcae48b5590>"
      ]
     },
     "metadata": {},
     "output_type": "display_data"
    }
   ],
   "source": [
    "realmaps = ([0, 0, 4, 4, 4], [0, 0, 0, 4, 4], [4, 4, 4, 0, 4], [0, 4, 4, 0, 4])   # true map state\n",
    "\n",
    "policy = copter_policy(Polt_list)\n",
    "\n",
    "for i in range(len(realmaps)):\n",
    "    \n",
    "    realmap = realmaps[i]\n",
    "    \n",
    "    mapstate = pinit[:]\n",
    "    policy.reset()\n",
    "    x_copter = np.array(copter_init).reshape((1,3))\n",
    "\n",
    "    it = 0\n",
    "    while not policy.finished():\n",
    "\n",
    "        x_curr = x_copter[-1, :].flatten()\n",
    "\n",
    "        map_meas = list(copt_env(x_curr))[0]\n",
    "\n",
    "        for i in range(len(map_meas)):\n",
    "            if mapstate[i] in [0, 4]:\n",
    "                continue\n",
    "            if map_meas[i] == 1:  # weak meas\n",
    "                if realmap[i] == 4:\n",
    "                    mapstate[i] = 3\n",
    "                else:\n",
    "                    mapstate[i] = 1\n",
    "            if map_meas[i] == 2:\n",
    "                mapstate[i] = realmap[i]\n",
    "\n",
    "        x_next = policy(x_curr, mapstate)\n",
    "\n",
    "        x_del = x_curr + 0.1*(x_next - x_curr)/np.linalg.norm(x_next - x_curr)\n",
    "        x_copter = np.vstack([x_copter, x_del])\n",
    "\n",
    "        it += 1\n",
    "\n",
    "    fig = plt.figure()\n",
    "    ax = plt.Axes(fig, [0.,0.,1.,1.])\n",
    "    fig.add_axes(ax)\n",
    "\n",
    "    env_probs = env.output(env.global_state(mapstate))\n",
    "\n",
    "    i = 0\n",
    "    for (name, info) in regs.iteritems():\n",
    "        if realmap[i] == 0:\n",
    "            hatch = '///'\n",
    "            fill = False\n",
    "        else:\n",
    "            hatch = False\n",
    "            fill = True\n",
    "        plot_region(info[0], name, env_probs[i], info[2], hatch=hatch, fill=fill)\n",
    "        i += 1\n",
    "\n",
    "    ax.plot(x_copter[:, 0], x_copter[:, 1])\n",
    "    print 'success probability: {}'.format(my_value(rover_init, mapstate))\n"
   ]
  },
  {
   "cell_type": "code",
   "execution_count": null,
   "metadata": {},
   "outputs": [],
   "source": []
  }
 ],
 "metadata": {
  "kernelspec": {
   "display_name": "Python 2",
   "language": "python",
   "name": "python2"
  },
  "language_info": {
   "codemirror_mode": {
    "name": "ipython",
    "version": 2
   },
   "file_extension": ".py",
   "mimetype": "text/x-python",
   "name": "python",
   "nbconvert_exporter": "python",
   "pygments_lexer": "ipython2",
   "version": "2.7.12"
  }
 },
 "nbformat": 4,
 "nbformat_minor": 2
}
