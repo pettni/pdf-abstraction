{
 "cells": [
  {
   "cell_type": "code",
   "execution_count": 1,
   "metadata": {
    "collapsed": true
   },
   "outputs": [
    {
     "data": {
      "text/plain": [
       "'\\nLTI Gaussian processes abstraction (basic)\\nGiven\\n    -  x^+= A x + Bu + Ew\\n    -  z = Cx+Fv\\nDo :\\n    - Quantify eps,\\n    - Abstract to finite MDP\\n    Remark that since there is no order reduction,\\n     there is also no delta error.\\n\\nAuthor Sofie Haesaert\\n'"
      ]
     },
     "execution_count": 1,
     "metadata": {},
     "output_type": "execute_result"
    }
   ],
   "source": [
    "\"\"\"\n",
    "LTI Gaussian processes abstraction (basic)\n",
    "Given\n",
    "    -  x^+= A x + Bu + Ew\n",
    "    -  z = Cx+Fv\n",
    "Do :\n",
    "    - Quantify eps,\n",
    "    - Abstract to finite MDP\n",
    "    Remark that since there is no order reduction,\n",
    "     there is also no delta error.\n",
    "\n",
    "Author Sofie Haesaert\n",
    "\"\"\"\n"
   ]
  },
  {
   "cell_type": "code",
   "execution_count": 2,
   "metadata": {},
   "outputs": [
    {
     "name": "stdout",
     "output_type": "stream",
     "text": [
      "Imported packages\n"
     ]
    }
   ],
   "source": [
    "\n",
    "from ApprxSimulation.LTI_simrel import tune_dratio\n",
    "from ApprxSimulation.Visualize import plot_regions\n",
    "from Models.MDP import Rpol\n",
    "from label_abstraction.test_mdp import test_mdp_dfsa, formula_to_mdp, test_ltl_synth2\n",
    "# Import packages:\n",
    "from Models.Linear import LTI, POMDP\n",
    "from label_abstraction.mdp import *\n",
    "import matplotlib.pyplot as plt\n",
    "import polytope as pc\n",
    "\n",
    "\n",
    "print('Imported packages')\n"
   ]
  },
  {
   "cell_type": "code",
   "execution_count": 3,
   "metadata": {},
   "outputs": [
    {
     "name": "stdout",
     "output_type": "stream",
     "text": [
      "Initialise values\n"
     ]
    }
   ],
   "source": [
    "\n",
    "\n",
    "print('Initialise values')\n",
    "# Define the linear time invariant system\n",
    "#A = np.array([[0,-0.8572],[0.1,0.5]])\n",
    "dim = 2\n",
    "A =np.eye(2) #np.array([[.9,-0.32],[0.1,0.9]])\n",
    "B = np.eye(dim)  #array([[1], [0.1]])\n",
    "Tr = .5*np.array([[-1,1],[1,-1]])\n",
    "W = 2*Tr.dot(np.eye(dim)).dot(Tr)  # noise on transitions\n",
    " \n",
    "# Accuracy\n",
    "C = np.array([[1, 0]])  # defines metric for error (||y_finite-y||< epsilon with y= cx   )\n",
    "\n",
    "sys_lti = LTI(A, B, C, None, W=W)  # LTI system with   D = None\n"
   ]
  },
  {
   "cell_type": "code",
   "execution_count": 4,
   "metadata": {},
   "outputs": [
    {
     "data": {
      "text/plain": [
       "(-10, 20)"
      ]
     },
     "execution_count": 5,
     "metadata": {},
     "output_type": "execute_result"
    }
   ],
   "source": [
    "\n",
    "# Define spaces\n",
    "sys_lti.setU(pc.box2poly(np.kron(np.ones((sys_lti.m, 1)), np.array([[-3, 3]])))) # continuous set of inputs\n",
    "sys_lti.setX(pc.box2poly(np.kron(np.ones((sys_lti.dim, 1)), np.array([[-10, 10]])))) # X space\n",
    "\n",
    "\n",
    "# Define regions of interest for the labeling\n",
    "regions = dict()\n",
    "regions['target'] = pc.box2poly(np.kron(np.ones((2, 1)), np.array([[5, 10]])))\n",
    "# add avoid\n",
    "regions['avoid'] = pc.box2poly(np.array([[-5, 3],[-10, 5]]))\n",
    "\n",
    "x =pc.extreme(regions['target'])\n",
    "y =pc.extreme(regions['avoid'])\n"
   ]
  },
  {
   "cell_type": "code",
   "execution_count": 5,
   "metadata": {},
   "outputs": [
    {
     "data": {
      "text/plain": [
       "(-10, 20)"
      ]
     },
     "execution_count": 5,
     "metadata": {},
     "output_type": "execute_result"
    }
   ],
   "source": [
    "import matplotlib.patches\n",
    "import matplotlib.pyplot as plt\n",
    "\n",
    "fig = plt.figure()\n",
    "ax = fig.add_subplot(111)\n",
    "patch = matplotlib.patches.Polygon(x)\n",
    "ax.add_patch(patch)\n",
    "\n",
    "patch = matplotlib.patches.Polygon(y)\n",
    "ax.add_patch(patch)\n",
    "\n",
    "plt.xlim([-10,20])\n",
    "plt.ylim([-10,20])\n",
    "# plt.show()\n"
   ]
  },
  {
   "cell_type": "code",
   "execution_count": 7,
   "metadata": {
    "collapsed": false
   },
   "outputs": [
    {
     "name": "stdout",
     "output_type": "stream",
     "text": [
      "4.  Define formula and compute DFA\nU ! avoid target\n['avoid', 'target']\n"
     ]
    },
    {
     "ename": "NameError",
     "evalue": "name 'mdp_grid' is not defined",
     "traceback": [
      "\u001b[0;31m---------------------------------------------------------------------------\u001b[0m",
      "\u001b[0;31mNameError\u001b[0m                                 Traceback (most recent call last)",
      "\u001b[0;32m<ipython-input-11-48a39b0bdd76>\u001b[0m in \u001b[0;36m<module>\u001b[0;34m()\u001b[0m\n\u001b[1;32m      6\u001b[0m \u001b[0mdfsa\u001b[0m\u001b[0;34m,\u001b[0m \u001b[0minit\u001b[0m\u001b[0;34m,\u001b[0m \u001b[0mfinal\u001b[0m\u001b[0;34m,\u001b[0m \u001b[0mdict_input2prop\u001b[0m \u001b[0;34m=\u001b[0m \u001b[0mformula_to_mdp\u001b[0m\u001b[0;34m(\u001b[0m\u001b[0mformula\u001b[0m\u001b[0;34m)\u001b[0m\u001b[0;34m\u001b[0m\u001b[0m\n\u001b[1;32m      7\u001b[0m \u001b[0;34m\u001b[0m\u001b[0m\n\u001b[0;32m----> 8\u001b[0;31m \u001b[0mmdp_grid\u001b[0m\u001b[0;34m.\u001b[0m\u001b[0mmap_dfa_inputs\u001b[0m\u001b[0;34m(\u001b[0m\u001b[0mdict_input2prop\u001b[0m\u001b[0;34m,\u001b[0m \u001b[0mregions\u001b[0m\u001b[0;34m)\u001b[0m\u001b[0;34m\u001b[0m\u001b[0m\n\u001b[0m\u001b[1;32m      9\u001b[0m \u001b[0mmdp_grid\u001b[0m\u001b[0;34m.\u001b[0m\u001b[0msetdfa\u001b[0m\u001b[0;34m(\u001b[0m\u001b[0mdfsa\u001b[0m\u001b[0;34m,\u001b[0m\u001b[0mfinal\u001b[0m\u001b[0;34m)\u001b[0m\u001b[0;34m\u001b[0m\u001b[0m\n",
      "\u001b[0;31mNameError\u001b[0m: name 'mdp_grid' is not defined"
     ],
     "output_type": "error"
    }
   ],
   "source": [
    "import numpy.linalg as LA\n",
    "print('1.  Transform to normalised state space')\n",
    "sys_n = sys_lti.normalize()\n",
    "x = pc.extreme(regions['target'])\n",
    "y = pc.extreme(regions['avoid'])\n",
    "\n",
    "xtr = LA.inv(sys_n.T2x).dot(x.T)\n",
    "print(xtr)\n",
    "patch = matplotlib.patches.Polygon(xtr.T)\n",
    "ax.add_patch(patch)\n",
    "# \n",
    "patch = matplotlib.patches.Polygon(LA.inv(sys_n.T2x).dot(y.T).T)\n",
    "ax.add_patch(patch)\n",
    "\n",
    "plt.xlim([-20,20])\n",
    "plt.ylim([-20,20])\n",
    "plt.show()\n",
    "\n",
    "\n"
   ]
  },
  {
   "cell_type": "code",
   "execution_count": 8,
   "metadata": {
    "collapsed": false
   },
   "outputs": [
    {
     "name": "stdout",
     "output_type": "stream",
     "text": [
      "4.  Define formula and compute DFA\nU ! avoid target\n['avoid', 'target']\n"
     ]
    },
    {
     "ename": "NameError",
     "evalue": "name 'mdp_grid' is not defined",
     "traceback": [
      "\u001b[0;31m---------------------------------------------------------------------------\u001b[0m",
      "\u001b[0;31mNameError\u001b[0m                                 Traceback (most recent call last)",
      "\u001b[0;32m<ipython-input-11-48a39b0bdd76>\u001b[0m in \u001b[0;36m<module>\u001b[0;34m()\u001b[0m\n\u001b[1;32m      6\u001b[0m \u001b[0mdfsa\u001b[0m\u001b[0;34m,\u001b[0m \u001b[0minit\u001b[0m\u001b[0;34m,\u001b[0m \u001b[0mfinal\u001b[0m\u001b[0;34m,\u001b[0m \u001b[0mdict_input2prop\u001b[0m \u001b[0;34m=\u001b[0m \u001b[0mformula_to_mdp\u001b[0m\u001b[0;34m(\u001b[0m\u001b[0mformula\u001b[0m\u001b[0;34m)\u001b[0m\u001b[0;34m\u001b[0m\u001b[0m\n\u001b[1;32m      7\u001b[0m \u001b[0;34m\u001b[0m\u001b[0m\n\u001b[0;32m----> 8\u001b[0;31m \u001b[0mmdp_grid\u001b[0m\u001b[0;34m.\u001b[0m\u001b[0mmap_dfa_inputs\u001b[0m\u001b[0;34m(\u001b[0m\u001b[0mdict_input2prop\u001b[0m\u001b[0;34m,\u001b[0m \u001b[0mregions\u001b[0m\u001b[0;34m)\u001b[0m\u001b[0;34m\u001b[0m\u001b[0m\n\u001b[0m\u001b[1;32m      9\u001b[0m \u001b[0mmdp_grid\u001b[0m\u001b[0;34m.\u001b[0m\u001b[0msetdfa\u001b[0m\u001b[0;34m(\u001b[0m\u001b[0mdfsa\u001b[0m\u001b[0;34m,\u001b[0m\u001b[0mfinal\u001b[0m\u001b[0;34m)\u001b[0m\u001b[0;34m\u001b[0m\u001b[0m\n",
      "\u001b[0;31mNameError\u001b[0m: name 'mdp_grid' is not defined"
     ],
     "output_type": "error"
    }
   ],
   "source": [
    "\n",
    "## step 1: tune gridding ratio (find optimal horizontal d_1, and vertical d_2)\n",
    "# currently only available for 2D\n",
    "print('2.  Tune gridding ratio')\n",
    "d_opt, d_vals, eps_values = tune_dratio(sys_n)\n",
    "# d_opt has optimal ratio with grid diameter of 1\n",
    "# choose grid sizes (factor of d_opt)\n",
    "d = d_opt #  with distance measure\n",
    "print('Choose grid ribs as', d)    # *Grid space\n"
   ]
  },
  {
   "cell_type": "code",
   "execution_count": 55,
   "metadata": {
    "collapsed": false
   },
   "outputs": [
    {
     "name": "stdout",
     "output_type": "stream",
     "text": [
      "4.  Define formula and compute DFA\nU ! avoid target\n['avoid', 'target']\n"
     ]
    },
    {
     "ename": "NameError",
     "evalue": "name 'mdp_grid' is not defined",
     "traceback": [
      "\u001b[0;31m---------------------------------------------------------------------------\u001b[0m",
      "\u001b[0;31mNameError\u001b[0m                                 Traceback (most recent call last)",
      "\u001b[0;32m<ipython-input-11-48a39b0bdd76>\u001b[0m in \u001b[0;36m<module>\u001b[0;34m()\u001b[0m\n\u001b[1;32m      6\u001b[0m \u001b[0mdfsa\u001b[0m\u001b[0;34m,\u001b[0m \u001b[0minit\u001b[0m\u001b[0;34m,\u001b[0m \u001b[0mfinal\u001b[0m\u001b[0;34m,\u001b[0m \u001b[0mdict_input2prop\u001b[0m \u001b[0;34m=\u001b[0m \u001b[0mformula_to_mdp\u001b[0m\u001b[0;34m(\u001b[0m\u001b[0mformula\u001b[0m\u001b[0;34m)\u001b[0m\u001b[0;34m\u001b[0m\u001b[0m\n\u001b[1;32m      7\u001b[0m \u001b[0;34m\u001b[0m\u001b[0m\n\u001b[0;32m----> 8\u001b[0;31m \u001b[0mmdp_grid\u001b[0m\u001b[0;34m.\u001b[0m\u001b[0mmap_dfa_inputs\u001b[0m\u001b[0;34m(\u001b[0m\u001b[0mdict_input2prop\u001b[0m\u001b[0;34m,\u001b[0m \u001b[0mregions\u001b[0m\u001b[0;34m)\u001b[0m\u001b[0;34m\u001b[0m\u001b[0m\n\u001b[0m\u001b[1;32m      9\u001b[0m \u001b[0mmdp_grid\u001b[0m\u001b[0;34m.\u001b[0m\u001b[0msetdfa\u001b[0m\u001b[0;34m(\u001b[0m\u001b[0mdfsa\u001b[0m\u001b[0;34m,\u001b[0m\u001b[0mfinal\u001b[0m\u001b[0;34m)\u001b[0m\u001b[0;34m\u001b[0m\u001b[0m\n",
      "\u001b[0;31mNameError\u001b[0m: name 'mdp_grid' is not defined"
     ],
     "output_type": "error"
    }
   ],
   "source": [
    "\n",
    "print('3.  Grid Gaussian process')\n",
    "print(sys_n.T2x)\n",
    "mdp_grid = sys_n.abstract_io(d, un=7, verbose=False)  # do the gridding\n",
    "print('--- done gridding')\n"
   ]
  },
  {
   "cell_type": "code",
   "execution_count": 11,
   "metadata": {
    "collapsed": false
   },
   "outputs": [
    {
     "name": "stdout",
     "output_type": "stream",
     "text": [
      "4.  Define formula and compute DFA\nU ! avoid target\n['avoid', 'target']\n"
     ]
    },
    {
     "ename": "NameError",
     "evalue": "name 'mdp_grid' is not defined",
     "traceback": [
      "\u001b[0;31m---------------------------------------------------------------------------\u001b[0m",
      "\u001b[0;31mNameError\u001b[0m                                 Traceback (most recent call last)",
      "\u001b[0;32m<ipython-input-11-48a39b0bdd76>\u001b[0m in \u001b[0;36m<module>\u001b[0;34m()\u001b[0m\n\u001b[1;32m      6\u001b[0m \u001b[0mdfsa\u001b[0m\u001b[0;34m,\u001b[0m \u001b[0minit\u001b[0m\u001b[0;34m,\u001b[0m \u001b[0mfinal\u001b[0m\u001b[0;34m,\u001b[0m \u001b[0mdict_input2prop\u001b[0m \u001b[0;34m=\u001b[0m \u001b[0mformula_to_mdp\u001b[0m\u001b[0;34m(\u001b[0m\u001b[0mformula\u001b[0m\u001b[0;34m)\u001b[0m\u001b[0;34m\u001b[0m\u001b[0m\n\u001b[1;32m      7\u001b[0m \u001b[0;34m\u001b[0m\u001b[0m\n\u001b[0;32m----> 8\u001b[0;31m \u001b[0mmdp_grid\u001b[0m\u001b[0;34m.\u001b[0m\u001b[0mmap_dfa_inputs\u001b[0m\u001b[0;34m(\u001b[0m\u001b[0mdict_input2prop\u001b[0m\u001b[0;34m,\u001b[0m \u001b[0mregions\u001b[0m\u001b[0;34m)\u001b[0m\u001b[0;34m\u001b[0m\u001b[0m\n\u001b[0m\u001b[1;32m      9\u001b[0m \u001b[0mmdp_grid\u001b[0m\u001b[0;34m.\u001b[0m\u001b[0msetdfa\u001b[0m\u001b[0;34m(\u001b[0m\u001b[0mdfsa\u001b[0m\u001b[0;34m,\u001b[0m\u001b[0mfinal\u001b[0m\u001b[0;34m)\u001b[0m\u001b[0;34m\u001b[0m\u001b[0m\n",
      "\u001b[0;31mNameError\u001b[0m: name 'mdp_grid' is not defined"
     ],
     "output_type": "error"
    }
   ],
   "source": [
    "print('4.  Define formula and compute DFA')\n",
    "\n",
    "formula = '( ( ! avoid U target ) )'\n",
    "\n",
    "# figure out a map dict_input2prop from numeric inputs to name based inputs\n",
    "dfsa, init, final, dict_input2prop = formula_to_mdp(formula)\n",
    "\n",
    "mdp_grid.map_dfa_inputs(dict_input2prop, regions)\n",
    "mdp_grid.setdfa(dfsa,final)\n"
   ]
  },
  {
   "cell_type": "code",
   "execution_count": null,
   "metadata": {
    "collapsed": false
   },
   "outputs": [
    {
     "name": "stdout",
     "output_type": "stream",
     "text": [
      "4.  Define formula and compute DFA\nU ! avoid target\n['avoid', 'target']\n"
     ]
    },
    {
     "ename": "NameError",
     "evalue": "name 'mdp_grid' is not defined",
     "traceback": [
      "\u001b[0;31m---------------------------------------------------------------------------\u001b[0m",
      "\u001b[0;31mNameError\u001b[0m                                 Traceback (most recent call last)",
      "\u001b[0;32m<ipython-input-11-48a39b0bdd76>\u001b[0m in \u001b[0;36m<module>\u001b[0;34m()\u001b[0m\n\u001b[1;32m      6\u001b[0m \u001b[0mdfsa\u001b[0m\u001b[0;34m,\u001b[0m \u001b[0minit\u001b[0m\u001b[0;34m,\u001b[0m \u001b[0mfinal\u001b[0m\u001b[0;34m,\u001b[0m \u001b[0mdict_input2prop\u001b[0m \u001b[0;34m=\u001b[0m \u001b[0mformula_to_mdp\u001b[0m\u001b[0;34m(\u001b[0m\u001b[0mformula\u001b[0m\u001b[0;34m)\u001b[0m\u001b[0;34m\u001b[0m\u001b[0m\n\u001b[1;32m      7\u001b[0m \u001b[0;34m\u001b[0m\u001b[0m\n\u001b[0;32m----> 8\u001b[0;31m \u001b[0mmdp_grid\u001b[0m\u001b[0;34m.\u001b[0m\u001b[0mmap_dfa_inputs\u001b[0m\u001b[0;34m(\u001b[0m\u001b[0mdict_input2prop\u001b[0m\u001b[0;34m,\u001b[0m \u001b[0mregions\u001b[0m\u001b[0;34m)\u001b[0m\u001b[0;34m\u001b[0m\u001b[0m\n\u001b[0m\u001b[1;32m      9\u001b[0m \u001b[0mmdp_grid\u001b[0m\u001b[0;34m.\u001b[0m\u001b[0msetdfa\u001b[0m\u001b[0;34m(\u001b[0m\u001b[0mdfsa\u001b[0m\u001b[0;34m,\u001b[0m\u001b[0mfinal\u001b[0m\u001b[0;34m)\u001b[0m\u001b[0;34m\u001b[0m\u001b[0m\n",
      "\u001b[0;31mNameError\u001b[0m: name 'mdp_grid' is not defined"
     ],
     "output_type": "error"
    }
   ],
   "source": [
    "\n",
    "print('5. Compute recursions')\n",
    "\n",
    "V, policy, W = mdp_grid.reach_dfa(recursions = 10)\n"
   ]
  },
  {
   "cell_type": "code",
   "execution_count": null,
   "metadata": {
    "collapsed": false
   },
   "outputs": [
    {
     "name": "stdout",
     "output_type": "stream",
     "text": [
      "4.  Define formula and compute DFA\nU ! avoid target\n['avoid', 'target']\n"
     ]
    },
    {
     "ename": "NameError",
     "evalue": "name 'mdp_grid' is not defined",
     "traceback": [
      "\u001b[0;31m---------------------------------------------------------------------------\u001b[0m",
      "\u001b[0;31mNameError\u001b[0m                                 Traceback (most recent call last)",
      "\u001b[0;32m<ipython-input-11-48a39b0bdd76>\u001b[0m in \u001b[0;36m<module>\u001b[0;34m()\u001b[0m\n\u001b[1;32m      6\u001b[0m \u001b[0mdfsa\u001b[0m\u001b[0;34m,\u001b[0m \u001b[0minit\u001b[0m\u001b[0;34m,\u001b[0m \u001b[0mfinal\u001b[0m\u001b[0;34m,\u001b[0m \u001b[0mdict_input2prop\u001b[0m \u001b[0;34m=\u001b[0m \u001b[0mformula_to_mdp\u001b[0m\u001b[0;34m(\u001b[0m\u001b[0mformula\u001b[0m\u001b[0;34m)\u001b[0m\u001b[0;34m\u001b[0m\u001b[0m\n\u001b[1;32m      7\u001b[0m \u001b[0;34m\u001b[0m\u001b[0m\n\u001b[0;32m----> 8\u001b[0;31m \u001b[0mmdp_grid\u001b[0m\u001b[0;34m.\u001b[0m\u001b[0mmap_dfa_inputs\u001b[0m\u001b[0;34m(\u001b[0m\u001b[0mdict_input2prop\u001b[0m\u001b[0;34m,\u001b[0m \u001b[0mregions\u001b[0m\u001b[0;34m)\u001b[0m\u001b[0;34m\u001b[0m\u001b[0m\n\u001b[0m\u001b[1;32m      9\u001b[0m \u001b[0mmdp_grid\u001b[0m\u001b[0;34m.\u001b[0m\u001b[0msetdfa\u001b[0m\u001b[0;34m(\u001b[0m\u001b[0mdfsa\u001b[0m\u001b[0;34m,\u001b[0m\u001b[0mfinal\u001b[0m\u001b[0;34m)\u001b[0m\u001b[0;34m\u001b[0m\u001b[0m\n",
      "\u001b[0;31mNameError\u001b[0m: name 'mdp_grid' is not defined"
     ],
     "output_type": "error"
    }
   ],
   "source": [
    "print('6. Plot normalized systen')\n",
    "\n",
    "xi, yi = np.meshgrid(*mdp_grid.srep)\n",
    "\n",
    "plt.pcolor(mdp_grid.sedge[0], mdp_grid.sedge[1],  W[:-1].reshape(xi.shape, order='F'))\n",
    "plt.colorbar()\n",
    "plt.xlim(np.array([mdp_grid.srep[0][0],mdp_grid.srep[0][-1]]))\n",
    "plt.ylim(np.array([mdp_grid.srep[1][0],mdp_grid.srep[1][-1]]))\n",
    "#plt.show()\n",
    "\n",
    "pol = Rpol(mdp_grid, V, W, policy)\n",
    "\n",
    "xi, yi = np.meshgrid(np.linspace(mdp_grid.srep[0][0],mdp_grid.srep[0][-1],10),np.linspace(mdp_grid.srep[1][0],mdp_grid.srep[1][-1],10))\n",
    "\n",
    "# compute inputs\n",
    "u =sys_n.b.dot(pol(np.block([[xi.flatten()],[yi.flatten()]])))\n",
    "delx = (-np.block([[xi.flatten()],[yi.flatten()]])+sys_n.a.dot(np.block([[xi.flatten()],[yi.flatten()]])) + sys_n.b.dot(pol(np.block([[xi.flatten()],[yi.flatten()]]))))\n",
    "x_tr = (np.block([[xi.flatten()], [yi.flatten()]]))\n",
    "\n",
    "#plt.quiver(xi.flatten(), yi.flatten(),u[0],u[1])\n",
    "plt.quiver(x_tr[0],x_tr[1],delx[0],delx[1], color = 'r')\n",
    "plt.show()\n",
    "\n",
    "print('6. Plot concrete systen')\n",
    "x_edge = np.linspace(-10,10,80)\n",
    "x_del = np.diff(x_edge).max()\n",
    "y_edge = np.linspace(-10,10,80)\n",
    "y_del = np.diff(y_edge).max()\n",
    "\n",
    "xi, yi = np.meshgrid(x_edge[:-1]+x_del/2,y_edge[:-1]+y_del/2)\n",
    "\n",
    "values = pol.val_concrete(np.block([[xi.flatten()], [yi.flatten()]]))\n",
    "plt.pcolor(x_edge, y_edge, values.reshape(xi.shape))\n",
    "plt.colorbar()\n",
    "plt.xlim(np.array([-10,10]))\n",
    "plt.ylim(np.array([-10,10]))\n",
    "\n",
    "plt.show()\n",
    "\n",
    "#\n",
    "#\n",
    "#\n",
    "# # Sensor noise => pomdp\n",
    "# H = np.ones((1,2)) # what can be measured\n",
    "# V = np.eye(1)\n",
    "#     #  x^+= A x + Bu + w\n",
    "#     #  y = C x\n",
    "#     #  z = Cz x+v\n",
    "#\n",
    "# P= np.eye(2)\n",
    "# mean = np.zeros((2,1))\n",
    "#\n",
    "# pomdp = POMDP(sys, H, V, P, mean)\n",
    "# Pp = P\n",
    "# for i in range(15):\n",
    "#     x, Pu = pomdp.update(mean, Pp)\n",
    "#     x, Pp = pomdp.predict(np.array([[1],[1]]),x=mean, P=Pu)\n",
    "#     # updates of x,P\n",
    "#\n",
    "# L, Pst = pomdp.kalman()\n",
    "#\n",
    "# belief_mdp = pomdp.beliefmodel()\n",
    "#\n",
    "#\n",
    "#\n",
    "# for i in range(15):\n",
    "#     (x,P) = belief_mdp.simulate(np.array([[1],[1]]))\n"
   ]
  },
  {
   "cell_type": "code",
   "execution_count": null,
   "metadata": {},
   "outputs": [],
   "source": [
    "from mdptoolbox.mdp import *\n"
   ]
  }
 ],
 "metadata": {
  "kernelspec": {
   "display_name": "Python 2",
   "language": "python",
   "name": "python2"
  },
  "language_info": {
   "codemirror_mode": {
    "name": "ipython",
    "version": 2
   },
   "file_extension": ".py",
   "mimetype": "text/x-python",
   "name": "python",
   "nbconvert_exporter": "python",
   "pygments_lexer": "ipython2",
   "version": "2.7.6"
  }
 },
 "nbformat": 4,
 "nbformat_minor": 0
}
